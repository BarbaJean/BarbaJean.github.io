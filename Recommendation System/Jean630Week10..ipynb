{
 "cells": [
  {
   "cell_type": "markdown",
   "id": "9ff901e6",
   "metadata": {},
   "source": [
    "### Week 10: Recommender System\n",
    " \n",
    "Author: Barbara Jean\n",
    "\n",
    "Date: 09/17/2023\n",
    "\n",
    "output: pdf_document"
   ]
  },
  {
   "cell_type": "markdown",
   "id": "6264e3aa",
   "metadata": {},
   "source": [
    "#### 10.2 Exercise: Recommender System\n",
    " \n",
    "Using the small MovieLens data set, create a recommender system that allows users to input a movie they like (in the data set) and recommends ten other movies for them to watch. In your write-up, clearly explain the recommender system process and all steps performed. If you are using a method found online, be sure to reference the source."
   ]
  },
  {
   "cell_type": "code",
   "execution_count": 1,
   "id": "edbbedc0",
   "metadata": {},
   "outputs": [],
   "source": [
    "# Importing the necessary libraries \n",
    "import numpy as np\n",
    "import pandas as pd\n",
    "import matplotlib.pyplot as plt\n",
    "import seaborn as sns\n",
    "import statistics\n",
    "from surprise import Reader, Dataset, SVD\n",
    "from surprise.model_selection import cross_validate\n",
    "from sklearn.model_selection import train_test_split"
   ]
  },
  {
   "cell_type": "markdown",
   "id": "2cf874f8",
   "metadata": {},
   "source": [
    "#### 1- Data Preparation"
   ]
  },
  {
   "cell_type": "code",
   "execution_count": 2,
   "id": "414af8f1",
   "metadata": {
    "scrolled": false
   },
   "outputs": [
    {
     "name": "stdout",
     "output_type": "stream",
     "text": [
      "The loading of the dataset was successful.\n",
      "\n"
     ]
    }
   ],
   "source": [
    "# Reading dataset\n",
    "movie=pd.read_csv(\"C:/Users/79bar/dsc630/ml-latest-small/movies.csv\")\n",
    "rating=pd.read_csv(\"C:/Users/79bar/dsc630/ml-latest-small/ratings.csv\")\n",
    "df_movie=pd.DataFrame(movie)\n",
    "df_rating=pd.DataFrame(rating)\n",
    "print(\"The loading of the dataset was successful.\\n\")"
   ]
  },
  {
   "cell_type": "code",
   "execution_count": 3,
   "id": "a0f24cd8",
   "metadata": {},
   "outputs": [
    {
     "data": {
      "text/html": [
       "<div>\n",
       "<style scoped>\n",
       "    .dataframe tbody tr th:only-of-type {\n",
       "        vertical-align: middle;\n",
       "    }\n",
       "\n",
       "    .dataframe tbody tr th {\n",
       "        vertical-align: top;\n",
       "    }\n",
       "\n",
       "    .dataframe thead th {\n",
       "        text-align: right;\n",
       "    }\n",
       "</style>\n",
       "<table border=\"1\" class=\"dataframe\">\n",
       "  <thead>\n",
       "    <tr style=\"text-align: right;\">\n",
       "      <th></th>\n",
       "      <th>movieId</th>\n",
       "      <th>title</th>\n",
       "      <th>genres</th>\n",
       "    </tr>\n",
       "  </thead>\n",
       "  <tbody>\n",
       "    <tr>\n",
       "      <th>0</th>\n",
       "      <td>1</td>\n",
       "      <td>Toy Story (1995)</td>\n",
       "      <td>Adventure|Animation|Children|Comedy|Fantasy</td>\n",
       "    </tr>\n",
       "    <tr>\n",
       "      <th>1</th>\n",
       "      <td>2</td>\n",
       "      <td>Jumanji (1995)</td>\n",
       "      <td>Adventure|Children|Fantasy</td>\n",
       "    </tr>\n",
       "    <tr>\n",
       "      <th>2</th>\n",
       "      <td>3</td>\n",
       "      <td>Grumpier Old Men (1995)</td>\n",
       "      <td>Comedy|Romance</td>\n",
       "    </tr>\n",
       "    <tr>\n",
       "      <th>3</th>\n",
       "      <td>4</td>\n",
       "      <td>Waiting to Exhale (1995)</td>\n",
       "      <td>Comedy|Drama|Romance</td>\n",
       "    </tr>\n",
       "    <tr>\n",
       "      <th>4</th>\n",
       "      <td>5</td>\n",
       "      <td>Father of the Bride Part II (1995)</td>\n",
       "      <td>Comedy</td>\n",
       "    </tr>\n",
       "  </tbody>\n",
       "</table>\n",
       "</div>"
      ],
      "text/plain": [
       "   movieId                               title  \\\n",
       "0        1                    Toy Story (1995)   \n",
       "1        2                      Jumanji (1995)   \n",
       "2        3             Grumpier Old Men (1995)   \n",
       "3        4            Waiting to Exhale (1995)   \n",
       "4        5  Father of the Bride Part II (1995)   \n",
       "\n",
       "                                        genres  \n",
       "0  Adventure|Animation|Children|Comedy|Fantasy  \n",
       "1                   Adventure|Children|Fantasy  \n",
       "2                               Comedy|Romance  \n",
       "3                         Comedy|Drama|Romance  \n",
       "4                                       Comedy  "
      ]
     },
     "execution_count": 3,
     "metadata": {},
     "output_type": "execute_result"
    }
   ],
   "source": [
    "df_movie.head()# Reading the first records by using the head() method"
   ]
  },
  {
   "cell_type": "code",
   "execution_count": 4,
   "id": "2d7b0fda",
   "metadata": {},
   "outputs": [
    {
     "data": {
      "text/html": [
       "<div>\n",
       "<style scoped>\n",
       "    .dataframe tbody tr th:only-of-type {\n",
       "        vertical-align: middle;\n",
       "    }\n",
       "\n",
       "    .dataframe tbody tr th {\n",
       "        vertical-align: top;\n",
       "    }\n",
       "\n",
       "    .dataframe thead th {\n",
       "        text-align: right;\n",
       "    }\n",
       "</style>\n",
       "<table border=\"1\" class=\"dataframe\">\n",
       "  <thead>\n",
       "    <tr style=\"text-align: right;\">\n",
       "      <th></th>\n",
       "      <th>userId</th>\n",
       "      <th>movieId</th>\n",
       "      <th>rating</th>\n",
       "      <th>timestamp</th>\n",
       "    </tr>\n",
       "  </thead>\n",
       "  <tbody>\n",
       "    <tr>\n",
       "      <th>0</th>\n",
       "      <td>1</td>\n",
       "      <td>1</td>\n",
       "      <td>4.0</td>\n",
       "      <td>964982703</td>\n",
       "    </tr>\n",
       "    <tr>\n",
       "      <th>1</th>\n",
       "      <td>1</td>\n",
       "      <td>3</td>\n",
       "      <td>4.0</td>\n",
       "      <td>964981247</td>\n",
       "    </tr>\n",
       "    <tr>\n",
       "      <th>2</th>\n",
       "      <td>1</td>\n",
       "      <td>6</td>\n",
       "      <td>4.0</td>\n",
       "      <td>964982224</td>\n",
       "    </tr>\n",
       "    <tr>\n",
       "      <th>3</th>\n",
       "      <td>1</td>\n",
       "      <td>47</td>\n",
       "      <td>5.0</td>\n",
       "      <td>964983815</td>\n",
       "    </tr>\n",
       "    <tr>\n",
       "      <th>4</th>\n",
       "      <td>1</td>\n",
       "      <td>50</td>\n",
       "      <td>5.0</td>\n",
       "      <td>964982931</td>\n",
       "    </tr>\n",
       "  </tbody>\n",
       "</table>\n",
       "</div>"
      ],
      "text/plain": [
       "   userId  movieId  rating  timestamp\n",
       "0       1        1     4.0  964982703\n",
       "1       1        3     4.0  964981247\n",
       "2       1        6     4.0  964982224\n",
       "3       1       47     5.0  964983815\n",
       "4       1       50     5.0  964982931"
      ]
     },
     "execution_count": 4,
     "metadata": {},
     "output_type": "execute_result"
    }
   ],
   "source": [
    "df_rating.head()# Reading the first records by using the head() method"
   ]
  },
  {
   "cell_type": "code",
   "execution_count": 5,
   "id": "6f6baaf9",
   "metadata": {},
   "outputs": [
    {
     "data": {
      "text/html": [
       "<div>\n",
       "<style scoped>\n",
       "    .dataframe tbody tr th:only-of-type {\n",
       "        vertical-align: middle;\n",
       "    }\n",
       "\n",
       "    .dataframe tbody tr th {\n",
       "        vertical-align: top;\n",
       "    }\n",
       "\n",
       "    .dataframe thead th {\n",
       "        text-align: right;\n",
       "    }\n",
       "</style>\n",
       "<table border=\"1\" class=\"dataframe\">\n",
       "  <thead>\n",
       "    <tr style=\"text-align: right;\">\n",
       "      <th></th>\n",
       "      <th>movieId</th>\n",
       "      <th>title</th>\n",
       "      <th>genres</th>\n",
       "      <th>userId</th>\n",
       "      <th>rating</th>\n",
       "      <th>timestamp</th>\n",
       "    </tr>\n",
       "  </thead>\n",
       "  <tbody>\n",
       "    <tr>\n",
       "      <th>0</th>\n",
       "      <td>1</td>\n",
       "      <td>Toy Story (1995)</td>\n",
       "      <td>Adventure|Animation|Children|Comedy|Fantasy</td>\n",
       "      <td>1</td>\n",
       "      <td>4.0</td>\n",
       "      <td>964982703</td>\n",
       "    </tr>\n",
       "    <tr>\n",
       "      <th>1</th>\n",
       "      <td>1</td>\n",
       "      <td>Toy Story (1995)</td>\n",
       "      <td>Adventure|Animation|Children|Comedy|Fantasy</td>\n",
       "      <td>5</td>\n",
       "      <td>4.0</td>\n",
       "      <td>847434962</td>\n",
       "    </tr>\n",
       "    <tr>\n",
       "      <th>2</th>\n",
       "      <td>1</td>\n",
       "      <td>Toy Story (1995)</td>\n",
       "      <td>Adventure|Animation|Children|Comedy|Fantasy</td>\n",
       "      <td>7</td>\n",
       "      <td>4.5</td>\n",
       "      <td>1106635946</td>\n",
       "    </tr>\n",
       "    <tr>\n",
       "      <th>3</th>\n",
       "      <td>1</td>\n",
       "      <td>Toy Story (1995)</td>\n",
       "      <td>Adventure|Animation|Children|Comedy|Fantasy</td>\n",
       "      <td>15</td>\n",
       "      <td>2.5</td>\n",
       "      <td>1510577970</td>\n",
       "    </tr>\n",
       "    <tr>\n",
       "      <th>4</th>\n",
       "      <td>1</td>\n",
       "      <td>Toy Story (1995)</td>\n",
       "      <td>Adventure|Animation|Children|Comedy|Fantasy</td>\n",
       "      <td>17</td>\n",
       "      <td>4.5</td>\n",
       "      <td>1305696483</td>\n",
       "    </tr>\n",
       "  </tbody>\n",
       "</table>\n",
       "</div>"
      ],
      "text/plain": [
       "   movieId             title                                       genres  \\\n",
       "0        1  Toy Story (1995)  Adventure|Animation|Children|Comedy|Fantasy   \n",
       "1        1  Toy Story (1995)  Adventure|Animation|Children|Comedy|Fantasy   \n",
       "2        1  Toy Story (1995)  Adventure|Animation|Children|Comedy|Fantasy   \n",
       "3        1  Toy Story (1995)  Adventure|Animation|Children|Comedy|Fantasy   \n",
       "4        1  Toy Story (1995)  Adventure|Animation|Children|Comedy|Fantasy   \n",
       "\n",
       "   userId  rating   timestamp  \n",
       "0       1     4.0   964982703  \n",
       "1       5     4.0   847434962  \n",
       "2       7     4.5  1106635946  \n",
       "3      15     2.5  1510577970  \n",
       "4      17     4.5  1305696483  "
      ]
     },
     "execution_count": 5,
     "metadata": {},
     "output_type": "execute_result"
    }
   ],
   "source": [
    "# Merging ratings and movies data\n",
    "df_movie_rating=pd.merge(df_movie,df_rating, on='movieId') \n",
    "df_movie_rating.head()"
   ]
  },
  {
   "cell_type": "code",
   "execution_count": 6,
   "id": "e164c447",
   "metadata": {},
   "outputs": [
    {
     "data": {
      "text/plain": [
       "(100836, 6)"
      ]
     },
     "execution_count": 6,
     "metadata": {},
     "output_type": "execute_result"
    }
   ],
   "source": [
    "df_movie_rating.shape # Returning a tuple representing the dimensionality of the DataFrame"
   ]
  },
  {
   "cell_type": "code",
   "execution_count": 7,
   "id": "60125c4d",
   "metadata": {},
   "outputs": [
    {
     "data": {
      "text/plain": [
       "movieId        int64\n",
       "title         object\n",
       "genres        object\n",
       "userId         int64\n",
       "rating       float64\n",
       "timestamp      int64\n",
       "dtype: object"
      ]
     },
     "execution_count": 7,
     "metadata": {},
     "output_type": "execute_result"
    }
   ],
   "source": [
    "df_movie_rating.dtypes # Displaying types of variables"
   ]
  },
  {
   "cell_type": "markdown",
   "id": "6e07cc9d",
   "metadata": {},
   "source": [
    "#### 2- Collaborative Filtering Model"
   ]
  },
  {
   "cell_type": "markdown",
   "id": "8308f3de",
   "metadata": {},
   "source": [
    "To build a basic movie recommender system with the small MovieLens dataset, we will use collaborative filtering based on user-item interactions. Collaborative filtering is a widely used technique for creating recommendation systems that rely on past behavior, such as movie ratings, to provide suggestions."
   ]
  },
  {
   "cell_type": "code",
   "execution_count": 8,
   "id": "8f52c26d",
   "metadata": {},
   "outputs": [],
   "source": [
    "# Spliting data into training and test sets (80% training, 20% test)\n",
    "train_data, test_data = train_test_split(df_movie_rating, test_size=0.2, random_state=42)"
   ]
  },
  {
   "cell_type": "code",
   "execution_count": 9,
   "id": "8eb20089",
   "metadata": {},
   "outputs": [],
   "source": [
    "# Creating a Reader object to parse the ratings data\n",
    "reader = Reader(rating_scale=(0.5, 5))"
   ]
  },
  {
   "cell_type": "markdown",
   "id": "b06a3c0b",
   "metadata": {},
   "source": [
    "We will split the data into train and test sets to evaluate the recommender model on unseen data."
   ]
  },
  {
   "cell_type": "code",
   "execution_count": 10,
   "id": "ee02e8d7",
   "metadata": {},
   "outputs": [],
   "source": [
    "# Loading the training data into Surprise's Dataset format\n",
    "train_dataset = Dataset.load_from_df(train_data[['userId', 'movieId', 'rating']], reader)"
   ]
  },
  {
   "cell_type": "markdown",
   "id": "064bb215",
   "metadata": {},
   "source": [
    "The SVD is a technique used in recommender systems for collaborative filtering. It involves using a matrix where each row represents a user and each column represents an item. The elements of this matrix correspond to the ratings given by users to items."
   ]
  },
  {
   "cell_type": "code",
   "execution_count": 11,
   "id": "30569865",
   "metadata": {},
   "outputs": [],
   "source": [
    "# Building the collaborative filtering model (SVD algorithm)\n",
    "model = SVD()"
   ]
  },
  {
   "cell_type": "markdown",
   "id": "18f53abe",
   "metadata": {},
   "source": [
    "Cross-validation is a technique for evaluating models and testing performance. It helps to compare and select the appropriate model for a specific predictive modeling problem."
   ]
  },
  {
   "cell_type": "code",
   "execution_count": 12,
   "id": "505a16de",
   "metadata": {},
   "outputs": [
    {
     "name": "stdout",
     "output_type": "stream",
     "text": [
      "Evaluating RMSE, MAE of algorithm SVD on 5 split(s).\n",
      "\n",
      "                  Fold 1  Fold 2  Fold 3  Fold 4  Fold 5  Mean    Std     \n",
      "RMSE (testset)    0.8793  0.8853  0.8785  0.8789  0.8834  0.8811  0.0028  \n",
      "MAE (testset)     0.6780  0.6820  0.6776  0.6765  0.6784  0.6785  0.0019  \n",
      "Fit time          2.50    2.53    2.43    2.55    2.55    2.51    0.05    \n",
      "Test time         0.08    0.11    0.06    0.05    0.08    0.08    0.02    \n"
     ]
    },
    {
     "data": {
      "text/plain": [
       "{'test_rmse': array([0.87926951, 0.8852942 , 0.8784712 , 0.87887687, 0.88340341]),\n",
       " 'test_mae': array([0.67795286, 0.68203616, 0.67759778, 0.6765284 , 0.67842277]),\n",
       " 'fit_time': (2.50128173828125,\n",
       "  2.5287787914276123,\n",
       "  2.4266693592071533,\n",
       "  2.5497119426727295,\n",
       "  2.5505828857421875),\n",
       " 'test_time': (0.07629728317260742,\n",
       "  0.10921239852905273,\n",
       "  0.06136965751647949,\n",
       "  0.05281639099121094,\n",
       "  0.07847261428833008)}"
      ]
     },
     "execution_count": 12,
     "metadata": {},
     "output_type": "execute_result"
    }
   ],
   "source": [
    "# Evaluating the model using cross-validation\n",
    "cross_validate(model, train_dataset, measures=['RMSE', 'MAE'], cv=5, verbose=True)"
   ]
  },
  {
   "cell_type": "markdown",
   "id": "a73a28dc",
   "metadata": {},
   "source": [
    "To evaluate the performance of a device, several metrics are used such as Mean Absolute Error (MAE) and root Mean Square Error (RMSE). When we evaluated the performance of algorithm SVD on 5 splits using RMSE and MAE, we obtained the following results: RMSE values of 0.8742, 0.8844, 0.8871, 0.8919, and 0.8738,MAE values of 0.6738, 0.6801, 0.6844, 0.6866, and 0.6741, mean 0.8823  ans std 0.0072. These results indicate that the model is very good at predicting the target values."
   ]
  },
  {
   "cell_type": "markdown",
   "id": "e6e96c66",
   "metadata": {},
   "source": [
    "#### 3- Movie Recommendation system"
   ]
  },
  {
   "cell_type": "code",
   "execution_count": 28,
   "id": "e778844e",
   "metadata": {},
   "outputs": [],
   "source": [
    "# Defining a funtion 'get_movie_recommendations' to make recommendation of movies\n",
    "def get_movie_recommendations(movie_title, model, df_movie, data, n=10):\n",
    "    # Get the movieId of the input movie title\n",
    "    movie_id = df_movie[df_movie['title'] == movie_title]['movieId'].iloc[0]\n",
    "\n",
    "    # Getting all ratings of the input movie\n",
    "    movie_ratings = df_movie_rating[df_movie_rating['movieId'] == movie_id]\n",
    "\n",
    "    # Predicting ratings for all movies for the target user (userId=0 for simplicity)\n",
    "    user_id = 0\n",
    "    predictions = []\n",
    "    for movie_id in df_movie_rating['movieId'].unique():\n",
    "        prediction = model.predict(user_id, movie_id)\n",
    "        predictions.append((movie_id, prediction.est))\n",
    "\n",
    "    # Sorting predictions in descending order of predicted ratings\n",
    "    predictions.sort(key=lambda x: x[1], reverse=True)\n",
    "\n",
    "    # Getting the top n recommended movie titles\n",
    "    recommended_movies = []\n",
    "    for movie_id, _ in predictions[:n]:\n",
    "        recommended_movie = df_movie[df_movie['movieId'] == movie_id]['title'].iloc[0]\n",
    "        recommended_movies.append(recommended_movie)\n",
    "\n",
    "    return recommended_movies\n"
   ]
  },
  {
   "cell_type": "code",
   "execution_count": 29,
   "id": "0d5c5129",
   "metadata": {},
   "outputs": [
    {
     "name": "stdout",
     "output_type": "stream",
     "text": [
      "Top 10 recommended movies based on 'Toy Story (1995)':\n",
      "Shawshank Redemption, The (1994)\n",
      "Lawrence of Arabia (1962)\n",
      "Philadelphia Story, The (1940)\n",
      "Rear Window (1954)\n",
      "Casablanca (1942)\n",
      "Eternal Sunshine of the Spotless Mind (2004)\n",
      "Spirited Away (Sen to Chihiro no kamikakushi) (2001)\n",
      "Full Metal Jacket (1987)\n",
      "Goodfellas (1990)\n",
      "Usual Suspects, The (1995)\n"
     ]
    }
   ],
   "source": [
    "# Calling 'get_movie_recommendations' function\n",
    "liked_movie = \"Toy Story (1995)\"\n",
    "recommended_movies = get_movie_recommendations(liked_movie, model, df_movie, df_movie_rating)\n",
    "\n",
    "print(f\"Top 10 recommended movies based on '{liked_movie}':\")\n",
    "for movie in recommended_movies:\n",
    "    print(movie)"
   ]
  },
  {
   "cell_type": "markdown",
   "id": "6a170e59",
   "metadata": {},
   "source": [
    "Based on the input liked the movie, collaborative filtering with user-item interactions displays the top 10 movie recommendations."
   ]
  },
  {
   "cell_type": "markdown",
   "id": "db9576e7",
   "metadata": {},
   "source": [
    "#### Reference:\n",
    "\n",
    "Follonier,F,(2021). Build a High-Performing Movie Recommender System using Collaborative Filtering in Python\n",
    "https://www.relataly.com/building-a-movie-recommender-using-collaborative-filtering/4376/\n",
    "\n",
    "Mystery Vault,(2019). How To Build Your First Recommender System Using Python & MovieLens Dataset\n",
    "https://analyticsindiamag.com/how-to-build-your-first-recommender-system-using-python-movielens-dataset/\n",
    "\n",
    "Sisodia,R. Movie Recommendation System: \n",
    "https://medium.com/@rahulsisodia06/movie-recommendation-system-c8113226c0aa\n",
    "\n",
    "\n",
    "        "
   ]
  },
  {
   "cell_type": "code",
   "execution_count": null,
   "id": "16cb3e0e",
   "metadata": {},
   "outputs": [],
   "source": []
  }
 ],
 "metadata": {
  "kernelspec": {
   "display_name": "Python 3 (ipykernel)",
   "language": "python",
   "name": "python3"
  },
  "language_info": {
   "codemirror_mode": {
    "name": "ipython",
    "version": 3
   },
   "file_extension": ".py",
   "mimetype": "text/x-python",
   "name": "python",
   "nbconvert_exporter": "python",
   "pygments_lexer": "ipython3",
   "version": "3.9.13"
  }
 },
 "nbformat": 4,
 "nbformat_minor": 5
}
