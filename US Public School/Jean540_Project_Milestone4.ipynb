{
 "cells": [
  {
   "cell_type": "markdown",
   "id": "25d80731",
   "metadata": {},
   "source": [
    "### Projet: Milestone 4\n",
    "\n",
    "Author: Barbara Jean\n",
    "\n",
    "Date: 05/21/2023\n",
    "\n",
    "output: pdf_document"
   ]
  },
  {
   "cell_type": "markdown",
   "id": "e3218baa",
   "metadata": {},
   "source": [
    "### Connecting to an API/Pulling in the Data and Cleaning/Formatting"
   ]
  },
  {
   "cell_type": "markdown",
   "id": "1ed99a30",
   "metadata": {},
   "source": [
    "API:  US Public School"
   ]
  },
  {
   "cell_type": "markdown",
   "id": "2cae53f3",
   "metadata": {},
   "source": [
    "### Perform at least 5 data transformation and/or cleansing steps to the API data"
   ]
  },
  {
   "cell_type": "code",
   "execution_count": 1,
   "id": "c39cf868",
   "metadata": {},
   "outputs": [],
   "source": [
    "# Importing the necessary libraries \n",
    "import pandas as pd\n",
    "import numpy as np\n",
    "from html_table_parser.parser import HTMLTableParser\n",
    "import seaborn as sns\n",
    "import requests\n",
    "import json"
   ]
  },
  {
   "cell_type": "code",
   "execution_count": 2,
   "id": "d19deb2f",
   "metadata": {},
   "outputs": [],
   "source": [
    "# Handling warnings as errors \n",
    "import warnings\n",
    "warnings.filterwarnings(\"ignore\")"
   ]
  },
  {
   "cell_type": "code",
   "execution_count": 3,
   "id": "4bf6a71a",
   "metadata": {},
   "outputs": [],
   "source": [
    "file_name = 'C:/Users/79bar/dsc540/us-public-schools@public.json' # Reading the json file"
   ]
  },
  {
   "cell_type": "code",
   "execution_count": 4,
   "id": "8ad56f25",
   "metadata": {},
   "outputs": [],
   "source": [
    "with open(file_name, 'r') as f: # Opening the file\n",
    "    data=json.load(f) # parse the JSON with load()"
   ]
  },
  {
   "cell_type": "code",
   "execution_count": 5,
   "id": "4d9a3d70",
   "metadata": {},
   "outputs": [
    {
     "name": "stdout",
     "output_type": "stream",
     "text": [
      "[{'geo_point_2d': {'lon': -70.95749886299996, 'lat': 42.07853752600005}, 'geo_shape': {'type': 'Feature', 'geometry': {'coordinates': [-70.95749886299996, 42.07853752600005], 'type': 'Point'}, 'properties': {}}, 'objectid': '100033', 'ncesid': '251293000207', 'name': 'WHITMAN MIDDLE', 'address': '101 CORTHELL AVENUE', 'city': 'WHITMAN', 'state': 'MA', 'zip': '02382', 'zip4': 'NOT AVAILABLE', 'telephone': '(781) 618-7035', 'type': '1', 'status': '1', 'population': '584', 'county': 'PLYMOUTH', 'countyfips': '25023', 'country': 'USA', 'latitude': '42.07853752600005', 'longitude': '-70.95749886299996', 'naics_code': '611110', 'naics_desc': 'ELEMENTARY AND SECONDARY SCHOOLS', 'source': 'http://nces.ed.gov/GLOBALLOCATOR/sch_info_popup.asp?Type=Public&ID=251293000207', 'sourcedate': '2009-10-13T00:00:00Z', 'val_method': 'IMAGERY', 'val_date': '2016-04-21T00:00:00Z', 'website': 'http://www.whrsd.org', 'level': 'OTHER', 'enrollment': '549', 'st_grade': '06', 'end_grade': '08', 'districtid': '2512930', 'ft_teacher': '35', 'shelter_id': '10821300'}, {'geo_point_2d': {'lon': -77.03579845099995, 'lat': 38.929300081000065}, 'geo_shape': {'type': 'Feature', 'geometry': {'coordinates': [-77.03579845099995, 38.929300081000065], 'type': 'Point'}, 'properties': {}}, 'objectid': '100045', 'ncesid': '110003000396', 'name': 'COLUMBIA HEIGHTS EDUCATION CAMPUS', 'address': '3101 16TH ST. NW', 'city': 'WASHINGTON', 'state': 'DC', 'zip': '20010', 'zip4': 'NOT AVAILABLE', 'telephone': '(202) 939-7700', 'type': '1', 'status': '1', 'population': '1591', 'county': 'DISTRICT OF COLUMBIA', 'countyfips': '11001', 'country': 'USA', 'latitude': '38.929300081000065', 'longitude': '-77.03579845099995', 'naics_code': '611110', 'naics_desc': 'ELEMENTARY AND SECONDARY SCHOOLS', 'source': 'http://nces.ed.gov/GLOBALLOCATOR/sch_info_popup.asp?Type=Public&ID=110003000396', 'sourcedate': '2011-09-30T00:00:00Z', 'val_method': 'IMAGERY', 'val_date': '2011-09-30T00:00:00Z', 'website': 'http://checdc.org', 'level': 'MIDDLE', 'enrollment': '1477', 'st_grade': '06', 'end_grade': '12', 'districtid': '1100030', 'ft_teacher': '114', 'shelter_id': 'NOT AVAILABLE'}, {'geo_point_2d': {'lon': -83.08189836599996, 'lat': 39.96145409800005}, 'geo_shape': {'type': 'Feature', 'geometry': {'coordinates': [-83.08189836599996, 39.96145409800005], 'type': 'Point'}, 'properties': {}}, 'objectid': '100050', 'ncesid': '390438000575', 'name': 'VALLEYVIEW ELEMENTARY SCHOOL', 'address': '2989 VALLEYVIEW DR', 'city': 'COLUMBUS', 'state': 'OH', 'zip': '43204', 'zip4': '2012', 'telephone': '(614) 365-6312', 'type': '1', 'status': '1', 'population': '257', 'county': 'FRANKLIN', 'countyfips': '39049', 'country': 'USA', 'latitude': '39.96145409800005', 'longitude': '-83.08189836599996', 'naics_code': '611110', 'naics_desc': 'ELEMENTARY AND SECONDARY SCHOOLS', 'source': 'http://nces.ed.gov/GLOBALLOCATOR/sch_info_popup.asp?Type=Public&ID=390438000575', 'sourcedate': '2009-10-13T00:00:00Z', 'val_method': 'IMAGERY/OTHER', 'val_date': '2016-08-25T00:00:00Z', 'website': 'NOT AVAILABLE', 'level': 'OTHER', 'enrollment': '240', 'st_grade': 'PK', 'end_grade': '05', 'districtid': '3904380', 'ft_teacher': '17', 'shelter_id': 'NOT AVAILABLE'}, {'geo_point_2d': {'lon': -90.30395264199996, 'lat': 32.366530158000046}, 'geo_shape': {'type': 'Feature', 'geometry': {'coordinates': [-90.30395264199996, 32.366530158000046], 'type': 'Point'}, 'properties': {}}, 'objectid': '100101', 'ncesid': '280109000136', 'name': 'NORTHSIDE ELEM', 'address': '451 ARROW DRIVE', 'city': 'CLINTON', 'state': 'MS', 'zip': '39056', 'zip4': 'NOT AVAILABLE', 'telephone': '(601) 924-7531', 'type': '1', 'status': '1', 'population': '773', 'county': 'HINDS', 'countyfips': '28049', 'country': 'USA', 'latitude': '32.366530158000046', 'longitude': '-90.30395264199996', 'naics_code': '611110', 'naics_desc': 'ELEMENTARY AND SECONDARY SCHOOLS', 'source': 'http://nces.ed.gov/GLOBALLOCATOR/sch_info_popup.asp?Type=Public&ID=280109000136', 'sourcedate': '2009-10-13T00:00:00Z', 'val_method': 'IMAGERY/OTHER', 'val_date': '2020-04-20T00:00:00Z', 'website': 'http://www.clintonpublicschools.com', 'level': 'HIGH', 'enrollment': '733', 'st_grade': '02', 'end_grade': '03', 'districtid': '2801090', 'ft_teacher': '40', 'shelter_id': 'NOT AVAILABLE'}]\n"
     ]
    }
   ],
   "source": [
    "# Retrieving five values on the list \n",
    "print(data[0:4])  # Showing data"
   ]
  },
  {
   "cell_type": "code",
   "execution_count": 6,
   "id": "5804a566",
   "metadata": {},
   "outputs": [
    {
     "data": {
      "text/html": [
       "<div>\n",
       "<style scoped>\n",
       "    .dataframe tbody tr th:only-of-type {\n",
       "        vertical-align: middle;\n",
       "    }\n",
       "\n",
       "    .dataframe tbody tr th {\n",
       "        vertical-align: top;\n",
       "    }\n",
       "\n",
       "    .dataframe thead th {\n",
       "        text-align: right;\n",
       "    }\n",
       "</style>\n",
       "<table border=\"1\" class=\"dataframe\">\n",
       "  <thead>\n",
       "    <tr style=\"text-align: right;\">\n",
       "      <th></th>\n",
       "      <th>geo_point_2d</th>\n",
       "      <th>geo_shape</th>\n",
       "      <th>objectid</th>\n",
       "      <th>ncesid</th>\n",
       "      <th>name</th>\n",
       "      <th>address</th>\n",
       "      <th>city</th>\n",
       "      <th>state</th>\n",
       "      <th>zip</th>\n",
       "      <th>zip4</th>\n",
       "      <th>...</th>\n",
       "      <th>val_method</th>\n",
       "      <th>val_date</th>\n",
       "      <th>website</th>\n",
       "      <th>level</th>\n",
       "      <th>enrollment</th>\n",
       "      <th>st_grade</th>\n",
       "      <th>end_grade</th>\n",
       "      <th>districtid</th>\n",
       "      <th>ft_teacher</th>\n",
       "      <th>shelter_id</th>\n",
       "    </tr>\n",
       "  </thead>\n",
       "  <tbody>\n",
       "    <tr>\n",
       "      <th>0</th>\n",
       "      <td>{'lon': -70.95749886299996, 'lat': 42.07853752...</td>\n",
       "      <td>{'type': 'Feature', 'geometry': {'coordinates'...</td>\n",
       "      <td>100033</td>\n",
       "      <td>251293000207</td>\n",
       "      <td>WHITMAN MIDDLE</td>\n",
       "      <td>101 CORTHELL AVENUE</td>\n",
       "      <td>WHITMAN</td>\n",
       "      <td>MA</td>\n",
       "      <td>02382</td>\n",
       "      <td>NOT AVAILABLE</td>\n",
       "      <td>...</td>\n",
       "      <td>IMAGERY</td>\n",
       "      <td>2016-04-21T00:00:00Z</td>\n",
       "      <td>http://www.whrsd.org</td>\n",
       "      <td>OTHER</td>\n",
       "      <td>549</td>\n",
       "      <td>06</td>\n",
       "      <td>08</td>\n",
       "      <td>2512930</td>\n",
       "      <td>35</td>\n",
       "      <td>10821300</td>\n",
       "    </tr>\n",
       "    <tr>\n",
       "      <th>1</th>\n",
       "      <td>{'lon': -77.03579845099995, 'lat': 38.92930008...</td>\n",
       "      <td>{'type': 'Feature', 'geometry': {'coordinates'...</td>\n",
       "      <td>100045</td>\n",
       "      <td>110003000396</td>\n",
       "      <td>COLUMBIA HEIGHTS EDUCATION CAMPUS</td>\n",
       "      <td>3101 16TH ST. NW</td>\n",
       "      <td>WASHINGTON</td>\n",
       "      <td>DC</td>\n",
       "      <td>20010</td>\n",
       "      <td>NOT AVAILABLE</td>\n",
       "      <td>...</td>\n",
       "      <td>IMAGERY</td>\n",
       "      <td>2011-09-30T00:00:00Z</td>\n",
       "      <td>http://checdc.org</td>\n",
       "      <td>MIDDLE</td>\n",
       "      <td>1477</td>\n",
       "      <td>06</td>\n",
       "      <td>12</td>\n",
       "      <td>1100030</td>\n",
       "      <td>114</td>\n",
       "      <td>NOT AVAILABLE</td>\n",
       "    </tr>\n",
       "    <tr>\n",
       "      <th>2</th>\n",
       "      <td>{'lon': -83.08189836599996, 'lat': 39.96145409...</td>\n",
       "      <td>{'type': 'Feature', 'geometry': {'coordinates'...</td>\n",
       "      <td>100050</td>\n",
       "      <td>390438000575</td>\n",
       "      <td>VALLEYVIEW ELEMENTARY SCHOOL</td>\n",
       "      <td>2989 VALLEYVIEW DR</td>\n",
       "      <td>COLUMBUS</td>\n",
       "      <td>OH</td>\n",
       "      <td>43204</td>\n",
       "      <td>2012</td>\n",
       "      <td>...</td>\n",
       "      <td>IMAGERY/OTHER</td>\n",
       "      <td>2016-08-25T00:00:00Z</td>\n",
       "      <td>NOT AVAILABLE</td>\n",
       "      <td>OTHER</td>\n",
       "      <td>240</td>\n",
       "      <td>PK</td>\n",
       "      <td>05</td>\n",
       "      <td>3904380</td>\n",
       "      <td>17</td>\n",
       "      <td>NOT AVAILABLE</td>\n",
       "    </tr>\n",
       "    <tr>\n",
       "      <th>3</th>\n",
       "      <td>{'lon': -90.30395264199996, 'lat': 32.36653015...</td>\n",
       "      <td>{'type': 'Feature', 'geometry': {'coordinates'...</td>\n",
       "      <td>100101</td>\n",
       "      <td>280109000136</td>\n",
       "      <td>NORTHSIDE ELEM</td>\n",
       "      <td>451 ARROW DRIVE</td>\n",
       "      <td>CLINTON</td>\n",
       "      <td>MS</td>\n",
       "      <td>39056</td>\n",
       "      <td>NOT AVAILABLE</td>\n",
       "      <td>...</td>\n",
       "      <td>IMAGERY/OTHER</td>\n",
       "      <td>2020-04-20T00:00:00Z</td>\n",
       "      <td>http://www.clintonpublicschools.com</td>\n",
       "      <td>HIGH</td>\n",
       "      <td>733</td>\n",
       "      <td>02</td>\n",
       "      <td>03</td>\n",
       "      <td>2801090</td>\n",
       "      <td>40</td>\n",
       "      <td>NOT AVAILABLE</td>\n",
       "    </tr>\n",
       "    <tr>\n",
       "      <th>4</th>\n",
       "      <td>{'lon': -85.77584969199995, 'lat': 33.63209887...</td>\n",
       "      <td>{'type': 'Feature', 'geometry': {'coordinates'...</td>\n",
       "      <td>100137</td>\n",
       "      <td>010009000017</td>\n",
       "      <td>GOLDEN SPRINGS ELEMENTARY SCHOOL</td>\n",
       "      <td>100 FEARY DR</td>\n",
       "      <td>ANNISTON</td>\n",
       "      <td>AL</td>\n",
       "      <td>36207</td>\n",
       "      <td>NOT AVAILABLE</td>\n",
       "      <td>...</td>\n",
       "      <td>IMAGERY</td>\n",
       "      <td>2016-01-28T00:00:00Z</td>\n",
       "      <td>http://www.annistonschools.com</td>\n",
       "      <td>ELEMENTARY</td>\n",
       "      <td>266</td>\n",
       "      <td>01</td>\n",
       "      <td>05</td>\n",
       "      <td>0100090</td>\n",
       "      <td>15</td>\n",
       "      <td>NOT AVAILABLE</td>\n",
       "    </tr>\n",
       "    <tr>\n",
       "      <th>...</th>\n",
       "      <td>...</td>\n",
       "      <td>...</td>\n",
       "      <td>...</td>\n",
       "      <td>...</td>\n",
       "      <td>...</td>\n",
       "      <td>...</td>\n",
       "      <td>...</td>\n",
       "      <td>...</td>\n",
       "      <td>...</td>\n",
       "      <td>...</td>\n",
       "      <td>...</td>\n",
       "      <td>...</td>\n",
       "      <td>...</td>\n",
       "      <td>...</td>\n",
       "      <td>...</td>\n",
       "      <td>...</td>\n",
       "      <td>...</td>\n",
       "      <td>...</td>\n",
       "      <td>...</td>\n",
       "      <td>...</td>\n",
       "      <td>...</td>\n",
       "    </tr>\n",
       "    <tr>\n",
       "      <th>107294</th>\n",
       "      <td>{'lon': -87.65216338699997, 'lat': 41.96596074...</td>\n",
       "      <td>{'type': 'Feature', 'geometry': {'coordinates'...</td>\n",
       "      <td>39798</td>\n",
       "      <td>170993005787</td>\n",
       "      <td>UPLIFT COMMUNITY HIGH SCHOOL</td>\n",
       "      <td>900 W WILSON AVE</td>\n",
       "      <td>CHICAGO</td>\n",
       "      <td>IL</td>\n",
       "      <td>60640</td>\n",
       "      <td>5707</td>\n",
       "      <td>...</td>\n",
       "      <td>IMAGERY</td>\n",
       "      <td>2010-05-11T00:00:00Z</td>\n",
       "      <td>http://www.cps.edu</td>\n",
       "      <td>ELEMENTARY</td>\n",
       "      <td>61</td>\n",
       "      <td>09</td>\n",
       "      <td>12</td>\n",
       "      <td>1709930</td>\n",
       "      <td>-999</td>\n",
       "      <td>NOT AVAILABLE</td>\n",
       "    </tr>\n",
       "    <tr>\n",
       "      <th>107295</th>\n",
       "      <td>{'lon': -68.50753154499995, 'lat': 45.36369082...</td>\n",
       "      <td>{'type': 'Feature', 'geometry': {'coordinates'...</td>\n",
       "      <td>39849</td>\n",
       "      <td>230910000233</td>\n",
       "      <td>NO PENOBSCOT TECH-REGION 3</td>\n",
       "      <td>35 WEST BROADWAY</td>\n",
       "      <td>LINCOLN</td>\n",
       "      <td>ME</td>\n",
       "      <td>04457</td>\n",
       "      <td>NOT AVAILABLE</td>\n",
       "      <td>...</td>\n",
       "      <td>GEOCODE</td>\n",
       "      <td>2010-08-17T00:00:00Z</td>\n",
       "      <td>http://region3.mainecte.org/</td>\n",
       "      <td>ELEMENTARY</td>\n",
       "      <td>-999</td>\n",
       "      <td>N</td>\n",
       "      <td>N</td>\n",
       "      <td>2309100</td>\n",
       "      <td>14</td>\n",
       "      <td>NOT AVAILABLE</td>\n",
       "    </tr>\n",
       "    <tr>\n",
       "      <th>107296</th>\n",
       "      <td>{'lon': -81.64820970899996, 'lat': 29.64005059...</td>\n",
       "      <td>{'type': 'Feature', 'geometry': {'coordinates'...</td>\n",
       "      <td>39859</td>\n",
       "      <td>120162008194</td>\n",
       "      <td>PUTNAM EDGE HIGH SCHOOL</td>\n",
       "      <td>200 S 7TH ST</td>\n",
       "      <td>PALATKA</td>\n",
       "      <td>FL</td>\n",
       "      <td>32177</td>\n",
       "      <td>4612</td>\n",
       "      <td>...</td>\n",
       "      <td>GEOCODE</td>\n",
       "      <td>2015-06-26T00:00:00Z</td>\n",
       "      <td>http://www.putnamedge.org/</td>\n",
       "      <td>ELEMENTARY</td>\n",
       "      <td>66</td>\n",
       "      <td>09</td>\n",
       "      <td>12</td>\n",
       "      <td>1201620</td>\n",
       "      <td>4</td>\n",
       "      <td>NOT AVAILABLE</td>\n",
       "    </tr>\n",
       "    <tr>\n",
       "      <th>107297</th>\n",
       "      <td>{'lon': -116.09761227499996, 'lat': 41.9429824...</td>\n",
       "      <td>{'type': 'Feature', 'geometry': {'coordinates'...</td>\n",
       "      <td>39868</td>\n",
       "      <td>320012000610</td>\n",
       "      <td>OWYHEE HIGH SCHOOL</td>\n",
       "      <td>100 ACADEMIC WAY</td>\n",
       "      <td>OWYHEE</td>\n",
       "      <td>NV</td>\n",
       "      <td>89832</td>\n",
       "      <td>NOT AVAILABLE</td>\n",
       "      <td>...</td>\n",
       "      <td>IMAGERY</td>\n",
       "      <td>2010-05-27T00:00:00Z</td>\n",
       "      <td>http://www.owyhee.ecsdnv.net/</td>\n",
       "      <td>MIDDLE</td>\n",
       "      <td>85</td>\n",
       "      <td>09</td>\n",
       "      <td>12</td>\n",
       "      <td>3200120</td>\n",
       "      <td>11</td>\n",
       "      <td>NOT AVAILABLE</td>\n",
       "    </tr>\n",
       "    <tr>\n",
       "      <th>107298</th>\n",
       "      <td>{'lon': -81.34178574499998, 'lat': 29.92459211...</td>\n",
       "      <td>{'type': 'Feature', 'geometry': {'coordinates'...</td>\n",
       "      <td>39925</td>\n",
       "      <td>120174001916</td>\n",
       "      <td>ST. AUGUSTINE HIGH SCHOOL</td>\n",
       "      <td>3205 VARELLA AVE</td>\n",
       "      <td>ST AUGUSTINE</td>\n",
       "      <td>FL</td>\n",
       "      <td>32084</td>\n",
       "      <td>2036</td>\n",
       "      <td>...</td>\n",
       "      <td>IMAGERY</td>\n",
       "      <td>2011-10-27T00:00:00Z</td>\n",
       "      <td>http://www-sahs.stjohns.k12.fl.us</td>\n",
       "      <td>MIDDLE</td>\n",
       "      <td>1851</td>\n",
       "      <td>09</td>\n",
       "      <td>12</td>\n",
       "      <td>1201740</td>\n",
       "      <td>86</td>\n",
       "      <td>10820183</td>\n",
       "    </tr>\n",
       "  </tbody>\n",
       "</table>\n",
       "<p>107299 rows × 33 columns</p>\n",
       "</div>"
      ],
      "text/plain": [
       "                                             geo_point_2d  \\\n",
       "0       {'lon': -70.95749886299996, 'lat': 42.07853752...   \n",
       "1       {'lon': -77.03579845099995, 'lat': 38.92930008...   \n",
       "2       {'lon': -83.08189836599996, 'lat': 39.96145409...   \n",
       "3       {'lon': -90.30395264199996, 'lat': 32.36653015...   \n",
       "4       {'lon': -85.77584969199995, 'lat': 33.63209887...   \n",
       "...                                                   ...   \n",
       "107294  {'lon': -87.65216338699997, 'lat': 41.96596074...   \n",
       "107295  {'lon': -68.50753154499995, 'lat': 45.36369082...   \n",
       "107296  {'lon': -81.64820970899996, 'lat': 29.64005059...   \n",
       "107297  {'lon': -116.09761227499996, 'lat': 41.9429824...   \n",
       "107298  {'lon': -81.34178574499998, 'lat': 29.92459211...   \n",
       "\n",
       "                                                geo_shape objectid  \\\n",
       "0       {'type': 'Feature', 'geometry': {'coordinates'...   100033   \n",
       "1       {'type': 'Feature', 'geometry': {'coordinates'...   100045   \n",
       "2       {'type': 'Feature', 'geometry': {'coordinates'...   100050   \n",
       "3       {'type': 'Feature', 'geometry': {'coordinates'...   100101   \n",
       "4       {'type': 'Feature', 'geometry': {'coordinates'...   100137   \n",
       "...                                                   ...      ...   \n",
       "107294  {'type': 'Feature', 'geometry': {'coordinates'...    39798   \n",
       "107295  {'type': 'Feature', 'geometry': {'coordinates'...    39849   \n",
       "107296  {'type': 'Feature', 'geometry': {'coordinates'...    39859   \n",
       "107297  {'type': 'Feature', 'geometry': {'coordinates'...    39868   \n",
       "107298  {'type': 'Feature', 'geometry': {'coordinates'...    39925   \n",
       "\n",
       "              ncesid                               name              address  \\\n",
       "0       251293000207                     WHITMAN MIDDLE  101 CORTHELL AVENUE   \n",
       "1       110003000396  COLUMBIA HEIGHTS EDUCATION CAMPUS     3101 16TH ST. NW   \n",
       "2       390438000575       VALLEYVIEW ELEMENTARY SCHOOL   2989 VALLEYVIEW DR   \n",
       "3       280109000136                     NORTHSIDE ELEM      451 ARROW DRIVE   \n",
       "4       010009000017   GOLDEN SPRINGS ELEMENTARY SCHOOL         100 FEARY DR   \n",
       "...              ...                                ...                  ...   \n",
       "107294  170993005787       UPLIFT COMMUNITY HIGH SCHOOL     900 W WILSON AVE   \n",
       "107295  230910000233         NO PENOBSCOT TECH-REGION 3     35 WEST BROADWAY   \n",
       "107296  120162008194            PUTNAM EDGE HIGH SCHOOL         200 S 7TH ST   \n",
       "107297  320012000610                 OWYHEE HIGH SCHOOL     100 ACADEMIC WAY   \n",
       "107298  120174001916          ST. AUGUSTINE HIGH SCHOOL     3205 VARELLA AVE   \n",
       "\n",
       "                city state    zip           zip4  ...     val_method  \\\n",
       "0            WHITMAN    MA  02382  NOT AVAILABLE  ...        IMAGERY   \n",
       "1         WASHINGTON    DC  20010  NOT AVAILABLE  ...        IMAGERY   \n",
       "2           COLUMBUS    OH  43204           2012  ...  IMAGERY/OTHER   \n",
       "3            CLINTON    MS  39056  NOT AVAILABLE  ...  IMAGERY/OTHER   \n",
       "4           ANNISTON    AL  36207  NOT AVAILABLE  ...        IMAGERY   \n",
       "...              ...   ...    ...            ...  ...            ...   \n",
       "107294       CHICAGO    IL  60640           5707  ...        IMAGERY   \n",
       "107295       LINCOLN    ME  04457  NOT AVAILABLE  ...        GEOCODE   \n",
       "107296       PALATKA    FL  32177           4612  ...        GEOCODE   \n",
       "107297        OWYHEE    NV  89832  NOT AVAILABLE  ...        IMAGERY   \n",
       "107298  ST AUGUSTINE    FL  32084           2036  ...        IMAGERY   \n",
       "\n",
       "                    val_date                              website       level  \\\n",
       "0       2016-04-21T00:00:00Z                 http://www.whrsd.org       OTHER   \n",
       "1       2011-09-30T00:00:00Z                    http://checdc.org      MIDDLE   \n",
       "2       2016-08-25T00:00:00Z                        NOT AVAILABLE       OTHER   \n",
       "3       2020-04-20T00:00:00Z  http://www.clintonpublicschools.com        HIGH   \n",
       "4       2016-01-28T00:00:00Z       http://www.annistonschools.com  ELEMENTARY   \n",
       "...                      ...                                  ...         ...   \n",
       "107294  2010-05-11T00:00:00Z                   http://www.cps.edu  ELEMENTARY   \n",
       "107295  2010-08-17T00:00:00Z         http://region3.mainecte.org/  ELEMENTARY   \n",
       "107296  2015-06-26T00:00:00Z           http://www.putnamedge.org/  ELEMENTARY   \n",
       "107297  2010-05-27T00:00:00Z        http://www.owyhee.ecsdnv.net/      MIDDLE   \n",
       "107298  2011-10-27T00:00:00Z    http://www-sahs.stjohns.k12.fl.us      MIDDLE   \n",
       "\n",
       "       enrollment st_grade end_grade districtid ft_teacher     shelter_id  \n",
       "0             549       06        08    2512930         35       10821300  \n",
       "1            1477       06        12    1100030        114  NOT AVAILABLE  \n",
       "2             240       PK        05    3904380         17  NOT AVAILABLE  \n",
       "3             733       02        03    2801090         40  NOT AVAILABLE  \n",
       "4             266       01        05    0100090         15  NOT AVAILABLE  \n",
       "...           ...      ...       ...        ...        ...            ...  \n",
       "107294         61       09        12    1709930       -999  NOT AVAILABLE  \n",
       "107295       -999        N         N    2309100         14  NOT AVAILABLE  \n",
       "107296         66       09        12    1201620          4  NOT AVAILABLE  \n",
       "107297         85       09        12    3200120         11  NOT AVAILABLE  \n",
       "107298       1851       09        12    1201740         86       10820183  \n",
       "\n",
       "[107299 rows x 33 columns]"
      ]
     },
     "execution_count": 6,
     "metadata": {},
     "output_type": "execute_result"
    }
   ],
   "source": [
    "df = pd.DataFrame(data) # Putting data into a Dataframe\n",
    "df # Displaying data             "
   ]
  },
  {
   "cell_type": "markdown",
   "id": "7f88237b",
   "metadata": {},
   "source": [
    "### Step 1: Drop unnecessary columns"
   ]
  },
  {
   "cell_type": "markdown",
   "id": "e3ac6fda",
   "metadata": {},
   "source": [
    "To remove unnecessary columns from a dataset, the pandas library offers the .drop() method, which can be used by specifying the column names."
   ]
  },
  {
   "cell_type": "code",
   "execution_count": 7,
   "id": "e44e553c",
   "metadata": {
    "scrolled": true
   },
   "outputs": [
    {
     "data": {
      "text/html": [
       "<div>\n",
       "<style scoped>\n",
       "    .dataframe tbody tr th:only-of-type {\n",
       "        vertical-align: middle;\n",
       "    }\n",
       "\n",
       "    .dataframe tbody tr th {\n",
       "        vertical-align: top;\n",
       "    }\n",
       "\n",
       "    .dataframe thead th {\n",
       "        text-align: right;\n",
       "    }\n",
       "</style>\n",
       "<table border=\"1\" class=\"dataframe\">\n",
       "  <thead>\n",
       "    <tr style=\"text-align: right;\">\n",
       "      <th></th>\n",
       "      <th>objectid</th>\n",
       "      <th>ncesid</th>\n",
       "      <th>name</th>\n",
       "      <th>address</th>\n",
       "      <th>city</th>\n",
       "      <th>state</th>\n",
       "      <th>zip</th>\n",
       "      <th>zip4</th>\n",
       "      <th>telephone</th>\n",
       "      <th>type</th>\n",
       "      <th>...</th>\n",
       "      <th>val_method</th>\n",
       "      <th>val_date</th>\n",
       "      <th>website</th>\n",
       "      <th>level</th>\n",
       "      <th>enrollment</th>\n",
       "      <th>st_grade</th>\n",
       "      <th>end_grade</th>\n",
       "      <th>districtid</th>\n",
       "      <th>ft_teacher</th>\n",
       "      <th>shelter_id</th>\n",
       "    </tr>\n",
       "  </thead>\n",
       "  <tbody>\n",
       "    <tr>\n",
       "      <th>0</th>\n",
       "      <td>100033</td>\n",
       "      <td>251293000207</td>\n",
       "      <td>WHITMAN MIDDLE</td>\n",
       "      <td>101 CORTHELL AVENUE</td>\n",
       "      <td>WHITMAN</td>\n",
       "      <td>MA</td>\n",
       "      <td>02382</td>\n",
       "      <td>NOT AVAILABLE</td>\n",
       "      <td>(781) 618-7035</td>\n",
       "      <td>1</td>\n",
       "      <td>...</td>\n",
       "      <td>IMAGERY</td>\n",
       "      <td>2016-04-21T00:00:00Z</td>\n",
       "      <td>http://www.whrsd.org</td>\n",
       "      <td>OTHER</td>\n",
       "      <td>549</td>\n",
       "      <td>06</td>\n",
       "      <td>08</td>\n",
       "      <td>2512930</td>\n",
       "      <td>35</td>\n",
       "      <td>10821300</td>\n",
       "    </tr>\n",
       "    <tr>\n",
       "      <th>1</th>\n",
       "      <td>100045</td>\n",
       "      <td>110003000396</td>\n",
       "      <td>COLUMBIA HEIGHTS EDUCATION CAMPUS</td>\n",
       "      <td>3101 16TH ST. NW</td>\n",
       "      <td>WASHINGTON</td>\n",
       "      <td>DC</td>\n",
       "      <td>20010</td>\n",
       "      <td>NOT AVAILABLE</td>\n",
       "      <td>(202) 939-7700</td>\n",
       "      <td>1</td>\n",
       "      <td>...</td>\n",
       "      <td>IMAGERY</td>\n",
       "      <td>2011-09-30T00:00:00Z</td>\n",
       "      <td>http://checdc.org</td>\n",
       "      <td>MIDDLE</td>\n",
       "      <td>1477</td>\n",
       "      <td>06</td>\n",
       "      <td>12</td>\n",
       "      <td>1100030</td>\n",
       "      <td>114</td>\n",
       "      <td>NOT AVAILABLE</td>\n",
       "    </tr>\n",
       "    <tr>\n",
       "      <th>2</th>\n",
       "      <td>100050</td>\n",
       "      <td>390438000575</td>\n",
       "      <td>VALLEYVIEW ELEMENTARY SCHOOL</td>\n",
       "      <td>2989 VALLEYVIEW DR</td>\n",
       "      <td>COLUMBUS</td>\n",
       "      <td>OH</td>\n",
       "      <td>43204</td>\n",
       "      <td>2012</td>\n",
       "      <td>(614) 365-6312</td>\n",
       "      <td>1</td>\n",
       "      <td>...</td>\n",
       "      <td>IMAGERY/OTHER</td>\n",
       "      <td>2016-08-25T00:00:00Z</td>\n",
       "      <td>NOT AVAILABLE</td>\n",
       "      <td>OTHER</td>\n",
       "      <td>240</td>\n",
       "      <td>PK</td>\n",
       "      <td>05</td>\n",
       "      <td>3904380</td>\n",
       "      <td>17</td>\n",
       "      <td>NOT AVAILABLE</td>\n",
       "    </tr>\n",
       "    <tr>\n",
       "      <th>3</th>\n",
       "      <td>100101</td>\n",
       "      <td>280109000136</td>\n",
       "      <td>NORTHSIDE ELEM</td>\n",
       "      <td>451 ARROW DRIVE</td>\n",
       "      <td>CLINTON</td>\n",
       "      <td>MS</td>\n",
       "      <td>39056</td>\n",
       "      <td>NOT AVAILABLE</td>\n",
       "      <td>(601) 924-7531</td>\n",
       "      <td>1</td>\n",
       "      <td>...</td>\n",
       "      <td>IMAGERY/OTHER</td>\n",
       "      <td>2020-04-20T00:00:00Z</td>\n",
       "      <td>http://www.clintonpublicschools.com</td>\n",
       "      <td>HIGH</td>\n",
       "      <td>733</td>\n",
       "      <td>02</td>\n",
       "      <td>03</td>\n",
       "      <td>2801090</td>\n",
       "      <td>40</td>\n",
       "      <td>NOT AVAILABLE</td>\n",
       "    </tr>\n",
       "    <tr>\n",
       "      <th>4</th>\n",
       "      <td>100137</td>\n",
       "      <td>010009000017</td>\n",
       "      <td>GOLDEN SPRINGS ELEMENTARY SCHOOL</td>\n",
       "      <td>100 FEARY DR</td>\n",
       "      <td>ANNISTON</td>\n",
       "      <td>AL</td>\n",
       "      <td>36207</td>\n",
       "      <td>NOT AVAILABLE</td>\n",
       "      <td>(256) 231-5050</td>\n",
       "      <td>1</td>\n",
       "      <td>...</td>\n",
       "      <td>IMAGERY</td>\n",
       "      <td>2016-01-28T00:00:00Z</td>\n",
       "      <td>http://www.annistonschools.com</td>\n",
       "      <td>ELEMENTARY</td>\n",
       "      <td>266</td>\n",
       "      <td>01</td>\n",
       "      <td>05</td>\n",
       "      <td>0100090</td>\n",
       "      <td>15</td>\n",
       "      <td>NOT AVAILABLE</td>\n",
       "    </tr>\n",
       "  </tbody>\n",
       "</table>\n",
       "<p>5 rows × 31 columns</p>\n",
       "</div>"
      ],
      "text/plain": [
       "  objectid        ncesid                               name  \\\n",
       "0   100033  251293000207                     WHITMAN MIDDLE   \n",
       "1   100045  110003000396  COLUMBIA HEIGHTS EDUCATION CAMPUS   \n",
       "2   100050  390438000575       VALLEYVIEW ELEMENTARY SCHOOL   \n",
       "3   100101  280109000136                     NORTHSIDE ELEM   \n",
       "4   100137  010009000017   GOLDEN SPRINGS ELEMENTARY SCHOOL   \n",
       "\n",
       "               address        city state    zip           zip4  \\\n",
       "0  101 CORTHELL AVENUE     WHITMAN    MA  02382  NOT AVAILABLE   \n",
       "1     3101 16TH ST. NW  WASHINGTON    DC  20010  NOT AVAILABLE   \n",
       "2   2989 VALLEYVIEW DR    COLUMBUS    OH  43204           2012   \n",
       "3      451 ARROW DRIVE     CLINTON    MS  39056  NOT AVAILABLE   \n",
       "4         100 FEARY DR    ANNISTON    AL  36207  NOT AVAILABLE   \n",
       "\n",
       "        telephone type  ...     val_method              val_date  \\\n",
       "0  (781) 618-7035    1  ...        IMAGERY  2016-04-21T00:00:00Z   \n",
       "1  (202) 939-7700    1  ...        IMAGERY  2011-09-30T00:00:00Z   \n",
       "2  (614) 365-6312    1  ...  IMAGERY/OTHER  2016-08-25T00:00:00Z   \n",
       "3  (601) 924-7531    1  ...  IMAGERY/OTHER  2020-04-20T00:00:00Z   \n",
       "4  (256) 231-5050    1  ...        IMAGERY  2016-01-28T00:00:00Z   \n",
       "\n",
       "                               website       level enrollment st_grade  \\\n",
       "0                 http://www.whrsd.org       OTHER        549       06   \n",
       "1                    http://checdc.org      MIDDLE       1477       06   \n",
       "2                        NOT AVAILABLE       OTHER        240       PK   \n",
       "3  http://www.clintonpublicschools.com        HIGH        733       02   \n",
       "4       http://www.annistonschools.com  ELEMENTARY        266       01   \n",
       "\n",
       "  end_grade districtid ft_teacher     shelter_id  \n",
       "0        08    2512930         35       10821300  \n",
       "1        12    1100030        114  NOT AVAILABLE  \n",
       "2        05    3904380         17  NOT AVAILABLE  \n",
       "3        03    2801090         40  NOT AVAILABLE  \n",
       "4        05    0100090         15  NOT AVAILABLE  \n",
       "\n",
       "[5 rows x 31 columns]"
      ]
     },
     "execution_count": 7,
     "metadata": {},
     "output_type": "execute_result"
    }
   ],
   "source": [
    "# Removing two columns name is 'geo_point_2d' and 'geo_shape'\n",
    "df1= df.drop(['geo_point_2d', 'geo_shape'], axis=1)\n",
    "df1.head()"
   ]
  },
  {
   "cell_type": "markdown",
   "id": "2a0e0ab1",
   "metadata": {},
   "source": [
    "As we can see, the columns that were passed as input are not present in the updated output. This happened because the axis was set to 1 and the changes were made to the original data frame, which caused the corresponding values to be deleted. "
   ]
  },
  {
   "cell_type": "markdown",
   "id": "daee415e",
   "metadata": {},
   "source": [
    "### Step 2: Convert entire dataframe to lower case"
   ]
  },
  {
   "cell_type": "code",
   "execution_count": 8,
   "id": "25c79254",
   "metadata": {},
   "outputs": [],
   "source": [
    "# Converting entire dataframe to lower case\n",
    "df2 = df1.applymap(lambda s: s.lower() if type(s) == str else s) # Using the applymap() function"
   ]
  },
  {
   "cell_type": "code",
   "execution_count": 9,
   "id": "7b3998f8",
   "metadata": {},
   "outputs": [
    {
     "data": {
      "text/html": [
       "<div>\n",
       "<style scoped>\n",
       "    .dataframe tbody tr th:only-of-type {\n",
       "        vertical-align: middle;\n",
       "    }\n",
       "\n",
       "    .dataframe tbody tr th {\n",
       "        vertical-align: top;\n",
       "    }\n",
       "\n",
       "    .dataframe thead th {\n",
       "        text-align: right;\n",
       "    }\n",
       "</style>\n",
       "<table border=\"1\" class=\"dataframe\">\n",
       "  <thead>\n",
       "    <tr style=\"text-align: right;\">\n",
       "      <th></th>\n",
       "      <th>objectid</th>\n",
       "      <th>ncesid</th>\n",
       "      <th>name</th>\n",
       "      <th>address</th>\n",
       "      <th>city</th>\n",
       "      <th>state</th>\n",
       "      <th>zip</th>\n",
       "      <th>zip4</th>\n",
       "      <th>telephone</th>\n",
       "      <th>type</th>\n",
       "      <th>...</th>\n",
       "      <th>val_method</th>\n",
       "      <th>val_date</th>\n",
       "      <th>website</th>\n",
       "      <th>level</th>\n",
       "      <th>enrollment</th>\n",
       "      <th>st_grade</th>\n",
       "      <th>end_grade</th>\n",
       "      <th>districtid</th>\n",
       "      <th>ft_teacher</th>\n",
       "      <th>shelter_id</th>\n",
       "    </tr>\n",
       "  </thead>\n",
       "  <tbody>\n",
       "    <tr>\n",
       "      <th>0</th>\n",
       "      <td>100033</td>\n",
       "      <td>251293000207</td>\n",
       "      <td>whitman middle</td>\n",
       "      <td>101 corthell avenue</td>\n",
       "      <td>whitman</td>\n",
       "      <td>MA</td>\n",
       "      <td>02382</td>\n",
       "      <td>not available</td>\n",
       "      <td>(781) 618-7035</td>\n",
       "      <td>1</td>\n",
       "      <td>...</td>\n",
       "      <td>imagery</td>\n",
       "      <td>2016-04-21t00:00:00z</td>\n",
       "      <td>http://www.whrsd.org</td>\n",
       "      <td>other</td>\n",
       "      <td>549</td>\n",
       "      <td>06</td>\n",
       "      <td>08</td>\n",
       "      <td>2512930</td>\n",
       "      <td>35</td>\n",
       "      <td>10821300</td>\n",
       "    </tr>\n",
       "    <tr>\n",
       "      <th>1</th>\n",
       "      <td>100045</td>\n",
       "      <td>110003000396</td>\n",
       "      <td>columbia heights education campus</td>\n",
       "      <td>3101 16th st. nw</td>\n",
       "      <td>washington</td>\n",
       "      <td>DC</td>\n",
       "      <td>20010</td>\n",
       "      <td>not available</td>\n",
       "      <td>(202) 939-7700</td>\n",
       "      <td>1</td>\n",
       "      <td>...</td>\n",
       "      <td>imagery</td>\n",
       "      <td>2011-09-30t00:00:00z</td>\n",
       "      <td>http://checdc.org</td>\n",
       "      <td>middle</td>\n",
       "      <td>1477</td>\n",
       "      <td>06</td>\n",
       "      <td>12</td>\n",
       "      <td>1100030</td>\n",
       "      <td>114</td>\n",
       "      <td>not available</td>\n",
       "    </tr>\n",
       "    <tr>\n",
       "      <th>2</th>\n",
       "      <td>100050</td>\n",
       "      <td>390438000575</td>\n",
       "      <td>valleyview elementary school</td>\n",
       "      <td>2989 valleyview dr</td>\n",
       "      <td>columbus</td>\n",
       "      <td>OH</td>\n",
       "      <td>43204</td>\n",
       "      <td>2012</td>\n",
       "      <td>(614) 365-6312</td>\n",
       "      <td>1</td>\n",
       "      <td>...</td>\n",
       "      <td>imagery/other</td>\n",
       "      <td>2016-08-25t00:00:00z</td>\n",
       "      <td>not available</td>\n",
       "      <td>other</td>\n",
       "      <td>240</td>\n",
       "      <td>pk</td>\n",
       "      <td>05</td>\n",
       "      <td>3904380</td>\n",
       "      <td>17</td>\n",
       "      <td>not available</td>\n",
       "    </tr>\n",
       "    <tr>\n",
       "      <th>3</th>\n",
       "      <td>100101</td>\n",
       "      <td>280109000136</td>\n",
       "      <td>northside elem</td>\n",
       "      <td>451 arrow drive</td>\n",
       "      <td>clinton</td>\n",
       "      <td>MS</td>\n",
       "      <td>39056</td>\n",
       "      <td>not available</td>\n",
       "      <td>(601) 924-7531</td>\n",
       "      <td>1</td>\n",
       "      <td>...</td>\n",
       "      <td>imagery/other</td>\n",
       "      <td>2020-04-20t00:00:00z</td>\n",
       "      <td>http://www.clintonpublicschools.com</td>\n",
       "      <td>high</td>\n",
       "      <td>733</td>\n",
       "      <td>02</td>\n",
       "      <td>03</td>\n",
       "      <td>2801090</td>\n",
       "      <td>40</td>\n",
       "      <td>not available</td>\n",
       "    </tr>\n",
       "    <tr>\n",
       "      <th>4</th>\n",
       "      <td>100137</td>\n",
       "      <td>010009000017</td>\n",
       "      <td>golden springs elementary school</td>\n",
       "      <td>100 feary dr</td>\n",
       "      <td>anniston</td>\n",
       "      <td>AL</td>\n",
       "      <td>36207</td>\n",
       "      <td>not available</td>\n",
       "      <td>(256) 231-5050</td>\n",
       "      <td>1</td>\n",
       "      <td>...</td>\n",
       "      <td>imagery</td>\n",
       "      <td>2016-01-28t00:00:00z</td>\n",
       "      <td>http://www.annistonschools.com</td>\n",
       "      <td>elementary</td>\n",
       "      <td>266</td>\n",
       "      <td>01</td>\n",
       "      <td>05</td>\n",
       "      <td>0100090</td>\n",
       "      <td>15</td>\n",
       "      <td>not available</td>\n",
       "    </tr>\n",
       "  </tbody>\n",
       "</table>\n",
       "<p>5 rows × 31 columns</p>\n",
       "</div>"
      ],
      "text/plain": [
       "  objectid        ncesid                               name  \\\n",
       "0   100033  251293000207                     whitman middle   \n",
       "1   100045  110003000396  columbia heights education campus   \n",
       "2   100050  390438000575       valleyview elementary school   \n",
       "3   100101  280109000136                     northside elem   \n",
       "4   100137  010009000017   golden springs elementary school   \n",
       "\n",
       "               address        city state    zip           zip4  \\\n",
       "0  101 corthell avenue     whitman    MA  02382  not available   \n",
       "1     3101 16th st. nw  washington    DC  20010  not available   \n",
       "2   2989 valleyview dr    columbus    OH  43204           2012   \n",
       "3      451 arrow drive     clinton    MS  39056  not available   \n",
       "4         100 feary dr    anniston    AL  36207  not available   \n",
       "\n",
       "        telephone type  ...     val_method              val_date  \\\n",
       "0  (781) 618-7035    1  ...        imagery  2016-04-21t00:00:00z   \n",
       "1  (202) 939-7700    1  ...        imagery  2011-09-30t00:00:00z   \n",
       "2  (614) 365-6312    1  ...  imagery/other  2016-08-25t00:00:00z   \n",
       "3  (601) 924-7531    1  ...  imagery/other  2020-04-20t00:00:00z   \n",
       "4  (256) 231-5050    1  ...        imagery  2016-01-28t00:00:00z   \n",
       "\n",
       "                               website       level enrollment st_grade  \\\n",
       "0                 http://www.whrsd.org       other        549       06   \n",
       "1                    http://checdc.org      middle       1477       06   \n",
       "2                        not available       other        240       pk   \n",
       "3  http://www.clintonpublicschools.com        high        733       02   \n",
       "4       http://www.annistonschools.com  elementary        266       01   \n",
       "\n",
       "  end_grade districtid ft_teacher     shelter_id  \n",
       "0        08    2512930         35       10821300  \n",
       "1        12    1100030        114  not available  \n",
       "2        05    3904380         17  not available  \n",
       "3        03    2801090         40  not available  \n",
       "4        05    0100090         15  not available  \n",
       "\n",
       "[5 rows x 31 columns]"
      ]
     },
     "execution_count": 9,
     "metadata": {},
     "output_type": "execute_result"
    }
   ],
   "source": [
    "# applying uppercase to 'state' colunm using upper() method.\n",
    "df2['state'] = df2['state'].str.upper()\n",
    "df2.head()"
   ]
  },
  {
   "cell_type": "code",
   "execution_count": 10,
   "id": "5da4fe5d",
   "metadata": {},
   "outputs": [],
   "source": [
    "df2.to_csv('C:/Users/79bar/dsc540/school.csv', index = True)"
   ]
  },
  {
   "cell_type": "markdown",
   "id": "d4c304f7",
   "metadata": {},
   "source": [
    "**Check dimensions of the data set , data types and statistical summary of the variables**"
   ]
  },
  {
   "cell_type": "code",
   "execution_count": 11,
   "id": "1a16d3ff",
   "metadata": {},
   "outputs": [
    {
     "data": {
      "text/plain": [
       "(107299, 31)"
      ]
     },
     "execution_count": 11,
     "metadata": {},
     "output_type": "execute_result"
    }
   ],
   "source": [
    "df2.shape # Returning a tuple representing the dimensionality of the DataFrame"
   ]
  },
  {
   "cell_type": "code",
   "execution_count": 12,
   "id": "8ea7954a",
   "metadata": {},
   "outputs": [
    {
     "data": {
      "text/plain": [
       "3326269"
      ]
     },
     "execution_count": 12,
     "metadata": {},
     "output_type": "execute_result"
    }
   ],
   "source": [
    "df2.size # Returning an int representing the number of elements in this object"
   ]
  },
  {
   "cell_type": "code",
   "execution_count": 13,
   "id": "98c1d244",
   "metadata": {},
   "outputs": [
    {
     "data": {
      "text/plain": [
       "Index(['objectid', 'ncesid', 'name', 'address', 'city', 'state', 'zip', 'zip4',\n",
       "       'telephone', 'type', 'status', 'population', 'county', 'countyfips',\n",
       "       'country', 'latitude', 'longitude', 'naics_code', 'naics_desc',\n",
       "       'source', 'sourcedate', 'val_method', 'val_date', 'website', 'level',\n",
       "       'enrollment', 'st_grade', 'end_grade', 'districtid', 'ft_teacher',\n",
       "       'shelter_id'],\n",
       "      dtype='object')"
      ]
     },
     "execution_count": 13,
     "metadata": {},
     "output_type": "execute_result"
    }
   ],
   "source": [
    "df2.columns # Showing columns names"
   ]
  },
  {
   "cell_type": "code",
   "execution_count": 14,
   "id": "0ed0c0c8",
   "metadata": {
    "scrolled": true
   },
   "outputs": [
    {
     "name": "stdout",
     "output_type": "stream",
     "text": [
      "<class 'pandas.core.frame.DataFrame'>\n",
      "RangeIndex: 107299 entries, 0 to 107298\n",
      "Data columns (total 31 columns):\n",
      " #   Column      Non-Null Count   Dtype \n",
      "---  ------      --------------   ----- \n",
      " 0   objectid    107299 non-null  object\n",
      " 1   ncesid      107299 non-null  object\n",
      " 2   name        107299 non-null  object\n",
      " 3   address     107299 non-null  object\n",
      " 4   city        107299 non-null  object\n",
      " 5   state       107299 non-null  object\n",
      " 6   zip         107299 non-null  object\n",
      " 7   zip4        107299 non-null  object\n",
      " 8   telephone   107299 non-null  object\n",
      " 9   type        107299 non-null  object\n",
      " 10  status      107299 non-null  object\n",
      " 11  population  107299 non-null  object\n",
      " 12  county      107299 non-null  object\n",
      " 13  countyfips  107299 non-null  object\n",
      " 14  country     107299 non-null  object\n",
      " 15  latitude    107299 non-null  object\n",
      " 16  longitude   107299 non-null  object\n",
      " 17  naics_code  107299 non-null  object\n",
      " 18  naics_desc  107299 non-null  object\n",
      " 19  source      107299 non-null  object\n",
      " 20  sourcedate  107299 non-null  object\n",
      " 21  val_method  107299 non-null  object\n",
      " 22  val_date    107299 non-null  object\n",
      " 23  website     107299 non-null  object\n",
      " 24  level       101688 non-null  object\n",
      " 25  enrollment  107299 non-null  object\n",
      " 26  st_grade    107299 non-null  object\n",
      " 27  end_grade   107299 non-null  object\n",
      " 28  districtid  107299 non-null  object\n",
      " 29  ft_teacher  107299 non-null  object\n",
      " 30  shelter_id  107299 non-null  object\n",
      "dtypes: object(31)\n",
      "memory usage: 25.4+ MB\n"
     ]
    }
   ],
   "source": [
    "df2.info() # Printing a summary of the dataframe, index dtype and columns, non-null values"
   ]
  },
  {
   "cell_type": "markdown",
   "id": "1d216bbe",
   "metadata": {},
   "source": [
    "Those output show us that we are working with a set of 107299 and 31 columns. All of the column variables are encoded as object."
   ]
  },
  {
   "cell_type": "markdown",
   "id": "8e4a888a",
   "metadata": {},
   "source": [
    "After getting sense ot the data's structure, look at the statistical summary of the variables with describe(). The describe() function could help to identify outlier in the data set."
   ]
  },
  {
   "cell_type": "markdown",
   "id": "0773dee1",
   "metadata": {},
   "source": [
    "We can ge a summary of categorical variables by passing those columns to describe() and gives a consice overview of each varibles."
   ]
  },
  {
   "cell_type": "code",
   "execution_count": 15,
   "id": "36d26bac",
   "metadata": {},
   "outputs": [
    {
     "data": {
      "text/html": [
       "<div>\n",
       "<style scoped>\n",
       "    .dataframe tbody tr th:only-of-type {\n",
       "        vertical-align: middle;\n",
       "    }\n",
       "\n",
       "    .dataframe tbody tr th {\n",
       "        vertical-align: top;\n",
       "    }\n",
       "\n",
       "    .dataframe thead th {\n",
       "        text-align: right;\n",
       "    }\n",
       "</style>\n",
       "<table border=\"1\" class=\"dataframe\">\n",
       "  <thead>\n",
       "    <tr style=\"text-align: right;\">\n",
       "      <th></th>\n",
       "      <th>objectid</th>\n",
       "      <th>ncesid</th>\n",
       "      <th>name</th>\n",
       "      <th>address</th>\n",
       "      <th>city</th>\n",
       "      <th>state</th>\n",
       "      <th>zip</th>\n",
       "      <th>zip4</th>\n",
       "      <th>telephone</th>\n",
       "      <th>type</th>\n",
       "      <th>...</th>\n",
       "      <th>val_method</th>\n",
       "      <th>val_date</th>\n",
       "      <th>website</th>\n",
       "      <th>level</th>\n",
       "      <th>enrollment</th>\n",
       "      <th>st_grade</th>\n",
       "      <th>end_grade</th>\n",
       "      <th>districtid</th>\n",
       "      <th>ft_teacher</th>\n",
       "      <th>shelter_id</th>\n",
       "    </tr>\n",
       "  </thead>\n",
       "  <tbody>\n",
       "    <tr>\n",
       "      <th>count</th>\n",
       "      <td>107299</td>\n",
       "      <td>107299</td>\n",
       "      <td>107299</td>\n",
       "      <td>107299</td>\n",
       "      <td>107299</td>\n",
       "      <td>107299</td>\n",
       "      <td>107299</td>\n",
       "      <td>107299</td>\n",
       "      <td>107299</td>\n",
       "      <td>107299</td>\n",
       "      <td>...</td>\n",
       "      <td>107299</td>\n",
       "      <td>107299</td>\n",
       "      <td>107299</td>\n",
       "      <td>101688</td>\n",
       "      <td>107299</td>\n",
       "      <td>107299</td>\n",
       "      <td>107299</td>\n",
       "      <td>107299</td>\n",
       "      <td>107299</td>\n",
       "      <td>107299</td>\n",
       "    </tr>\n",
       "    <tr>\n",
       "      <th>unique</th>\n",
       "      <td>107299</td>\n",
       "      <td>101707</td>\n",
       "      <td>87167</td>\n",
       "      <td>92588</td>\n",
       "      <td>12616</td>\n",
       "      <td>56</td>\n",
       "      <td>22432</td>\n",
       "      <td>8721</td>\n",
       "      <td>93004</td>\n",
       "      <td>4</td>\n",
       "      <td>...</td>\n",
       "      <td>4</td>\n",
       "      <td>664</td>\n",
       "      <td>40625</td>\n",
       "      <td>10</td>\n",
       "      <td>3029</td>\n",
       "      <td>18</td>\n",
       "      <td>19</td>\n",
       "      <td>18543</td>\n",
       "      <td>280</td>\n",
       "      <td>21958</td>\n",
       "    </tr>\n",
       "    <tr>\n",
       "      <th>top</th>\n",
       "      <td>100033</td>\n",
       "      <td>251293000207</td>\n",
       "      <td>lincoln elementary school</td>\n",
       "      <td>box doe</td>\n",
       "      <td>houston</td>\n",
       "      <td>CA</td>\n",
       "      <td>10456</td>\n",
       "      <td>not available</td>\n",
       "      <td>(972) 316-3663</td>\n",
       "      <td>1</td>\n",
       "      <td>...</td>\n",
       "      <td>imagery/other</td>\n",
       "      <td>2022-05-13t00:00:00z</td>\n",
       "      <td>not available</td>\n",
       "      <td>elementary</td>\n",
       "      <td>-999</td>\n",
       "      <td>pk</td>\n",
       "      <td>05</td>\n",
       "      <td>7200030</td>\n",
       "      <td>-999</td>\n",
       "      <td>not available</td>\n",
       "    </tr>\n",
       "    <tr>\n",
       "      <th>freq</th>\n",
       "      <td>1</td>\n",
       "      <td>2</td>\n",
       "      <td>95</td>\n",
       "      <td>31</td>\n",
       "      <td>885</td>\n",
       "      <td>11012</td>\n",
       "      <td>51</td>\n",
       "      <td>43131</td>\n",
       "      <td>37</td>\n",
       "      <td>97428</td>\n",
       "      <td>...</td>\n",
       "      <td>68064</td>\n",
       "      <td>4864</td>\n",
       "      <td>38512</td>\n",
       "      <td>53041</td>\n",
       "      <td>3161</td>\n",
       "      <td>33774</td>\n",
       "      <td>29862</td>\n",
       "      <td>894</td>\n",
       "      <td>11330</td>\n",
       "      <td>82511</td>\n",
       "    </tr>\n",
       "  </tbody>\n",
       "</table>\n",
       "<p>4 rows × 31 columns</p>\n",
       "</div>"
      ],
      "text/plain": [
       "       objectid        ncesid                       name  address     city  \\\n",
       "count    107299        107299                     107299   107299   107299   \n",
       "unique   107299        101707                      87167    92588    12616   \n",
       "top      100033  251293000207  lincoln elementary school  box doe  houston   \n",
       "freq          1             2                         95       31      885   \n",
       "\n",
       "         state     zip           zip4       telephone    type  ...  \\\n",
       "count   107299  107299         107299          107299  107299  ...   \n",
       "unique      56   22432           8721           93004       4  ...   \n",
       "top         CA   10456  not available  (972) 316-3663       1  ...   \n",
       "freq     11012      51          43131              37   97428  ...   \n",
       "\n",
       "           val_method              val_date        website       level  \\\n",
       "count          107299                107299         107299      101688   \n",
       "unique              4                   664          40625          10   \n",
       "top     imagery/other  2022-05-13t00:00:00z  not available  elementary   \n",
       "freq            68064                  4864          38512       53041   \n",
       "\n",
       "       enrollment st_grade end_grade districtid ft_teacher     shelter_id  \n",
       "count      107299   107299    107299     107299     107299         107299  \n",
       "unique       3029       18        19      18543        280          21958  \n",
       "top          -999       pk        05    7200030       -999  not available  \n",
       "freq         3161    33774     29862        894      11330          82511  \n",
       "\n",
       "[4 rows x 31 columns]"
      ]
     },
     "execution_count": 15,
     "metadata": {},
     "output_type": "execute_result"
    }
   ],
   "source": [
    "df2.describe() # looking at the statistical summary of the variables with describe()"
   ]
  },
  {
   "cell_type": "markdown",
   "id": "241df46d",
   "metadata": {},
   "source": [
    "### Step 3: Identify and deal missing data"
   ]
  },
  {
   "cell_type": "markdown",
   "id": "7f518ec0",
   "metadata": {},
   "source": [
    "As per the API documentation on the website, certain data is unavailable and is replaced with the words 'not available' and -999 values in the dataset."
   ]
  },
  {
   "cell_type": "code",
   "execution_count": 16,
   "id": "d9cc97f3",
   "metadata": {},
   "outputs": [
    {
     "data": {
      "text/plain": [
       "objectid      False\n",
       "ncesid        False\n",
       "name          False\n",
       "address       False\n",
       "city          False\n",
       "state         False\n",
       "zip           False\n",
       "zip4          False\n",
       "telephone     False\n",
       "type          False\n",
       "status        False\n",
       "population    False\n",
       "county        False\n",
       "countyfips    False\n",
       "country       False\n",
       "latitude      False\n",
       "longitude     False\n",
       "naics_code    False\n",
       "naics_desc    False\n",
       "source        False\n",
       "sourcedate    False\n",
       "val_method    False\n",
       "val_date      False\n",
       "website       False\n",
       "level          True\n",
       "enrollment    False\n",
       "st_grade      False\n",
       "end_grade     False\n",
       "districtid    False\n",
       "ft_teacher    False\n",
       "shelter_id    False\n",
       "dtype: bool"
      ]
     },
     "execution_count": 16,
     "metadata": {},
     "output_type": "execute_result"
    }
   ],
   "source": [
    "df2.isnull().any() # Checking missing value"
   ]
  },
  {
   "cell_type": "code",
   "execution_count": 17,
   "id": "0b2e6322",
   "metadata": {},
   "outputs": [
    {
     "data": {
      "text/plain": [
       "objectid         0\n",
       "ncesid           0\n",
       "name             0\n",
       "address          0\n",
       "city             0\n",
       "state            0\n",
       "zip              0\n",
       "zip4             0\n",
       "telephone        0\n",
       "type             0\n",
       "status           0\n",
       "population       0\n",
       "county           0\n",
       "countyfips       0\n",
       "country          0\n",
       "latitude         0\n",
       "longitude        0\n",
       "naics_code       0\n",
       "naics_desc       0\n",
       "source           0\n",
       "sourcedate       0\n",
       "val_method       0\n",
       "val_date         0\n",
       "website          0\n",
       "level         5611\n",
       "enrollment       0\n",
       "st_grade         0\n",
       "end_grade        0\n",
       "districtid       0\n",
       "ft_teacher       0\n",
       "shelter_id       0\n",
       "dtype: int64"
      ]
     },
     "execution_count": 17,
     "metadata": {},
     "output_type": "execute_result"
    }
   ],
   "source": [
    "df2.isnull().sum() # Detecting missing value using interger"
   ]
  },
  {
   "cell_type": "code",
   "execution_count": 18,
   "id": "e61fada7",
   "metadata": {},
   "outputs": [
    {
     "data": {
      "text/plain": [
       "5611"
      ]
     },
     "execution_count": 18,
     "metadata": {},
     "output_type": "execute_result"
    }
   ],
   "source": [
    "df2.isnull().sum().sum() # Detecting missing value using interger"
   ]
  },
  {
   "cell_type": "markdown",
   "id": "9fc1204a",
   "metadata": {},
   "source": [
    "As we can see there are missing values in the dataset for level variables. Missing data can be handled in several ways. The data will have a big impact on how to handle missing data. In my case, the missing information relates to a survey from a US school. Some information is maybe not available. "
   ]
  },
  {
   "cell_type": "markdown",
   "id": "0a4e432d",
   "metadata": {},
   "source": [
    "#### Deal with missing data"
   ]
  },
  {
   "cell_type": "markdown",
   "id": "43325aeb",
   "metadata": {},
   "source": [
    "According to this, I choose to replace missing value with string 'not available' by using replace()function."
   ]
  },
  {
   "cell_type": "code",
   "execution_count": 19,
   "id": "feb40502",
   "metadata": {},
   "outputs": [
    {
     "data": {
      "text/plain": [
       "objectid      0\n",
       "ncesid        0\n",
       "name          0\n",
       "address       0\n",
       "city          0\n",
       "state         0\n",
       "zip           0\n",
       "zip4          0\n",
       "telephone     0\n",
       "type          0\n",
       "status        0\n",
       "population    0\n",
       "county        0\n",
       "countyfips    0\n",
       "country       0\n",
       "latitude      0\n",
       "longitude     0\n",
       "naics_code    0\n",
       "naics_desc    0\n",
       "source        0\n",
       "sourcedate    0\n",
       "val_method    0\n",
       "val_date      0\n",
       "website       0\n",
       "level         0\n",
       "enrollment    0\n",
       "st_grade      0\n",
       "end_grade     0\n",
       "districtid    0\n",
       "ft_teacher    0\n",
       "shelter_id    0\n",
       "dtype: int64"
      ]
     },
     "execution_count": 19,
     "metadata": {},
     "output_type": "execute_result"
    }
   ],
   "source": [
    "# Using replace()function to fill missing data with 'not available'\n",
    "df3=df2.replace(to_replace=np.nan, value='not available')\n",
    "df3.isnull().sum()"
   ]
  },
  {
   "cell_type": "markdown",
   "id": "0ae0ca3b",
   "metadata": {},
   "source": [
    "### Step 4: Deal with inconsistent  values"
   ]
  },
  {
   "cell_type": "markdown",
   "id": "34655974",
   "metadata": {},
   "source": [
    "Some of the variables may be encoded as data int  and float before outliers in the data set are discovered."
   ]
  },
  {
   "cell_type": "code",
   "execution_count": 20,
   "id": "7079054a",
   "metadata": {},
   "outputs": [],
   "source": [
    "# Defining a list of columns to be converted to int\n",
    "columns_int = ['population', 'ft_teacher','enrollment']\n",
    "# Converting the columns to int by using astype() function\n",
    "df3[columns_int]= df3[columns_int].astype(int)"
   ]
  },
  {
   "cell_type": "code",
   "execution_count": 21,
   "id": "9270693c",
   "metadata": {},
   "outputs": [],
   "source": [
    "# Converting column to datetime pandas\n",
    "columns_date = ['sourcedate','val_date']\n",
    "# Converting the columns to date by using astype() function\n",
    "df3[columns_date]= df3[columns_date].astype('datetime64[ns]')"
   ]
  },
  {
   "cell_type": "markdown",
   "id": "4cad4f92",
   "metadata": {},
   "source": []
  },
  {
   "cell_type": "code",
   "execution_count": 22,
   "id": "987a1af7",
   "metadata": {},
   "outputs": [
    {
     "name": "stdout",
     "output_type": "stream",
     "text": [
      "<class 'pandas.core.frame.DataFrame'>\n",
      "RangeIndex: 107299 entries, 0 to 107298\n",
      "Data columns (total 31 columns):\n",
      " #   Column      Non-Null Count   Dtype         \n",
      "---  ------      --------------   -----         \n",
      " 0   objectid    107299 non-null  object        \n",
      " 1   ncesid      107299 non-null  object        \n",
      " 2   name        107299 non-null  object        \n",
      " 3   address     107299 non-null  object        \n",
      " 4   city        107299 non-null  object        \n",
      " 5   state       107299 non-null  object        \n",
      " 6   zip         107299 non-null  object        \n",
      " 7   zip4        107299 non-null  object        \n",
      " 8   telephone   107299 non-null  object        \n",
      " 9   type        107299 non-null  object        \n",
      " 10  status      107299 non-null  object        \n",
      " 11  population  107299 non-null  int32         \n",
      " 12  county      107299 non-null  object        \n",
      " 13  countyfips  107299 non-null  object        \n",
      " 14  country     107299 non-null  object        \n",
      " 15  latitude    107299 non-null  object        \n",
      " 16  longitude   107299 non-null  object        \n",
      " 17  naics_code  107299 non-null  object        \n",
      " 18  naics_desc  107299 non-null  object        \n",
      " 19  source      107299 non-null  object        \n",
      " 20  sourcedate  107299 non-null  datetime64[ns]\n",
      " 21  val_method  107299 non-null  object        \n",
      " 22  val_date    107299 non-null  datetime64[ns]\n",
      " 23  website     107299 non-null  object        \n",
      " 24  level       107299 non-null  object        \n",
      " 25  enrollment  107299 non-null  int32         \n",
      " 26  st_grade    107299 non-null  object        \n",
      " 27  end_grade   107299 non-null  object        \n",
      " 28  districtid  107299 non-null  object        \n",
      " 29  ft_teacher  107299 non-null  int32         \n",
      " 30  shelter_id  107299 non-null  object        \n",
      "dtypes: datetime64[ns](2), int32(3), object(26)\n",
      "memory usage: 24.1+ MB\n"
     ]
    }
   ],
   "source": [
    "df3.info()"
   ]
  },
  {
   "cell_type": "markdown",
   "id": "0f613711",
   "metadata": {},
   "source": [
    "### Step 5: Find outliers"
   ]
  },
  {
   "cell_type": "markdown",
   "id": "e39b72bf",
   "metadata": {},
   "source": [
    "Outliers are the extreme values found in a dataset when exploring it. This indicates that the outlier data points deviate significantly from the predicted values, either being noticeably larger or smaller. Creating plot is one of the quickest way to detect outliers. "
   ]
  },
  {
   "cell_type": "markdown",
   "id": "73bec57a",
   "metadata": {},
   "source": [
    "Using describe() gives descriptive statistics those that, excluding NaN values, summarize the central tendency, dispersion, and shape of the distribution of a dataset."
   ]
  },
  {
   "cell_type": "code",
   "execution_count": 23,
   "id": "f149e117",
   "metadata": {},
   "outputs": [
    {
     "data": {
      "text/html": [
       "<div>\n",
       "<style scoped>\n",
       "    .dataframe tbody tr th:only-of-type {\n",
       "        vertical-align: middle;\n",
       "    }\n",
       "\n",
       "    .dataframe tbody tr th {\n",
       "        vertical-align: top;\n",
       "    }\n",
       "\n",
       "    .dataframe thead th {\n",
       "        text-align: right;\n",
       "    }\n",
       "</style>\n",
       "<table border=\"1\" class=\"dataframe\">\n",
       "  <thead>\n",
       "    <tr style=\"text-align: right;\">\n",
       "      <th></th>\n",
       "      <th>population</th>\n",
       "      <th>enrollment</th>\n",
       "      <th>ft_teacher</th>\n",
       "    </tr>\n",
       "  </thead>\n",
       "  <tbody>\n",
       "    <tr>\n",
       "      <th>count</th>\n",
       "      <td>107299.000000</td>\n",
       "      <td>107299.000000</td>\n",
       "      <td>107299.000000</td>\n",
       "    </tr>\n",
       "    <tr>\n",
       "      <th>mean</th>\n",
       "      <td>488.128603</td>\n",
       "      <td>457.264373</td>\n",
       "      <td>-75.926421</td>\n",
       "    </tr>\n",
       "    <tr>\n",
       "      <th>std</th>\n",
       "      <td>551.718406</td>\n",
       "      <td>532.556698</td>\n",
       "      <td>318.137014</td>\n",
       "    </tr>\n",
       "    <tr>\n",
       "      <th>min</th>\n",
       "      <td>-999.000000</td>\n",
       "      <td>-999.000000</td>\n",
       "      <td>-999.000000</td>\n",
       "    </tr>\n",
       "    <tr>\n",
       "      <th>25%</th>\n",
       "      <td>229.000000</td>\n",
       "      <td>214.000000</td>\n",
       "      <td>12.000000</td>\n",
       "    </tr>\n",
       "    <tr>\n",
       "      <th>50%</th>\n",
       "      <td>425.000000</td>\n",
       "      <td>399.000000</td>\n",
       "      <td>26.000000</td>\n",
       "    </tr>\n",
       "    <tr>\n",
       "      <th>75%</th>\n",
       "      <td>654.000000</td>\n",
       "      <td>616.000000</td>\n",
       "      <td>39.000000</td>\n",
       "    </tr>\n",
       "    <tr>\n",
       "      <th>max</th>\n",
       "      <td>21462.000000</td>\n",
       "      <td>21049.000000</td>\n",
       "      <td>1093.000000</td>\n",
       "    </tr>\n",
       "  </tbody>\n",
       "</table>\n",
       "</div>"
      ],
      "text/plain": [
       "          population     enrollment     ft_teacher\n",
       "count  107299.000000  107299.000000  107299.000000\n",
       "mean      488.128603     457.264373     -75.926421\n",
       "std       551.718406     532.556698     318.137014\n",
       "min      -999.000000    -999.000000    -999.000000\n",
       "25%       229.000000     214.000000      12.000000\n",
       "50%       425.000000     399.000000      26.000000\n",
       "75%       654.000000     616.000000      39.000000\n",
       "max     21462.000000   21049.000000    1093.000000"
      ]
     },
     "execution_count": 23,
     "metadata": {},
     "output_type": "execute_result"
    }
   ],
   "source": [
    "df3.describe() # looking at the statistical summary of the variables with describe()"
   ]
  },
  {
   "cell_type": "code",
   "execution_count": 24,
   "id": "47955b96",
   "metadata": {},
   "outputs": [],
   "source": [
    "if hasattr(df3, 'ft_teacher'):\n",
    "    df3.ft_teacher"
   ]
  },
  {
   "cell_type": "code",
   "execution_count": 25,
   "id": "a9a4a5e0",
   "metadata": {},
   "outputs": [
    {
     "data": {
      "text/plain": [
       "<AxesSubplot:xlabel='ft_teacher'>"
      ]
     },
     "execution_count": 25,
     "metadata": {},
     "output_type": "execute_result"
    },
    {
     "data": {
      "image/png": "[encoded data removed]",
      "text/plain": [
       "<Figure size 640x480 with 1 Axes>"
      ]
     },
     "metadata": {},
     "output_type": "display_data"
    }
   ],
   "source": [
    "sns.boxplot(df3['ft_teacher'])"
   ]
  },
  {
   "cell_type": "markdown",
   "id": "26fdb8f0",
   "metadata": {},
   "source": [
    "As we can see, there are several outliers. The box in our box plot is represented by that thick line close to 0 to 27 for the Boxplot 'charter_total'. Certain sites show outliers over the box and upper fence."
   ]
  },
  {
   "cell_type": "code",
   "execution_count": 26,
   "id": "30be1d2f",
   "metadata": {},
   "outputs": [
    {
     "data": {
      "text/plain": [
       "27213    1093\n",
       "Name: ft_teacher, dtype: int32"
      ]
     },
     "execution_count": 26,
     "metadata": {},
     "output_type": "execute_result"
    }
   ],
   "source": [
    "#Checking the highest values where the condition is False\n",
    "index=np.where(df3.ft_teacher==max(df3.ft_teacher)) # Checking the highest values where the condition is False.\n",
    "df3.ft_teacher.loc[index]"
   ]
  },
  {
   "cell_type": "code",
   "execution_count": 27,
   "id": "672baf45",
   "metadata": {},
   "outputs": [
    {
     "data": {
      "text/plain": [
       "12.0"
      ]
     },
     "execution_count": 27,
     "metadata": {},
     "output_type": "execute_result"
    }
   ],
   "source": [
    "# Finding the lower quartile (Q1)\n",
    "Q1= df3.ft_teacher.quantile(0.25)\n",
    "Q1"
   ]
  },
  {
   "cell_type": "code",
   "execution_count": 28,
   "id": "315d115a",
   "metadata": {},
   "outputs": [
    {
     "data": {
      "text/plain": [
       "39.0"
      ]
     },
     "execution_count": 28,
     "metadata": {},
     "output_type": "execute_result"
    }
   ],
   "source": [
    "# Finding the upper quartile (Q3) \n",
    "Q3= df3.ft_teacher.quantile(0.75)\n",
    "Q3"
   ]
  },
  {
   "cell_type": "code",
   "execution_count": 29,
   "id": "ccb76190",
   "metadata": {},
   "outputs": [
    {
     "data": {
      "text/plain": [
       "27.0"
      ]
     },
     "execution_count": 29,
     "metadata": {},
     "output_type": "execute_result"
    }
   ],
   "source": [
    "# Finding interquartile range(IQR)\n",
    "IQR= Q3-Q1\n",
    "IQR"
   ]
  },
  {
   "cell_type": "code",
   "execution_count": 30,
   "id": "95c57bc1",
   "metadata": {},
   "outputs": [
    {
     "data": {
      "text/plain": [
       "-28.5"
      ]
     },
     "execution_count": 30,
     "metadata": {},
     "output_type": "execute_result"
    }
   ],
   "source": [
    "# Finding the lower limit\n",
    "lower_limit=Q1-1.5*IQR\n",
    "lower_limit"
   ]
  },
  {
   "cell_type": "code",
   "execution_count": 31,
   "id": "891754b7",
   "metadata": {},
   "outputs": [
    {
     "data": {
      "text/plain": [
       "79.5"
      ]
     },
     "execution_count": 31,
     "metadata": {},
     "output_type": "execute_result"
    }
   ],
   "source": [
    "# Finding the upper limit\n",
    "upper_limit=Q3+1.5*IQR\n",
    "upper_limit"
   ]
  },
  {
   "cell_type": "markdown",
   "id": "6ccdedad",
   "metadata": {},
   "source": [
    "### Step 6: Deal with Outliers"
   ]
  },
  {
   "cell_type": "markdown",
   "id": "81857691",
   "metadata": {},
   "source": [
    "There is no single approach to dealing with outliers, just like missing values. To reduce their impact, we can keep, remove, or alter them in some way. Only for completing this exercise I choose to filter out outliers."
   ]
  },
  {
   "cell_type": "code",
   "execution_count": 32,
   "id": "2763add7",
   "metadata": {},
   "outputs": [
    {
     "data": {
      "text/html": [
       "<div>\n",
       "<style scoped>\n",
       "    .dataframe tbody tr th:only-of-type {\n",
       "        vertical-align: middle;\n",
       "    }\n",
       "\n",
       "    .dataframe tbody tr th {\n",
       "        vertical-align: top;\n",
       "    }\n",
       "\n",
       "    .dataframe thead th {\n",
       "        text-align: right;\n",
       "    }\n",
       "</style>\n",
       "<table border=\"1\" class=\"dataframe\">\n",
       "  <thead>\n",
       "    <tr style=\"text-align: right;\">\n",
       "      <th></th>\n",
       "      <th>objectid</th>\n",
       "      <th>ncesid</th>\n",
       "      <th>name</th>\n",
       "      <th>address</th>\n",
       "      <th>city</th>\n",
       "      <th>state</th>\n",
       "      <th>zip</th>\n",
       "      <th>zip4</th>\n",
       "      <th>telephone</th>\n",
       "      <th>type</th>\n",
       "      <th>...</th>\n",
       "      <th>val_method</th>\n",
       "      <th>val_date</th>\n",
       "      <th>website</th>\n",
       "      <th>level</th>\n",
       "      <th>enrollment</th>\n",
       "      <th>st_grade</th>\n",
       "      <th>end_grade</th>\n",
       "      <th>districtid</th>\n",
       "      <th>ft_teacher</th>\n",
       "      <th>shelter_id</th>\n",
       "    </tr>\n",
       "  </thead>\n",
       "  <tbody>\n",
       "  </tbody>\n",
       "</table>\n",
       "<p>0 rows × 31 columns</p>\n",
       "</div>"
      ],
      "text/plain": [
       "Empty DataFrame\n",
       "Columns: [objectid, ncesid, name, address, city, state, zip, zip4, telephone, type, status, population, county, countyfips, country, latitude, longitude, naics_code, naics_desc, source, sourcedate, val_method, val_date, website, level, enrollment, st_grade, end_grade, districtid, ft_teacher, shelter_id]\n",
       "Index: []\n",
       "\n",
       "[0 rows x 31 columns]"
      ]
     },
     "execution_count": 32,
     "metadata": {},
     "output_type": "execute_result"
    }
   ],
   "source": [
    "# Using operators | to filter out outliers\n",
    "df3[(df3.ft_teacher<lower_limit/(df3.ft_teacher>upper_limit))]"
   ]
  },
  {
   "cell_type": "code",
   "execution_count": 33,
   "id": "c1252d3a",
   "metadata": {},
   "outputs": [],
   "source": [
    "# Using operators & to filter out outliers\n",
    "df3=df3[(df3.ft_teacher> lower_limit)&(df3.ft_teacher<upper_limit)]"
   ]
  },
  {
   "cell_type": "code",
   "execution_count": 34,
   "id": "4e48b4f3",
   "metadata": {},
   "outputs": [
    {
     "data": {
      "text/plain": [
       "<AxesSubplot:xlabel='ft_teacher'>"
      ]
     },
     "execution_count": 34,
     "metadata": {},
     "output_type": "execute_result"
    },
    {
     "data": {
      "image/png": "[encoded data removed]",
      "text/plain": [
       "<Figure size 640x480 with 1 Axes>"
      ]
     },
     "metadata": {},
     "output_type": "display_data"
    }
   ],
   "source": [
    "sns.boxplot(df3['ft_teacher']) # Using Box Plot for Visualization without outliers"
   ]
  },
  {
   "cell_type": "markdown",
   "id": "6f31064e",
   "metadata": {},
   "source": [
    "###  Step 7: Find duplicates"
   ]
  },
  {
   "cell_type": "markdown",
   "id": "72e388e4",
   "metadata": {},
   "source": [
    "The duplicated() method provides a Series with True and False values indicating which rows in the DataFrame are duplicated and which are not.  If all the values in a row are the same, duplicated() by default interprets the row as a whole as a duplicate. It also believes the initial row to be unique, so it will always return False because a duplicate row won't appear until the subsequent occurrence."
   ]
  },
  {
   "cell_type": "code",
   "execution_count": 35,
   "id": "56b5739b",
   "metadata": {
    "scrolled": false
   },
   "outputs": [
    {
     "data": {
      "text/plain": [
       "0         False\n",
       "2         False\n",
       "3         False\n",
       "4         False\n",
       "5         False\n",
       "          ...  \n",
       "107292    False\n",
       "107293    False\n",
       "107295    False\n",
       "107296    False\n",
       "107297    False\n",
       "Length: 91020, dtype: bool"
      ]
     },
     "execution_count": 35,
     "metadata": {},
     "output_type": "execute_result"
    }
   ],
   "source": [
    "df3.duplicated() # Finding duplicate value in the data "
   ]
  },
  {
   "cell_type": "markdown",
   "id": "0c0d9022",
   "metadata": {},
   "source": [
    "As we can see the duplicated() method returns a series with False values that indicate there are no duplicate values in the data frame"
   ]
  },
  {
   "cell_type": "markdown",
   "id": "4f6f051b",
   "metadata": {},
   "source": [
    "### Step 8: Group data "
   ]
  },
  {
   "cell_type": "markdown",
   "id": "59f8bd0b",
   "metadata": {},
   "source": [
    "A groupby operation involves some combination of splitting the object, applying a function, and combining the results. This can be used to group large amounts of data and compute operations on these groups."
   ]
  },
  {
   "cell_type": "code",
   "execution_count": 36,
   "id": "0c004df3",
   "metadata": {},
   "outputs": [],
   "source": [
    "# Group by 'state','naics_code','naics_desc'columns\n",
    "grouped_df = df3.groupby(['state','naics_code','naics_desc'])"
   ]
  },
  {
   "cell_type": "code",
   "execution_count": 37,
   "id": "5663b06a",
   "metadata": {},
   "outputs": [],
   "source": [
    "# Calculating the sum of the 'population','enrollment','ft_teacher'columns for each group\n",
    "grouped_sum = grouped_df['population','enrollment','ft_teacher'].sum()"
   ]
  },
  {
   "cell_type": "code",
   "execution_count": 38,
   "id": "d1b22942",
   "metadata": {},
   "outputs": [],
   "source": [
    "# Creating a new dataframe from the groupby result\n",
    "group_column = grouped_sum.reset_index()"
   ]
  },
  {
   "cell_type": "code",
   "execution_count": 39,
   "id": "fe071d53",
   "metadata": {
    "scrolled": false
   },
   "outputs": [
    {
     "data": {
      "text/html": [
       "<div>\n",
       "<style scoped>\n",
       "    .dataframe tbody tr th:only-of-type {\n",
       "        vertical-align: middle;\n",
       "    }\n",
       "\n",
       "    .dataframe tbody tr th {\n",
       "        vertical-align: top;\n",
       "    }\n",
       "\n",
       "    .dataframe thead th {\n",
       "        text-align: right;\n",
       "    }\n",
       "</style>\n",
       "<table border=\"1\" class=\"dataframe\">\n",
       "  <thead>\n",
       "    <tr style=\"text-align: right;\">\n",
       "      <th></th>\n",
       "      <th>state</th>\n",
       "      <th>naics_code</th>\n",
       "      <th>naics_desc</th>\n",
       "      <th>population</th>\n",
       "      <th>enrollment</th>\n",
       "      <th>ft_teacher</th>\n",
       "    </tr>\n",
       "  </thead>\n",
       "  <tbody>\n",
       "    <tr>\n",
       "      <th>0</th>\n",
       "      <td>AK</td>\n",
       "      <td>611110</td>\n",
       "      <td>elementary and secondary schools</td>\n",
       "      <td>141332</td>\n",
       "      <td>133691</td>\n",
       "      <td>7641</td>\n",
       "    </tr>\n",
       "    <tr>\n",
       "      <th>1</th>\n",
       "      <td>AL</td>\n",
       "      <td>611110</td>\n",
       "      <td>elementary and secondary schools</td>\n",
       "      <td>745121</td>\n",
       "      <td>693002</td>\n",
       "      <td>41130</td>\n",
       "    </tr>\n",
       "    <tr>\n",
       "      <th>2</th>\n",
       "      <td>AR</td>\n",
       "      <td>611110</td>\n",
       "      <td>elementary and secondary schools</td>\n",
       "      <td>468954</td>\n",
       "      <td>435176</td>\n",
       "      <td>33778</td>\n",
       "    </tr>\n",
       "    <tr>\n",
       "      <th>3</th>\n",
       "      <td>AZ</td>\n",
       "      <td>611110</td>\n",
       "      <td>elementary and secondary schools</td>\n",
       "      <td>768137</td>\n",
       "      <td>721306</td>\n",
       "      <td>42835</td>\n",
       "    </tr>\n",
       "    <tr>\n",
       "      <th>4</th>\n",
       "      <td>CA</td>\n",
       "      <td>611110</td>\n",
       "      <td>elementary and secondary schools</td>\n",
       "      <td>5021381</td>\n",
       "      <td>4782789</td>\n",
       "      <td>216614</td>\n",
       "    </tr>\n",
       "  </tbody>\n",
       "</table>\n",
       "</div>"
      ],
      "text/plain": [
       "  state naics_code                        naics_desc  population  enrollment  \\\n",
       "0    AK     611110  elementary and secondary schools      141332      133691   \n",
       "1    AL     611110  elementary and secondary schools      745121      693002   \n",
       "2    AR     611110  elementary and secondary schools      468954      435176   \n",
       "3    AZ     611110  elementary and secondary schools      768137      721306   \n",
       "4    CA     611110  elementary and secondary schools     5021381     4782789   \n",
       "\n",
       "   ft_teacher  \n",
       "0        7641  \n",
       "1       41130  \n",
       "2       33778  \n",
       "3       42835  \n",
       "4      216614  "
      ]
     },
     "execution_count": 39,
     "metadata": {},
     "output_type": "execute_result"
    }
   ],
   "source": [
    "df_school=pd.DataFrame(group_column) # Putting the new data to a Dataframe\n",
    "df_school.head() # checking the first rows"
   ]
  },
  {
   "cell_type": "code",
   "execution_count": 40,
   "id": "2181fc41",
   "metadata": {},
   "outputs": [
    {
     "data": {
      "text/plain": [
       "(54, 6)"
      ]
     },
     "execution_count": 40,
     "metadata": {},
     "output_type": "execute_result"
    }
   ],
   "source": [
    "df_school.shape # Returning a tuple representing the dimensionality of the DataFrame"
   ]
  },
  {
   "cell_type": "code",
   "execution_count": 41,
   "id": "fffe3687",
   "metadata": {},
   "outputs": [],
   "source": [
    "df_school.to_csv(\"C:/Users/79bar/dsc540/school1.csv\")"
   ]
  },
  {
   "cell_type": "markdown",
   "id": "6fc525a9",
   "metadata": {},
   "source": [
    "### The ethical implications of data wrangling specific to your datasource and the steps you completed."
   ]
  },
  {
   "cell_type": "markdown",
   "id": "59d164fd",
   "metadata": {},
   "source": [
    "**API:  US Public School**\n",
    "\n",
    "I recently worked with a dataset obtained through Opendatasoft Explore API v2, which follows a REST architecture and provides access to all data available on the platform in a logical, hierarchical manner. This dataset is licensed under the public domain, meaning that no one holds exclusive intellectual property rights. As a result, anyone can legally use or reference this dataset without permission. \n",
    "\n",
    "My goal in working with this dataset was to clean the data, which involved several steps, such as converting strings to lower or proper case, identifying and addressing missing data, dealing with inconsistent values, finding outliers, identifying duplicates, and grouping data by state. During this process, I filled in missing data with the string 'not available' and removed outliers from the 'ft_teacher' column. I made these modifications for the sole purpose of practicing how to handle missing data and outliers as part of this project. \n",
    "\n",
    "The dataset I worked with was collected by the Common Core of Data (CCD; https://nces.ed.gov/ccd/), National Center for Education Statistics (NCES; https://nces.ed.gov), and the US Department of Education for the 2017-18 school year. This Public Schools feature dataset includes all public elementary and secondary education facilities in the country.\n"
   ]
  },
  {
   "cell_type": "code",
   "execution_count": null,
   "id": "3ff8338b",
   "metadata": {},
   "outputs": [],
   "source": []
  }
 ],
 "metadata": {
  "kernelspec": {
   "display_name": "Python 3 (ipykernel)",
   "language": "python",
   "name": "python3"
  },
  "language_info": {
   "codemirror_mode": {
    "name": "ipython",
    "version": 3
   },
   "file_extension": ".py",
   "mimetype": "text/x-python",
   "name": "python",
   "nbconvert_exporter": "python",
   "pygments_lexer": "ipython3",
   "version": "3.9.13"
  }
 },
 "nbformat": 4,
 "nbformat_minor": 5
}
