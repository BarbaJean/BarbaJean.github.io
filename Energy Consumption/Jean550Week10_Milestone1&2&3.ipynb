{
 "cells": [
  {
   "cell_type": "markdown",
   "id": "58fe3c55",
   "metadata": {},
   "source": [
    "### Term Project Milestone 1: Data Selection and EDA\n",
    " \n",
    "Author: Barbara Jean\n",
    "\n",
    "Date: 07/23/2023\n",
    "\n",
    "output: pdf_document"
   ]
  },
  {
   "cell_type": "markdown",
   "id": "cd0763e4",
   "metadata": {},
   "source": [
    "#### Business problem: Optimizing Energy Consumption in Bundoora campus"
   ]
  },
  {
   "cell_type": "markdown",
   "id": "75ff09ba",
   "metadata": {},
   "source": [
    "**Problem Statement:**\n",
    "The Bundoora campus has issues with high energy usage, which raises utility prices and harms the environment. The current energy management systems cannot provide valuable insights for lowering energy use due to their lack of optimization capabilities. The campus administrator should look for a system that can optimize energy use in their facilities by utilizing data analytics and machine learning, resulting in cost savings and benefits for sustainability.\n",
    "\n",
    "**Proposed Solution:**  Utilize machine learning techniques to create a model for energy optimization. The model would examine historical and real-time data as target value energy use, weather conditions, and other pertinent aspects, such as gas, water, and daily electricity consumption, to spot trends and maximize energy use. The campus may save money by reducing energy use because reduced utility bills translate into lower costs. The business can lower operating costs and boost profitability by identifying areas of excessive energy use and putting in place energy-efficient measures.\n"
   ]
  },
  {
   "cell_type": "markdown",
   "id": "b42aaa53",
   "metadata": {},
   "source": [
    "**Locate data for the project.**\n",
    "\n",
    "The dataset I worked with was obtained on Kaggle and collected by UNICON, a considerable open dataset on university utility usage, including water, electricity, and gas. This information can be used to assess, forecast, and optimize the use of water, gas, renewable energy, and electricity. Data on consumption for the five campuses of La Trobe are available in UNICON for four years, from 2018 to 2021, in geographically diverse regions. This covers the COVID-19 global pandemic timetable of university closures and work-from-home policies that resulted in a substantial drop in utility consumption. \n",
    "\n",
    "The consumption information consists of hourly readings from gas meters, hourly readings from water meters, and 15-minute readings from smart electricity meters. Additionally, this information includes weather information gathered at two latency speeds of one minute and ten minutes from the nearest weather station to each institution. \n",
    "\n",
    "To the best of our knowledge, this is the first extensive, open dataset of this size for the consumption of water, gas, and electricity across many university campuses. However, my model will create for only one campus, the Bundoora campus."
   ]
  },
  {
   "cell_type": "markdown",
   "id": "6b6f9844",
   "metadata": {},
   "source": [
    "**Dataset file descriptions that I only use for this project.**\n",
    "\n",
    "**campus_meta.csv** – This file contains information about each campus in the university network.\n",
    "\n",
    "**nmi_consumption.csv** – Consumption data of NMIs are recorded in this file.\n",
    "\n",
    "**gas_consumption.csv** – Gas consumption data of available campuses are recorded in this file.\n",
    "\n",
    "**water_consumption.csv**– Water consumption data of available campuses are recorded in this file.\n",
    "\n",
    "**weather_data.csv**– Weather data collected from respective weather stations.\n",
    "\n",
    "**building_meta.csv** – This file contains meta information about buildings in each campus which include campus location, floor area and etc.(Could be used in the future in this project.)\n",
    "\n",
    "**building_submeter_consumption.csv** – This file contains consumption data of building sub-meters.\n",
    "\n"
   ]
  },
  {
   "cell_type": "code",
   "execution_count": 1,
   "id": "63cddbd7",
   "metadata": {},
   "outputs": [],
   "source": [
    "# Importing the necessary libraries \n",
    "import pandas as pd\n",
    "import glob\n",
    "import os\n",
    "import numpy as np\n",
    "import statistics as st\n",
    "import seaborn as sns\n",
    "import matplotlib.pyplot as plt\n",
    "import scipy.stats as stats\n",
    "import statsmodels.formula.api as smf\n",
    "from sklearn.model_selection import train_test_split,GridSearchCV\n",
    "from sklearn.preprocessing import LabelBinarizer\n",
    "from sklearn.decomposition import PCA\n",
    "from sklearn.preprocessing import StandardScaler \n",
    "from sklearn.linear_model import LinearRegression\n",
    "from sklearn.metrics import r2_score, mean_squared_error\n",
    "from sklearn.preprocessing import MinMaxScaler\n",
    "from sklearn.feature_selection import VarianceThreshold\n",
    "from sklearn.tree import plot_tree\n",
    "from sklearn.impute import KNNImputer\n",
    "from sklearn.metrics import accuracy_score, confusion_matrix\n",
    "from sklearn.ensemble import RandomForestRegressor\n",
    "from sklearn.ensemble import RandomForestClassifier\n",
    "from sklearn.tree import DecisionTreeClassifier\n",
    "from sklearn.tree import DecisionTreeRegressor \n"
   ]
  },
  {
   "cell_type": "code",
   "execution_count": 2,
   "id": "7cfbf496",
   "metadata": {},
   "outputs": [],
   "source": [
    "# Handling warnings as errors \n",
    "import warnings\n",
    "warnings.filterwarnings(\"ignore\")"
   ]
  },
  {
   "cell_type": "code",
   "execution_count": 3,
   "id": "3c588b7e",
   "metadata": {},
   "outputs": [],
   "source": [
    "# setting the path for joining multiple files\n",
    "files = os.path.join('C:/Users/79bar/dsc550/energy/consumption*.csv')"
   ]
  },
  {
   "cell_type": "code",
   "execution_count": 4,
   "id": "e61244d1",
   "metadata": {},
   "outputs": [
    {
     "name": "stdout",
     "output_type": "stream",
     "text": [
      "['C:/Users/79bar/dsc550/energy\\\\consumption_building.csv', 'C:/Users/79bar/dsc550/energy\\\\consumption_gas.csv', 'C:/Users/79bar/dsc550/energy\\\\consumption_nmi.csv', 'C:/Users/79bar/dsc550/energy\\\\consumption_water.csv', 'C:/Users/79bar/dsc550/energy\\\\consumption_weather.csv']\n"
     ]
    }
   ],
   "source": [
    "# list of merged files returned\n",
    "files = glob.glob(files)\n",
    "print(files)"
   ]
  },
  {
   "cell_type": "markdown",
   "id": "736c355f",
   "metadata": {},
   "source": [
    "### A- Data exploration"
   ]
  },
  {
   "cell_type": "code",
   "execution_count": 5,
   "id": "b8c63ef7",
   "metadata": {},
   "outputs": [
    {
     "data": {
      "text/html": [
       "<div>\n",
       "<style scoped>\n",
       "    .dataframe tbody tr th:only-of-type {\n",
       "        vertical-align: middle;\n",
       "    }\n",
       "\n",
       "    .dataframe tbody tr th {\n",
       "        vertical-align: top;\n",
       "    }\n",
       "\n",
       "    .dataframe thead th {\n",
       "        text-align: right;\n",
       "    }\n",
       "</style>\n",
       "<table border=\"1\" class=\"dataframe\">\n",
       "  <thead>\n",
       "    <tr style=\"text-align: right;\">\n",
       "      <th></th>\n",
       "      <th>campus_id</th>\n",
       "      <th>name</th>\n",
       "      <th>capacity</th>\n",
       "    </tr>\n",
       "  </thead>\n",
       "  <tbody>\n",
       "    <tr>\n",
       "      <th>0</th>\n",
       "      <td>1</td>\n",
       "      <td>Bundoora</td>\n",
       "      <td>26000</td>\n",
       "    </tr>\n",
       "    <tr>\n",
       "      <th>1</th>\n",
       "      <td>2</td>\n",
       "      <td>Albury-Wodonga</td>\n",
       "      <td>800</td>\n",
       "    </tr>\n",
       "    <tr>\n",
       "      <th>2</th>\n",
       "      <td>3</td>\n",
       "      <td>Bendigo</td>\n",
       "      <td>5000</td>\n",
       "    </tr>\n",
       "    <tr>\n",
       "      <th>3</th>\n",
       "      <td>4</td>\n",
       "      <td>Mildura</td>\n",
       "      <td>500</td>\n",
       "    </tr>\n",
       "    <tr>\n",
       "      <th>4</th>\n",
       "      <td>5</td>\n",
       "      <td>Shepparton</td>\n",
       "      <td>700</td>\n",
       "    </tr>\n",
       "  </tbody>\n",
       "</table>\n",
       "</div>"
      ],
      "text/plain": [
       "   campus_id            name  capacity\n",
       "0          1        Bundoora     26000\n",
       "1          2  Albury-Wodonga       800\n",
       "2          3         Bendigo      5000\n",
       "3          4         Mildura       500\n",
       "4          5      Shepparton       700"
      ]
     },
     "execution_count": 5,
     "metadata": {},
     "output_type": "execute_result"
    }
   ],
   "source": [
    "# Reading dataset\n",
    "df=pd.read_csv(\"C:/Users/79bar/dsc550/energy/campus_id.csv\")\n",
    "campus=pd.DataFrame(df) # Putting data to dataframe\n",
    "campus"
   ]
  },
  {
   "cell_type": "code",
   "execution_count": 6,
   "id": "3101c9dc",
   "metadata": {
    "scrolled": true
   },
   "outputs": [
    {
     "data": {
      "text/html": [
       "<div>\n",
       "<style scoped>\n",
       "    .dataframe tbody tr th:only-of-type {\n",
       "        vertical-align: middle;\n",
       "    }\n",
       "\n",
       "    .dataframe tbody tr th {\n",
       "        vertical-align: top;\n",
       "    }\n",
       "\n",
       "    .dataframe thead th {\n",
       "        text-align: right;\n",
       "    }\n",
       "</style>\n",
       "<table border=\"1\" class=\"dataframe\">\n",
       "  <thead>\n",
       "    <tr style=\"text-align: right;\">\n",
       "      <th></th>\n",
       "      <th>campus_id</th>\n",
       "      <th>timestamp</th>\n",
       "      <th>consumption_gas</th>\n",
       "    </tr>\n",
       "  </thead>\n",
       "  <tbody>\n",
       "    <tr>\n",
       "      <th>0</th>\n",
       "      <td>1</td>\n",
       "      <td>5/1/2018 6:00</td>\n",
       "      <td>24.850209</td>\n",
       "    </tr>\n",
       "    <tr>\n",
       "      <th>1</th>\n",
       "      <td>1</td>\n",
       "      <td>5/1/2018 7:00</td>\n",
       "      <td>26.404539</td>\n",
       "    </tr>\n",
       "    <tr>\n",
       "      <th>2</th>\n",
       "      <td>1</td>\n",
       "      <td>5/1/2018 8:00</td>\n",
       "      <td>45.346793</td>\n",
       "    </tr>\n",
       "    <tr>\n",
       "      <th>3</th>\n",
       "      <td>1</td>\n",
       "      <td>5/1/2018 9:00</td>\n",
       "      <td>38.383031</td>\n",
       "    </tr>\n",
       "    <tr>\n",
       "      <th>4</th>\n",
       "      <td>1</td>\n",
       "      <td>5/1/2018 10:00</td>\n",
       "      <td>32.777705</td>\n",
       "    </tr>\n",
       "  </tbody>\n",
       "</table>\n",
       "</div>"
      ],
      "text/plain": [
       "   campus_id       timestamp  consumption_gas\n",
       "0          1   5/1/2018 6:00        24.850209\n",
       "1          1   5/1/2018 7:00        26.404539\n",
       "2          1   5/1/2018 8:00        45.346793\n",
       "3          1   5/1/2018 9:00        38.383031\n",
       "4          1  5/1/2018 10:00        32.777705"
      ]
     },
     "execution_count": 6,
     "metadata": {},
     "output_type": "execute_result"
    }
   ],
   "source": [
    "# Reading dataset\n",
    "data1=pd.read_csv(\"C:/Users/79bar/dsc550/energy/consumption_gas.csv\")\n",
    "consump_gas=pd.DataFrame(data1) # Putting data to dataframe\n",
    "consump_gas.head()"
   ]
  },
  {
   "cell_type": "code",
   "execution_count": 7,
   "id": "e4b1f373",
   "metadata": {},
   "outputs": [],
   "source": [
    "#Convert timestamp in to time object\n",
    "consump_gas['timestamp'] = pd.to_datetime(consump_gas['timestamp'])"
   ]
  },
  {
   "cell_type": "code",
   "execution_count": 8,
   "id": "cf51f1ee",
   "metadata": {},
   "outputs": [
    {
     "data": {
      "text/html": [
       "<div>\n",
       "<style scoped>\n",
       "    .dataframe tbody tr th:only-of-type {\n",
       "        vertical-align: middle;\n",
       "    }\n",
       "\n",
       "    .dataframe tbody tr th {\n",
       "        vertical-align: top;\n",
       "    }\n",
       "\n",
       "    .dataframe thead th {\n",
       "        text-align: right;\n",
       "    }\n",
       "</style>\n",
       "<table border=\"1\" class=\"dataframe\">\n",
       "  <thead>\n",
       "    <tr style=\"text-align: right;\">\n",
       "      <th></th>\n",
       "      <th>campus_id</th>\n",
       "      <th>timestamp</th>\n",
       "      <th>consumption_gas</th>\n",
       "      <th>day</th>\n",
       "      <th>hour</th>\n",
       "    </tr>\n",
       "  </thead>\n",
       "  <tbody>\n",
       "    <tr>\n",
       "      <th>0</th>\n",
       "      <td>1</td>\n",
       "      <td>2018-05-01 06:00:00</td>\n",
       "      <td>24.850209</td>\n",
       "      <td>1</td>\n",
       "      <td>6</td>\n",
       "    </tr>\n",
       "    <tr>\n",
       "      <th>1</th>\n",
       "      <td>1</td>\n",
       "      <td>2018-05-01 07:00:00</td>\n",
       "      <td>26.404539</td>\n",
       "      <td>1</td>\n",
       "      <td>7</td>\n",
       "    </tr>\n",
       "    <tr>\n",
       "      <th>2</th>\n",
       "      <td>1</td>\n",
       "      <td>2018-05-01 08:00:00</td>\n",
       "      <td>45.346793</td>\n",
       "      <td>1</td>\n",
       "      <td>8</td>\n",
       "    </tr>\n",
       "    <tr>\n",
       "      <th>3</th>\n",
       "      <td>1</td>\n",
       "      <td>2018-05-01 09:00:00</td>\n",
       "      <td>38.383031</td>\n",
       "      <td>1</td>\n",
       "      <td>9</td>\n",
       "    </tr>\n",
       "    <tr>\n",
       "      <th>4</th>\n",
       "      <td>1</td>\n",
       "      <td>2018-05-01 10:00:00</td>\n",
       "      <td>32.777705</td>\n",
       "      <td>1</td>\n",
       "      <td>10</td>\n",
       "    </tr>\n",
       "    <tr>\n",
       "      <th>...</th>\n",
       "      <td>...</td>\n",
       "      <td>...</td>\n",
       "      <td>...</td>\n",
       "      <td>...</td>\n",
       "      <td>...</td>\n",
       "    </tr>\n",
       "    <tr>\n",
       "      <th>27159</th>\n",
       "      <td>3</td>\n",
       "      <td>2021-12-24 06:00:00</td>\n",
       "      <td>0.572868</td>\n",
       "      <td>24</td>\n",
       "      <td>6</td>\n",
       "    </tr>\n",
       "    <tr>\n",
       "      <th>27160</th>\n",
       "      <td>3</td>\n",
       "      <td>2021-12-27 06:00:00</td>\n",
       "      <td>0.529254</td>\n",
       "      <td>27</td>\n",
       "      <td>6</td>\n",
       "    </tr>\n",
       "    <tr>\n",
       "      <th>27161</th>\n",
       "      <td>3</td>\n",
       "      <td>2021-12-27 07:00:00</td>\n",
       "      <td>1.058622</td>\n",
       "      <td>27</td>\n",
       "      <td>7</td>\n",
       "    </tr>\n",
       "    <tr>\n",
       "      <th>27162</th>\n",
       "      <td>3</td>\n",
       "      <td>2021-12-28 06:00:00</td>\n",
       "      <td>1.097769</td>\n",
       "      <td>28</td>\n",
       "      <td>6</td>\n",
       "    </tr>\n",
       "    <tr>\n",
       "      <th>27163</th>\n",
       "      <td>3</td>\n",
       "      <td>2021-12-29 06:00:00</td>\n",
       "      <td>0.526105</td>\n",
       "      <td>29</td>\n",
       "      <td>6</td>\n",
       "    </tr>\n",
       "  </tbody>\n",
       "</table>\n",
       "<p>27164 rows × 5 columns</p>\n",
       "</div>"
      ],
      "text/plain": [
       "       campus_id           timestamp  consumption_gas  day  hour\n",
       "0              1 2018-05-01 06:00:00        24.850209    1     6\n",
       "1              1 2018-05-01 07:00:00        26.404539    1     7\n",
       "2              1 2018-05-01 08:00:00        45.346793    1     8\n",
       "3              1 2018-05-01 09:00:00        38.383031    1     9\n",
       "4              1 2018-05-01 10:00:00        32.777705    1    10\n",
       "...          ...                 ...              ...  ...   ...\n",
       "27159          3 2021-12-24 06:00:00         0.572868   24     6\n",
       "27160          3 2021-12-27 06:00:00         0.529254   27     6\n",
       "27161          3 2021-12-27 07:00:00         1.058622   27     7\n",
       "27162          3 2021-12-28 06:00:00         1.097769   28     6\n",
       "27163          3 2021-12-29 06:00:00         0.526105   29     6\n",
       "\n",
       "[27164 rows x 5 columns]"
      ]
     },
     "execution_count": 8,
     "metadata": {},
     "output_type": "execute_result"
    }
   ],
   "source": [
    "# Add month as a feature from timestamp\n",
    "consump_gas['day'] =consump_gas.timestamp.dt.day\n",
    "consump_gas['hour'] =consump_gas.timestamp.dt.hour\n",
    "consump_gas"
   ]
  },
  {
   "cell_type": "code",
   "execution_count": 9,
   "id": "76592e58",
   "metadata": {},
   "outputs": [
    {
     "data": {
      "text/plain": [
       "(27164, 5)"
      ]
     },
     "execution_count": 9,
     "metadata": {},
     "output_type": "execute_result"
    }
   ],
   "source": [
    "consump_gas.shape # Returning a tuple representing the dimensionality of the DataFrame"
   ]
  },
  {
   "cell_type": "code",
   "execution_count": 10,
   "id": "73724773",
   "metadata": {
    "scrolled": true
   },
   "outputs": [
    {
     "data": {
      "text/html": [
       "<div>\n",
       "<style scoped>\n",
       "    .dataframe tbody tr th:only-of-type {\n",
       "        vertical-align: middle;\n",
       "    }\n",
       "\n",
       "    .dataframe tbody tr th {\n",
       "        vertical-align: top;\n",
       "    }\n",
       "\n",
       "    .dataframe thead th {\n",
       "        text-align: right;\n",
       "    }\n",
       "</style>\n",
       "<table border=\"1\" class=\"dataframe\">\n",
       "  <thead>\n",
       "    <tr style=\"text-align: right;\">\n",
       "      <th></th>\n",
       "      <th>campus_id</th>\n",
       "      <th>timestamp</th>\n",
       "      <th>consumption_gas</th>\n",
       "      <th>day</th>\n",
       "      <th>hour</th>\n",
       "    </tr>\n",
       "  </thead>\n",
       "  <tbody>\n",
       "    <tr>\n",
       "      <th>0</th>\n",
       "      <td>1</td>\n",
       "      <td>2018-05-01 06:00:00</td>\n",
       "      <td>24.850209</td>\n",
       "      <td>1</td>\n",
       "      <td>6</td>\n",
       "    </tr>\n",
       "    <tr>\n",
       "      <th>1</th>\n",
       "      <td>1</td>\n",
       "      <td>2018-05-01 07:00:00</td>\n",
       "      <td>26.404539</td>\n",
       "      <td>1</td>\n",
       "      <td>7</td>\n",
       "    </tr>\n",
       "    <tr>\n",
       "      <th>2</th>\n",
       "      <td>1</td>\n",
       "      <td>2018-05-01 08:00:00</td>\n",
       "      <td>45.346793</td>\n",
       "      <td>1</td>\n",
       "      <td>8</td>\n",
       "    </tr>\n",
       "    <tr>\n",
       "      <th>3</th>\n",
       "      <td>1</td>\n",
       "      <td>2018-05-01 09:00:00</td>\n",
       "      <td>38.383031</td>\n",
       "      <td>1</td>\n",
       "      <td>9</td>\n",
       "    </tr>\n",
       "    <tr>\n",
       "      <th>4</th>\n",
       "      <td>1</td>\n",
       "      <td>2018-05-01 10:00:00</td>\n",
       "      <td>32.777705</td>\n",
       "      <td>1</td>\n",
       "      <td>10</td>\n",
       "    </tr>\n",
       "    <tr>\n",
       "      <th>...</th>\n",
       "      <td>...</td>\n",
       "      <td>...</td>\n",
       "      <td>...</td>\n",
       "      <td>...</td>\n",
       "      <td>...</td>\n",
       "    </tr>\n",
       "    <tr>\n",
       "      <th>23106</th>\n",
       "      <td>1</td>\n",
       "      <td>2021-12-21 10:00:00</td>\n",
       "      <td>11.414042</td>\n",
       "      <td>21</td>\n",
       "      <td>10</td>\n",
       "    </tr>\n",
       "    <tr>\n",
       "      <th>23107</th>\n",
       "      <td>1</td>\n",
       "      <td>2021-12-21 11:00:00</td>\n",
       "      <td>8.941236</td>\n",
       "      <td>21</td>\n",
       "      <td>11</td>\n",
       "    </tr>\n",
       "    <tr>\n",
       "      <th>23108</th>\n",
       "      <td>1</td>\n",
       "      <td>2021-12-21 12:00:00</td>\n",
       "      <td>13.036976</td>\n",
       "      <td>21</td>\n",
       "      <td>12</td>\n",
       "    </tr>\n",
       "    <tr>\n",
       "      <th>23109</th>\n",
       "      <td>1</td>\n",
       "      <td>2021-12-21 13:00:00</td>\n",
       "      <td>12.994413</td>\n",
       "      <td>21</td>\n",
       "      <td>13</td>\n",
       "    </tr>\n",
       "    <tr>\n",
       "      <th>23110</th>\n",
       "      <td>1</td>\n",
       "      <td>2021-12-21 14:00:00</td>\n",
       "      <td>6.538062</td>\n",
       "      <td>21</td>\n",
       "      <td>14</td>\n",
       "    </tr>\n",
       "  </tbody>\n",
       "</table>\n",
       "<p>23111 rows × 5 columns</p>\n",
       "</div>"
      ],
      "text/plain": [
       "       campus_id           timestamp  consumption_gas  day  hour\n",
       "0              1 2018-05-01 06:00:00        24.850209    1     6\n",
       "1              1 2018-05-01 07:00:00        26.404539    1     7\n",
       "2              1 2018-05-01 08:00:00        45.346793    1     8\n",
       "3              1 2018-05-01 09:00:00        38.383031    1     9\n",
       "4              1 2018-05-01 10:00:00        32.777705    1    10\n",
       "...          ...                 ...              ...  ...   ...\n",
       "23106          1 2021-12-21 10:00:00        11.414042   21    10\n",
       "23107          1 2021-12-21 11:00:00         8.941236   21    11\n",
       "23108          1 2021-12-21 12:00:00        13.036976   21    12\n",
       "23109          1 2021-12-21 13:00:00        12.994413   21    13\n",
       "23110          1 2021-12-21 14:00:00         6.538062   21    14\n",
       "\n",
       "[23111 rows x 5 columns]"
      ]
     },
     "execution_count": 10,
     "metadata": {},
     "output_type": "execute_result"
    }
   ],
   "source": [
    "# Select rows where sample_col1 is 1\n",
    "#print(consump_gas.loc[consump_gas['campus_id'] == 1])\n",
    "consump_gas_Bundoora= consump_gas.loc[consump_gas['campus_id'] == 1]\n",
    "consump_gas_Bundoora"
   ]
  },
  {
   "cell_type": "code",
   "execution_count": 11,
   "id": "16c03dff",
   "metadata": {},
   "outputs": [
    {
     "data": {
      "text/plain": [
       "campus_id                   int64\n",
       "timestamp          datetime64[ns]\n",
       "consumption_gas           float64\n",
       "day                         int64\n",
       "hour                        int64\n",
       "dtype: object"
      ]
     },
     "execution_count": 11,
     "metadata": {},
     "output_type": "execute_result"
    }
   ],
   "source": [
    "consump_gas_Bundoora.dtypes  # Displaying types of variables"
   ]
  },
  {
   "cell_type": "code",
   "execution_count": 12,
   "id": "30c380ca",
   "metadata": {},
   "outputs": [
    {
     "data": {
      "text/plain": [
       "campus_id          0\n",
       "timestamp          0\n",
       "consumption_gas    0\n",
       "day                0\n",
       "hour               0\n",
       "dtype: int64"
      ]
     },
     "execution_count": 12,
     "metadata": {},
     "output_type": "execute_result"
    }
   ],
   "source": [
    "consump_gas_Bundoora.isnull().sum()  # Checking missing value in the data"
   ]
  },
  {
   "cell_type": "code",
   "execution_count": 13,
   "id": "b89e5b4a",
   "metadata": {
    "scrolled": true
   },
   "outputs": [
    {
     "data": {
      "text/html": [
       "<div>\n",
       "<style scoped>\n",
       "    .dataframe tbody tr th:only-of-type {\n",
       "        vertical-align: middle;\n",
       "    }\n",
       "\n",
       "    .dataframe tbody tr th {\n",
       "        vertical-align: top;\n",
       "    }\n",
       "\n",
       "    .dataframe thead th {\n",
       "        text-align: right;\n",
       "    }\n",
       "</style>\n",
       "<table border=\"1\" class=\"dataframe\">\n",
       "  <thead>\n",
       "    <tr style=\"text-align: right;\">\n",
       "      <th></th>\n",
       "      <th>campus_id</th>\n",
       "      <th>meter_id</th>\n",
       "      <th>timestamp</th>\n",
       "      <th>consumption_water</th>\n",
       "    </tr>\n",
       "  </thead>\n",
       "  <tbody>\n",
       "    <tr>\n",
       "      <th>0</th>\n",
       "      <td>1</td>\n",
       "      <td>1</td>\n",
       "      <td>1/10/2021 0:00</td>\n",
       "      <td>438.328</td>\n",
       "    </tr>\n",
       "    <tr>\n",
       "      <th>1</th>\n",
       "      <td>1</td>\n",
       "      <td>1</td>\n",
       "      <td>1/10/2021 0:15</td>\n",
       "      <td>438.328</td>\n",
       "    </tr>\n",
       "    <tr>\n",
       "      <th>2</th>\n",
       "      <td>1</td>\n",
       "      <td>1</td>\n",
       "      <td>1/10/2021 0:30</td>\n",
       "      <td>438.328</td>\n",
       "    </tr>\n",
       "    <tr>\n",
       "      <th>3</th>\n",
       "      <td>1</td>\n",
       "      <td>1</td>\n",
       "      <td>1/10/2021 0:45</td>\n",
       "      <td>438.328</td>\n",
       "    </tr>\n",
       "    <tr>\n",
       "      <th>4</th>\n",
       "      <td>1</td>\n",
       "      <td>1</td>\n",
       "      <td>1/10/2021 1:00</td>\n",
       "      <td>438.328</td>\n",
       "    </tr>\n",
       "    <tr>\n",
       "      <th>...</th>\n",
       "      <td>...</td>\n",
       "      <td>...</td>\n",
       "      <td>...</td>\n",
       "      <td>...</td>\n",
       "    </tr>\n",
       "    <tr>\n",
       "      <th>245035</th>\n",
       "      <td>1</td>\n",
       "      <td>15</td>\n",
       "      <td>12/3/2022 22:45</td>\n",
       "      <td>34.905</td>\n",
       "    </tr>\n",
       "    <tr>\n",
       "      <th>245036</th>\n",
       "      <td>1</td>\n",
       "      <td>15</td>\n",
       "      <td>12/3/2022 23:00</td>\n",
       "      <td>34.905</td>\n",
       "    </tr>\n",
       "    <tr>\n",
       "      <th>245037</th>\n",
       "      <td>1</td>\n",
       "      <td>15</td>\n",
       "      <td>12/3/2022 23:15</td>\n",
       "      <td>34.905</td>\n",
       "    </tr>\n",
       "    <tr>\n",
       "      <th>245038</th>\n",
       "      <td>1</td>\n",
       "      <td>15</td>\n",
       "      <td>12/3/2022 23:30</td>\n",
       "      <td>34.905</td>\n",
       "    </tr>\n",
       "    <tr>\n",
       "      <th>245039</th>\n",
       "      <td>1</td>\n",
       "      <td>15</td>\n",
       "      <td>12/3/2022 23:45</td>\n",
       "      <td>34.905</td>\n",
       "    </tr>\n",
       "  </tbody>\n",
       "</table>\n",
       "<p>245040 rows × 4 columns</p>\n",
       "</div>"
      ],
      "text/plain": [
       "        campus_id  meter_id        timestamp  consumption_water\n",
       "0               1         1   1/10/2021 0:00            438.328\n",
       "1               1         1   1/10/2021 0:15            438.328\n",
       "2               1         1   1/10/2021 0:30            438.328\n",
       "3               1         1   1/10/2021 0:45            438.328\n",
       "4               1         1   1/10/2021 1:00            438.328\n",
       "...           ...       ...              ...                ...\n",
       "245035          1        15  12/3/2022 22:45             34.905\n",
       "245036          1        15  12/3/2022 23:00             34.905\n",
       "245037          1        15  12/3/2022 23:15             34.905\n",
       "245038          1        15  12/3/2022 23:30             34.905\n",
       "245039          1        15  12/3/2022 23:45             34.905\n",
       "\n",
       "[245040 rows x 4 columns]"
      ]
     },
     "execution_count": 13,
     "metadata": {},
     "output_type": "execute_result"
    }
   ],
   "source": [
    "data2=pd.read_csv(\"C:/Users/79bar/dsc550/energy/consumption_water.csv\")\n",
    "consump_water=pd.DataFrame(data2) # Putting data to dataframe\n",
    "consump_water"
   ]
  },
  {
   "cell_type": "code",
   "execution_count": 14,
   "id": "b7c6be91",
   "metadata": {},
   "outputs": [
    {
     "data": {
      "text/plain": [
       "0          1/10/2021 0:00\n",
       "1          1/10/2021 0:15\n",
       "2          1/10/2021 0:30\n",
       "3          1/10/2021 0:45\n",
       "4          1/10/2021 1:00\n",
       "               ...       \n",
       "245035    12/3/2022 22:45\n",
       "245036    12/3/2022 23:00\n",
       "245037    12/3/2022 23:15\n",
       "245038    12/3/2022 23:30\n",
       "245039    12/3/2022 23:45\n",
       "Name: timestamp, Length: 245040, dtype: object"
      ]
     },
     "execution_count": 14,
     "metadata": {},
     "output_type": "execute_result"
    }
   ],
   "source": [
    "consump_water['timestamp']"
   ]
  },
  {
   "cell_type": "code",
   "execution_count": 15,
   "id": "dbbb56fc",
   "metadata": {},
   "outputs": [
    {
     "data": {
      "text/html": [
       "<div>\n",
       "<style scoped>\n",
       "    .dataframe tbody tr th:only-of-type {\n",
       "        vertical-align: middle;\n",
       "    }\n",
       "\n",
       "    .dataframe tbody tr th {\n",
       "        vertical-align: top;\n",
       "    }\n",
       "\n",
       "    .dataframe thead th {\n",
       "        text-align: right;\n",
       "    }\n",
       "</style>\n",
       "<table border=\"1\" class=\"dataframe\">\n",
       "  <thead>\n",
       "    <tr style=\"text-align: right;\">\n",
       "      <th></th>\n",
       "      <th>campus_id</th>\n",
       "      <th>meter_id</th>\n",
       "      <th>timestamp</th>\n",
       "      <th>consumption_water</th>\n",
       "    </tr>\n",
       "  </thead>\n",
       "  <tbody>\n",
       "    <tr>\n",
       "      <th>0</th>\n",
       "      <td>1</td>\n",
       "      <td>1</td>\n",
       "      <td>1/10/2021 0:00</td>\n",
       "      <td>438.328</td>\n",
       "    </tr>\n",
       "    <tr>\n",
       "      <th>1</th>\n",
       "      <td>1</td>\n",
       "      <td>1</td>\n",
       "      <td>1/10/2021 0:15</td>\n",
       "      <td>438.328</td>\n",
       "    </tr>\n",
       "    <tr>\n",
       "      <th>2</th>\n",
       "      <td>1</td>\n",
       "      <td>1</td>\n",
       "      <td>1/10/2021 0:30</td>\n",
       "      <td>438.328</td>\n",
       "    </tr>\n",
       "    <tr>\n",
       "      <th>3</th>\n",
       "      <td>1</td>\n",
       "      <td>1</td>\n",
       "      <td>1/10/2021 0:45</td>\n",
       "      <td>438.328</td>\n",
       "    </tr>\n",
       "    <tr>\n",
       "      <th>4</th>\n",
       "      <td>1</td>\n",
       "      <td>1</td>\n",
       "      <td>1/10/2021 1:00</td>\n",
       "      <td>438.328</td>\n",
       "    </tr>\n",
       "    <tr>\n",
       "      <th>...</th>\n",
       "      <td>...</td>\n",
       "      <td>...</td>\n",
       "      <td>...</td>\n",
       "      <td>...</td>\n",
       "    </tr>\n",
       "    <tr>\n",
       "      <th>245035</th>\n",
       "      <td>1</td>\n",
       "      <td>15</td>\n",
       "      <td>12/3/2022 22:45</td>\n",
       "      <td>34.905</td>\n",
       "    </tr>\n",
       "    <tr>\n",
       "      <th>245036</th>\n",
       "      <td>1</td>\n",
       "      <td>15</td>\n",
       "      <td>12/3/2022 23:00</td>\n",
       "      <td>34.905</td>\n",
       "    </tr>\n",
       "    <tr>\n",
       "      <th>245037</th>\n",
       "      <td>1</td>\n",
       "      <td>15</td>\n",
       "      <td>12/3/2022 23:15</td>\n",
       "      <td>34.905</td>\n",
       "    </tr>\n",
       "    <tr>\n",
       "      <th>245038</th>\n",
       "      <td>1</td>\n",
       "      <td>15</td>\n",
       "      <td>12/3/2022 23:30</td>\n",
       "      <td>34.905</td>\n",
       "    </tr>\n",
       "    <tr>\n",
       "      <th>245039</th>\n",
       "      <td>1</td>\n",
       "      <td>15</td>\n",
       "      <td>12/3/2022 23:45</td>\n",
       "      <td>34.905</td>\n",
       "    </tr>\n",
       "  </tbody>\n",
       "</table>\n",
       "<p>245040 rows × 4 columns</p>\n",
       "</div>"
      ],
      "text/plain": [
       "        campus_id  meter_id        timestamp  consumption_water\n",
       "0               1         1   1/10/2021 0:00            438.328\n",
       "1               1         1   1/10/2021 0:15            438.328\n",
       "2               1         1   1/10/2021 0:30            438.328\n",
       "3               1         1   1/10/2021 0:45            438.328\n",
       "4               1         1   1/10/2021 1:00            438.328\n",
       "...           ...       ...              ...                ...\n",
       "245035          1        15  12/3/2022 22:45             34.905\n",
       "245036          1        15  12/3/2022 23:00             34.905\n",
       "245037          1        15  12/3/2022 23:15             34.905\n",
       "245038          1        15  12/3/2022 23:30             34.905\n",
       "245039          1        15  12/3/2022 23:45             34.905\n",
       "\n",
       "[245040 rows x 4 columns]"
      ]
     },
     "execution_count": 15,
     "metadata": {},
     "output_type": "execute_result"
    }
   ],
   "source": [
    "consump_water_Bundoora= consump_water.loc[consump_water['campus_id'] == 1]\n",
    "consump_water_Bundoora"
   ]
  },
  {
   "cell_type": "code",
   "execution_count": 16,
   "id": "66303e4e",
   "metadata": {},
   "outputs": [],
   "source": [
    "#Convert timestamp in to time object\n",
    "consump_water['timestamp'] = pd.to_datetime(consump_water['timestamp'])"
   ]
  },
  {
   "cell_type": "code",
   "execution_count": 17,
   "id": "35c650d2",
   "metadata": {},
   "outputs": [
    {
     "data": {
      "text/html": [
       "<div>\n",
       "<style scoped>\n",
       "    .dataframe tbody tr th:only-of-type {\n",
       "        vertical-align: middle;\n",
       "    }\n",
       "\n",
       "    .dataframe tbody tr th {\n",
       "        vertical-align: top;\n",
       "    }\n",
       "\n",
       "    .dataframe thead th {\n",
       "        text-align: right;\n",
       "    }\n",
       "</style>\n",
       "<table border=\"1\" class=\"dataframe\">\n",
       "  <thead>\n",
       "    <tr style=\"text-align: right;\">\n",
       "      <th></th>\n",
       "      <th>campus_id</th>\n",
       "      <th>meter_id</th>\n",
       "      <th>timestamp</th>\n",
       "      <th>consumption_water</th>\n",
       "      <th>day</th>\n",
       "      <th>hour</th>\n",
       "    </tr>\n",
       "  </thead>\n",
       "  <tbody>\n",
       "    <tr>\n",
       "      <th>0</th>\n",
       "      <td>1</td>\n",
       "      <td>1</td>\n",
       "      <td>2021-01-10 00:00:00</td>\n",
       "      <td>438.328</td>\n",
       "      <td>10</td>\n",
       "      <td>0</td>\n",
       "    </tr>\n",
       "    <tr>\n",
       "      <th>1</th>\n",
       "      <td>1</td>\n",
       "      <td>1</td>\n",
       "      <td>2021-01-10 00:15:00</td>\n",
       "      <td>438.328</td>\n",
       "      <td>10</td>\n",
       "      <td>0</td>\n",
       "    </tr>\n",
       "    <tr>\n",
       "      <th>2</th>\n",
       "      <td>1</td>\n",
       "      <td>1</td>\n",
       "      <td>2021-01-10 00:30:00</td>\n",
       "      <td>438.328</td>\n",
       "      <td>10</td>\n",
       "      <td>0</td>\n",
       "    </tr>\n",
       "    <tr>\n",
       "      <th>3</th>\n",
       "      <td>1</td>\n",
       "      <td>1</td>\n",
       "      <td>2021-01-10 00:45:00</td>\n",
       "      <td>438.328</td>\n",
       "      <td>10</td>\n",
       "      <td>0</td>\n",
       "    </tr>\n",
       "    <tr>\n",
       "      <th>4</th>\n",
       "      <td>1</td>\n",
       "      <td>1</td>\n",
       "      <td>2021-01-10 01:00:00</td>\n",
       "      <td>438.328</td>\n",
       "      <td>10</td>\n",
       "      <td>1</td>\n",
       "    </tr>\n",
       "  </tbody>\n",
       "</table>\n",
       "</div>"
      ],
      "text/plain": [
       "   campus_id  meter_id           timestamp  consumption_water  day  hour\n",
       "0          1         1 2021-01-10 00:00:00            438.328   10     0\n",
       "1          1         1 2021-01-10 00:15:00            438.328   10     0\n",
       "2          1         1 2021-01-10 00:30:00            438.328   10     0\n",
       "3          1         1 2021-01-10 00:45:00            438.328   10     0\n",
       "4          1         1 2021-01-10 01:00:00            438.328   10     1"
      ]
     },
     "execution_count": 17,
     "metadata": {},
     "output_type": "execute_result"
    }
   ],
   "source": [
    "# Add month as a feature from timestamp\n",
    "consump_water['day'] =consump_water.timestamp.dt.day\n",
    "consump_water['hour'] =consump_water.timestamp.dt.hour\n",
    "consump_water.head()"
   ]
  },
  {
   "cell_type": "code",
   "execution_count": 18,
   "id": "2b2c5b92",
   "metadata": {},
   "outputs": [
    {
     "data": {
      "text/plain": [
       "(245040, 6)"
      ]
     },
     "execution_count": 18,
     "metadata": {},
     "output_type": "execute_result"
    }
   ],
   "source": [
    "consump_water.shape # Returning a tuple representing the dimensionality of the DataFrame"
   ]
  },
  {
   "cell_type": "code",
   "execution_count": 19,
   "id": "c614c13b",
   "metadata": {},
   "outputs": [
    {
     "data": {
      "text/plain": [
       "campus_id               0\n",
       "meter_id                0\n",
       "timestamp               0\n",
       "consumption_water    1011\n",
       "day                     0\n",
       "hour                    0\n",
       "dtype: int64"
      ]
     },
     "execution_count": 19,
     "metadata": {},
     "output_type": "execute_result"
    }
   ],
   "source": [
    "consump_water.isnull().sum() # Checking missing value in the data"
   ]
  },
  {
   "cell_type": "code",
   "execution_count": 20,
   "id": "606e885d",
   "metadata": {},
   "outputs": [],
   "source": [
    "# Handle missing data by using fillna()\n",
    "consump_water_fill=consump_water.fillna(0) # Filling missing data by using fillna(0)"
   ]
  },
  {
   "cell_type": "code",
   "execution_count": 21,
   "id": "e5791bd4",
   "metadata": {},
   "outputs": [
    {
     "data": {
      "text/plain": [
       "campus_id            0\n",
       "meter_id             0\n",
       "timestamp            0\n",
       "consumption_water    0\n",
       "day                  0\n",
       "hour                 0\n",
       "dtype: int64"
      ]
     },
     "execution_count": 21,
     "metadata": {},
     "output_type": "execute_result"
    }
   ],
   "source": [
    "consump_water_fill.isnull().sum()"
   ]
  },
  {
   "cell_type": "code",
   "execution_count": 22,
   "id": "7f55aa2e",
   "metadata": {},
   "outputs": [
    {
     "data": {
      "text/plain": [
       "0         1\n",
       "1         1\n",
       "2         1\n",
       "3         1\n",
       "4         1\n",
       "         ..\n",
       "245035    1\n",
       "245036    1\n",
       "245037    1\n",
       "245038    1\n",
       "245039    1\n",
       "Name: campus_id, Length: 245040, dtype: int64"
      ]
     },
     "execution_count": 22,
     "metadata": {},
     "output_type": "execute_result"
    }
   ],
   "source": [
    "consump_water_fill['campus_id'] # Selecting a specific column"
   ]
  },
  {
   "cell_type": "code",
   "execution_count": 23,
   "id": "c43b9096",
   "metadata": {},
   "outputs": [
    {
     "data": {
      "text/html": [
       "<div>\n",
       "<style scoped>\n",
       "    .dataframe tbody tr th:only-of-type {\n",
       "        vertical-align: middle;\n",
       "    }\n",
       "\n",
       "    .dataframe tbody tr th {\n",
       "        vertical-align: top;\n",
       "    }\n",
       "\n",
       "    .dataframe thead th {\n",
       "        text-align: right;\n",
       "    }\n",
       "</style>\n",
       "<table border=\"1\" class=\"dataframe\">\n",
       "  <thead>\n",
       "    <tr style=\"text-align: right;\">\n",
       "      <th></th>\n",
       "      <th>campus_id</th>\n",
       "      <th>meter_id</th>\n",
       "      <th>timestamp</th>\n",
       "      <th>consumption</th>\n",
       "      <th>demand_kW</th>\n",
       "      <th>demand_kVA</th>\n",
       "    </tr>\n",
       "  </thead>\n",
       "  <tbody>\n",
       "    <tr>\n",
       "      <th>0</th>\n",
       "      <td>1.0</td>\n",
       "      <td>1</td>\n",
       "      <td>2015-11-22 17:15:00</td>\n",
       "      <td>17.3</td>\n",
       "      <td>69.2</td>\n",
       "      <td>76.926</td>\n",
       "    </tr>\n",
       "    <tr>\n",
       "      <th>1</th>\n",
       "      <td>1.0</td>\n",
       "      <td>1</td>\n",
       "      <td>2015-11-22 17:30:00</td>\n",
       "      <td>23.0</td>\n",
       "      <td>92.0</td>\n",
       "      <td>92.886</td>\n",
       "    </tr>\n",
       "    <tr>\n",
       "      <th>2</th>\n",
       "      <td>1.0</td>\n",
       "      <td>1</td>\n",
       "      <td>2015-11-22 17:45:00</td>\n",
       "      <td>28.3</td>\n",
       "      <td>113.2</td>\n",
       "      <td>125.249</td>\n",
       "    </tr>\n",
       "    <tr>\n",
       "      <th>3</th>\n",
       "      <td>1.0</td>\n",
       "      <td>1</td>\n",
       "      <td>2015-11-22 18:00:00</td>\n",
       "      <td>27.1</td>\n",
       "      <td>108.4</td>\n",
       "      <td>113.254</td>\n",
       "    </tr>\n",
       "    <tr>\n",
       "      <th>4</th>\n",
       "      <td>1.0</td>\n",
       "      <td>1</td>\n",
       "      <td>2015-11-22 18:15:00</td>\n",
       "      <td>23.2</td>\n",
       "      <td>92.8</td>\n",
       "      <td>93.473</td>\n",
       "    </tr>\n",
       "  </tbody>\n",
       "</table>\n",
       "</div>"
      ],
      "text/plain": [
       "   campus_id  meter_id            timestamp  consumption  demand_kW  \\\n",
       "0        1.0         1  2015-11-22 17:15:00         17.3       69.2   \n",
       "1        1.0         1  2015-11-22 17:30:00         23.0       92.0   \n",
       "2        1.0         1  2015-11-22 17:45:00         28.3      113.2   \n",
       "3        1.0         1  2015-11-22 18:00:00         27.1      108.4   \n",
       "4        1.0         1  2015-11-22 18:15:00         23.2       92.8   \n",
       "\n",
       "   demand_kVA  \n",
       "0      76.926  \n",
       "1      92.886  \n",
       "2     125.249  \n",
       "3     113.254  \n",
       "4      93.473  "
      ]
     },
     "execution_count": 23,
     "metadata": {},
     "output_type": "execute_result"
    }
   ],
   "source": [
    "data3=pd.read_csv(\"C:/Users/79bar/dsc550/energy/consumption_nmi.csv\")\n",
    "consump_nmi=pd.DataFrame(data3) # Putting data to dataframe\n",
    "consump_nmi.head()"
   ]
  },
  {
   "cell_type": "code",
   "execution_count": 24,
   "id": "7bd59647",
   "metadata": {},
   "outputs": [],
   "source": [
    "#Convert timestamp in to time object\n",
    "consump_nmi['timestamp'] = pd.to_datetime(consump_nmi['timestamp'])"
   ]
  },
  {
   "cell_type": "code",
   "execution_count": 25,
   "id": "dc9a07eb",
   "metadata": {},
   "outputs": [
    {
     "data": {
      "text/html": [
       "<div>\n",
       "<style scoped>\n",
       "    .dataframe tbody tr th:only-of-type {\n",
       "        vertical-align: middle;\n",
       "    }\n",
       "\n",
       "    .dataframe tbody tr th {\n",
       "        vertical-align: top;\n",
       "    }\n",
       "\n",
       "    .dataframe thead th {\n",
       "        text-align: right;\n",
       "    }\n",
       "</style>\n",
       "<table border=\"1\" class=\"dataframe\">\n",
       "  <thead>\n",
       "    <tr style=\"text-align: right;\">\n",
       "      <th></th>\n",
       "      <th>campus_id</th>\n",
       "      <th>meter_id</th>\n",
       "      <th>timestamp</th>\n",
       "      <th>consumption</th>\n",
       "      <th>demand_kW</th>\n",
       "      <th>demand_kVA</th>\n",
       "      <th>day</th>\n",
       "      <th>hour</th>\n",
       "    </tr>\n",
       "  </thead>\n",
       "  <tbody>\n",
       "    <tr>\n",
       "      <th>0</th>\n",
       "      <td>1.0</td>\n",
       "      <td>1</td>\n",
       "      <td>2015-11-22 17:15:00</td>\n",
       "      <td>17.3</td>\n",
       "      <td>69.2</td>\n",
       "      <td>76.926</td>\n",
       "      <td>22</td>\n",
       "      <td>17</td>\n",
       "    </tr>\n",
       "    <tr>\n",
       "      <th>1</th>\n",
       "      <td>1.0</td>\n",
       "      <td>1</td>\n",
       "      <td>2015-11-22 17:30:00</td>\n",
       "      <td>23.0</td>\n",
       "      <td>92.0</td>\n",
       "      <td>92.886</td>\n",
       "      <td>22</td>\n",
       "      <td>17</td>\n",
       "    </tr>\n",
       "    <tr>\n",
       "      <th>2</th>\n",
       "      <td>1.0</td>\n",
       "      <td>1</td>\n",
       "      <td>2015-11-22 17:45:00</td>\n",
       "      <td>28.3</td>\n",
       "      <td>113.2</td>\n",
       "      <td>125.249</td>\n",
       "      <td>22</td>\n",
       "      <td>17</td>\n",
       "    </tr>\n",
       "    <tr>\n",
       "      <th>3</th>\n",
       "      <td>1.0</td>\n",
       "      <td>1</td>\n",
       "      <td>2015-11-22 18:00:00</td>\n",
       "      <td>27.1</td>\n",
       "      <td>108.4</td>\n",
       "      <td>113.254</td>\n",
       "      <td>22</td>\n",
       "      <td>18</td>\n",
       "    </tr>\n",
       "    <tr>\n",
       "      <th>4</th>\n",
       "      <td>1.0</td>\n",
       "      <td>1</td>\n",
       "      <td>2015-11-22 18:15:00</td>\n",
       "      <td>23.2</td>\n",
       "      <td>92.8</td>\n",
       "      <td>93.473</td>\n",
       "      <td>22</td>\n",
       "      <td>18</td>\n",
       "    </tr>\n",
       "  </tbody>\n",
       "</table>\n",
       "</div>"
      ],
      "text/plain": [
       "   campus_id  meter_id           timestamp  consumption  demand_kW  \\\n",
       "0        1.0         1 2015-11-22 17:15:00         17.3       69.2   \n",
       "1        1.0         1 2015-11-22 17:30:00         23.0       92.0   \n",
       "2        1.0         1 2015-11-22 17:45:00         28.3      113.2   \n",
       "3        1.0         1 2015-11-22 18:00:00         27.1      108.4   \n",
       "4        1.0         1 2015-11-22 18:15:00         23.2       92.8   \n",
       "\n",
       "   demand_kVA  day  hour  \n",
       "0      76.926   22    17  \n",
       "1      92.886   22    17  \n",
       "2     125.249   22    17  \n",
       "3     113.254   22    18  \n",
       "4      93.473   22    18  "
      ]
     },
     "execution_count": 25,
     "metadata": {},
     "output_type": "execute_result"
    }
   ],
   "source": [
    "# Add month as a feature from timestamp\n",
    "consump_nmi['day'] =consump_nmi.timestamp.dt.day\n",
    "consump_nmi['hour'] =consump_nmi.timestamp.dt.hour\n",
    "consump_nmi.head()"
   ]
  },
  {
   "cell_type": "code",
   "execution_count": 26,
   "id": "32c3cf4c",
   "metadata": {},
   "outputs": [
    {
     "data": {
      "text/plain": [
       "(3507076, 8)"
      ]
     },
     "execution_count": 26,
     "metadata": {},
     "output_type": "execute_result"
    }
   ],
   "source": [
    "consump_nmi.shape # Returning a tuple representing the dimensionality of the DataFrame"
   ]
  },
  {
   "cell_type": "code",
   "execution_count": 27,
   "id": "3ff6143d",
   "metadata": {},
   "outputs": [
    {
     "data": {
      "text/plain": [
       "campus_id             float64\n",
       "meter_id                int64\n",
       "timestamp      datetime64[ns]\n",
       "consumption           float64\n",
       "demand_kW             float64\n",
       "demand_kVA            float64\n",
       "day                     int64\n",
       "hour                    int64\n",
       "dtype: object"
      ]
     },
     "execution_count": 27,
     "metadata": {},
     "output_type": "execute_result"
    }
   ],
   "source": [
    "consump_nmi.dtypes # Displaying types of variables"
   ]
  },
  {
   "cell_type": "code",
   "execution_count": 28,
   "id": "712780a5",
   "metadata": {},
   "outputs": [
    {
     "data": {
      "text/plain": [
       "0          1.0\n",
       "1          1.0\n",
       "2          1.0\n",
       "3          1.0\n",
       "4          1.0\n",
       "          ... \n",
       "3507071    1.0\n",
       "3507072    1.0\n",
       "3507073    1.0\n",
       "3507074    1.0\n",
       "3507075    1.0\n",
       "Name: campus_id, Length: 3507076, dtype: float64"
      ]
     },
     "execution_count": 28,
     "metadata": {},
     "output_type": "execute_result"
    }
   ],
   "source": [
    "consump_nmi['campus_id'] # Selecting a specific column"
   ]
  },
  {
   "cell_type": "code",
   "execution_count": 29,
   "id": "c805df64",
   "metadata": {},
   "outputs": [
    {
     "data": {
      "text/plain": [
       "campus_id      154167\n",
       "meter_id            0\n",
       "timestamp           0\n",
       "consumption         0\n",
       "demand_kW           0\n",
       "demand_kVA          0\n",
       "day                 0\n",
       "hour                0\n",
       "dtype: int64"
      ]
     },
     "execution_count": 29,
     "metadata": {},
     "output_type": "execute_result"
    }
   ],
   "source": [
    "consump_nmi.isnull().sum() # Checking missing value in the data"
   ]
  },
  {
   "cell_type": "code",
   "execution_count": 30,
   "id": "a32ca00a",
   "metadata": {},
   "outputs": [],
   "source": [
    "consump_nmi_fill=consump_nmi.fillna(0) # Filling missing data by using fillna(0)"
   ]
  },
  {
   "cell_type": "code",
   "execution_count": 31,
   "id": "e517fcc0",
   "metadata": {},
   "outputs": [
    {
     "data": {
      "text/plain": [
       "campus_id      0\n",
       "meter_id       0\n",
       "timestamp      0\n",
       "consumption    0\n",
       "demand_kW      0\n",
       "demand_kVA     0\n",
       "day            0\n",
       "hour           0\n",
       "dtype: int64"
      ]
     },
     "execution_count": 31,
     "metadata": {},
     "output_type": "execute_result"
    }
   ],
   "source": [
    "consump_nmi_fill.isnull().sum()  # Checking missing value in the data"
   ]
  },
  {
   "cell_type": "code",
   "execution_count": 32,
   "id": "6b51c333",
   "metadata": {
    "scrolled": false
   },
   "outputs": [
    {
     "data": {
      "text/html": [
       "<div>\n",
       "<style scoped>\n",
       "    .dataframe tbody tr th:only-of-type {\n",
       "        vertical-align: middle;\n",
       "    }\n",
       "\n",
       "    .dataframe tbody tr th {\n",
       "        vertical-align: top;\n",
       "    }\n",
       "\n",
       "    .dataframe thead th {\n",
       "        text-align: right;\n",
       "    }\n",
       "</style>\n",
       "<table border=\"1\" class=\"dataframe\">\n",
       "  <thead>\n",
       "    <tr style=\"text-align: right;\">\n",
       "      <th></th>\n",
       "      <th>campus_id</th>\n",
       "      <th>timestamp</th>\n",
       "      <th>apparent_temperature</th>\n",
       "      <th>air_temperature</th>\n",
       "      <th>dew_point_temperature</th>\n",
       "      <th>relative_humidity</th>\n",
       "      <th>wind_speed</th>\n",
       "      <th>wind_direction</th>\n",
       "    </tr>\n",
       "  </thead>\n",
       "  <tbody>\n",
       "    <tr>\n",
       "      <th>0</th>\n",
       "      <td>1</td>\n",
       "      <td>2018-01-01 00:00:00</td>\n",
       "      <td>16.6</td>\n",
       "      <td>16.2</td>\n",
       "      <td>13.5</td>\n",
       "      <td>84.0</td>\n",
       "      <td>3.6</td>\n",
       "      <td>142.0</td>\n",
       "    </tr>\n",
       "    <tr>\n",
       "      <th>1</th>\n",
       "      <td>1</td>\n",
       "      <td>2018-01-01 00:01:00</td>\n",
       "      <td>17.2</td>\n",
       "      <td>16.1</td>\n",
       "      <td>13.6</td>\n",
       "      <td>85.0</td>\n",
       "      <td>0.0</td>\n",
       "      <td>134.0</td>\n",
       "    </tr>\n",
       "    <tr>\n",
       "      <th>2</th>\n",
       "      <td>1</td>\n",
       "      <td>2018-01-01 00:02:00</td>\n",
       "      <td>16.9</td>\n",
       "      <td>16.1</td>\n",
       "      <td>13.6</td>\n",
       "      <td>85.0</td>\n",
       "      <td>1.8</td>\n",
       "      <td>130.0</td>\n",
       "    </tr>\n",
       "    <tr>\n",
       "      <th>3</th>\n",
       "      <td>1</td>\n",
       "      <td>2018-01-01 00:03:00</td>\n",
       "      <td>16.9</td>\n",
       "      <td>16.1</td>\n",
       "      <td>13.6</td>\n",
       "      <td>85.0</td>\n",
       "      <td>1.8</td>\n",
       "      <td>130.0</td>\n",
       "    </tr>\n",
       "    <tr>\n",
       "      <th>4</th>\n",
       "      <td>1</td>\n",
       "      <td>2018-01-01 00:04:00</td>\n",
       "      <td>16.0</td>\n",
       "      <td>16.0</td>\n",
       "      <td>13.5</td>\n",
       "      <td>85.0</td>\n",
       "      <td>5.4</td>\n",
       "      <td>129.0</td>\n",
       "    </tr>\n",
       "  </tbody>\n",
       "</table>\n",
       "</div>"
      ],
      "text/plain": [
       "   campus_id            timestamp  apparent_temperature  air_temperature  \\\n",
       "0          1  2018-01-01 00:00:00                  16.6             16.2   \n",
       "1          1  2018-01-01 00:01:00                  17.2             16.1   \n",
       "2          1  2018-01-01 00:02:00                  16.9             16.1   \n",
       "3          1  2018-01-01 00:03:00                  16.9             16.1   \n",
       "4          1  2018-01-01 00:04:00                  16.0             16.0   \n",
       "\n",
       "   dew_point_temperature  relative_humidity  wind_speed  wind_direction  \n",
       "0                   13.5               84.0         3.6           142.0  \n",
       "1                   13.6               85.0         0.0           134.0  \n",
       "2                   13.6               85.0         1.8           130.0  \n",
       "3                   13.6               85.0         1.8           130.0  \n",
       "4                   13.5               85.0         5.4           129.0  "
      ]
     },
     "execution_count": 32,
     "metadata": {},
     "output_type": "execute_result"
    }
   ],
   "source": [
    "data4=pd.read_csv(\"C:/Users/79bar/dsc550/energy/consumption_weather.csv\")\n",
    "consump_weather=pd.DataFrame(data4) # Putting data to dataframe\n",
    "consump_weather.head()"
   ]
  },
  {
   "cell_type": "code",
   "execution_count": 33,
   "id": "78137c57",
   "metadata": {},
   "outputs": [],
   "source": [
    "#Convert timestamp in to time object\n",
    "consump_weather['timestamp'] = pd.to_datetime(consump_weather['timestamp'])"
   ]
  },
  {
   "cell_type": "code",
   "execution_count": 34,
   "id": "ff0dfae8",
   "metadata": {},
   "outputs": [
    {
     "data": {
      "text/html": [
       "<div>\n",
       "<style scoped>\n",
       "    .dataframe tbody tr th:only-of-type {\n",
       "        vertical-align: middle;\n",
       "    }\n",
       "\n",
       "    .dataframe tbody tr th {\n",
       "        vertical-align: top;\n",
       "    }\n",
       "\n",
       "    .dataframe thead th {\n",
       "        text-align: right;\n",
       "    }\n",
       "</style>\n",
       "<table border=\"1\" class=\"dataframe\">\n",
       "  <thead>\n",
       "    <tr style=\"text-align: right;\">\n",
       "      <th></th>\n",
       "      <th>campus_id</th>\n",
       "      <th>timestamp</th>\n",
       "      <th>apparent_temperature</th>\n",
       "      <th>air_temperature</th>\n",
       "      <th>dew_point_temperature</th>\n",
       "      <th>relative_humidity</th>\n",
       "      <th>wind_speed</th>\n",
       "      <th>wind_direction</th>\n",
       "      <th>year</th>\n",
       "      <th>hour</th>\n",
       "    </tr>\n",
       "  </thead>\n",
       "  <tbody>\n",
       "    <tr>\n",
       "      <th>0</th>\n",
       "      <td>1</td>\n",
       "      <td>2018-01-01 00:00:00</td>\n",
       "      <td>16.6</td>\n",
       "      <td>16.2</td>\n",
       "      <td>13.5</td>\n",
       "      <td>84.0</td>\n",
       "      <td>3.6</td>\n",
       "      <td>142.0</td>\n",
       "      <td>2018</td>\n",
       "      <td>0</td>\n",
       "    </tr>\n",
       "    <tr>\n",
       "      <th>1</th>\n",
       "      <td>1</td>\n",
       "      <td>2018-01-01 00:01:00</td>\n",
       "      <td>17.2</td>\n",
       "      <td>16.1</td>\n",
       "      <td>13.6</td>\n",
       "      <td>85.0</td>\n",
       "      <td>0.0</td>\n",
       "      <td>134.0</td>\n",
       "      <td>2018</td>\n",
       "      <td>0</td>\n",
       "    </tr>\n",
       "    <tr>\n",
       "      <th>2</th>\n",
       "      <td>1</td>\n",
       "      <td>2018-01-01 00:02:00</td>\n",
       "      <td>16.9</td>\n",
       "      <td>16.1</td>\n",
       "      <td>13.6</td>\n",
       "      <td>85.0</td>\n",
       "      <td>1.8</td>\n",
       "      <td>130.0</td>\n",
       "      <td>2018</td>\n",
       "      <td>0</td>\n",
       "    </tr>\n",
       "    <tr>\n",
       "      <th>3</th>\n",
       "      <td>1</td>\n",
       "      <td>2018-01-01 00:03:00</td>\n",
       "      <td>16.9</td>\n",
       "      <td>16.1</td>\n",
       "      <td>13.6</td>\n",
       "      <td>85.0</td>\n",
       "      <td>1.8</td>\n",
       "      <td>130.0</td>\n",
       "      <td>2018</td>\n",
       "      <td>0</td>\n",
       "    </tr>\n",
       "    <tr>\n",
       "      <th>4</th>\n",
       "      <td>1</td>\n",
       "      <td>2018-01-01 00:04:00</td>\n",
       "      <td>16.0</td>\n",
       "      <td>16.0</td>\n",
       "      <td>13.5</td>\n",
       "      <td>85.0</td>\n",
       "      <td>5.4</td>\n",
       "      <td>129.0</td>\n",
       "      <td>2018</td>\n",
       "      <td>0</td>\n",
       "    </tr>\n",
       "  </tbody>\n",
       "</table>\n",
       "</div>"
      ],
      "text/plain": [
       "   campus_id           timestamp  apparent_temperature  air_temperature  \\\n",
       "0          1 2018-01-01 00:00:00                  16.6             16.2   \n",
       "1          1 2018-01-01 00:01:00                  17.2             16.1   \n",
       "2          1 2018-01-01 00:02:00                  16.9             16.1   \n",
       "3          1 2018-01-01 00:03:00                  16.9             16.1   \n",
       "4          1 2018-01-01 00:04:00                  16.0             16.0   \n",
       "\n",
       "   dew_point_temperature  relative_humidity  wind_speed  wind_direction  year  \\\n",
       "0                   13.5               84.0         3.6           142.0  2018   \n",
       "1                   13.6               85.0         0.0           134.0  2018   \n",
       "2                   13.6               85.0         1.8           130.0  2018   \n",
       "3                   13.6               85.0         1.8           130.0  2018   \n",
       "4                   13.5               85.0         5.4           129.0  2018   \n",
       "\n",
       "   hour  \n",
       "0     0  \n",
       "1     0  \n",
       "2     0  \n",
       "3     0  \n",
       "4     0  "
      ]
     },
     "execution_count": 34,
     "metadata": {},
     "output_type": "execute_result"
    }
   ],
   "source": [
    "# Add year as a feature from timestamp\n",
    "consump_weather['year'] =consump_weather.timestamp.dt.year\n",
    "consump_weather['hour'] =consump_weather.timestamp.dt.hour\n",
    "consump_weather.head()"
   ]
  },
  {
   "cell_type": "code",
   "execution_count": 35,
   "id": "ab486785",
   "metadata": {},
   "outputs": [
    {
     "data": {
      "text/html": [
       "<div>\n",
       "<style scoped>\n",
       "    .dataframe tbody tr th:only-of-type {\n",
       "        vertical-align: middle;\n",
       "    }\n",
       "\n",
       "    .dataframe tbody tr th {\n",
       "        vertical-align: top;\n",
       "    }\n",
       "\n",
       "    .dataframe thead th {\n",
       "        text-align: right;\n",
       "    }\n",
       "</style>\n",
       "<table border=\"1\" class=\"dataframe\">\n",
       "  <thead>\n",
       "    <tr style=\"text-align: right;\">\n",
       "      <th></th>\n",
       "      <th>campus_id</th>\n",
       "      <th>timestamp</th>\n",
       "      <th>apparent_temperature</th>\n",
       "      <th>air_temperature</th>\n",
       "      <th>dew_point_temperature</th>\n",
       "      <th>relative_humidity</th>\n",
       "      <th>wind_speed</th>\n",
       "      <th>wind_direction</th>\n",
       "      <th>year</th>\n",
       "      <th>hour</th>\n",
       "      <th>day</th>\n",
       "    </tr>\n",
       "  </thead>\n",
       "  <tbody>\n",
       "    <tr>\n",
       "      <th>0</th>\n",
       "      <td>1</td>\n",
       "      <td>2018-01-01 00:00:00</td>\n",
       "      <td>16.6</td>\n",
       "      <td>16.2</td>\n",
       "      <td>13.5</td>\n",
       "      <td>84.0</td>\n",
       "      <td>3.6</td>\n",
       "      <td>142.0</td>\n",
       "      <td>2018</td>\n",
       "      <td>0</td>\n",
       "      <td>1</td>\n",
       "    </tr>\n",
       "    <tr>\n",
       "      <th>1</th>\n",
       "      <td>1</td>\n",
       "      <td>2018-01-01 00:01:00</td>\n",
       "      <td>17.2</td>\n",
       "      <td>16.1</td>\n",
       "      <td>13.6</td>\n",
       "      <td>85.0</td>\n",
       "      <td>0.0</td>\n",
       "      <td>134.0</td>\n",
       "      <td>2018</td>\n",
       "      <td>0</td>\n",
       "      <td>1</td>\n",
       "    </tr>\n",
       "    <tr>\n",
       "      <th>2</th>\n",
       "      <td>1</td>\n",
       "      <td>2018-01-01 00:02:00</td>\n",
       "      <td>16.9</td>\n",
       "      <td>16.1</td>\n",
       "      <td>13.6</td>\n",
       "      <td>85.0</td>\n",
       "      <td>1.8</td>\n",
       "      <td>130.0</td>\n",
       "      <td>2018</td>\n",
       "      <td>0</td>\n",
       "      <td>1</td>\n",
       "    </tr>\n",
       "    <tr>\n",
       "      <th>3</th>\n",
       "      <td>1</td>\n",
       "      <td>2018-01-01 00:03:00</td>\n",
       "      <td>16.9</td>\n",
       "      <td>16.1</td>\n",
       "      <td>13.6</td>\n",
       "      <td>85.0</td>\n",
       "      <td>1.8</td>\n",
       "      <td>130.0</td>\n",
       "      <td>2018</td>\n",
       "      <td>0</td>\n",
       "      <td>1</td>\n",
       "    </tr>\n",
       "    <tr>\n",
       "      <th>4</th>\n",
       "      <td>1</td>\n",
       "      <td>2018-01-01 00:04:00</td>\n",
       "      <td>16.0</td>\n",
       "      <td>16.0</td>\n",
       "      <td>13.5</td>\n",
       "      <td>85.0</td>\n",
       "      <td>5.4</td>\n",
       "      <td>129.0</td>\n",
       "      <td>2018</td>\n",
       "      <td>0</td>\n",
       "      <td>1</td>\n",
       "    </tr>\n",
       "  </tbody>\n",
       "</table>\n",
       "</div>"
      ],
      "text/plain": [
       "   campus_id           timestamp  apparent_temperature  air_temperature  \\\n",
       "0          1 2018-01-01 00:00:00                  16.6             16.2   \n",
       "1          1 2018-01-01 00:01:00                  17.2             16.1   \n",
       "2          1 2018-01-01 00:02:00                  16.9             16.1   \n",
       "3          1 2018-01-01 00:03:00                  16.9             16.1   \n",
       "4          1 2018-01-01 00:04:00                  16.0             16.0   \n",
       "\n",
       "   dew_point_temperature  relative_humidity  wind_speed  wind_direction  year  \\\n",
       "0                   13.5               84.0         3.6           142.0  2018   \n",
       "1                   13.6               85.0         0.0           134.0  2018   \n",
       "2                   13.6               85.0         1.8           130.0  2018   \n",
       "3                   13.6               85.0         1.8           130.0  2018   \n",
       "4                   13.5               85.0         5.4           129.0  2018   \n",
       "\n",
       "   hour  day  \n",
       "0     0    1  \n",
       "1     0    1  \n",
       "2     0    1  \n",
       "3     0    1  \n",
       "4     0    1  "
      ]
     },
     "execution_count": 35,
     "metadata": {},
     "output_type": "execute_result"
    }
   ],
   "source": [
    "# Add day as a feature from timestamp\n",
    "consump_weather['day'] =consump_weather.timestamp.dt.day\n",
    "consump_weather.head()"
   ]
  },
  {
   "cell_type": "code",
   "execution_count": 36,
   "id": "324ae76d",
   "metadata": {},
   "outputs": [
    {
     "data": {
      "text/html": [
       "<div>\n",
       "<style scoped>\n",
       "    .dataframe tbody tr th:only-of-type {\n",
       "        vertical-align: middle;\n",
       "    }\n",
       "\n",
       "    .dataframe tbody tr th {\n",
       "        vertical-align: top;\n",
       "    }\n",
       "\n",
       "    .dataframe thead th {\n",
       "        text-align: right;\n",
       "    }\n",
       "</style>\n",
       "<table border=\"1\" class=\"dataframe\">\n",
       "  <thead>\n",
       "    <tr style=\"text-align: right;\">\n",
       "      <th></th>\n",
       "      <th>campus_id</th>\n",
       "      <th>timestamp</th>\n",
       "      <th>apparent_temperature</th>\n",
       "      <th>air_temperature</th>\n",
       "      <th>dew_point_temperature</th>\n",
       "      <th>relative_humidity</th>\n",
       "      <th>wind_speed</th>\n",
       "      <th>wind_direction</th>\n",
       "      <th>year</th>\n",
       "      <th>hour</th>\n",
       "      <th>day</th>\n",
       "    </tr>\n",
       "  </thead>\n",
       "  <tbody>\n",
       "    <tr>\n",
       "      <th>0</th>\n",
       "      <td>1</td>\n",
       "      <td>2018-01-01 00:00:00</td>\n",
       "      <td>16.6</td>\n",
       "      <td>16.2</td>\n",
       "      <td>13.5</td>\n",
       "      <td>84.0</td>\n",
       "      <td>3.6</td>\n",
       "      <td>142.0</td>\n",
       "      <td>2018</td>\n",
       "      <td>0</td>\n",
       "      <td>1</td>\n",
       "    </tr>\n",
       "    <tr>\n",
       "      <th>1</th>\n",
       "      <td>1</td>\n",
       "      <td>2018-01-01 00:01:00</td>\n",
       "      <td>17.2</td>\n",
       "      <td>16.1</td>\n",
       "      <td>13.6</td>\n",
       "      <td>85.0</td>\n",
       "      <td>0.0</td>\n",
       "      <td>134.0</td>\n",
       "      <td>2018</td>\n",
       "      <td>0</td>\n",
       "      <td>1</td>\n",
       "    </tr>\n",
       "    <tr>\n",
       "      <th>2</th>\n",
       "      <td>1</td>\n",
       "      <td>2018-01-01 00:02:00</td>\n",
       "      <td>16.9</td>\n",
       "      <td>16.1</td>\n",
       "      <td>13.6</td>\n",
       "      <td>85.0</td>\n",
       "      <td>1.8</td>\n",
       "      <td>130.0</td>\n",
       "      <td>2018</td>\n",
       "      <td>0</td>\n",
       "      <td>1</td>\n",
       "    </tr>\n",
       "    <tr>\n",
       "      <th>3</th>\n",
       "      <td>1</td>\n",
       "      <td>2018-01-01 00:03:00</td>\n",
       "      <td>16.9</td>\n",
       "      <td>16.1</td>\n",
       "      <td>13.6</td>\n",
       "      <td>85.0</td>\n",
       "      <td>1.8</td>\n",
       "      <td>130.0</td>\n",
       "      <td>2018</td>\n",
       "      <td>0</td>\n",
       "      <td>1</td>\n",
       "    </tr>\n",
       "    <tr>\n",
       "      <th>4</th>\n",
       "      <td>1</td>\n",
       "      <td>2018-01-01 00:04:00</td>\n",
       "      <td>16.0</td>\n",
       "      <td>16.0</td>\n",
       "      <td>13.5</td>\n",
       "      <td>85.0</td>\n",
       "      <td>5.4</td>\n",
       "      <td>129.0</td>\n",
       "      <td>2018</td>\n",
       "      <td>0</td>\n",
       "      <td>1</td>\n",
       "    </tr>\n",
       "  </tbody>\n",
       "</table>\n",
       "</div>"
      ],
      "text/plain": [
       "   campus_id           timestamp  apparent_temperature  air_temperature  \\\n",
       "0          1 2018-01-01 00:00:00                  16.6             16.2   \n",
       "1          1 2018-01-01 00:01:00                  17.2             16.1   \n",
       "2          1 2018-01-01 00:02:00                  16.9             16.1   \n",
       "3          1 2018-01-01 00:03:00                  16.9             16.1   \n",
       "4          1 2018-01-01 00:04:00                  16.0             16.0   \n",
       "\n",
       "   dew_point_temperature  relative_humidity  wind_speed  wind_direction  year  \\\n",
       "0                   13.5               84.0         3.6           142.0  2018   \n",
       "1                   13.6               85.0         0.0           134.0  2018   \n",
       "2                   13.6               85.0         1.8           130.0  2018   \n",
       "3                   13.6               85.0         1.8           130.0  2018   \n",
       "4                   13.5               85.0         5.4           129.0  2018   \n",
       "\n",
       "   hour  day  \n",
       "0     0    1  \n",
       "1     0    1  \n",
       "2     0    1  \n",
       "3     0    1  \n",
       "4     0    1  "
      ]
     },
     "execution_count": 36,
     "metadata": {},
     "output_type": "execute_result"
    }
   ],
   "source": [
    "# Select rows where sample_col1 is 1\n",
    "#print(consump_gas.loc[consump_gas['campus_id'] == 1])\n",
    "consump_weather_Bundoora= consump_weather.loc[consump_weather['campus_id'] == 1]\n",
    "consump_weather_Bundoora.head()"
   ]
  },
  {
   "cell_type": "code",
   "execution_count": 37,
   "id": "2ec62707",
   "metadata": {},
   "outputs": [],
   "source": [
    "# Select rows where sample_col1 is 1\n",
    "#print(consump_gas.loc[consump_gas['campus_id'] == 1])\n",
    "#consump_weather_Bundoora= consump_weather.loc[consump_weather['year'] == 2018]\n",
    "#consump_weather_Bundoora"
   ]
  },
  {
   "cell_type": "code",
   "execution_count": 38,
   "id": "7149fe19",
   "metadata": {},
   "outputs": [
    {
     "data": {
      "text/plain": [
       "(1836302, 11)"
      ]
     },
     "execution_count": 38,
     "metadata": {},
     "output_type": "execute_result"
    }
   ],
   "source": [
    "consump_weather_Bundoora.shape # Returning a tuple representing the dimensionality of the DataFrame"
   ]
  },
  {
   "cell_type": "code",
   "execution_count": 39,
   "id": "152d2b1a",
   "metadata": {},
   "outputs": [
    {
     "data": {
      "text/plain": [
       "campus_id                         int64\n",
       "timestamp                datetime64[ns]\n",
       "apparent_temperature            float64\n",
       "air_temperature                 float64\n",
       "dew_point_temperature           float64\n",
       "relative_humidity               float64\n",
       "wind_speed                      float64\n",
       "wind_direction                  float64\n",
       "year                              int64\n",
       "hour                              int64\n",
       "day                               int64\n",
       "dtype: object"
      ]
     },
     "execution_count": 39,
     "metadata": {},
     "output_type": "execute_result"
    }
   ],
   "source": [
    "consump_weather_Bundoora.dtypes # Displaying types of variables"
   ]
  },
  {
   "cell_type": "code",
   "execution_count": 40,
   "id": "bdcf617b",
   "metadata": {},
   "outputs": [
    {
     "data": {
      "text/plain": [
       "campus_id                    0\n",
       "timestamp                    0\n",
       "apparent_temperature         0\n",
       "air_temperature              0\n",
       "dew_point_temperature        0\n",
       "relative_humidity            0\n",
       "wind_speed               15336\n",
       "wind_direction           16055\n",
       "year                         0\n",
       "hour                         0\n",
       "day                          0\n",
       "dtype: int64"
      ]
     },
     "execution_count": 40,
     "metadata": {},
     "output_type": "execute_result"
    }
   ],
   "source": [
    "consump_weather_Bundoora.isnull().sum()  # Checking missing value in the data"
   ]
  },
  {
   "cell_type": "code",
   "execution_count": 41,
   "id": "7241e0df",
   "metadata": {},
   "outputs": [],
   "source": [
    "consump_weather_Bundoora_fill=consump_weather_Bundoora.fillna(0) # Filling missing data by using fillna(0)"
   ]
  },
  {
   "cell_type": "code",
   "execution_count": 42,
   "id": "2a3e8f0f",
   "metadata": {},
   "outputs": [
    {
     "data": {
      "text/plain": [
       "campus_id                0\n",
       "timestamp                0\n",
       "apparent_temperature     0\n",
       "air_temperature          0\n",
       "dew_point_temperature    0\n",
       "relative_humidity        0\n",
       "wind_speed               0\n",
       "wind_direction           0\n",
       "year                     0\n",
       "hour                     0\n",
       "day                      0\n",
       "dtype: int64"
      ]
     },
     "execution_count": 42,
     "metadata": {},
     "output_type": "execute_result"
    }
   ],
   "source": [
    "consump_weather_Bundoora_fill.isnull().sum()  # Checking missing value in the data"
   ]
  },
  {
   "cell_type": "markdown",
   "id": "28f38e50",
   "metadata": {},
   "source": [
    "Selecting the column campus_id reveals that consump_gas, consump_water, and consump_nmi datasets only have one campus_id each, whereas consump_weather contains two campus_id records. Because of this, I will limit my focus to campus_id, the campus in Bundoora.\t\n"
   ]
  },
  {
   "cell_type": "markdown",
   "id": "2744572a",
   "metadata": {},
   "source": [
    "**Handle missing value:** As we can see, there are missing values in the dataset for level variables. Missing data can be handled in several ways. The data will have a significant impact on how to handle missing data. According to the metadata, they were collected by some appropriate tools. I replace the missing value with 0 using the fillna() function."
   ]
  },
  {
   "cell_type": "markdown",
   "id": "fe7f61fd",
   "metadata": {},
   "source": [
    "### B- Graphical analysis"
   ]
  },
  {
   "cell_type": "markdown",
   "id": "4d166f4c",
   "metadata": {},
   "source": [
    "**Graph 1- Visualise Electricity consumes per Day**"
   ]
  },
  {
   "cell_type": "code",
   "execution_count": 43,
   "id": "464a5580",
   "metadata": {},
   "outputs": [
    {
     "data": {
      "image/png": "[encoded data removed]",
      "text/plain": [
       "<Figure size 800x400 with 1 Axes>"
      ]
     },
     "metadata": {},
     "output_type": "display_data"
    }
   ],
   "source": [
    "# Set the figure size and layout\n",
    "plt.figure(figsize=(8, 4))\n",
    "sns.set_style(\"darkgrid\")\n",
    "\n",
    "# Plot the power consumption over time\n",
    "sns.lineplot(data=consump_nmi, x=\"day\", y=\"consumption\", color=\"b\")\n",
    "\n",
    "# Set labels and title\n",
    "plt.title(\"Electricity consumes per Day.\")\n",
    "plt.xlabel(\"Day\")\n",
    "plt.ylabel(\"Electricity Consumption\")\n",
    "plt.xticks(rotation=45)\n",
    "\n",
    "# Display the plot\n",
    "plt.show()"
   ]
  },
  {
   "cell_type": "markdown",
   "id": "ddf57add",
   "metadata": {},
   "source": [
    "To display relationships, trends, or changes in \"day\" and electricity use, data points are connected by lines in this line graph. The line shows how the critical variables have increased or decreased the data over time. As you can see, the electricity used varies throughout the weekend from 5 to 10, 10 to 15 days, etc. This graph style helps illustrate change or activity within the data set."
   ]
  },
  {
   "cell_type": "markdown",
   "id": "eac573b4",
   "metadata": {},
   "source": [
    "**Graph 2- Visualise Gas consumes per Day.**"
   ]
  },
  {
   "cell_type": "code",
   "execution_count": 44,
   "id": "77af4a64",
   "metadata": {},
   "outputs": [
    {
     "data": {
      "text/plain": [
       "<AxesSubplot:title={'center':'Gas consumes per Day.'}, xlabel='day', ylabel='consumption_gas'>"
      ]
     },
     "execution_count": 44,
     "metadata": {},
     "output_type": "execute_result"
    },
    {
     "data": {
      "image/png": "[encoded data removed]",
      "text/plain": [
       "<Figure size 1000x400 with 1 Axes>"
      ]
     },
     "metadata": {},
     "output_type": "display_data"
    }
   ],
   "source": [
    "consump_gas[['consumption_gas','day']].plot(x='day',\n",
    "                                     y='consumption_gas',\n",
    "                                     kind='scatter',\n",
    "                                     figsize=(10,4),\n",
    "                                     title='Gas consumes per Day.')\n"
   ]
  },
  {
   "cell_type": "markdown",
   "id": "1bc82541",
   "metadata": {},
   "source": [
    "A straightforward and necessary method of demonstrating the relationship between \"consumption gas\" and \"day\" is using a scatter plot. The dots, each representing a distinct data point, are used to depict the values for the two variables. If there are any trends in the data, a scatter plot can help us identify them. A positive trend indicates that when the x variable rises, the y variable also increases, and vice versa, as we can see consumption of gas and day increase. "
   ]
  },
  {
   "cell_type": "markdown",
   "id": "d46198c4",
   "metadata": {},
   "source": [
    "**Graph 3- Visualize Water consumes per Day.**"
   ]
  },
  {
   "cell_type": "code",
   "execution_count": 45,
   "id": "a5ed5d2a",
   "metadata": {
    "scrolled": true
   },
   "outputs": [
    {
     "data": {
      "image/png": "[encoded data removed]",
      "text/plain": [
       "<Figure size 800x400 with 1 Axes>"
      ]
     },
     "metadata": {},
     "output_type": "display_data"
    }
   ],
   "source": [
    "# Set the figure size and layout\n",
    "plt.figure(figsize=(8, 4))\n",
    "sns.set_style(\"darkgrid\")\n",
    "\n",
    "# Plot the power consumption over time\n",
    "sns.lineplot(data=consump_water, x=\"day\", y=\"consumption_water\", color=\"b\")\n",
    "\n",
    "# Set labels and title\n",
    "plt.title(\"Water consumes per Day.\")\n",
    "plt.xlabel(\"Day\")\n",
    "plt.ylabel(\"Consumption water\")\n",
    "plt.xticks(rotation=45)\n",
    "\n",
    "# Display the plot\n",
    "plt.show()"
   ]
  },
  {
   "cell_type": "markdown",
   "id": "7d3ed3cd",
   "metadata": {},
   "source": [
    "In this line graph, data points are connected by a line to show relationships, trends, or changes in \"day\" and consumption. The line depicts how the data have changed over time and how the critical variables have increased or decreased the data. This graph style is effective at showing change or activity within the data set as you can see the consumption of water diminue for ten days."
   ]
  },
  {
   "cell_type": "markdown",
   "id": "8973e8ce",
   "metadata": {},
   "source": [
    "**Graph 4- Visualize the frequency of condition weather per Day.**"
   ]
  },
  {
   "cell_type": "code",
   "execution_count": 46,
   "id": "365115ec",
   "metadata": {},
   "outputs": [
    {
     "data": {
      "image/png": "[encoded data removed]",
      "text/plain": [
       "<Figure size 640x480 with 1 Axes>"
      ]
     },
     "metadata": {},
     "output_type": "display_data"
    }
   ],
   "source": [
    "# initializing the data\n",
    "x =consump_weather_Bundoora_fill['day']\n",
    " \n",
    "# plotting the data\n",
    "plt.hist(x)\n",
    " \n",
    "# Adding title to the plot\n",
    "plt.title(\"Condition Weather\")\n",
    " \n",
    "# Adding label on the y-axis\n",
    "plt.ylabel('Frequency')\n",
    " \n",
    "# Adding label on the x-axis\n",
    "plt.xlabel('Day')\n",
    " \n",
    "plt.show()"
   ]
  },
  {
   "cell_type": "markdown",
   "id": "115dcf36",
   "metadata": {},
   "source": [
    "Using a range of values is preferable to using every single number to describe data. We visualize the condition weather per Day. The plot histogram also uses bars to represent the data graphically, but each bar group is a range. The taller bars depict that more observations fall into that range. The condition weather is more frequent between 25 and 30 days. \n"
   ]
  },
  {
   "cell_type": "markdown",
   "id": "5407d065",
   "metadata": {},
   "source": [
    "## Term Project Milestone 2 Data Preparation\n",
    " "
   ]
  },
  {
   "cell_type": "markdown",
   "id": "09a3b318",
   "metadata": {},
   "source": [
    "For the milestone 2 a new dataset have been adding building_submeter_consumption.csv"
   ]
  },
  {
   "cell_type": "code",
   "execution_count": 47,
   "id": "ea918965",
   "metadata": {},
   "outputs": [
    {
     "data": {
      "text/html": [
       "<div>\n",
       "<style scoped>\n",
       "    .dataframe tbody tr th:only-of-type {\n",
       "        vertical-align: middle;\n",
       "    }\n",
       "\n",
       "    .dataframe tbody tr th {\n",
       "        vertical-align: top;\n",
       "    }\n",
       "\n",
       "    .dataframe thead th {\n",
       "        text-align: right;\n",
       "    }\n",
       "</style>\n",
       "<table border=\"1\" class=\"dataframe\">\n",
       "  <thead>\n",
       "    <tr style=\"text-align: right;\">\n",
       "      <th></th>\n",
       "      <th>building_id</th>\n",
       "      <th>id</th>\n",
       "      <th>campus_id</th>\n",
       "      <th>timestamp</th>\n",
       "      <th>consumptionsub</th>\n",
       "      <th>current</th>\n",
       "      <th>voltage</th>\n",
       "      <th>power</th>\n",
       "      <th>power_factor</th>\n",
       "    </tr>\n",
       "  </thead>\n",
       "  <tbody>\n",
       "    <tr>\n",
       "      <th>0</th>\n",
       "      <td>14.0</td>\n",
       "      <td>1</td>\n",
       "      <td>2.0</td>\n",
       "      <td>2021-04-20 19:05:00+10:00</td>\n",
       "      <td>0.2256</td>\n",
       "      <td>3.96</td>\n",
       "      <td>240.0</td>\n",
       "      <td>2.7073</td>\n",
       "      <td>0.95</td>\n",
       "    </tr>\n",
       "    <tr>\n",
       "      <th>1</th>\n",
       "      <td>14.0</td>\n",
       "      <td>1</td>\n",
       "      <td>2.0</td>\n",
       "      <td>2021-04-20 19:10:00+10:00</td>\n",
       "      <td>0.2010</td>\n",
       "      <td>3.53</td>\n",
       "      <td>240.0</td>\n",
       "      <td>2.4118</td>\n",
       "      <td>0.95</td>\n",
       "    </tr>\n",
       "    <tr>\n",
       "      <th>2</th>\n",
       "      <td>14.0</td>\n",
       "      <td>1</td>\n",
       "      <td>2.0</td>\n",
       "      <td>2021-04-20 19:15:00+10:00</td>\n",
       "      <td>0.2440</td>\n",
       "      <td>4.28</td>\n",
       "      <td>240.0</td>\n",
       "      <td>2.9284</td>\n",
       "      <td>0.95</td>\n",
       "    </tr>\n",
       "    <tr>\n",
       "      <th>3</th>\n",
       "      <td>14.0</td>\n",
       "      <td>1</td>\n",
       "      <td>2.0</td>\n",
       "      <td>2021-04-20 19:20:00+10:00</td>\n",
       "      <td>0.1886</td>\n",
       "      <td>3.31</td>\n",
       "      <td>240.0</td>\n",
       "      <td>2.2636</td>\n",
       "      <td>0.95</td>\n",
       "    </tr>\n",
       "    <tr>\n",
       "      <th>4</th>\n",
       "      <td>14.0</td>\n",
       "      <td>1</td>\n",
       "      <td>2.0</td>\n",
       "      <td>2021-04-20 19:25:00+10:00</td>\n",
       "      <td>0.2501</td>\n",
       "      <td>4.39</td>\n",
       "      <td>240.0</td>\n",
       "      <td>3.0009</td>\n",
       "      <td>0.95</td>\n",
       "    </tr>\n",
       "  </tbody>\n",
       "</table>\n",
       "</div>"
      ],
      "text/plain": [
       "   building_id  id  campus_id                  timestamp  consumptionsub  \\\n",
       "0         14.0   1        2.0  2021-04-20 19:05:00+10:00          0.2256   \n",
       "1         14.0   1        2.0  2021-04-20 19:10:00+10:00          0.2010   \n",
       "2         14.0   1        2.0  2021-04-20 19:15:00+10:00          0.2440   \n",
       "3         14.0   1        2.0  2021-04-20 19:20:00+10:00          0.1886   \n",
       "4         14.0   1        2.0  2021-04-20 19:25:00+10:00          0.2501   \n",
       "\n",
       "   current  voltage   power  power_factor  \n",
       "0     3.96    240.0  2.7073          0.95  \n",
       "1     3.53    240.0  2.4118          0.95  \n",
       "2     4.28    240.0  2.9284          0.95  \n",
       "3     3.31    240.0  2.2636          0.95  \n",
       "4     4.39    240.0  3.0009          0.95  "
      ]
     },
     "execution_count": 47,
     "metadata": {},
     "output_type": "execute_result"
    }
   ],
   "source": [
    "# Downloading a new dataset\n",
    "building_submeter_consumption = pd.read_csv(\"building_submeter_consumption.csv\")\n",
    "building_submeter_consumption=pd.DataFrame(building_submeter_consumption)\n",
    "building_submeter_consumption.head()\n"
   ]
  },
  {
   "cell_type": "code",
   "execution_count": 48,
   "id": "b286dd76",
   "metadata": {},
   "outputs": [
    {
     "data": {
      "text/plain": [
       "(1048575, 9)"
      ]
     },
     "execution_count": 48,
     "metadata": {},
     "output_type": "execute_result"
    }
   ],
   "source": [
    "building_submeter_consumption.shape"
   ]
  },
  {
   "cell_type": "markdown",
   "id": "ed9e4b40",
   "metadata": {},
   "source": [
    "### 1- Deal with inconsistent  values"
   ]
  },
  {
   "cell_type": "markdown",
   "id": "09611e8b",
   "metadata": {},
   "source": [
    "Putting together a date and time from several data frame columns. Keys like ['year,' 'day,' 'hour'] are common abbreviations that might be used.Timezone-aware inputs are converted to UTC (the output represents the exact same datetime, but viewed from the UTC time offset +00:00)."
   ]
  },
  {
   "cell_type": "code",
   "execution_count": 49,
   "id": "41ab665f",
   "metadata": {},
   "outputs": [],
   "source": [
    "#Convert timestamp in to time object\n",
    "building_submeter_consumption['timestamp'] = pd.to_datetime(building_submeter_consumption['timestamp'],utc=True)"
   ]
  },
  {
   "cell_type": "code",
   "execution_count": 50,
   "id": "17f662c5",
   "metadata": {},
   "outputs": [
    {
     "data": {
      "text/html": [
       "<div>\n",
       "<style scoped>\n",
       "    .dataframe tbody tr th:only-of-type {\n",
       "        vertical-align: middle;\n",
       "    }\n",
       "\n",
       "    .dataframe tbody tr th {\n",
       "        vertical-align: top;\n",
       "    }\n",
       "\n",
       "    .dataframe thead th {\n",
       "        text-align: right;\n",
       "    }\n",
       "</style>\n",
       "<table border=\"1\" class=\"dataframe\">\n",
       "  <thead>\n",
       "    <tr style=\"text-align: right;\">\n",
       "      <th></th>\n",
       "      <th>campus_id</th>\n",
       "      <th>timestamp</th>\n",
       "      <th>apparent_temperature</th>\n",
       "      <th>air_temperature</th>\n",
       "      <th>dew_point_temperature</th>\n",
       "      <th>relative_humidity</th>\n",
       "      <th>wind_speed</th>\n",
       "      <th>wind_direction</th>\n",
       "      <th>year</th>\n",
       "      <th>hour</th>\n",
       "      <th>day</th>\n",
       "    </tr>\n",
       "  </thead>\n",
       "  <tbody>\n",
       "    <tr>\n",
       "      <th>0</th>\n",
       "      <td>1</td>\n",
       "      <td>2018-01-01 00:00:00</td>\n",
       "      <td>16.6</td>\n",
       "      <td>16.2</td>\n",
       "      <td>13.5</td>\n",
       "      <td>84.0</td>\n",
       "      <td>3.6</td>\n",
       "      <td>142.0</td>\n",
       "      <td>2018</td>\n",
       "      <td>0</td>\n",
       "      <td>1</td>\n",
       "    </tr>\n",
       "    <tr>\n",
       "      <th>1</th>\n",
       "      <td>1</td>\n",
       "      <td>2018-01-01 00:01:00</td>\n",
       "      <td>17.2</td>\n",
       "      <td>16.1</td>\n",
       "      <td>13.6</td>\n",
       "      <td>85.0</td>\n",
       "      <td>0.0</td>\n",
       "      <td>134.0</td>\n",
       "      <td>2018</td>\n",
       "      <td>0</td>\n",
       "      <td>1</td>\n",
       "    </tr>\n",
       "    <tr>\n",
       "      <th>2</th>\n",
       "      <td>1</td>\n",
       "      <td>2018-01-01 00:02:00</td>\n",
       "      <td>16.9</td>\n",
       "      <td>16.1</td>\n",
       "      <td>13.6</td>\n",
       "      <td>85.0</td>\n",
       "      <td>1.8</td>\n",
       "      <td>130.0</td>\n",
       "      <td>2018</td>\n",
       "      <td>0</td>\n",
       "      <td>1</td>\n",
       "    </tr>\n",
       "    <tr>\n",
       "      <th>3</th>\n",
       "      <td>1</td>\n",
       "      <td>2018-01-01 00:03:00</td>\n",
       "      <td>16.9</td>\n",
       "      <td>16.1</td>\n",
       "      <td>13.6</td>\n",
       "      <td>85.0</td>\n",
       "      <td>1.8</td>\n",
       "      <td>130.0</td>\n",
       "      <td>2018</td>\n",
       "      <td>0</td>\n",
       "      <td>1</td>\n",
       "    </tr>\n",
       "    <tr>\n",
       "      <th>4</th>\n",
       "      <td>1</td>\n",
       "      <td>2018-01-01 00:04:00</td>\n",
       "      <td>16.0</td>\n",
       "      <td>16.0</td>\n",
       "      <td>13.5</td>\n",
       "      <td>85.0</td>\n",
       "      <td>5.4</td>\n",
       "      <td>129.0</td>\n",
       "      <td>2018</td>\n",
       "      <td>0</td>\n",
       "      <td>1</td>\n",
       "    </tr>\n",
       "  </tbody>\n",
       "</table>\n",
       "</div>"
      ],
      "text/plain": [
       "   campus_id           timestamp  apparent_temperature  air_temperature  \\\n",
       "0          1 2018-01-01 00:00:00                  16.6             16.2   \n",
       "1          1 2018-01-01 00:01:00                  17.2             16.1   \n",
       "2          1 2018-01-01 00:02:00                  16.9             16.1   \n",
       "3          1 2018-01-01 00:03:00                  16.9             16.1   \n",
       "4          1 2018-01-01 00:04:00                  16.0             16.0   \n",
       "\n",
       "   dew_point_temperature  relative_humidity  wind_speed  wind_direction  year  \\\n",
       "0                   13.5               84.0         3.6           142.0  2018   \n",
       "1                   13.6               85.0         0.0           134.0  2018   \n",
       "2                   13.6               85.0         1.8           130.0  2018   \n",
       "3                   13.6               85.0         1.8           130.0  2018   \n",
       "4                   13.5               85.0         5.4           129.0  2018   \n",
       "\n",
       "   hour  day  \n",
       "0     0    1  \n",
       "1     0    1  \n",
       "2     0    1  \n",
       "3     0    1  \n",
       "4     0    1  "
      ]
     },
     "execution_count": 50,
     "metadata": {},
     "output_type": "execute_result"
    }
   ],
   "source": [
    "# Add year as a feature from timestamp\n",
    "building_submeter_consumption['year']=building_submeter_consumption.timestamp.dt.year\n",
    "consump_weather.head()"
   ]
  },
  {
   "cell_type": "code",
   "execution_count": 51,
   "id": "ae0a28b1",
   "metadata": {},
   "outputs": [
    {
     "data": {
      "text/html": [
       "<div>\n",
       "<style scoped>\n",
       "    .dataframe tbody tr th:only-of-type {\n",
       "        vertical-align: middle;\n",
       "    }\n",
       "\n",
       "    .dataframe tbody tr th {\n",
       "        vertical-align: top;\n",
       "    }\n",
       "\n",
       "    .dataframe thead th {\n",
       "        text-align: right;\n",
       "    }\n",
       "</style>\n",
       "<table border=\"1\" class=\"dataframe\">\n",
       "  <thead>\n",
       "    <tr style=\"text-align: right;\">\n",
       "      <th></th>\n",
       "      <th>campus_id</th>\n",
       "      <th>timestamp</th>\n",
       "      <th>apparent_temperature</th>\n",
       "      <th>air_temperature</th>\n",
       "      <th>dew_point_temperature</th>\n",
       "      <th>relative_humidity</th>\n",
       "      <th>wind_speed</th>\n",
       "      <th>wind_direction</th>\n",
       "      <th>year</th>\n",
       "      <th>hour</th>\n",
       "      <th>day</th>\n",
       "    </tr>\n",
       "  </thead>\n",
       "  <tbody>\n",
       "    <tr>\n",
       "      <th>0</th>\n",
       "      <td>1</td>\n",
       "      <td>2018-01-01 00:00:00</td>\n",
       "      <td>16.6</td>\n",
       "      <td>16.2</td>\n",
       "      <td>13.5</td>\n",
       "      <td>84.0</td>\n",
       "      <td>3.6</td>\n",
       "      <td>142.0</td>\n",
       "      <td>2018</td>\n",
       "      <td>0</td>\n",
       "      <td>1</td>\n",
       "    </tr>\n",
       "    <tr>\n",
       "      <th>1</th>\n",
       "      <td>1</td>\n",
       "      <td>2018-01-01 00:01:00</td>\n",
       "      <td>17.2</td>\n",
       "      <td>16.1</td>\n",
       "      <td>13.6</td>\n",
       "      <td>85.0</td>\n",
       "      <td>0.0</td>\n",
       "      <td>134.0</td>\n",
       "      <td>2018</td>\n",
       "      <td>0</td>\n",
       "      <td>1</td>\n",
       "    </tr>\n",
       "    <tr>\n",
       "      <th>2</th>\n",
       "      <td>1</td>\n",
       "      <td>2018-01-01 00:02:00</td>\n",
       "      <td>16.9</td>\n",
       "      <td>16.1</td>\n",
       "      <td>13.6</td>\n",
       "      <td>85.0</td>\n",
       "      <td>1.8</td>\n",
       "      <td>130.0</td>\n",
       "      <td>2018</td>\n",
       "      <td>0</td>\n",
       "      <td>1</td>\n",
       "    </tr>\n",
       "    <tr>\n",
       "      <th>3</th>\n",
       "      <td>1</td>\n",
       "      <td>2018-01-01 00:03:00</td>\n",
       "      <td>16.9</td>\n",
       "      <td>16.1</td>\n",
       "      <td>13.6</td>\n",
       "      <td>85.0</td>\n",
       "      <td>1.8</td>\n",
       "      <td>130.0</td>\n",
       "      <td>2018</td>\n",
       "      <td>0</td>\n",
       "      <td>1</td>\n",
       "    </tr>\n",
       "    <tr>\n",
       "      <th>4</th>\n",
       "      <td>1</td>\n",
       "      <td>2018-01-01 00:04:00</td>\n",
       "      <td>16.0</td>\n",
       "      <td>16.0</td>\n",
       "      <td>13.5</td>\n",
       "      <td>85.0</td>\n",
       "      <td>5.4</td>\n",
       "      <td>129.0</td>\n",
       "      <td>2018</td>\n",
       "      <td>0</td>\n",
       "      <td>1</td>\n",
       "    </tr>\n",
       "  </tbody>\n",
       "</table>\n",
       "</div>"
      ],
      "text/plain": [
       "   campus_id           timestamp  apparent_temperature  air_temperature  \\\n",
       "0          1 2018-01-01 00:00:00                  16.6             16.2   \n",
       "1          1 2018-01-01 00:01:00                  17.2             16.1   \n",
       "2          1 2018-01-01 00:02:00                  16.9             16.1   \n",
       "3          1 2018-01-01 00:03:00                  16.9             16.1   \n",
       "4          1 2018-01-01 00:04:00                  16.0             16.0   \n",
       "\n",
       "   dew_point_temperature  relative_humidity  wind_speed  wind_direction  year  \\\n",
       "0                   13.5               84.0         3.6           142.0  2018   \n",
       "1                   13.6               85.0         0.0           134.0  2018   \n",
       "2                   13.6               85.0         1.8           130.0  2018   \n",
       "3                   13.6               85.0         1.8           130.0  2018   \n",
       "4                   13.5               85.0         5.4           129.0  2018   \n",
       "\n",
       "   hour  day  \n",
       "0     0    1  \n",
       "1     0    1  \n",
       "2     0    1  \n",
       "3     0    1  \n",
       "4     0    1  "
      ]
     },
     "execution_count": 51,
     "metadata": {},
     "output_type": "execute_result"
    }
   ],
   "source": [
    "# Add year as a feature from timestamp\n",
    "building_submeter_consumption['day'] =building_submeter_consumption.timestamp.dt.day\n",
    "building_submeter_consumption['hour'] =building_submeter_consumption.timestamp.dt.hour\n",
    "consump_weather.head()"
   ]
  },
  {
   "cell_type": "code",
   "execution_count": 52,
   "id": "caa7f628",
   "metadata": {},
   "outputs": [
    {
     "data": {
      "text/html": [
       "<div>\n",
       "<style scoped>\n",
       "    .dataframe tbody tr th:only-of-type {\n",
       "        vertical-align: middle;\n",
       "    }\n",
       "\n",
       "    .dataframe tbody tr th {\n",
       "        vertical-align: top;\n",
       "    }\n",
       "\n",
       "    .dataframe thead th {\n",
       "        text-align: right;\n",
       "    }\n",
       "</style>\n",
       "<table border=\"1\" class=\"dataframe\">\n",
       "  <thead>\n",
       "    <tr style=\"text-align: right;\">\n",
       "      <th></th>\n",
       "      <th>building_id</th>\n",
       "      <th>id</th>\n",
       "      <th>campus_id</th>\n",
       "      <th>timestamp</th>\n",
       "      <th>consumptionsub</th>\n",
       "      <th>current</th>\n",
       "      <th>voltage</th>\n",
       "      <th>power</th>\n",
       "      <th>power_factor</th>\n",
       "      <th>year</th>\n",
       "      <th>day</th>\n",
       "      <th>hour</th>\n",
       "    </tr>\n",
       "  </thead>\n",
       "  <tbody>\n",
       "    <tr>\n",
       "      <th>467376</th>\n",
       "      <td>62.0</td>\n",
       "      <td>4</td>\n",
       "      <td>1.0</td>\n",
       "      <td>2020-01-15 03:40:00+00:00</td>\n",
       "      <td>0.1585</td>\n",
       "      <td>8.34</td>\n",
       "      <td>240.0</td>\n",
       "      <td>1.9015</td>\n",
       "      <td>0.95</td>\n",
       "      <td>2020</td>\n",
       "      <td>15</td>\n",
       "      <td>3</td>\n",
       "    </tr>\n",
       "    <tr>\n",
       "      <th>467377</th>\n",
       "      <td>62.0</td>\n",
       "      <td>4</td>\n",
       "      <td>1.0</td>\n",
       "      <td>2020-01-15 03:45:00+00:00</td>\n",
       "      <td>1.4502</td>\n",
       "      <td>25.44</td>\n",
       "      <td>240.0</td>\n",
       "      <td>17.4019</td>\n",
       "      <td>0.95</td>\n",
       "      <td>2020</td>\n",
       "      <td>15</td>\n",
       "      <td>3</td>\n",
       "    </tr>\n",
       "    <tr>\n",
       "      <th>467378</th>\n",
       "      <td>62.0</td>\n",
       "      <td>4</td>\n",
       "      <td>1.0</td>\n",
       "      <td>2020-01-15 03:50:00+00:00</td>\n",
       "      <td>1.3038</td>\n",
       "      <td>34.31</td>\n",
       "      <td>240.0</td>\n",
       "      <td>15.6456</td>\n",
       "      <td>0.95</td>\n",
       "      <td>2020</td>\n",
       "      <td>15</td>\n",
       "      <td>3</td>\n",
       "    </tr>\n",
       "    <tr>\n",
       "      <th>467379</th>\n",
       "      <td>62.0</td>\n",
       "      <td>4</td>\n",
       "      <td>1.0</td>\n",
       "      <td>2020-01-15 03:55:00+00:00</td>\n",
       "      <td>0.7923</td>\n",
       "      <td>41.70</td>\n",
       "      <td>240.0</td>\n",
       "      <td>9.5081</td>\n",
       "      <td>0.95</td>\n",
       "      <td>2020</td>\n",
       "      <td>15</td>\n",
       "      <td>3</td>\n",
       "    </tr>\n",
       "    <tr>\n",
       "      <th>467380</th>\n",
       "      <td>62.0</td>\n",
       "      <td>4</td>\n",
       "      <td>1.0</td>\n",
       "      <td>2020-01-15 04:00:00+00:00</td>\n",
       "      <td>1.4627</td>\n",
       "      <td>38.49</td>\n",
       "      <td>240.0</td>\n",
       "      <td>17.5524</td>\n",
       "      <td>0.95</td>\n",
       "      <td>2020</td>\n",
       "      <td>15</td>\n",
       "      <td>4</td>\n",
       "    </tr>\n",
       "  </tbody>\n",
       "</table>\n",
       "</div>"
      ],
      "text/plain": [
       "        building_id  id  campus_id                 timestamp  consumptionsub  \\\n",
       "467376         62.0   4        1.0 2020-01-15 03:40:00+00:00          0.1585   \n",
       "467377         62.0   4        1.0 2020-01-15 03:45:00+00:00          1.4502   \n",
       "467378         62.0   4        1.0 2020-01-15 03:50:00+00:00          1.3038   \n",
       "467379         62.0   4        1.0 2020-01-15 03:55:00+00:00          0.7923   \n",
       "467380         62.0   4        1.0 2020-01-15 04:00:00+00:00          1.4627   \n",
       "\n",
       "        current  voltage    power  power_factor  year  day  hour  \n",
       "467376     8.34    240.0   1.9015          0.95  2020   15     3  \n",
       "467377    25.44    240.0  17.4019          0.95  2020   15     3  \n",
       "467378    34.31    240.0  15.6456          0.95  2020   15     3  \n",
       "467379    41.70    240.0   9.5081          0.95  2020   15     3  \n",
       "467380    38.49    240.0  17.5524          0.95  2020   15     4  "
      ]
     },
     "execution_count": 52,
     "metadata": {},
     "output_type": "execute_result"
    }
   ],
   "source": [
    "# Select rows where sample_col1 is 1\n",
    "consump_submeter_Bundoora= building_submeter_consumption.loc[building_submeter_consumption['campus_id'] == 1]\n",
    "consump_submeter_Bundoora.head()"
   ]
  },
  {
   "cell_type": "code",
   "execution_count": 53,
   "id": "05145eba",
   "metadata": {},
   "outputs": [
    {
     "data": {
      "text/plain": [
       "(1048575, 12)"
      ]
     },
     "execution_count": 53,
     "metadata": {},
     "output_type": "execute_result"
    }
   ],
   "source": [
    "building_submeter_consumption.shape # Returning a tuple representing the dimensionality of the DataFrame"
   ]
  },
  {
   "cell_type": "code",
   "execution_count": 54,
   "id": "3fffd557",
   "metadata": {},
   "outputs": [
    {
     "data": {
      "text/html": [
       "<div>\n",
       "<style scoped>\n",
       "    .dataframe tbody tr th:only-of-type {\n",
       "        vertical-align: middle;\n",
       "    }\n",
       "\n",
       "    .dataframe tbody tr th {\n",
       "        vertical-align: top;\n",
       "    }\n",
       "\n",
       "    .dataframe thead th {\n",
       "        text-align: right;\n",
       "    }\n",
       "</style>\n",
       "<table border=\"1\" class=\"dataframe\">\n",
       "  <thead>\n",
       "    <tr style=\"text-align: right;\">\n",
       "      <th></th>\n",
       "      <th>campus_id</th>\n",
       "      <th>timestamp</th>\n",
       "      <th>apparent_temperature</th>\n",
       "      <th>air_temperature</th>\n",
       "      <th>dew_point_temperature</th>\n",
       "      <th>relative_humidity</th>\n",
       "      <th>wind_speed</th>\n",
       "      <th>wind_direction</th>\n",
       "      <th>year</th>\n",
       "      <th>hour</th>\n",
       "      <th>day</th>\n",
       "    </tr>\n",
       "  </thead>\n",
       "  <tbody>\n",
       "    <tr>\n",
       "      <th>0</th>\n",
       "      <td>1</td>\n",
       "      <td>2018-01-01 00:00:00</td>\n",
       "      <td>16.6</td>\n",
       "      <td>16.2</td>\n",
       "      <td>13.5</td>\n",
       "      <td>84.0</td>\n",
       "      <td>3.6</td>\n",
       "      <td>142.0</td>\n",
       "      <td>2018</td>\n",
       "      <td>0</td>\n",
       "      <td>1</td>\n",
       "    </tr>\n",
       "    <tr>\n",
       "      <th>1</th>\n",
       "      <td>1</td>\n",
       "      <td>2018-01-01 00:01:00</td>\n",
       "      <td>17.2</td>\n",
       "      <td>16.1</td>\n",
       "      <td>13.6</td>\n",
       "      <td>85.0</td>\n",
       "      <td>0.0</td>\n",
       "      <td>134.0</td>\n",
       "      <td>2018</td>\n",
       "      <td>0</td>\n",
       "      <td>1</td>\n",
       "    </tr>\n",
       "    <tr>\n",
       "      <th>2</th>\n",
       "      <td>1</td>\n",
       "      <td>2018-01-01 00:02:00</td>\n",
       "      <td>16.9</td>\n",
       "      <td>16.1</td>\n",
       "      <td>13.6</td>\n",
       "      <td>85.0</td>\n",
       "      <td>1.8</td>\n",
       "      <td>130.0</td>\n",
       "      <td>2018</td>\n",
       "      <td>0</td>\n",
       "      <td>1</td>\n",
       "    </tr>\n",
       "    <tr>\n",
       "      <th>3</th>\n",
       "      <td>1</td>\n",
       "      <td>2018-01-01 00:03:00</td>\n",
       "      <td>16.9</td>\n",
       "      <td>16.1</td>\n",
       "      <td>13.6</td>\n",
       "      <td>85.0</td>\n",
       "      <td>1.8</td>\n",
       "      <td>130.0</td>\n",
       "      <td>2018</td>\n",
       "      <td>0</td>\n",
       "      <td>1</td>\n",
       "    </tr>\n",
       "    <tr>\n",
       "      <th>4</th>\n",
       "      <td>1</td>\n",
       "      <td>2018-01-01 00:04:00</td>\n",
       "      <td>16.0</td>\n",
       "      <td>16.0</td>\n",
       "      <td>13.5</td>\n",
       "      <td>85.0</td>\n",
       "      <td>5.4</td>\n",
       "      <td>129.0</td>\n",
       "      <td>2018</td>\n",
       "      <td>0</td>\n",
       "      <td>1</td>\n",
       "    </tr>\n",
       "  </tbody>\n",
       "</table>\n",
       "</div>"
      ],
      "text/plain": [
       "   campus_id           timestamp  apparent_temperature  air_temperature  \\\n",
       "0          1 2018-01-01 00:00:00                  16.6             16.2   \n",
       "1          1 2018-01-01 00:01:00                  17.2             16.1   \n",
       "2          1 2018-01-01 00:02:00                  16.9             16.1   \n",
       "3          1 2018-01-01 00:03:00                  16.9             16.1   \n",
       "4          1 2018-01-01 00:04:00                  16.0             16.0   \n",
       "\n",
       "   dew_point_temperature  relative_humidity  wind_speed  wind_direction  year  \\\n",
       "0                   13.5               84.0         3.6           142.0  2018   \n",
       "1                   13.6               85.0         0.0           134.0  2018   \n",
       "2                   13.6               85.0         1.8           130.0  2018   \n",
       "3                   13.6               85.0         1.8           130.0  2018   \n",
       "4                   13.5               85.0         5.4           129.0  2018   \n",
       "\n",
       "   hour  day  \n",
       "0     0    1  \n",
       "1     0    1  \n",
       "2     0    1  \n",
       "3     0    1  \n",
       "4     0    1  "
      ]
     },
     "execution_count": 54,
     "metadata": {},
     "output_type": "execute_result"
    }
   ],
   "source": [
    "# Reading consump_weather_Bundoora_fill dataset\n",
    "consump_weather_Bundoora_fill.head()"
   ]
  },
  {
   "cell_type": "markdown",
   "id": "b5582873",
   "metadata": {},
   "source": []
  },
  {
   "cell_type": "markdown",
   "id": "c6476fe4",
   "metadata": {},
   "source": [
    "**Merge consump_submeter_Bundoora, consump_weather_Bundoora_fill, and consump_nmi_fill into 1 dataset**"
   ]
  },
  {
   "cell_type": "code",
   "execution_count": 55,
   "id": "bd5c22eb",
   "metadata": {},
   "outputs": [
    {
     "data": {
      "text/html": [
       "<div>\n",
       "<style scoped>\n",
       "    .dataframe tbody tr th:only-of-type {\n",
       "        vertical-align: middle;\n",
       "    }\n",
       "\n",
       "    .dataframe tbody tr th {\n",
       "        vertical-align: top;\n",
       "    }\n",
       "\n",
       "    .dataframe thead th {\n",
       "        text-align: right;\n",
       "    }\n",
       "</style>\n",
       "<table border=\"1\" class=\"dataframe\">\n",
       "  <thead>\n",
       "    <tr style=\"text-align: right;\">\n",
       "      <th></th>\n",
       "      <th>building_id</th>\n",
       "      <th>id</th>\n",
       "      <th>campus_id</th>\n",
       "      <th>timestamp</th>\n",
       "      <th>consumptionsub</th>\n",
       "      <th>current</th>\n",
       "      <th>voltage</th>\n",
       "      <th>power</th>\n",
       "      <th>power_factor</th>\n",
       "      <th>year</th>\n",
       "      <th>...</th>\n",
       "      <th>apparent_temperature</th>\n",
       "      <th>air_temperature</th>\n",
       "      <th>dew_point_temperature</th>\n",
       "      <th>relative_humidity</th>\n",
       "      <th>wind_speed</th>\n",
       "      <th>wind_direction</th>\n",
       "      <th>meter_id</th>\n",
       "      <th>consumption</th>\n",
       "      <th>demand_kW</th>\n",
       "      <th>demand_kVA</th>\n",
       "    </tr>\n",
       "  </thead>\n",
       "  <tbody>\n",
       "    <tr>\n",
       "      <th>467376</th>\n",
       "      <td>62.0</td>\n",
       "      <td>4.0</td>\n",
       "      <td>1.0</td>\n",
       "      <td>2020-01-15 03:40:00+00:00</td>\n",
       "      <td>0.1585</td>\n",
       "      <td>8.34</td>\n",
       "      <td>240.0</td>\n",
       "      <td>1.9015</td>\n",
       "      <td>0.95</td>\n",
       "      <td>2020.0</td>\n",
       "      <td>...</td>\n",
       "      <td>NaN</td>\n",
       "      <td>NaN</td>\n",
       "      <td>NaN</td>\n",
       "      <td>NaN</td>\n",
       "      <td>NaN</td>\n",
       "      <td>NaN</td>\n",
       "      <td>NaN</td>\n",
       "      <td>NaN</td>\n",
       "      <td>NaN</td>\n",
       "      <td>NaN</td>\n",
       "    </tr>\n",
       "    <tr>\n",
       "      <th>467377</th>\n",
       "      <td>62.0</td>\n",
       "      <td>4.0</td>\n",
       "      <td>1.0</td>\n",
       "      <td>2020-01-15 03:45:00+00:00</td>\n",
       "      <td>1.4502</td>\n",
       "      <td>25.44</td>\n",
       "      <td>240.0</td>\n",
       "      <td>17.4019</td>\n",
       "      <td>0.95</td>\n",
       "      <td>2020.0</td>\n",
       "      <td>...</td>\n",
       "      <td>NaN</td>\n",
       "      <td>NaN</td>\n",
       "      <td>NaN</td>\n",
       "      <td>NaN</td>\n",
       "      <td>NaN</td>\n",
       "      <td>NaN</td>\n",
       "      <td>NaN</td>\n",
       "      <td>NaN</td>\n",
       "      <td>NaN</td>\n",
       "      <td>NaN</td>\n",
       "    </tr>\n",
       "    <tr>\n",
       "      <th>467378</th>\n",
       "      <td>62.0</td>\n",
       "      <td>4.0</td>\n",
       "      <td>1.0</td>\n",
       "      <td>2020-01-15 03:50:00+00:00</td>\n",
       "      <td>1.3038</td>\n",
       "      <td>34.31</td>\n",
       "      <td>240.0</td>\n",
       "      <td>15.6456</td>\n",
       "      <td>0.95</td>\n",
       "      <td>2020.0</td>\n",
       "      <td>...</td>\n",
       "      <td>NaN</td>\n",
       "      <td>NaN</td>\n",
       "      <td>NaN</td>\n",
       "      <td>NaN</td>\n",
       "      <td>NaN</td>\n",
       "      <td>NaN</td>\n",
       "      <td>NaN</td>\n",
       "      <td>NaN</td>\n",
       "      <td>NaN</td>\n",
       "      <td>NaN</td>\n",
       "    </tr>\n",
       "    <tr>\n",
       "      <th>467379</th>\n",
       "      <td>62.0</td>\n",
       "      <td>4.0</td>\n",
       "      <td>1.0</td>\n",
       "      <td>2020-01-15 03:55:00+00:00</td>\n",
       "      <td>0.7923</td>\n",
       "      <td>41.70</td>\n",
       "      <td>240.0</td>\n",
       "      <td>9.5081</td>\n",
       "      <td>0.95</td>\n",
       "      <td>2020.0</td>\n",
       "      <td>...</td>\n",
       "      <td>NaN</td>\n",
       "      <td>NaN</td>\n",
       "      <td>NaN</td>\n",
       "      <td>NaN</td>\n",
       "      <td>NaN</td>\n",
       "      <td>NaN</td>\n",
       "      <td>NaN</td>\n",
       "      <td>NaN</td>\n",
       "      <td>NaN</td>\n",
       "      <td>NaN</td>\n",
       "    </tr>\n",
       "    <tr>\n",
       "      <th>467380</th>\n",
       "      <td>62.0</td>\n",
       "      <td>4.0</td>\n",
       "      <td>1.0</td>\n",
       "      <td>2020-01-15 04:00:00+00:00</td>\n",
       "      <td>1.4627</td>\n",
       "      <td>38.49</td>\n",
       "      <td>240.0</td>\n",
       "      <td>17.5524</td>\n",
       "      <td>0.95</td>\n",
       "      <td>2020.0</td>\n",
       "      <td>...</td>\n",
       "      <td>NaN</td>\n",
       "      <td>NaN</td>\n",
       "      <td>NaN</td>\n",
       "      <td>NaN</td>\n",
       "      <td>NaN</td>\n",
       "      <td>NaN</td>\n",
       "      <td>NaN</td>\n",
       "      <td>NaN</td>\n",
       "      <td>NaN</td>\n",
       "      <td>NaN</td>\n",
       "    </tr>\n",
       "  </tbody>\n",
       "</table>\n",
       "<p>5 rows × 22 columns</p>\n",
       "</div>"
      ],
      "text/plain": [
       "        building_id   id  campus_id                  timestamp  \\\n",
       "467376         62.0  4.0        1.0  2020-01-15 03:40:00+00:00   \n",
       "467377         62.0  4.0        1.0  2020-01-15 03:45:00+00:00   \n",
       "467378         62.0  4.0        1.0  2020-01-15 03:50:00+00:00   \n",
       "467379         62.0  4.0        1.0  2020-01-15 03:55:00+00:00   \n",
       "467380         62.0  4.0        1.0  2020-01-15 04:00:00+00:00   \n",
       "\n",
       "        consumptionsub  current  voltage    power  power_factor    year  ...  \\\n",
       "467376          0.1585     8.34    240.0   1.9015          0.95  2020.0  ...   \n",
       "467377          1.4502    25.44    240.0  17.4019          0.95  2020.0  ...   \n",
       "467378          1.3038    34.31    240.0  15.6456          0.95  2020.0  ...   \n",
       "467379          0.7923    41.70    240.0   9.5081          0.95  2020.0  ...   \n",
       "467380          1.4627    38.49    240.0  17.5524          0.95  2020.0  ...   \n",
       "\n",
       "        apparent_temperature  air_temperature  dew_point_temperature  \\\n",
       "467376                   NaN              NaN                    NaN   \n",
       "467377                   NaN              NaN                    NaN   \n",
       "467378                   NaN              NaN                    NaN   \n",
       "467379                   NaN              NaN                    NaN   \n",
       "467380                   NaN              NaN                    NaN   \n",
       "\n",
       "        relative_humidity  wind_speed  wind_direction  meter_id  consumption  \\\n",
       "467376                NaN         NaN             NaN       NaN          NaN   \n",
       "467377                NaN         NaN             NaN       NaN          NaN   \n",
       "467378                NaN         NaN             NaN       NaN          NaN   \n",
       "467379                NaN         NaN             NaN       NaN          NaN   \n",
       "467380                NaN         NaN             NaN       NaN          NaN   \n",
       "\n",
       "        demand_kW  demand_kVA  \n",
       "467376        NaN         NaN  \n",
       "467377        NaN         NaN  \n",
       "467378        NaN         NaN  \n",
       "467379        NaN         NaN  \n",
       "467380        NaN         NaN  \n",
       "\n",
       "[5 rows x 22 columns]"
      ]
     },
     "execution_count": 55,
     "metadata": {},
     "output_type": "execute_result"
    }
   ],
   "source": [
    "dfs = [consump_submeter_Bundoora, consump_weather_Bundoora_fill,consump_nmi_fill]\n",
    "# Merge or join the DataFrames\n",
    "merged_df = pd.concat(dfs)\n",
    "# Print the merged DataFrame\n",
    "merged_df.head()"
   ]
  },
  {
   "cell_type": "code",
   "execution_count": 56,
   "id": "8ea230a6",
   "metadata": {},
   "outputs": [
    {
     "data": {
      "text/html": [
       "<div>\n",
       "<style scoped>\n",
       "    .dataframe tbody tr th:only-of-type {\n",
       "        vertical-align: middle;\n",
       "    }\n",
       "\n",
       "    .dataframe tbody tr th {\n",
       "        vertical-align: top;\n",
       "    }\n",
       "\n",
       "    .dataframe thead th {\n",
       "        text-align: right;\n",
       "    }\n",
       "</style>\n",
       "<table border=\"1\" class=\"dataframe\">\n",
       "  <thead>\n",
       "    <tr style=\"text-align: right;\">\n",
       "      <th></th>\n",
       "      <th>building_id</th>\n",
       "      <th>id</th>\n",
       "      <th>campus_id</th>\n",
       "      <th>consumptionsub</th>\n",
       "      <th>current</th>\n",
       "      <th>voltage</th>\n",
       "      <th>power</th>\n",
       "      <th>power_factor</th>\n",
       "      <th>year</th>\n",
       "      <th>day</th>\n",
       "      <th>...</th>\n",
       "      <th>apparent_temperature</th>\n",
       "      <th>air_temperature</th>\n",
       "      <th>dew_point_temperature</th>\n",
       "      <th>relative_humidity</th>\n",
       "      <th>wind_speed</th>\n",
       "      <th>wind_direction</th>\n",
       "      <th>meter_id</th>\n",
       "      <th>consumption</th>\n",
       "      <th>demand_kW</th>\n",
       "      <th>demand_kVA</th>\n",
       "    </tr>\n",
       "  </thead>\n",
       "  <tbody>\n",
       "    <tr>\n",
       "      <th>467376</th>\n",
       "      <td>62.0</td>\n",
       "      <td>4.0</td>\n",
       "      <td>1.0</td>\n",
       "      <td>0.1585</td>\n",
       "      <td>8.34</td>\n",
       "      <td>240.0</td>\n",
       "      <td>1.9015</td>\n",
       "      <td>0.95</td>\n",
       "      <td>2020.0</td>\n",
       "      <td>15</td>\n",
       "      <td>...</td>\n",
       "      <td>NaN</td>\n",
       "      <td>NaN</td>\n",
       "      <td>NaN</td>\n",
       "      <td>NaN</td>\n",
       "      <td>NaN</td>\n",
       "      <td>NaN</td>\n",
       "      <td>NaN</td>\n",
       "      <td>NaN</td>\n",
       "      <td>NaN</td>\n",
       "      <td>NaN</td>\n",
       "    </tr>\n",
       "    <tr>\n",
       "      <th>467377</th>\n",
       "      <td>62.0</td>\n",
       "      <td>4.0</td>\n",
       "      <td>1.0</td>\n",
       "      <td>1.4502</td>\n",
       "      <td>25.44</td>\n",
       "      <td>240.0</td>\n",
       "      <td>17.4019</td>\n",
       "      <td>0.95</td>\n",
       "      <td>2020.0</td>\n",
       "      <td>15</td>\n",
       "      <td>...</td>\n",
       "      <td>NaN</td>\n",
       "      <td>NaN</td>\n",
       "      <td>NaN</td>\n",
       "      <td>NaN</td>\n",
       "      <td>NaN</td>\n",
       "      <td>NaN</td>\n",
       "      <td>NaN</td>\n",
       "      <td>NaN</td>\n",
       "      <td>NaN</td>\n",
       "      <td>NaN</td>\n",
       "    </tr>\n",
       "    <tr>\n",
       "      <th>467378</th>\n",
       "      <td>62.0</td>\n",
       "      <td>4.0</td>\n",
       "      <td>1.0</td>\n",
       "      <td>1.3038</td>\n",
       "      <td>34.31</td>\n",
       "      <td>240.0</td>\n",
       "      <td>15.6456</td>\n",
       "      <td>0.95</td>\n",
       "      <td>2020.0</td>\n",
       "      <td>15</td>\n",
       "      <td>...</td>\n",
       "      <td>NaN</td>\n",
       "      <td>NaN</td>\n",
       "      <td>NaN</td>\n",
       "      <td>NaN</td>\n",
       "      <td>NaN</td>\n",
       "      <td>NaN</td>\n",
       "      <td>NaN</td>\n",
       "      <td>NaN</td>\n",
       "      <td>NaN</td>\n",
       "      <td>NaN</td>\n",
       "    </tr>\n",
       "    <tr>\n",
       "      <th>467379</th>\n",
       "      <td>62.0</td>\n",
       "      <td>4.0</td>\n",
       "      <td>1.0</td>\n",
       "      <td>0.7923</td>\n",
       "      <td>41.70</td>\n",
       "      <td>240.0</td>\n",
       "      <td>9.5081</td>\n",
       "      <td>0.95</td>\n",
       "      <td>2020.0</td>\n",
       "      <td>15</td>\n",
       "      <td>...</td>\n",
       "      <td>NaN</td>\n",
       "      <td>NaN</td>\n",
       "      <td>NaN</td>\n",
       "      <td>NaN</td>\n",
       "      <td>NaN</td>\n",
       "      <td>NaN</td>\n",
       "      <td>NaN</td>\n",
       "      <td>NaN</td>\n",
       "      <td>NaN</td>\n",
       "      <td>NaN</td>\n",
       "    </tr>\n",
       "    <tr>\n",
       "      <th>467380</th>\n",
       "      <td>62.0</td>\n",
       "      <td>4.0</td>\n",
       "      <td>1.0</td>\n",
       "      <td>1.4627</td>\n",
       "      <td>38.49</td>\n",
       "      <td>240.0</td>\n",
       "      <td>17.5524</td>\n",
       "      <td>0.95</td>\n",
       "      <td>2020.0</td>\n",
       "      <td>15</td>\n",
       "      <td>...</td>\n",
       "      <td>NaN</td>\n",
       "      <td>NaN</td>\n",
       "      <td>NaN</td>\n",
       "      <td>NaN</td>\n",
       "      <td>NaN</td>\n",
       "      <td>NaN</td>\n",
       "      <td>NaN</td>\n",
       "      <td>NaN</td>\n",
       "      <td>NaN</td>\n",
       "      <td>NaN</td>\n",
       "    </tr>\n",
       "  </tbody>\n",
       "</table>\n",
       "<p>5 rows × 21 columns</p>\n",
       "</div>"
      ],
      "text/plain": [
       "        building_id   id  campus_id  consumptionsub  current  voltage  \\\n",
       "467376         62.0  4.0        1.0          0.1585     8.34    240.0   \n",
       "467377         62.0  4.0        1.0          1.4502    25.44    240.0   \n",
       "467378         62.0  4.0        1.0          1.3038    34.31    240.0   \n",
       "467379         62.0  4.0        1.0          0.7923    41.70    240.0   \n",
       "467380         62.0  4.0        1.0          1.4627    38.49    240.0   \n",
       "\n",
       "          power  power_factor    year  day  ...  apparent_temperature  \\\n",
       "467376   1.9015          0.95  2020.0   15  ...                   NaN   \n",
       "467377  17.4019          0.95  2020.0   15  ...                   NaN   \n",
       "467378  15.6456          0.95  2020.0   15  ...                   NaN   \n",
       "467379   9.5081          0.95  2020.0   15  ...                   NaN   \n",
       "467380  17.5524          0.95  2020.0   15  ...                   NaN   \n",
       "\n",
       "        air_temperature  dew_point_temperature  relative_humidity  wind_speed  \\\n",
       "467376              NaN                    NaN                NaN         NaN   \n",
       "467377              NaN                    NaN                NaN         NaN   \n",
       "467378              NaN                    NaN                NaN         NaN   \n",
       "467379              NaN                    NaN                NaN         NaN   \n",
       "467380              NaN                    NaN                NaN         NaN   \n",
       "\n",
       "        wind_direction  meter_id  consumption  demand_kW  demand_kVA  \n",
       "467376             NaN       NaN          NaN        NaN         NaN  \n",
       "467377             NaN       NaN          NaN        NaN         NaN  \n",
       "467378             NaN       NaN          NaN        NaN         NaN  \n",
       "467379             NaN       NaN          NaN        NaN         NaN  \n",
       "467380             NaN       NaN          NaN        NaN         NaN  \n",
       "\n",
       "[5 rows x 21 columns]"
      ]
     },
     "execution_count": 56,
     "metadata": {},
     "output_type": "execute_result"
    }
   ],
   "source": [
    "#Dropping 'timestamp' columns for better performance for the model\n",
    "consump_submeter_Bundoora_drop=merged_df.drop(['timestamp'],axis=1)\n",
    "consump_submeter_Bundoora_drop.head()"
   ]
  },
  {
   "cell_type": "markdown",
   "id": "e117276f",
   "metadata": {},
   "source": [
    "### 2- Check and Deal with missing data (do not just drop rows or columns without justifying this)."
   ]
  },
  {
   "cell_type": "code",
   "execution_count": 57,
   "id": "549c2143",
   "metadata": {},
   "outputs": [
    {
     "data": {
      "text/plain": [
       "building_id              5343378\n",
       "id                       5343378\n",
       "campus_id                      0\n",
       "consumptionsub           5343378\n",
       "current                  5343378\n",
       "voltage                  5343378\n",
       "power                    5343378\n",
       "power_factor             5343378\n",
       "year                     3507076\n",
       "day                            0\n",
       "hour                           0\n",
       "apparent_temperature     3949362\n",
       "air_temperature          3949362\n",
       "dew_point_temperature    3949362\n",
       "relative_humidity        3949362\n",
       "wind_speed               3949362\n",
       "wind_direction           3949362\n",
       "meter_id                 2278588\n",
       "consumption              2278588\n",
       "demand_kW                2278588\n",
       "demand_kVA               2278588\n",
       "dtype: int64"
      ]
     },
     "execution_count": 57,
     "metadata": {},
     "output_type": "execute_result"
    }
   ],
   "source": [
    "consump_submeter_Bundoora_drop.isnull().sum() # Checking missing value in the data"
   ]
  },
  {
   "cell_type": "code",
   "execution_count": 58,
   "id": "18279df3",
   "metadata": {},
   "outputs": [],
   "source": [
    "consump_submeter_Bundoora_fill=consump_submeter_Bundoora_drop.fillna(0)"
   ]
  },
  {
   "cell_type": "code",
   "execution_count": 59,
   "id": "1d4cb1e9",
   "metadata": {},
   "outputs": [
    {
     "data": {
      "text/plain": [
       "building_id              0\n",
       "id                       0\n",
       "campus_id                0\n",
       "consumptionsub           0\n",
       "current                  0\n",
       "voltage                  0\n",
       "power                    0\n",
       "power_factor             0\n",
       "year                     0\n",
       "day                      0\n",
       "hour                     0\n",
       "apparent_temperature     0\n",
       "air_temperature          0\n",
       "dew_point_temperature    0\n",
       "relative_humidity        0\n",
       "wind_speed               0\n",
       "wind_direction           0\n",
       "meter_id                 0\n",
       "consumption              0\n",
       "demand_kW                0\n",
       "demand_kVA               0\n",
       "dtype: int64"
      ]
     },
     "execution_count": 59,
     "metadata": {},
     "output_type": "execute_result"
    }
   ],
   "source": [
    "consump_submeter_Bundoora_fill.isnull().sum() # Checking missing value in the data"
   ]
  },
  {
   "cell_type": "markdown",
   "id": "e35929f8",
   "metadata": {},
   "source": [
    "As we can see there are missing values in the dataset for level variables. Missing data can be handled in several ways. The data will have a big impact on how to handle missing data. The consumption data had been collected by smart electricity meter. Some information is maybe not be collected I chose to fill all missing data with zero."
   ]
  },
  {
   "cell_type": "markdown",
   "id": "491a2998",
   "metadata": {},
   "source": [
    "### 3- Find duplicates"
   ]
  },
  {
   "cell_type": "code",
   "execution_count": 60,
   "id": "cb52046d",
   "metadata": {},
   "outputs": [
    {
     "data": {
      "text/plain": [
       "467376     False\n",
       "467377     False\n",
       "467378     False\n",
       "467379     False\n",
       "467380     False\n",
       "           ...  \n",
       "3507071    False\n",
       "3507072    False\n",
       "3507073    False\n",
       "3507074    False\n",
       "3507075    False\n",
       "Length: 5785664, dtype: bool"
      ]
     },
     "execution_count": 60,
     "metadata": {},
     "output_type": "execute_result"
    }
   ],
   "source": [
    "consump_submeter_Bundoora_fill.duplicated() # Finding duplicate value in the data "
   ]
  },
  {
   "cell_type": "markdown",
   "id": "88d8e8e0",
   "metadata": {},
   "source": [
    "As we can see the duplicated() method returns a series with False values that indicate there are no duplicate values in the data frame"
   ]
  },
  {
   "cell_type": "code",
   "execution_count": 61,
   "id": "28696fde",
   "metadata": {},
   "outputs": [
    {
     "data": {
      "text/plain": [
       "(5785664, 21)"
      ]
     },
     "execution_count": 61,
     "metadata": {},
     "output_type": "execute_result"
    }
   ],
   "source": [
    "consump_submeter_Bundoora_fill.shape # Returning a tuple representing the dimensionality of the DataFrame"
   ]
  },
  {
   "cell_type": "markdown",
   "id": "32acec6b",
   "metadata": {},
   "source": [
    "Using the correlation matrix to find the highly correlated characteristics, we remove one of the two features from each highly correlated pair before dropping the highly collinear features. The drop() function can eliminate the features with high correlation from the dataframe after using the corr() function to compute the correlation matrix."
   ]
  },
  {
   "cell_type": "markdown",
   "id": "abe382b6",
   "metadata": {},
   "source": [
    "Using correlation is possible to measure the linear relationship between two or more variables. One variable can be predicted from another using correlation. Because good variables have a strong correlation with the target, correlation can be used to select features. Additionally, variables should not be associated with one another but with the aim."
   ]
  },
  {
   "cell_type": "code",
   "execution_count": 62,
   "id": "ede0be9a",
   "metadata": {},
   "outputs": [
    {
     "data": {
      "text/plain": [
       "<AxesSubplot:>"
      ]
     },
     "execution_count": 62,
     "metadata": {},
     "output_type": "execute_result"
    },
    {
     "data": {
      "image/png": "[encoded data removed]",
      "text/plain": [
       "<Figure size 1500x800 with 2 Axes>"
      ]
     },
     "metadata": {},
     "output_type": "display_data"
    }
   ],
   "source": [
    "corr_Mat=consump_submeter_Bundoora_fill.corr().abs()\n",
    "plt.figure(figsize=(15,8))\n",
    "sns.heatmap(corr_Mat,annot=True) #"
   ]
  },
  {
   "cell_type": "markdown",
   "id": "6577fe76",
   "metadata": {},
   "source": [
    "### 4- Perform any data extraction/selection steps"
   ]
  },
  {
   "cell_type": "markdown",
   "id": "dc367451",
   "metadata": {},
   "source": [
    "An easy starting point for feature selection is the variance threshold. All aspects that don't have a certain level of volatility are removed. Zero-variance features, or those with the same value across all samples, are all drawn by default. Components with a higher variance might have more relevant information. "
   ]
  },
  {
   "cell_type": "markdown",
   "id": "f1078e66",
   "metadata": {},
   "source": [
    "**Lets apply the Variance Threshold**"
   ]
  },
  {
   "cell_type": "code",
   "execution_count": 63,
   "id": "3a6b2307",
   "metadata": {},
   "outputs": [],
   "source": [
    "# Creating features and target\n",
    "X=consump_submeter_Bundoora_fill.drop(['power'],axis=1)\n",
    "y=consump_submeter_Bundoora_fill['power']"
   ]
  },
  {
   "cell_type": "code",
   "execution_count": 64,
   "id": "453775cf",
   "metadata": {},
   "outputs": [
    {
     "data": {
      "text/plain": [
       "((4049964, 20), (1735700, 20))"
      ]
     },
     "execution_count": 64,
     "metadata": {},
     "output_type": "execute_result"
    }
   ],
   "source": [
    "# Splitting the dataset\n",
    "X_train,X_test,y_train,y_test=train_test_split(X,y,test_size=0.3,random_state=0)\n",
    "X_train.shape,X_test.shape"
   ]
  },
  {
   "cell_type": "code",
   "execution_count": 2,
   "id": "80dfa25d",
   "metadata": {},
   "outputs": [
    {
     "ename": "NameError",
     "evalue": "name 'VarianceThreshold' is not defined",
     "output_type": "error",
     "traceback": [
      "\u001b[1;31m---------------------------------------------------------------------------\u001b[0m",
      "\u001b[1;31mNameError\u001b[0m                                 Traceback (most recent call last)",
      "\u001b[1;32m~\\AppData\\Local\\Temp\\ipykernel_29212\\3657589924.py\u001b[0m in \u001b[0;36m<module>\u001b[1;34m\u001b[0m\n\u001b[0;32m      1\u001b[0m \u001b[1;31m# Applying Variance Threshold to select features\u001b[0m\u001b[1;33m\u001b[0m\u001b[1;33m\u001b[0m\u001b[0m\n\u001b[1;32m----> 2\u001b[1;33m \u001b[0mvar_thres\u001b[0m\u001b[1;33m=\u001b[0m\u001b[0mVarianceThreshold\u001b[0m\u001b[1;33m(\u001b[0m\u001b[0mthreshold\u001b[0m\u001b[1;33m=\u001b[0m\u001b[1;36m.5\u001b[0m\u001b[1;33m)\u001b[0m\u001b[1;33m\u001b[0m\u001b[1;33m\u001b[0m\u001b[0m\n\u001b[0m\u001b[0;32m      3\u001b[0m \u001b[0mvar_thres\u001b[0m\u001b[1;33m.\u001b[0m\u001b[0mfit\u001b[0m\u001b[1;33m(\u001b[0m\u001b[0mX_train\u001b[0m\u001b[1;33m)\u001b[0m\u001b[1;33m\u001b[0m\u001b[1;33m\u001b[0m\u001b[0m\n",
      "\u001b[1;31mNameError\u001b[0m: name 'VarianceThreshold' is not defined"
     ]
    }
   ],
   "source": [
    "# Applying Variance Threshold to select features\n",
    "var_thres=VarianceThreshold(threshold=.5)\n",
    "var_thres.fit(X_train)"
   ]
  },
  {
   "cell_type": "code",
   "execution_count": 66,
   "id": "46971f30",
   "metadata": {},
   "outputs": [
    {
     "data": {
      "text/plain": [
       "array([ True,  True,  True, False,  True,  True, False,  True,  True,\n",
       "        True,  True,  True,  True,  True,  True,  True,  True,  True,\n",
       "        True,  True])"
      ]
     },
     "execution_count": 66,
     "metadata": {},
     "output_type": "execute_result"
    }
   ],
   "source": [
    "var_thres.get_support() # Identifying the selected features"
   ]
  },
  {
   "cell_type": "code",
   "execution_count": 67,
   "id": "2fe00e70",
   "metadata": {},
   "outputs": [
    {
     "data": {
      "text/plain": [
       "18"
      ]
     },
     "execution_count": 67,
     "metadata": {},
     "output_type": "execute_result"
    }
   ],
   "source": [
    "#Finding non constant features\n",
    "sum(var_thres.get_support())"
   ]
  },
  {
   "cell_type": "code",
   "execution_count": null,
   "id": "18b7133e",
   "metadata": {},
   "outputs": [],
   "source": []
  },
  {
   "cell_type": "code",
   "execution_count": 68,
   "id": "76b4d1d6",
   "metadata": {},
   "outputs": [
    {
     "name": "stdout",
     "output_type": "stream",
     "text": [
      "['consumptionsub', 'power_factor']\n"
     ]
    }
   ],
   "source": [
    "# Finding non constant features\n",
    "constant_colums= [column for column in X_train\n",
    "                     if column not in X_train.columns[var_thres.get_support()]]\n",
    "print(constant_colums)"
   ]
  },
  {
   "cell_type": "code",
   "execution_count": 69,
   "id": "416d0cf5",
   "metadata": {},
   "outputs": [
    {
     "name": "stdout",
     "output_type": "stream",
     "text": [
      "consumptionsub\n",
      "power_factor\n"
     ]
    }
   ],
   "source": [
    "for colunm in constant_colums:\n",
    "    print(colunm)"
   ]
  },
  {
   "cell_type": "markdown",
   "id": "a1fd8df8",
   "metadata": {},
   "source": [
    "### 5- Drop any features that are not useful for your model building and explain why they are not useful"
   ]
  },
  {
   "cell_type": "code",
   "execution_count": 70,
   "id": "dbab5c33",
   "metadata": {},
   "outputs": [
    {
     "data": {
      "text/html": [
       "<div>\n",
       "<style scoped>\n",
       "    .dataframe tbody tr th:only-of-type {\n",
       "        vertical-align: middle;\n",
       "    }\n",
       "\n",
       "    .dataframe tbody tr th {\n",
       "        vertical-align: top;\n",
       "    }\n",
       "\n",
       "    .dataframe thead th {\n",
       "        text-align: right;\n",
       "    }\n",
       "</style>\n",
       "<table border=\"1\" class=\"dataframe\">\n",
       "  <thead>\n",
       "    <tr style=\"text-align: right;\">\n",
       "      <th></th>\n",
       "      <th>building_id</th>\n",
       "      <th>id</th>\n",
       "      <th>campus_id</th>\n",
       "      <th>current</th>\n",
       "      <th>voltage</th>\n",
       "      <th>year</th>\n",
       "      <th>day</th>\n",
       "      <th>hour</th>\n",
       "      <th>apparent_temperature</th>\n",
       "      <th>air_temperature</th>\n",
       "      <th>dew_point_temperature</th>\n",
       "      <th>relative_humidity</th>\n",
       "      <th>wind_speed</th>\n",
       "      <th>wind_direction</th>\n",
       "      <th>meter_id</th>\n",
       "      <th>consumption</th>\n",
       "      <th>demand_kW</th>\n",
       "      <th>demand_kVA</th>\n",
       "    </tr>\n",
       "  </thead>\n",
       "  <tbody>\n",
       "    <tr>\n",
       "      <th>2786453</th>\n",
       "      <td>0.0</td>\n",
       "      <td>0.0</td>\n",
       "      <td>1.0</td>\n",
       "      <td>0.0</td>\n",
       "      <td>0.0</td>\n",
       "      <td>0.0</td>\n",
       "      <td>22</td>\n",
       "      <td>18</td>\n",
       "      <td>0.0</td>\n",
       "      <td>0.0</td>\n",
       "      <td>0.0</td>\n",
       "      <td>0.0</td>\n",
       "      <td>0.0</td>\n",
       "      <td>0.0</td>\n",
       "      <td>12.0</td>\n",
       "      <td>689.171</td>\n",
       "      <td>2756.684</td>\n",
       "      <td>2973.118</td>\n",
       "    </tr>\n",
       "    <tr>\n",
       "      <th>1810880</th>\n",
       "      <td>0.0</td>\n",
       "      <td>0.0</td>\n",
       "      <td>1.0</td>\n",
       "      <td>0.0</td>\n",
       "      <td>0.0</td>\n",
       "      <td>2021.0</td>\n",
       "      <td>22</td>\n",
       "      <td>17</td>\n",
       "      <td>9.0</td>\n",
       "      <td>11.8</td>\n",
       "      <td>7.5</td>\n",
       "      <td>75.0</td>\n",
       "      <td>11.2</td>\n",
       "      <td>64.0</td>\n",
       "      <td>0.0</td>\n",
       "      <td>0.000</td>\n",
       "      <td>0.000</td>\n",
       "      <td>0.000</td>\n",
       "    </tr>\n",
       "    <tr>\n",
       "      <th>1736912</th>\n",
       "      <td>0.0</td>\n",
       "      <td>0.0</td>\n",
       "      <td>1.0</td>\n",
       "      <td>0.0</td>\n",
       "      <td>0.0</td>\n",
       "      <td>2021.0</td>\n",
       "      <td>2</td>\n",
       "      <td>8</td>\n",
       "      <td>16.4</td>\n",
       "      <td>17.7</td>\n",
       "      <td>10.3</td>\n",
       "      <td>62.0</td>\n",
       "      <td>7.6</td>\n",
       "      <td>62.0</td>\n",
       "      <td>0.0</td>\n",
       "      <td>0.000</td>\n",
       "      <td>0.000</td>\n",
       "      <td>0.000</td>\n",
       "    </tr>\n",
       "    <tr>\n",
       "      <th>185600</th>\n",
       "      <td>0.0</td>\n",
       "      <td>0.0</td>\n",
       "      <td>1.0</td>\n",
       "      <td>0.0</td>\n",
       "      <td>0.0</td>\n",
       "      <td>0.0</td>\n",
       "      <td>13</td>\n",
       "      <td>14</td>\n",
       "      <td>0.0</td>\n",
       "      <td>0.0</td>\n",
       "      <td>0.0</td>\n",
       "      <td>0.0</td>\n",
       "      <td>0.0</td>\n",
       "      <td>0.0</td>\n",
       "      <td>1.0</td>\n",
       "      <td>174.000</td>\n",
       "      <td>696.000</td>\n",
       "      <td>696.103</td>\n",
       "    </tr>\n",
       "    <tr>\n",
       "      <th>3153910</th>\n",
       "      <td>0.0</td>\n",
       "      <td>0.0</td>\n",
       "      <td>1.0</td>\n",
       "      <td>0.0</td>\n",
       "      <td>0.0</td>\n",
       "      <td>0.0</td>\n",
       "      <td>12</td>\n",
       "      <td>4</td>\n",
       "      <td>0.0</td>\n",
       "      <td>0.0</td>\n",
       "      <td>0.0</td>\n",
       "      <td>0.0</td>\n",
       "      <td>0.0</td>\n",
       "      <td>0.0</td>\n",
       "      <td>13.0</td>\n",
       "      <td>4.512</td>\n",
       "      <td>18.048</td>\n",
       "      <td>18.751</td>\n",
       "    </tr>\n",
       "    <tr>\n",
       "      <th>...</th>\n",
       "      <td>...</td>\n",
       "      <td>...</td>\n",
       "      <td>...</td>\n",
       "      <td>...</td>\n",
       "      <td>...</td>\n",
       "      <td>...</td>\n",
       "      <td>...</td>\n",
       "      <td>...</td>\n",
       "      <td>...</td>\n",
       "      <td>...</td>\n",
       "      <td>...</td>\n",
       "      <td>...</td>\n",
       "      <td>...</td>\n",
       "      <td>...</td>\n",
       "      <td>...</td>\n",
       "      <td>...</td>\n",
       "      <td>...</td>\n",
       "      <td>...</td>\n",
       "    </tr>\n",
       "    <tr>\n",
       "      <th>1807181</th>\n",
       "      <td>0.0</td>\n",
       "      <td>0.0</td>\n",
       "      <td>1.0</td>\n",
       "      <td>0.0</td>\n",
       "      <td>0.0</td>\n",
       "      <td>2021.0</td>\n",
       "      <td>20</td>\n",
       "      <td>3</td>\n",
       "      <td>3.9</td>\n",
       "      <td>5.0</td>\n",
       "      <td>5.0</td>\n",
       "      <td>100.0</td>\n",
       "      <td>0.0</td>\n",
       "      <td>252.0</td>\n",
       "      <td>0.0</td>\n",
       "      <td>0.000</td>\n",
       "      <td>0.000</td>\n",
       "      <td>0.000</td>\n",
       "    </tr>\n",
       "    <tr>\n",
       "      <th>2879111</th>\n",
       "      <td>0.0</td>\n",
       "      <td>0.0</td>\n",
       "      <td>1.0</td>\n",
       "      <td>0.0</td>\n",
       "      <td>0.0</td>\n",
       "      <td>0.0</td>\n",
       "      <td>12</td>\n",
       "      <td>9</td>\n",
       "      <td>0.0</td>\n",
       "      <td>0.0</td>\n",
       "      <td>0.0</td>\n",
       "      <td>0.0</td>\n",
       "      <td>0.0</td>\n",
       "      <td>0.0</td>\n",
       "      <td>12.0</td>\n",
       "      <td>941.370</td>\n",
       "      <td>3765.480</td>\n",
       "      <td>3866.245</td>\n",
       "    </tr>\n",
       "    <tr>\n",
       "      <th>1772818</th>\n",
       "      <td>0.0</td>\n",
       "      <td>0.0</td>\n",
       "      <td>1.0</td>\n",
       "      <td>0.0</td>\n",
       "      <td>0.0</td>\n",
       "      <td>2021.0</td>\n",
       "      <td>27</td>\n",
       "      <td>6</td>\n",
       "      <td>8.4</td>\n",
       "      <td>10.4</td>\n",
       "      <td>9.3</td>\n",
       "      <td>93.0</td>\n",
       "      <td>9.4</td>\n",
       "      <td>303.0</td>\n",
       "      <td>0.0</td>\n",
       "      <td>0.000</td>\n",
       "      <td>0.000</td>\n",
       "      <td>0.000</td>\n",
       "    </tr>\n",
       "    <tr>\n",
       "      <th>1042119</th>\n",
       "      <td>0.0</td>\n",
       "      <td>0.0</td>\n",
       "      <td>1.0</td>\n",
       "      <td>0.0</td>\n",
       "      <td>0.0</td>\n",
       "      <td>2019.0</td>\n",
       "      <td>25</td>\n",
       "      <td>18</td>\n",
       "      <td>26.8</td>\n",
       "      <td>29.4</td>\n",
       "      <td>11.0</td>\n",
       "      <td>32.0</td>\n",
       "      <td>14.8</td>\n",
       "      <td>205.0</td>\n",
       "      <td>0.0</td>\n",
       "      <td>0.000</td>\n",
       "      <td>0.000</td>\n",
       "      <td>0.000</td>\n",
       "    </tr>\n",
       "    <tr>\n",
       "      <th>2221427</th>\n",
       "      <td>0.0</td>\n",
       "      <td>0.0</td>\n",
       "      <td>3.0</td>\n",
       "      <td>0.0</td>\n",
       "      <td>0.0</td>\n",
       "      <td>0.0</td>\n",
       "      <td>7</td>\n",
       "      <td>20</td>\n",
       "      <td>0.0</td>\n",
       "      <td>0.0</td>\n",
       "      <td>0.0</td>\n",
       "      <td>0.0</td>\n",
       "      <td>0.0</td>\n",
       "      <td>0.0</td>\n",
       "      <td>10.0</td>\n",
       "      <td>39.066</td>\n",
       "      <td>156.264</td>\n",
       "      <td>160.953</td>\n",
       "    </tr>\n",
       "  </tbody>\n",
       "</table>\n",
       "<p>4049964 rows × 18 columns</p>\n",
       "</div>"
      ],
      "text/plain": [
       "         building_id   id  campus_id  current  voltage    year  day  hour  \\\n",
       "2786453          0.0  0.0        1.0      0.0      0.0     0.0   22    18   \n",
       "1810880          0.0  0.0        1.0      0.0      0.0  2021.0   22    17   \n",
       "1736912          0.0  0.0        1.0      0.0      0.0  2021.0    2     8   \n",
       "185600           0.0  0.0        1.0      0.0      0.0     0.0   13    14   \n",
       "3153910          0.0  0.0        1.0      0.0      0.0     0.0   12     4   \n",
       "...              ...  ...        ...      ...      ...     ...  ...   ...   \n",
       "1807181          0.0  0.0        1.0      0.0      0.0  2021.0   20     3   \n",
       "2879111          0.0  0.0        1.0      0.0      0.0     0.0   12     9   \n",
       "1772818          0.0  0.0        1.0      0.0      0.0  2021.0   27     6   \n",
       "1042119          0.0  0.0        1.0      0.0      0.0  2019.0   25    18   \n",
       "2221427          0.0  0.0        3.0      0.0      0.0     0.0    7    20   \n",
       "\n",
       "         apparent_temperature  air_temperature  dew_point_temperature  \\\n",
       "2786453                   0.0              0.0                    0.0   \n",
       "1810880                   9.0             11.8                    7.5   \n",
       "1736912                  16.4             17.7                   10.3   \n",
       "185600                    0.0              0.0                    0.0   \n",
       "3153910                   0.0              0.0                    0.0   \n",
       "...                       ...              ...                    ...   \n",
       "1807181                   3.9              5.0                    5.0   \n",
       "2879111                   0.0              0.0                    0.0   \n",
       "1772818                   8.4             10.4                    9.3   \n",
       "1042119                  26.8             29.4                   11.0   \n",
       "2221427                   0.0              0.0                    0.0   \n",
       "\n",
       "         relative_humidity  wind_speed  wind_direction  meter_id  consumption  \\\n",
       "2786453                0.0         0.0             0.0      12.0      689.171   \n",
       "1810880               75.0        11.2            64.0       0.0        0.000   \n",
       "1736912               62.0         7.6            62.0       0.0        0.000   \n",
       "185600                 0.0         0.0             0.0       1.0      174.000   \n",
       "3153910                0.0         0.0             0.0      13.0        4.512   \n",
       "...                    ...         ...             ...       ...          ...   \n",
       "1807181              100.0         0.0           252.0       0.0        0.000   \n",
       "2879111                0.0         0.0             0.0      12.0      941.370   \n",
       "1772818               93.0         9.4           303.0       0.0        0.000   \n",
       "1042119               32.0        14.8           205.0       0.0        0.000   \n",
       "2221427                0.0         0.0             0.0      10.0       39.066   \n",
       "\n",
       "         demand_kW  demand_kVA  \n",
       "2786453   2756.684    2973.118  \n",
       "1810880      0.000       0.000  \n",
       "1736912      0.000       0.000  \n",
       "185600     696.000     696.103  \n",
       "3153910     18.048      18.751  \n",
       "...            ...         ...  \n",
       "1807181      0.000       0.000  \n",
       "2879111   3765.480    3866.245  \n",
       "1772818      0.000       0.000  \n",
       "1042119      0.000       0.000  \n",
       "2221427    156.264     160.953  \n",
       "\n",
       "[4049964 rows x 18 columns]"
      ]
     },
     "execution_count": 70,
     "metadata": {},
     "output_type": "execute_result"
    }
   ],
   "source": [
    "X_train.drop(constant_colums,axis=1)"
   ]
  },
  {
   "cell_type": "markdown",
   "id": "af8fefe1",
   "metadata": {},
   "source": [
    "**To improve the accuracy of my modeling, I removed low-variance features from the dataset using a variance threshold. These features had little value and were not useful in the analysis.**"
   ]
  },
  {
   "cell_type": "code",
   "execution_count": 71,
   "id": "e62cffa8",
   "metadata": {},
   "outputs": [],
   "source": [
    "X_train.drop(constant_colums,axis=1).to_csv(\"C:/Users/79bar/dsc550/energy/new_feature1.csv\") # creating a new csv file"
   ]
  },
  {
   "cell_type": "code",
   "execution_count": 72,
   "id": "9d86c38e",
   "metadata": {},
   "outputs": [
    {
     "data": {
      "text/html": [
       "<div>\n",
       "<style scoped>\n",
       "    .dataframe tbody tr th:only-of-type {\n",
       "        vertical-align: middle;\n",
       "    }\n",
       "\n",
       "    .dataframe tbody tr th {\n",
       "        vertical-align: top;\n",
       "    }\n",
       "\n",
       "    .dataframe thead th {\n",
       "        text-align: right;\n",
       "    }\n",
       "</style>\n",
       "<table border=\"1\" class=\"dataframe\">\n",
       "  <thead>\n",
       "    <tr style=\"text-align: right;\">\n",
       "      <th></th>\n",
       "      <th>Unnamed: 0</th>\n",
       "      <th>building_id</th>\n",
       "      <th>id</th>\n",
       "      <th>campus_id</th>\n",
       "      <th>current</th>\n",
       "      <th>voltage</th>\n",
       "      <th>year</th>\n",
       "      <th>day</th>\n",
       "      <th>hour</th>\n",
       "      <th>apparent_temperature</th>\n",
       "      <th>air_temperature</th>\n",
       "      <th>dew_point_temperature</th>\n",
       "      <th>relative_humidity</th>\n",
       "      <th>wind_speed</th>\n",
       "      <th>wind_direction</th>\n",
       "      <th>meter_id</th>\n",
       "      <th>consumption</th>\n",
       "      <th>demand_kW</th>\n",
       "      <th>demand_kVA</th>\n",
       "    </tr>\n",
       "  </thead>\n",
       "  <tbody>\n",
       "    <tr>\n",
       "      <th>0</th>\n",
       "      <td>2786453</td>\n",
       "      <td>0.0</td>\n",
       "      <td>0.0</td>\n",
       "      <td>1.0</td>\n",
       "      <td>0.0</td>\n",
       "      <td>0.0</td>\n",
       "      <td>0.0</td>\n",
       "      <td>22</td>\n",
       "      <td>18</td>\n",
       "      <td>0.0</td>\n",
       "      <td>0.0</td>\n",
       "      <td>0.0</td>\n",
       "      <td>0.0</td>\n",
       "      <td>0.0</td>\n",
       "      <td>0.0</td>\n",
       "      <td>12.0</td>\n",
       "      <td>689.171</td>\n",
       "      <td>2756.684</td>\n",
       "      <td>2973.118</td>\n",
       "    </tr>\n",
       "    <tr>\n",
       "      <th>1</th>\n",
       "      <td>1810880</td>\n",
       "      <td>0.0</td>\n",
       "      <td>0.0</td>\n",
       "      <td>1.0</td>\n",
       "      <td>0.0</td>\n",
       "      <td>0.0</td>\n",
       "      <td>2021.0</td>\n",
       "      <td>22</td>\n",
       "      <td>17</td>\n",
       "      <td>9.0</td>\n",
       "      <td>11.8</td>\n",
       "      <td>7.5</td>\n",
       "      <td>75.0</td>\n",
       "      <td>11.2</td>\n",
       "      <td>64.0</td>\n",
       "      <td>0.0</td>\n",
       "      <td>0.000</td>\n",
       "      <td>0.000</td>\n",
       "      <td>0.000</td>\n",
       "    </tr>\n",
       "    <tr>\n",
       "      <th>2</th>\n",
       "      <td>1736912</td>\n",
       "      <td>0.0</td>\n",
       "      <td>0.0</td>\n",
       "      <td>1.0</td>\n",
       "      <td>0.0</td>\n",
       "      <td>0.0</td>\n",
       "      <td>2021.0</td>\n",
       "      <td>2</td>\n",
       "      <td>8</td>\n",
       "      <td>16.4</td>\n",
       "      <td>17.7</td>\n",
       "      <td>10.3</td>\n",
       "      <td>62.0</td>\n",
       "      <td>7.6</td>\n",
       "      <td>62.0</td>\n",
       "      <td>0.0</td>\n",
       "      <td>0.000</td>\n",
       "      <td>0.000</td>\n",
       "      <td>0.000</td>\n",
       "    </tr>\n",
       "    <tr>\n",
       "      <th>3</th>\n",
       "      <td>185600</td>\n",
       "      <td>0.0</td>\n",
       "      <td>0.0</td>\n",
       "      <td>1.0</td>\n",
       "      <td>0.0</td>\n",
       "      <td>0.0</td>\n",
       "      <td>0.0</td>\n",
       "      <td>13</td>\n",
       "      <td>14</td>\n",
       "      <td>0.0</td>\n",
       "      <td>0.0</td>\n",
       "      <td>0.0</td>\n",
       "      <td>0.0</td>\n",
       "      <td>0.0</td>\n",
       "      <td>0.0</td>\n",
       "      <td>1.0</td>\n",
       "      <td>174.000</td>\n",
       "      <td>696.000</td>\n",
       "      <td>696.103</td>\n",
       "    </tr>\n",
       "    <tr>\n",
       "      <th>4</th>\n",
       "      <td>3153910</td>\n",
       "      <td>0.0</td>\n",
       "      <td>0.0</td>\n",
       "      <td>1.0</td>\n",
       "      <td>0.0</td>\n",
       "      <td>0.0</td>\n",
       "      <td>0.0</td>\n",
       "      <td>12</td>\n",
       "      <td>4</td>\n",
       "      <td>0.0</td>\n",
       "      <td>0.0</td>\n",
       "      <td>0.0</td>\n",
       "      <td>0.0</td>\n",
       "      <td>0.0</td>\n",
       "      <td>0.0</td>\n",
       "      <td>13.0</td>\n",
       "      <td>4.512</td>\n",
       "      <td>18.048</td>\n",
       "      <td>18.751</td>\n",
       "    </tr>\n",
       "  </tbody>\n",
       "</table>\n",
       "</div>"
      ],
      "text/plain": [
       "   Unnamed: 0  building_id   id  campus_id  current  voltage    year  day  \\\n",
       "0     2786453          0.0  0.0        1.0      0.0      0.0     0.0   22   \n",
       "1     1810880          0.0  0.0        1.0      0.0      0.0  2021.0   22   \n",
       "2     1736912          0.0  0.0        1.0      0.0      0.0  2021.0    2   \n",
       "3      185600          0.0  0.0        1.0      0.0      0.0     0.0   13   \n",
       "4     3153910          0.0  0.0        1.0      0.0      0.0     0.0   12   \n",
       "\n",
       "   hour  apparent_temperature  air_temperature  dew_point_temperature  \\\n",
       "0    18                   0.0              0.0                    0.0   \n",
       "1    17                   9.0             11.8                    7.5   \n",
       "2     8                  16.4             17.7                   10.3   \n",
       "3    14                   0.0              0.0                    0.0   \n",
       "4     4                   0.0              0.0                    0.0   \n",
       "\n",
       "   relative_humidity  wind_speed  wind_direction  meter_id  consumption  \\\n",
       "0                0.0         0.0             0.0      12.0      689.171   \n",
       "1               75.0        11.2            64.0       0.0        0.000   \n",
       "2               62.0         7.6            62.0       0.0        0.000   \n",
       "3                0.0         0.0             0.0       1.0      174.000   \n",
       "4                0.0         0.0             0.0      13.0        4.512   \n",
       "\n",
       "   demand_kW  demand_kVA  \n",
       "0   2756.684    2973.118  \n",
       "1      0.000       0.000  \n",
       "2      0.000       0.000  \n",
       "3    696.000     696.103  \n",
       "4     18.048      18.751  "
      ]
     },
     "execution_count": 72,
     "metadata": {},
     "output_type": "execute_result"
    }
   ],
   "source": [
    "# Reading dataset\n",
    "new_features=pd.read_csv(\"C:/Users/79bar/dsc550/energy/new_feature1.csv\")\n",
    "new_feature=pd.DataFrame(new_features)\n",
    "new_feature.head()"
   ]
  },
  {
   "cell_type": "code",
   "execution_count": 73,
   "id": "4c44c8f0",
   "metadata": {},
   "outputs": [
    {
     "data": {
      "text/plain": [
       "(4049964, 19)"
      ]
     },
     "execution_count": 73,
     "metadata": {},
     "output_type": "execute_result"
    }
   ],
   "source": [
    "new_feature.shape # Returning a tuple representing the dimensionality of the DataFrame"
   ]
  },
  {
   "cell_type": "code",
   "execution_count": 74,
   "id": "068fcead",
   "metadata": {
    "scrolled": true
   },
   "outputs": [
    {
     "data": {
      "text/plain": [
       "Unnamed: 0                 int64\n",
       "building_id              float64\n",
       "id                       float64\n",
       "campus_id                float64\n",
       "current                  float64\n",
       "voltage                  float64\n",
       "year                     float64\n",
       "day                        int64\n",
       "hour                       int64\n",
       "apparent_temperature     float64\n",
       "air_temperature          float64\n",
       "dew_point_temperature    float64\n",
       "relative_humidity        float64\n",
       "wind_speed               float64\n",
       "wind_direction           float64\n",
       "meter_id                 float64\n",
       "consumption              float64\n",
       "demand_kW                float64\n",
       "demand_kVA               float64\n",
       "dtype: object"
      ]
     },
     "execution_count": 74,
     "metadata": {},
     "output_type": "execute_result"
    }
   ],
   "source": [
    "new_feature.dtypes # Displaying types of variables"
   ]
  },
  {
   "cell_type": "markdown",
   "id": "0ed9bd00",
   "metadata": {},
   "source": [
    "### 6- Engineer new useful features."
   ]
  },
  {
   "cell_type": "code",
   "execution_count": 75,
   "id": "c3b2d3a2",
   "metadata": {},
   "outputs": [
    {
     "data": {
      "text/plain": [
       "StandardScaler()"
      ]
     },
     "execution_count": 75,
     "metadata": {},
     "output_type": "execute_result"
    }
   ],
   "source": [
    "# Standardizing features matrix\n",
    "scaler=StandardScaler()\n",
    "scaler.fit(new_feature)"
   ]
  },
  {
   "cell_type": "code",
   "execution_count": 76,
   "id": "2d1c00b7",
   "metadata": {},
   "outputs": [
    {
     "data": {
      "text/plain": [
       "array([[ 1.45401286, -0.2797824 , -0.28485619, ...,  5.30465316,\n",
       "         4.92079863,  5.14858409],\n",
       "       [ 0.42566561, -0.2797824 , -0.28485619, ..., -0.30797674,\n",
       "        -0.32542024, -0.32889004],\n",
       "       [ 0.34769626, -0.2797824 , -0.28485619, ..., -0.30797674,\n",
       "        -0.32542024, -0.32889004],\n",
       "       ...,\n",
       "       [ 0.38554462, -0.2797824 , -0.28485619, ..., -0.30797674,\n",
       "        -0.32542024, -0.32889004],\n",
       "       [-0.38468201, -0.2797824 , -0.28485619, ..., -0.30797674,\n",
       "        -0.32542024, -0.32889004],\n",
       "       [ 0.85842141, -0.2797824 , -0.28485619, ...,  0.01017797,\n",
       "        -0.02803572, -0.03236098]])"
      ]
     },
     "execution_count": 76,
     "metadata": {},
     "output_type": "execute_result"
    }
   ],
   "source": [
    "# Scaling the data\n",
    "scaled_data=scaler.transform(new_feature)\n",
    "scaled_data"
   ]
  },
  {
   "cell_type": "code",
   "execution_count": null,
   "id": "434b3192",
   "metadata": {},
   "outputs": [],
   "source": []
  },
  {
   "cell_type": "code",
   "execution_count": 77,
   "id": "3511566c",
   "metadata": {},
   "outputs": [
    {
     "data": {
      "text/plain": [
       "(4049964, 19)"
      ]
     },
     "execution_count": 77,
     "metadata": {},
     "output_type": "execute_result"
    }
   ],
   "source": [
    "scaled_data.shape  # Returning a tuple representing the dimensionality of the DataFrame"
   ]
  },
  {
   "cell_type": "code",
   "execution_count": 78,
   "id": "b98d2427",
   "metadata": {},
   "outputs": [
    {
     "data": {
      "text/plain": [
       "PCA(n_components=2)"
      ]
     },
     "execution_count": 78,
     "metadata": {},
     "output_type": "execute_result"
    }
   ],
   "source": [
    "# Reducing the dimensionality of data \n",
    "pca=PCA(n_components=2)\n",
    "pca.fit(scaled_data)"
   ]
  },
  {
   "cell_type": "code",
   "execution_count": 79,
   "id": "435cc766",
   "metadata": {},
   "outputs": [],
   "source": [
    "X_pca=pca.transform(scaled_data) # PCA transform algorithm transforms the data set to principal components"
   ]
  },
  {
   "cell_type": "code",
   "execution_count": 80,
   "id": "cf2881ae",
   "metadata": {},
   "outputs": [
    {
     "data": {
      "text/plain": [
       "(4049964, 2)"
      ]
     },
     "execution_count": 80,
     "metadata": {},
     "output_type": "execute_result"
    }
   ],
   "source": [
    "X_pca.shape # Returning a tuple representing the dimensionality of the DataFrame"
   ]
  },
  {
   "cell_type": "markdown",
   "id": "a959309d",
   "metadata": {},
   "source": [
    "As wecan see the StandardScaler and PCA have the same values."
   ]
  },
  {
   "cell_type": "code",
   "execution_count": 81,
   "id": "fca544c9",
   "metadata": {},
   "outputs": [
    {
     "data": {
      "text/html": [
       "<div>\n",
       "<style scoped>\n",
       "    .dataframe tbody tr th:only-of-type {\n",
       "        vertical-align: middle;\n",
       "    }\n",
       "\n",
       "    .dataframe tbody tr th {\n",
       "        vertical-align: top;\n",
       "    }\n",
       "\n",
       "    .dataframe thead th {\n",
       "        text-align: right;\n",
       "    }\n",
       "</style>\n",
       "<table border=\"1\" class=\"dataframe\">\n",
       "  <thead>\n",
       "    <tr style=\"text-align: right;\">\n",
       "      <th></th>\n",
       "      <th>Unnamed: 0</th>\n",
       "      <th>building_id</th>\n",
       "      <th>id</th>\n",
       "      <th>campus_id</th>\n",
       "      <th>current</th>\n",
       "      <th>voltage</th>\n",
       "      <th>year</th>\n",
       "      <th>day</th>\n",
       "      <th>hour</th>\n",
       "      <th>apparent_temperature</th>\n",
       "      <th>air_temperature</th>\n",
       "      <th>dew_point_temperature</th>\n",
       "      <th>relative_humidity</th>\n",
       "      <th>wind_speed</th>\n",
       "      <th>wind_direction</th>\n",
       "      <th>meter_id</th>\n",
       "      <th>consumption</th>\n",
       "      <th>demand_kW</th>\n",
       "      <th>demand_kVA</th>\n",
       "    </tr>\n",
       "  </thead>\n",
       "  <tbody>\n",
       "    <tr>\n",
       "      <th>count</th>\n",
       "      <td>4.049964e+06</td>\n",
       "      <td>4.049964e+06</td>\n",
       "      <td>4.049964e+06</td>\n",
       "      <td>4.049964e+06</td>\n",
       "      <td>4.049964e+06</td>\n",
       "      <td>4.049964e+06</td>\n",
       "      <td>4.049964e+06</td>\n",
       "      <td>4.049964e+06</td>\n",
       "      <td>4.049964e+06</td>\n",
       "      <td>4.049964e+06</td>\n",
       "      <td>4.049964e+06</td>\n",
       "      <td>4.049964e+06</td>\n",
       "      <td>4.049964e+06</td>\n",
       "      <td>4.049964e+06</td>\n",
       "      <td>4.049964e+06</td>\n",
       "      <td>4.049964e+06</td>\n",
       "      <td>4.049964e+06</td>\n",
       "      <td>4.049964e+06</td>\n",
       "      <td>4.049964e+06</td>\n",
       "    </tr>\n",
       "    <tr>\n",
       "      <th>mean</th>\n",
       "      <td>1.407059e+06</td>\n",
       "      <td>3.801138e+00</td>\n",
       "      <td>3.806412e-01</td>\n",
       "      <td>1.574681e+00</td>\n",
       "      <td>1.457921e+00</td>\n",
       "      <td>1.769861e+01</td>\n",
       "      <td>7.951339e+02</td>\n",
       "      <td>1.575432e+01</td>\n",
       "      <td>1.145080e+01</td>\n",
       "      <td>4.200979e+00</td>\n",
       "      <td>4.800176e+00</td>\n",
       "      <td>2.959080e+00</td>\n",
       "      <td>2.306581e+01</td>\n",
       "      <td>3.133330e+00</td>\n",
       "      <td>5.928595e+01</td>\n",
       "      <td>4.585464e+00</td>\n",
       "      <td>3.781625e+01</td>\n",
       "      <td>1.709957e+02</td>\n",
       "      <td>1.785182e+02</td>\n",
       "    </tr>\n",
       "    <tr>\n",
       "      <th>std</th>\n",
       "      <td>9.486806e+05</td>\n",
       "      <td>1.358605e+01</td>\n",
       "      <td>1.336257e+00</td>\n",
       "      <td>1.127914e+00</td>\n",
       "      <td>5.725315e+00</td>\n",
       "      <td>6.151743e+01</td>\n",
       "      <td>9.867070e+02</td>\n",
       "      <td>8.800607e+00</td>\n",
       "      <td>6.986250e+00</td>\n",
       "      <td>7.227583e+00</td>\n",
       "      <td>7.894559e+00</td>\n",
       "      <td>4.891070e+00</td>\n",
       "      <td>3.604708e+01</td>\n",
       "      <td>6.171104e+00</td>\n",
       "      <td>1.044093e+02</td>\n",
       "      <td>4.837693e+00</td>\n",
       "      <td>1.227893e+02</td>\n",
       "      <td>5.254612e+02</td>\n",
       "      <td>5.427900e+02</td>\n",
       "    </tr>\n",
       "    <tr>\n",
       "      <th>min</th>\n",
       "      <td>1.000000e+00</td>\n",
       "      <td>0.000000e+00</td>\n",
       "      <td>0.000000e+00</td>\n",
       "      <td>0.000000e+00</td>\n",
       "      <td>0.000000e+00</td>\n",
       "      <td>0.000000e+00</td>\n",
       "      <td>0.000000e+00</td>\n",
       "      <td>1.000000e+00</td>\n",
       "      <td>0.000000e+00</td>\n",
       "      <td>-7.000000e+00</td>\n",
       "      <td>-2.600000e+00</td>\n",
       "      <td>-5.900000e+00</td>\n",
       "      <td>0.000000e+00</td>\n",
       "      <td>0.000000e+00</td>\n",
       "      <td>0.000000e+00</td>\n",
       "      <td>0.000000e+00</td>\n",
       "      <td>0.000000e+00</td>\n",
       "      <td>-2.972672e+03</td>\n",
       "      <td>0.000000e+00</td>\n",
       "    </tr>\n",
       "    <tr>\n",
       "      <th>25%</th>\n",
       "      <td>6.377210e+05</td>\n",
       "      <td>0.000000e+00</td>\n",
       "      <td>0.000000e+00</td>\n",
       "      <td>1.000000e+00</td>\n",
       "      <td>0.000000e+00</td>\n",
       "      <td>0.000000e+00</td>\n",
       "      <td>0.000000e+00</td>\n",
       "      <td>8.000000e+00</td>\n",
       "      <td>5.000000e+00</td>\n",
       "      <td>0.000000e+00</td>\n",
       "      <td>0.000000e+00</td>\n",
       "      <td>0.000000e+00</td>\n",
       "      <td>0.000000e+00</td>\n",
       "      <td>0.000000e+00</td>\n",
       "      <td>0.000000e+00</td>\n",
       "      <td>0.000000e+00</td>\n",
       "      <td>0.000000e+00</td>\n",
       "      <td>0.000000e+00</td>\n",
       "      <td>0.000000e+00</td>\n",
       "    </tr>\n",
       "    <tr>\n",
       "      <th>50%</th>\n",
       "      <td>1.225232e+06</td>\n",
       "      <td>0.000000e+00</td>\n",
       "      <td>0.000000e+00</td>\n",
       "      <td>1.000000e+00</td>\n",
       "      <td>0.000000e+00</td>\n",
       "      <td>0.000000e+00</td>\n",
       "      <td>0.000000e+00</td>\n",
       "      <td>1.600000e+01</td>\n",
       "      <td>1.100000e+01</td>\n",
       "      <td>0.000000e+00</td>\n",
       "      <td>0.000000e+00</td>\n",
       "      <td>0.000000e+00</td>\n",
       "      <td>0.000000e+00</td>\n",
       "      <td>0.000000e+00</td>\n",
       "      <td>0.000000e+00</td>\n",
       "      <td>3.000000e+00</td>\n",
       "      <td>4.704000e+00</td>\n",
       "      <td>1.888000e+01</td>\n",
       "      <td>2.086400e+01</td>\n",
       "    </tr>\n",
       "    <tr>\n",
       "      <th>75%</th>\n",
       "      <td>2.060769e+06</td>\n",
       "      <td>0.000000e+00</td>\n",
       "      <td>0.000000e+00</td>\n",
       "      <td>2.000000e+00</td>\n",
       "      <td>0.000000e+00</td>\n",
       "      <td>0.000000e+00</td>\n",
       "      <td>2.019000e+03</td>\n",
       "      <td>2.300000e+01</td>\n",
       "      <td>1.800000e+01</td>\n",
       "      <td>7.800000e+00</td>\n",
       "      <td>1.020000e+01</td>\n",
       "      <td>6.000000e+00</td>\n",
       "      <td>5.300000e+01</td>\n",
       "      <td>3.600000e+00</td>\n",
       "      <td>7.200000e+01</td>\n",
       "      <td>9.000000e+00</td>\n",
       "      <td>1.680000e+01</td>\n",
       "      <td>7.992000e+01</td>\n",
       "      <td>8.690600e+01</td>\n",
       "    </tr>\n",
       "    <tr>\n",
       "      <th>max</th>\n",
       "      <td>3.507075e+06</td>\n",
       "      <td>6.200000e+01</td>\n",
       "      <td>6.000000e+00</td>\n",
       "      <td>5.000000e+00</td>\n",
       "      <td>4.474000e+01</td>\n",
       "      <td>2.400000e+02</td>\n",
       "      <td>2.022000e+03</td>\n",
       "      <td>3.100000e+01</td>\n",
       "      <td>2.300000e+01</td>\n",
       "      <td>4.320000e+01</td>\n",
       "      <td>4.470000e+01</td>\n",
       "      <td>2.400000e+01</td>\n",
       "      <td>1.000000e+02</td>\n",
       "      <td>7.600000e+01</td>\n",
       "      <td>3.590000e+02</td>\n",
       "      <td>1.400000e+01</td>\n",
       "      <td>1.196639e+03</td>\n",
       "      <td>4.786556e+03</td>\n",
       "      <td>5.262412e+03</td>\n",
       "    </tr>\n",
       "  </tbody>\n",
       "</table>\n",
       "</div>"
      ],
      "text/plain": [
       "         Unnamed: 0   building_id            id     campus_id       current  \\\n",
       "count  4.049964e+06  4.049964e+06  4.049964e+06  4.049964e+06  4.049964e+06   \n",
       "mean   1.407059e+06  3.801138e+00  3.806412e-01  1.574681e+00  1.457921e+00   \n",
       "std    9.486806e+05  1.358605e+01  1.336257e+00  1.127914e+00  5.725315e+00   \n",
       "min    1.000000e+00  0.000000e+00  0.000000e+00  0.000000e+00  0.000000e+00   \n",
       "25%    6.377210e+05  0.000000e+00  0.000000e+00  1.000000e+00  0.000000e+00   \n",
       "50%    1.225232e+06  0.000000e+00  0.000000e+00  1.000000e+00  0.000000e+00   \n",
       "75%    2.060769e+06  0.000000e+00  0.000000e+00  2.000000e+00  0.000000e+00   \n",
       "max    3.507075e+06  6.200000e+01  6.000000e+00  5.000000e+00  4.474000e+01   \n",
       "\n",
       "            voltage          year           day          hour  \\\n",
       "count  4.049964e+06  4.049964e+06  4.049964e+06  4.049964e+06   \n",
       "mean   1.769861e+01  7.951339e+02  1.575432e+01  1.145080e+01   \n",
       "std    6.151743e+01  9.867070e+02  8.800607e+00  6.986250e+00   \n",
       "min    0.000000e+00  0.000000e+00  1.000000e+00  0.000000e+00   \n",
       "25%    0.000000e+00  0.000000e+00  8.000000e+00  5.000000e+00   \n",
       "50%    0.000000e+00  0.000000e+00  1.600000e+01  1.100000e+01   \n",
       "75%    0.000000e+00  2.019000e+03  2.300000e+01  1.800000e+01   \n",
       "max    2.400000e+02  2.022000e+03  3.100000e+01  2.300000e+01   \n",
       "\n",
       "       apparent_temperature  air_temperature  dew_point_temperature  \\\n",
       "count          4.049964e+06     4.049964e+06           4.049964e+06   \n",
       "mean           4.200979e+00     4.800176e+00           2.959080e+00   \n",
       "std            7.227583e+00     7.894559e+00           4.891070e+00   \n",
       "min           -7.000000e+00    -2.600000e+00          -5.900000e+00   \n",
       "25%            0.000000e+00     0.000000e+00           0.000000e+00   \n",
       "50%            0.000000e+00     0.000000e+00           0.000000e+00   \n",
       "75%            7.800000e+00     1.020000e+01           6.000000e+00   \n",
       "max            4.320000e+01     4.470000e+01           2.400000e+01   \n",
       "\n",
       "       relative_humidity    wind_speed  wind_direction      meter_id  \\\n",
       "count       4.049964e+06  4.049964e+06    4.049964e+06  4.049964e+06   \n",
       "mean        2.306581e+01  3.133330e+00    5.928595e+01  4.585464e+00   \n",
       "std         3.604708e+01  6.171104e+00    1.044093e+02  4.837693e+00   \n",
       "min         0.000000e+00  0.000000e+00    0.000000e+00  0.000000e+00   \n",
       "25%         0.000000e+00  0.000000e+00    0.000000e+00  0.000000e+00   \n",
       "50%         0.000000e+00  0.000000e+00    0.000000e+00  3.000000e+00   \n",
       "75%         5.300000e+01  3.600000e+00    7.200000e+01  9.000000e+00   \n",
       "max         1.000000e+02  7.600000e+01    3.590000e+02  1.400000e+01   \n",
       "\n",
       "        consumption     demand_kW    demand_kVA  \n",
       "count  4.049964e+06  4.049964e+06  4.049964e+06  \n",
       "mean   3.781625e+01  1.709957e+02  1.785182e+02  \n",
       "std    1.227893e+02  5.254612e+02  5.427900e+02  \n",
       "min    0.000000e+00 -2.972672e+03  0.000000e+00  \n",
       "25%    0.000000e+00  0.000000e+00  0.000000e+00  \n",
       "50%    4.704000e+00  1.888000e+01  2.086400e+01  \n",
       "75%    1.680000e+01  7.992000e+01  8.690600e+01  \n",
       "max    1.196639e+03  4.786556e+03  5.262412e+03  "
      ]
     },
     "execution_count": 81,
     "metadata": {},
     "output_type": "execute_result"
    }
   ],
   "source": [
    "new_feature.describe() # looking at the statistical summary of the variables with describe()"
   ]
  },
  {
   "cell_type": "markdown",
   "id": "c6de7c98",
   "metadata": {},
   "source": [
    "**Calculate Energy Consumption per day**"
   ]
  },
  {
   "cell_type": "code",
   "execution_count": 82,
   "id": "66081db0",
   "metadata": {},
   "outputs": [],
   "source": [
    "new_feature['consump_day']=new_feature['demand_kW']*new_feature['day']/100"
   ]
  },
  {
   "cell_type": "code",
   "execution_count": 83,
   "id": "e6e88884",
   "metadata": {},
   "outputs": [
    {
     "data": {
      "text/html": [
       "<div>\n",
       "<style scoped>\n",
       "    .dataframe tbody tr th:only-of-type {\n",
       "        vertical-align: middle;\n",
       "    }\n",
       "\n",
       "    .dataframe tbody tr th {\n",
       "        vertical-align: top;\n",
       "    }\n",
       "\n",
       "    .dataframe thead th {\n",
       "        text-align: right;\n",
       "    }\n",
       "</style>\n",
       "<table border=\"1\" class=\"dataframe\">\n",
       "  <thead>\n",
       "    <tr style=\"text-align: right;\">\n",
       "      <th></th>\n",
       "      <th>Unnamed: 0</th>\n",
       "      <th>building_id</th>\n",
       "      <th>id</th>\n",
       "      <th>campus_id</th>\n",
       "      <th>current</th>\n",
       "      <th>voltage</th>\n",
       "      <th>year</th>\n",
       "      <th>day</th>\n",
       "      <th>hour</th>\n",
       "      <th>apparent_temperature</th>\n",
       "      <th>air_temperature</th>\n",
       "      <th>dew_point_temperature</th>\n",
       "      <th>relative_humidity</th>\n",
       "      <th>wind_speed</th>\n",
       "      <th>wind_direction</th>\n",
       "      <th>meter_id</th>\n",
       "      <th>consumption</th>\n",
       "      <th>demand_kW</th>\n",
       "      <th>demand_kVA</th>\n",
       "      <th>consump_day</th>\n",
       "    </tr>\n",
       "  </thead>\n",
       "  <tbody>\n",
       "    <tr>\n",
       "      <th>0</th>\n",
       "      <td>2786453</td>\n",
       "      <td>0.0</td>\n",
       "      <td>0.0</td>\n",
       "      <td>1.0</td>\n",
       "      <td>0.0</td>\n",
       "      <td>0.0</td>\n",
       "      <td>0.0</td>\n",
       "      <td>22</td>\n",
       "      <td>18</td>\n",
       "      <td>0.0</td>\n",
       "      <td>0.0</td>\n",
       "      <td>0.0</td>\n",
       "      <td>0.0</td>\n",
       "      <td>0.0</td>\n",
       "      <td>0.0</td>\n",
       "      <td>12.0</td>\n",
       "      <td>689.171</td>\n",
       "      <td>2756.684</td>\n",
       "      <td>2973.118</td>\n",
       "      <td>606.47048</td>\n",
       "    </tr>\n",
       "    <tr>\n",
       "      <th>1</th>\n",
       "      <td>1810880</td>\n",
       "      <td>0.0</td>\n",
       "      <td>0.0</td>\n",
       "      <td>1.0</td>\n",
       "      <td>0.0</td>\n",
       "      <td>0.0</td>\n",
       "      <td>2021.0</td>\n",
       "      <td>22</td>\n",
       "      <td>17</td>\n",
       "      <td>9.0</td>\n",
       "      <td>11.8</td>\n",
       "      <td>7.5</td>\n",
       "      <td>75.0</td>\n",
       "      <td>11.2</td>\n",
       "      <td>64.0</td>\n",
       "      <td>0.0</td>\n",
       "      <td>0.000</td>\n",
       "      <td>0.000</td>\n",
       "      <td>0.000</td>\n",
       "      <td>0.00000</td>\n",
       "    </tr>\n",
       "    <tr>\n",
       "      <th>2</th>\n",
       "      <td>1736912</td>\n",
       "      <td>0.0</td>\n",
       "      <td>0.0</td>\n",
       "      <td>1.0</td>\n",
       "      <td>0.0</td>\n",
       "      <td>0.0</td>\n",
       "      <td>2021.0</td>\n",
       "      <td>2</td>\n",
       "      <td>8</td>\n",
       "      <td>16.4</td>\n",
       "      <td>17.7</td>\n",
       "      <td>10.3</td>\n",
       "      <td>62.0</td>\n",
       "      <td>7.6</td>\n",
       "      <td>62.0</td>\n",
       "      <td>0.0</td>\n",
       "      <td>0.000</td>\n",
       "      <td>0.000</td>\n",
       "      <td>0.000</td>\n",
       "      <td>0.00000</td>\n",
       "    </tr>\n",
       "    <tr>\n",
       "      <th>3</th>\n",
       "      <td>185600</td>\n",
       "      <td>0.0</td>\n",
       "      <td>0.0</td>\n",
       "      <td>1.0</td>\n",
       "      <td>0.0</td>\n",
       "      <td>0.0</td>\n",
       "      <td>0.0</td>\n",
       "      <td>13</td>\n",
       "      <td>14</td>\n",
       "      <td>0.0</td>\n",
       "      <td>0.0</td>\n",
       "      <td>0.0</td>\n",
       "      <td>0.0</td>\n",
       "      <td>0.0</td>\n",
       "      <td>0.0</td>\n",
       "      <td>1.0</td>\n",
       "      <td>174.000</td>\n",
       "      <td>696.000</td>\n",
       "      <td>696.103</td>\n",
       "      <td>90.48000</td>\n",
       "    </tr>\n",
       "    <tr>\n",
       "      <th>4</th>\n",
       "      <td>3153910</td>\n",
       "      <td>0.0</td>\n",
       "      <td>0.0</td>\n",
       "      <td>1.0</td>\n",
       "      <td>0.0</td>\n",
       "      <td>0.0</td>\n",
       "      <td>0.0</td>\n",
       "      <td>12</td>\n",
       "      <td>4</td>\n",
       "      <td>0.0</td>\n",
       "      <td>0.0</td>\n",
       "      <td>0.0</td>\n",
       "      <td>0.0</td>\n",
       "      <td>0.0</td>\n",
       "      <td>0.0</td>\n",
       "      <td>13.0</td>\n",
       "      <td>4.512</td>\n",
       "      <td>18.048</td>\n",
       "      <td>18.751</td>\n",
       "      <td>2.16576</td>\n",
       "    </tr>\n",
       "  </tbody>\n",
       "</table>\n",
       "</div>"
      ],
      "text/plain": [
       "   Unnamed: 0  building_id   id  campus_id  current  voltage    year  day  \\\n",
       "0     2786453          0.0  0.0        1.0      0.0      0.0     0.0   22   \n",
       "1     1810880          0.0  0.0        1.0      0.0      0.0  2021.0   22   \n",
       "2     1736912          0.0  0.0        1.0      0.0      0.0  2021.0    2   \n",
       "3      185600          0.0  0.0        1.0      0.0      0.0     0.0   13   \n",
       "4     3153910          0.0  0.0        1.0      0.0      0.0     0.0   12   \n",
       "\n",
       "   hour  apparent_temperature  air_temperature  dew_point_temperature  \\\n",
       "0    18                   0.0              0.0                    0.0   \n",
       "1    17                   9.0             11.8                    7.5   \n",
       "2     8                  16.4             17.7                   10.3   \n",
       "3    14                   0.0              0.0                    0.0   \n",
       "4     4                   0.0              0.0                    0.0   \n",
       "\n",
       "   relative_humidity  wind_speed  wind_direction  meter_id  consumption  \\\n",
       "0                0.0         0.0             0.0      12.0      689.171   \n",
       "1               75.0        11.2            64.0       0.0        0.000   \n",
       "2               62.0         7.6            62.0       0.0        0.000   \n",
       "3                0.0         0.0             0.0       1.0      174.000   \n",
       "4                0.0         0.0             0.0      13.0        4.512   \n",
       "\n",
       "   demand_kW  demand_kVA  consump_day  \n",
       "0   2756.684    2973.118    606.47048  \n",
       "1      0.000       0.000      0.00000  \n",
       "2      0.000       0.000      0.00000  \n",
       "3    696.000     696.103     90.48000  \n",
       "4     18.048      18.751      2.16576  "
      ]
     },
     "execution_count": 83,
     "metadata": {},
     "output_type": "execute_result"
    }
   ],
   "source": [
    "new_feature.head() "
   ]
  },
  {
   "cell_type": "code",
   "execution_count": 84,
   "id": "92a49150",
   "metadata": {
    "scrolled": false
   },
   "outputs": [
    {
     "data": {
      "text/plain": [
       "Unnamed: 0                 int64\n",
       "building_id              float64\n",
       "id                       float64\n",
       "campus_id                float64\n",
       "current                  float64\n",
       "voltage                  float64\n",
       "year                     float64\n",
       "day                        int64\n",
       "hour                       int64\n",
       "apparent_temperature     float64\n",
       "air_temperature          float64\n",
       "dew_point_temperature    float64\n",
       "relative_humidity        float64\n",
       "wind_speed               float64\n",
       "wind_direction           float64\n",
       "meter_id                 float64\n",
       "consumption              float64\n",
       "demand_kW                float64\n",
       "demand_kVA               float64\n",
       "consump_day              float64\n",
       "dtype: object"
      ]
     },
     "execution_count": 84,
     "metadata": {},
     "output_type": "execute_result"
    }
   ],
   "source": [
    "new_feature.dtypes"
   ]
  },
  {
   "cell_type": "markdown",
   "id": "f907f1c4",
   "metadata": {},
   "source": [
    "### Term Project Milestone 3: Model Building and Evaluation\n"
   ]
  },
  {
   "cell_type": "markdown",
   "id": "a58ae45a",
   "metadata": {},
   "source": [
    "In Milestone 3, we will begin the process of selecting, building, and evaluating a model."
   ]
  },
  {
   "cell_type": "code",
   "execution_count": 85,
   "id": "d53c7c93",
   "metadata": {
    "scrolled": true
   },
   "outputs": [
    {
     "data": {
      "text/plain": [
       "Index(['Unnamed: 0', 'building_id', 'id', 'campus_id', 'current', 'voltage',\n",
       "       'year', 'day', 'hour', 'apparent_temperature', 'air_temperature',\n",
       "       'dew_point_temperature', 'relative_humidity', 'wind_speed',\n",
       "       'wind_direction', 'meter_id', 'consumption', 'demand_kW', 'demand_kVA',\n",
       "       'consump_day'],\n",
       "      dtype='object')"
      ]
     },
     "execution_count": 85,
     "metadata": {},
     "output_type": "execute_result"
    }
   ],
   "source": [
    "new_feature.columns"
   ]
  },
  {
   "cell_type": "code",
   "execution_count": 86,
   "id": "2d141c59",
   "metadata": {},
   "outputs": [
    {
     "data": {
      "text/html": [
       "<div>\n",
       "<style scoped>\n",
       "    .dataframe tbody tr th:only-of-type {\n",
       "        vertical-align: middle;\n",
       "    }\n",
       "\n",
       "    .dataframe tbody tr th {\n",
       "        vertical-align: top;\n",
       "    }\n",
       "\n",
       "    .dataframe thead th {\n",
       "        text-align: right;\n",
       "    }\n",
       "</style>\n",
       "<table border=\"1\" class=\"dataframe\">\n",
       "  <thead>\n",
       "    <tr style=\"text-align: right;\">\n",
       "      <th></th>\n",
       "      <th>building_id</th>\n",
       "      <th>id</th>\n",
       "      <th>voltage</th>\n",
       "      <th>day</th>\n",
       "      <th>hour</th>\n",
       "      <th>apparent_temperature</th>\n",
       "      <th>air_temperature</th>\n",
       "      <th>dew_point_temperature</th>\n",
       "      <th>relative_humidity</th>\n",
       "      <th>wind_speed</th>\n",
       "      <th>wind_direction</th>\n",
       "      <th>meter_id</th>\n",
       "      <th>consumption</th>\n",
       "      <th>demand_kW</th>\n",
       "      <th>demand_kVA</th>\n",
       "      <th>consump_day</th>\n",
       "    </tr>\n",
       "  </thead>\n",
       "  <tbody>\n",
       "    <tr>\n",
       "      <th>0</th>\n",
       "      <td>0.0</td>\n",
       "      <td>0.0</td>\n",
       "      <td>0.0</td>\n",
       "      <td>22</td>\n",
       "      <td>18</td>\n",
       "      <td>0.0</td>\n",
       "      <td>0.0</td>\n",
       "      <td>0.0</td>\n",
       "      <td>0.0</td>\n",
       "      <td>0.0</td>\n",
       "      <td>0.0</td>\n",
       "      <td>12.0</td>\n",
       "      <td>689.171</td>\n",
       "      <td>2756.684</td>\n",
       "      <td>2973.118</td>\n",
       "      <td>606.47048</td>\n",
       "    </tr>\n",
       "    <tr>\n",
       "      <th>1</th>\n",
       "      <td>0.0</td>\n",
       "      <td>0.0</td>\n",
       "      <td>0.0</td>\n",
       "      <td>22</td>\n",
       "      <td>17</td>\n",
       "      <td>9.0</td>\n",
       "      <td>11.8</td>\n",
       "      <td>7.5</td>\n",
       "      <td>75.0</td>\n",
       "      <td>11.2</td>\n",
       "      <td>64.0</td>\n",
       "      <td>0.0</td>\n",
       "      <td>0.000</td>\n",
       "      <td>0.000</td>\n",
       "      <td>0.000</td>\n",
       "      <td>0.00000</td>\n",
       "    </tr>\n",
       "    <tr>\n",
       "      <th>2</th>\n",
       "      <td>0.0</td>\n",
       "      <td>0.0</td>\n",
       "      <td>0.0</td>\n",
       "      <td>2</td>\n",
       "      <td>8</td>\n",
       "      <td>16.4</td>\n",
       "      <td>17.7</td>\n",
       "      <td>10.3</td>\n",
       "      <td>62.0</td>\n",
       "      <td>7.6</td>\n",
       "      <td>62.0</td>\n",
       "      <td>0.0</td>\n",
       "      <td>0.000</td>\n",
       "      <td>0.000</td>\n",
       "      <td>0.000</td>\n",
       "      <td>0.00000</td>\n",
       "    </tr>\n",
       "    <tr>\n",
       "      <th>3</th>\n",
       "      <td>0.0</td>\n",
       "      <td>0.0</td>\n",
       "      <td>0.0</td>\n",
       "      <td>13</td>\n",
       "      <td>14</td>\n",
       "      <td>0.0</td>\n",
       "      <td>0.0</td>\n",
       "      <td>0.0</td>\n",
       "      <td>0.0</td>\n",
       "      <td>0.0</td>\n",
       "      <td>0.0</td>\n",
       "      <td>1.0</td>\n",
       "      <td>174.000</td>\n",
       "      <td>696.000</td>\n",
       "      <td>696.103</td>\n",
       "      <td>90.48000</td>\n",
       "    </tr>\n",
       "    <tr>\n",
       "      <th>4</th>\n",
       "      <td>0.0</td>\n",
       "      <td>0.0</td>\n",
       "      <td>0.0</td>\n",
       "      <td>12</td>\n",
       "      <td>4</td>\n",
       "      <td>0.0</td>\n",
       "      <td>0.0</td>\n",
       "      <td>0.0</td>\n",
       "      <td>0.0</td>\n",
       "      <td>0.0</td>\n",
       "      <td>0.0</td>\n",
       "      <td>13.0</td>\n",
       "      <td>4.512</td>\n",
       "      <td>18.048</td>\n",
       "      <td>18.751</td>\n",
       "      <td>2.16576</td>\n",
       "    </tr>\n",
       "  </tbody>\n",
       "</table>\n",
       "</div>"
      ],
      "text/plain": [
       "   building_id   id  voltage  day  hour  apparent_temperature  \\\n",
       "0          0.0  0.0      0.0   22    18                   0.0   \n",
       "1          0.0  0.0      0.0   22    17                   9.0   \n",
       "2          0.0  0.0      0.0    2     8                  16.4   \n",
       "3          0.0  0.0      0.0   13    14                   0.0   \n",
       "4          0.0  0.0      0.0   12     4                   0.0   \n",
       "\n",
       "   air_temperature  dew_point_temperature  relative_humidity  wind_speed  \\\n",
       "0              0.0                    0.0                0.0         0.0   \n",
       "1             11.8                    7.5               75.0        11.2   \n",
       "2             17.7                   10.3               62.0         7.6   \n",
       "3              0.0                    0.0                0.0         0.0   \n",
       "4              0.0                    0.0                0.0         0.0   \n",
       "\n",
       "   wind_direction  meter_id  consumption  demand_kW  demand_kVA  consump_day  \n",
       "0             0.0      12.0      689.171   2756.684    2973.118    606.47048  \n",
       "1            64.0       0.0        0.000      0.000       0.000      0.00000  \n",
       "2            62.0       0.0        0.000      0.000       0.000      0.00000  \n",
       "3             0.0       1.0      174.000    696.000     696.103     90.48000  \n",
       "4             0.0      13.0        4.512     18.048      18.751      2.16576  "
      ]
     },
     "execution_count": 86,
     "metadata": {},
     "output_type": "execute_result"
    }
   ],
   "source": [
    "# Dropping any irrelevant or duplicated columns\n",
    "df_consumption= new_feature.drop(['Unnamed: 0','campus_id','current','year'], axis=1)\n",
    "df_consumption.head()"
   ]
  },
  {
   "cell_type": "code",
   "execution_count": 87,
   "id": "cd29d81b",
   "metadata": {},
   "outputs": [
    {
     "data": {
      "text/plain": [
       "building_id              float64\n",
       "id                       float64\n",
       "voltage                  float64\n",
       "day                        int64\n",
       "hour                       int64\n",
       "apparent_temperature     float64\n",
       "air_temperature          float64\n",
       "dew_point_temperature    float64\n",
       "relative_humidity        float64\n",
       "wind_speed               float64\n",
       "wind_direction           float64\n",
       "meter_id                 float64\n",
       "consumption              float64\n",
       "demand_kW                float64\n",
       "demand_kVA               float64\n",
       "consump_day              float64\n",
       "dtype: object"
      ]
     },
     "execution_count": 87,
     "metadata": {},
     "output_type": "execute_result"
    }
   ],
   "source": [
    "df_consumption.dtypes"
   ]
  },
  {
   "cell_type": "code",
   "execution_count": 88,
   "id": "14e0b0ed",
   "metadata": {},
   "outputs": [
    {
     "data": {
      "text/plain": [
       "(4049964, 16)"
      ]
     },
     "execution_count": 88,
     "metadata": {},
     "output_type": "execute_result"
    }
   ],
   "source": [
    "df_consumption.shape"
   ]
  },
  {
   "cell_type": "markdown",
   "id": "00e57c0e",
   "metadata": {},
   "source": [
    "We use the training set to build the model and the testing set to serve as sort of unknown data that we want to test training set for. We want to evaluate whether the model that we have built using the training set whether it performed in a robust manner againts an unknown data that we simulate using the testing set."
   ]
  },
  {
   "cell_type": "markdown",
   "id": "e0852fb3",
   "metadata": {},
   "source": [
    "#### Step 1: Data preparation"
   ]
  },
  {
   "cell_type": "markdown",
   "id": "e86c38b7",
   "metadata": {},
   "source": [
    "Data separation as X and y"
   ]
  },
  {
   "cell_type": "code",
   "execution_count": 89,
   "id": "5bf343bc",
   "metadata": {},
   "outputs": [],
   "source": [
    "# Spliting data into features (X) and target (y)\n",
    "X = df_consumption.drop('consump_day',axis=1,)\n",
    "y= df_consumption['consump_day']"
   ]
  },
  {
   "cell_type": "markdown",
   "id": "b96b356f",
   "metadata": {},
   "source": [
    "#### Step 2: Split the data set"
   ]
  },
  {
   "cell_type": "code",
   "execution_count": 90,
   "id": "3fafe8a6",
   "metadata": {},
   "outputs": [],
   "source": [
    "# Splitting the data into training and testing sets\n",
    "X_train, X_test, y_train, y_test = train_test_split(X, y, test_size=0.3, random_state=0)"
   ]
  },
  {
   "cell_type": "markdown",
   "id": "8e925836",
   "metadata": {},
   "source": [
    "#### Step 3: Model building"
   ]
  },
  {
   "cell_type": "markdown",
   "id": "834ba9ae",
   "metadata": {},
   "source": [
    "**1-** Training the model by using **Linear Regression**"
   ]
  },
  {
   "cell_type": "markdown",
   "id": "e6990cff",
   "metadata": {},
   "source": [
    "**Linear Regression:** is a model that is easy to understand and interpret. It is suitable when there is a linear relationship between the independent and dependent variables. It aids in comprehending how each independent variable affects the dependent variable."
   ]
  },
  {
   "cell_type": "code",
   "execution_count": 91,
   "id": "baadf9fb",
   "metadata": {},
   "outputs": [
    {
     "data": {
      "text/plain": [
       "LinearRegression()"
      ]
     },
     "execution_count": 91,
     "metadata": {},
     "output_type": "execute_result"
    }
   ],
   "source": [
    "# Creating an instance of the LinearRegression class called lr\n",
    "lr= LinearRegression()\n",
    "# Fitting the model to the data\n",
    "lr.fit(X_train, y_train)"
   ]
  },
  {
   "cell_type": "code",
   "execution_count": 92,
   "id": "f4454f26",
   "metadata": {},
   "outputs": [],
   "source": [
    "# Applying the model to make a prediction\n",
    "y_train_pred = lr.predict(X_train)\n",
    "y_test_pred = lr.predict(X_test)"
   ]
  },
  {
   "cell_type": "markdown",
   "id": "266871b6",
   "metadata": {},
   "source": [
    "#### Step 4: Evaluate models performance "
   ]
  },
  {
   "cell_type": "markdown",
   "id": "6da4d44b",
   "metadata": {},
   "source": [
    "The Mean Squared Error (MSE) calculates the average of the squared differences between the predicted and actual values. On the other hand, the R2 metric gauges the model's ability to account for the variability in the data.In my dataset, I am dealing with continuous numerical values. To effectively evaluate my dataset, I am using appropriate regression metrics such as Mean Squared Error (MSE) and R-squared (R2) instead of classification metrics with categorical targets. Accuracy may not be the most suitable metric for this type of dataset."
   ]
  },
  {
   "cell_type": "code",
   "execution_count": 93,
   "id": "d9e3cd2b",
   "metadata": {},
   "outputs": [],
   "source": [
    "# Evaluate the models\n",
    "def evaluate_model(y_true, y_pred):\n",
    "    mse = mean_squared_error(y_true, y_pred)\n",
    "    r2 = r2_score(y_true, y_pred)\n",
    "    return mse, r2"
   ]
  },
  {
   "cell_type": "code",
   "execution_count": 94,
   "id": "89c4ad83",
   "metadata": {},
   "outputs": [],
   "source": [
    "# Calling the evaluate_models function\n",
    "mse_train, r2_train = evaluate_model(y_train, y_train_pred)\n",
    "mse_test, r2_test = evaluate_model(y_test, y_test_pred )"
   ]
  },
  {
   "cell_type": "code",
   "execution_count": 95,
   "id": "eddb8709",
   "metadata": {},
   "outputs": [
    {
     "name": "stdout",
     "output_type": "stream",
     "text": [
      "Consumption Prediction Train - MSE (Linear Regression): 2146.82\n",
      "Consumption Prediction Train - R-squared (Linear Regression): 0.77\n"
     ]
    }
   ],
   "source": [
    "print(\"Consumption Prediction Train - MSE (Linear Regression):\", '%.2f' %mse_train)\n",
    "print(\"Consumption Prediction Train - R-squared (Linear Regression):\", '%.2f' %r2_train)"
   ]
  },
  {
   "cell_type": "code",
   "execution_count": 96,
   "id": "5da2f1be",
   "metadata": {},
   "outputs": [
    {
     "name": "stdout",
     "output_type": "stream",
     "text": [
      "Consumption Prediction Test - MSE (Linear Regression): 2145.60\n",
      "Consumption Prediction Test - R-squared (Linear Regression): 0.77\n"
     ]
    }
   ],
   "source": [
    "print(\"Consumption Prediction Test - MSE (Linear Regression):\", '%.2f' %mse_test)\n",
    "print(\"Consumption Prediction Test - R-squared (Linear Regression):\", '%.2f' %r2_test)"
   ]
  },
  {
   "cell_type": "markdown",
   "id": "ffedafe2",
   "metadata": {},
   "source": [
    " **2-** Training the model by using **Random Forest Regression model**"
   ]
  },
  {
   "cell_type": "markdown",
   "id": "df172b92",
   "metadata": {},
   "source": [
    "**Random Forest Regression model:**This is an expansion of Decision Tree Regression. In this method, decision trees are generated randomly and their outputs are combined to produce the final output."
   ]
  },
  {
   "cell_type": "code",
   "execution_count": 97,
   "id": "28d602c7",
   "metadata": {},
   "outputs": [
    {
     "data": {
      "text/plain": [
       "RandomForestRegressor(max_depth=2, random_state=0)"
      ]
     },
     "execution_count": 97,
     "metadata": {},
     "output_type": "execute_result"
    }
   ],
   "source": [
    "# Creating an instance of the Random Forest Regression model class called rf\n",
    "rf= RandomForestRegressor(max_depth=2, random_state=0)\n",
    "rf.fit(X_train, y_train)"
   ]
  },
  {
   "cell_type": "code",
   "execution_count": 98,
   "id": "a1c69c9d",
   "metadata": {},
   "outputs": [],
   "source": [
    "# Applying the model to make a prediction\n",
    "y_rf_train_pred = rf.predict(X_train)\n",
    "y_rf_test_pred = rf.predict(X_test)"
   ]
  },
  {
   "cell_type": "markdown",
   "id": "b0b85781",
   "metadata": {},
   "source": [
    "**Evaluate model performance**"
   ]
  },
  {
   "cell_type": "code",
   "execution_count": 99,
   "id": "e489858f",
   "metadata": {},
   "outputs": [],
   "source": [
    "# Calling the evaluate_models function\n",
    "mse_rf_train, r2_rf_train = evaluate_model(y_train, y_train_pred)\n",
    "mse_rf_test, r2_rf_test = evaluate_model(y_test, y_test_pred )"
   ]
  },
  {
   "cell_type": "code",
   "execution_count": 100,
   "id": "f43e0403",
   "metadata": {},
   "outputs": [
    {
     "name": "stdout",
     "output_type": "stream",
     "text": [
      "Consumption per day Prediction Train - MSE (Random Forest Regression): 2146.82\n",
      "Consumption per day Prediction Train - R-squared (Random Forest Regression): 0.77\n"
     ]
    }
   ],
   "source": [
    "print(\"Consumption per day Prediction Train - MSE (Random Forest Regression):\", '%.2f' %mse_rf_train)\n",
    "print(\"Consumption per day Prediction Train - R-squared (Random Forest Regression):\", '%.2f' %r2_rf_train)"
   ]
  },
  {
   "cell_type": "code",
   "execution_count": 101,
   "id": "356e4e83",
   "metadata": {},
   "outputs": [
    {
     "name": "stdout",
     "output_type": "stream",
     "text": [
      "Consumption per day Prediction Test - MSE (Random Forest Regression): 2145.60\n",
      "Consumption per day Prediction Test - R-squared (Random Forest Regression): 0.77\n"
     ]
    }
   ],
   "source": [
    "print(\"Consumption per day Prediction Test - MSE (Random Forest Regression):\", '%.2f' %mse_rf_test)\n",
    "print(\"Consumption per day Prediction Test - R-squared (Random Forest Regression):\", '%.2f' %r2_rf_test)"
   ]
  },
  {
   "cell_type": "markdown",
   "id": "385e7241",
   "metadata": {},
   "source": [
    " **3-** Training the model by using **Decision Tree Regressor  model**"
   ]
  },
  {
   "cell_type": "markdown",
   "id": "6b8616fc",
   "metadata": {},
   "source": [
    "**Decision Tree Regressor:**The approach used here is called greedy search. It involves a tree structure consisting of root nodes, interior nodes, and leaf nodes. Binary rules are applied to determine a target value."
   ]
  },
  {
   "cell_type": "code",
   "execution_count": 102,
   "id": "6497e733",
   "metadata": {},
   "outputs": [
    {
     "data": {
      "text/plain": [
       "DecisionTreeRegressor(random_state=0)"
      ]
     },
     "execution_count": 102,
     "metadata": {},
     "output_type": "execute_result"
    }
   ],
   "source": [
    "# Creating an instance of the Decision Tree Regresso class called dst\n",
    "dst= DecisionTreeRegressor(random_state = 0)\n",
    "dst.fit(X_train, y_train)"
   ]
  },
  {
   "cell_type": "code",
   "execution_count": 103,
   "id": "2b646145",
   "metadata": {},
   "outputs": [],
   "source": [
    "# Applying the model to make a prediction\n",
    "y_dst_train_pred = dst.predict(X_train)\n",
    "y_dst_test_pred = dst.predict(X_test)"
   ]
  },
  {
   "cell_type": "markdown",
   "id": "6832cd64",
   "metadata": {},
   "source": [
    "**Evaluate model performance**"
   ]
  },
  {
   "cell_type": "code",
   "execution_count": null,
   "id": "d094709b",
   "metadata": {},
   "outputs": [],
   "source": [
    "# Calling the evaluate_models function\n",
    "mse_dst_train, r2_dst_train = evaluate_model(y_train, y_train_pred)\n",
    "mse_dst_test, r2_rf_test = evaluate_model(y_test, y_test_pred )"
   ]
  },
  {
   "cell_type": "code",
   "execution_count": null,
   "id": "d72f2407",
   "metadata": {},
   "outputs": [],
   "source": [
    "print(\"Consumption per day Prediction Train - MSE (Random Forest Regression):\", '%.2f' %mse_dst_train)\n",
    "print(\"Consumption per day Prediction Train - R-squared (Random Forest Regression):\", '%.2f' %r2_dst_train)"
   ]
  },
  {
   "cell_type": "code",
   "execution_count": null,
   "id": "6624ec5f",
   "metadata": {},
   "outputs": [],
   "source": [
    "print(\"Consumption per day Prediction Test - MSE (Random Forest Regression):\", '%.2f' %mse_dst_test)\n",
    "print(\"Consumption per day Prediction Test - R-squared (Random Forest Regression):\", '%.2f' %r2_rf_test)"
   ]
  },
  {
   "cell_type": "code",
   "execution_count": null,
   "id": "60b411bc",
   "metadata": {},
   "outputs": [],
   "source": []
  },
  {
   "cell_type": "markdown",
   "id": "7dd3cf4e",
   "metadata": {},
   "source": [
    "**Data visualization**"
   ]
  },
  {
   "cell_type": "code",
   "execution_count": null,
   "id": "351f8160",
   "metadata": {},
   "outputs": [],
   "source": [
    "# Plotting the prediction consumption for Linear Regression model\n",
    "plt.figure(figsize=(6,6))\n",
    "plt.scatter(x=y_train,y=y_train_pred, alpha=0.3)\n",
    "plt.title(\"Consumption per day\")\n",
    "plt.ylabel(\"Prediction consumption\")\n",
    "plt.xlabel(\"Experimental consumption\")\n",
    "plt.plot()"
   ]
  },
  {
   "cell_type": "code",
   "execution_count": null,
   "id": "bc68257a",
   "metadata": {},
   "outputs": [],
   "source": [
    "# Plotting the prediction consumption for Random Forest Regression model \n",
    "plt.figure(figsize=(6,6))\n",
    "plt.scatter(x=y_train,y=y_rf_train_pred, alpha=0.3)\n",
    "plt.title(\"Consumption\")\n",
    "plt.ylabel(\"Prediction consumption\")\n",
    "plt.xlabel(\"Experimental consumption\")\n",
    "plt.plot()"
   ]
  },
  {
   "cell_type": "code",
   "execution_count": null,
   "id": "a74bb9b8",
   "metadata": {},
   "outputs": [],
   "source": [
    "# Plotting the prediction consumption for Decision Tree Regressor\n",
    "plt.figure(figsize=(6,6))\n",
    "plt.scatter(x=y_train,y=y_dst_train_pred , alpha=0.3)\n",
    "plt.title(\"Consumption\")\n",
    "plt.ylabel(\"Prediction consumption\")\n",
    "plt.xlabel(\"Experimental consumption\")\n",
    "plt.plot()"
   ]
  },
  {
   "cell_type": "code",
   "execution_count": null,
   "id": "1643a892",
   "metadata": {},
   "outputs": [],
   "source": []
  },
  {
   "cell_type": "markdown",
   "id": "10f1eed1",
   "metadata": {},
   "source": [
    "#### Overview/conclusion of the insights gained from your model building/evaluation."
   ]
  },
  {
   "cell_type": "markdown",
   "id": "d2774dfe",
   "metadata": {},
   "source": [
    "To make predictions, I utilize well-researched methodologies such as Linear Regression, Random Forest Regressor, and Decision Tree Regressor. In my dataset, I am dealing with continuous numerical values. To effectively evaluate my dataset, I am using appropriate regression metrics such as Mean Squared Error (MSE) and R-squared (R2) instead of classification metrics with categorical targets. Accuracy may not be the most suitable metric for this type of dataset.\n",
    "\n",
    "After evaluating the performance of the Linear Regression, Random Forest Regression, and Decision Tree Regressor models the results are as follows:\n",
    "\n",
    "**Training and Testing R-squared:** The R-squared values for all models, the training and testing data were about 0.77, which suggests that the model fits the training data well and can also generalize to unseen testing data. The model can explain about 77% of the variance in the target variable.\n",
    "\n",
    "**Training and Testing Mean Squared Error (MSE):**  Based on our analysis for all, the model had a training Mean Squared Error (MSE) of 2155.53 and a testing MSE of 2158.55 These values were quite similar, indicating that the model is not facing any major issues of overfitting or underfitting.\n",
    "\n",
    "After evaluation, it seems that the Linear Regression, Random Forest Regression, and Decision Tree Regressor models are sufficiently performing the task. However, it is important to consider other evaluation metrics and alternative models to ensure the best possible performance, depending on the specific domain and problem at hand.\n"
   ]
  },
  {
   "cell_type": "markdown",
   "id": "5211f160",
   "metadata": {},
   "source": [
    "#### Usage Policy and Legal Disclaimer"
   ]
  },
  {
   "cell_type": "markdown",
   "id": "dae3a437",
   "metadata": {},
   "source": [
    "It is important to note that using data retrieved poses ethical issues, such as consent, confidentiality, anonymity, trust, and transparency. The data I used for this project were licensed from the following information:\n",
    "\n",
    "H. Moraliyage, N. Mills, P. Rathnayake, D. De Silva and A. Jennings, \"UNICON: An Open Dataset of Electricity, Gas and Water Consumption in a Large Multi-Campus University Setting,\" 2022 15th International Conference on Human System Interaction (HSI), 2022, pp. 1-8, https://doi.org/10.1109/HSI55341.2022.9869498"
   ]
  },
  {
   "cell_type": "markdown",
   "id": "3092c12d",
   "metadata": {},
   "source": [
    "\n",
    "This dataset is being distributed only for Research purposes, under Creative Commons Attribution-Noncommercial-ShareAlike license (CC BY-NC-SA 4.0). By clicking on download button(s) below, you are agreeing to use this data only for non-commercial, research, or academic applications. You may need to cite the above papers if you use this dataset.\n"
   ]
  },
  {
   "cell_type": "code",
   "execution_count": null,
   "id": "14222e74",
   "metadata": {},
   "outputs": [],
   "source": []
  },
  {
   "cell_type": "code",
   "execution_count": null,
   "id": "c62983f7",
   "metadata": {},
   "outputs": [],
   "source": []
  }
 ],
 "metadata": {
  "kernelspec": {
   "display_name": "Python 3 (ipykernel)",
   "language": "python",
   "name": "python3"
  },
  "language_info": {
   "codemirror_mode": {
    "name": "ipython",
    "version": 3
   },
   "file_extension": ".py",
   "mimetype": "text/x-python",
   "name": "python",
   "nbconvert_exporter": "python",
   "pygments_lexer": "ipython3",
   "version": "3.9.13"
  }
 },
 "nbformat": 4,
 "nbformat_minor": 5
}
