{
 "cells": [
  {
   "cell_type": "markdown",
   "id": "25d80731",
   "metadata": {},
   "source": [
    "### Milestone 5: Final Project\n",
    "\n",
    "Author: Barbara Jean\n",
    "\n",
    "Date: 11/18/2023\n",
    "\n",
    "output: pdf_document"
   ]
  },
  {
   "cell_type": "markdown",
   "id": "e3218baa",
   "metadata": {},
   "source": [
    "### Predictive Analytics"
   ]
  },
  {
   "cell_type": "markdown",
   "id": "1ed99a30",
   "metadata": {},
   "source": [
    "Identify a business problem to address through predictive analytics. Formulate the problem, identify the right sources of data, analyze data, prescribe actions to make decisions on relevant questions, and analyze the ethical implications of the project. The goal is to select appropriate models and apply the respective methods to enhance data-driven decision making related to the business problem."
   ]
  },
  {
   "cell_type": "markdown",
   "id": "37769ad4",
   "metadata": {},
   "source": [
    "#### Proposal Project: Predicting Work Visa in the United States"
   ]
  },
  {
   "cell_type": "markdown",
   "id": "1920519f",
   "metadata": {},
   "source": [
    "### Data Pre-processing"
   ]
  },
  {
   "cell_type": "code",
   "execution_count": 1,
   "id": "c39cf868",
   "metadata": {},
   "outputs": [],
   "source": [
    "# Importing the necessary libraries \n",
    "import pandas as pd\n",
    "import numpy as np\n",
    "import seaborn as sns\n",
    "import matplotlib.pyplot as plt\n",
    "import statistics\n",
    "import scipy.stats as st\n",
    "from sklearn.model_selection import train_test_split\n",
    "from sklearn.feature_selection import SelectKBest\n",
    "from sklearn.metrics import r2_score, mean_squared_error\n",
    "from sklearn.metrics import accuracy_score, confusion_matrix\n",
    "from sklearn.ensemble import RandomForestRegressor\n",
    "from sklearn.ensemble import RandomForestClassifier\n",
    "from sklearn.preprocessing import LabelEncoder,OneHotEncoder\n",
    "from sklearn.preprocessing import OrdinalEncoder\n",
    "from sklearn import preprocessing\n",
    "from sklearn.feature_selection import chi2 \n",
    "from sklearn.metrics import accuracy_score\n",
    "import xgboost as xgb\n",
    "from sklearn.linear_model import LogisticRegression\n",
    "from sklearn.metrics import classification_report\n"
   ]
  },
  {
   "cell_type": "code",
   "execution_count": 2,
   "id": "d19deb2f",
   "metadata": {},
   "outputs": [],
   "source": [
    "# Handling warnings as errors \n",
    "import warnings\n",
    "warnings.filterwarnings(\"ignore\")"
   ]
  },
  {
   "cell_type": "code",
   "execution_count": 3,
   "id": "3d69e144",
   "metadata": {},
   "outputs": [
    {
     "name": "stdout",
     "output_type": "stream",
     "text": [
      "The loading of the dataset was successful.\n",
      "\n"
     ]
    }
   ],
   "source": [
    "# Reading dataset\n",
    "data=pd.read_csv(\"C:/Users/79bar/dsc630/us_perm_visas.csv\")\n",
    "df_visas=pd.DataFrame(data)\n",
    "print(\"The loading of the dataset was successful.\\n\")"
   ]
  },
  {
   "cell_type": "code",
   "execution_count": 4,
   "id": "5dbea9fb",
   "metadata": {},
   "outputs": [
    {
     "data": {
      "text/html": [
       "<div>\n",
       "<style scoped>\n",
       "    .dataframe tbody tr th:only-of-type {\n",
       "        vertical-align: middle;\n",
       "    }\n",
       "\n",
       "    .dataframe tbody tr th {\n",
       "        vertical-align: top;\n",
       "    }\n",
       "\n",
       "    .dataframe thead th {\n",
       "        text-align: right;\n",
       "    }\n",
       "</style>\n",
       "<table border=\"1\" class=\"dataframe\">\n",
       "  <thead>\n",
       "    <tr style=\"text-align: right;\">\n",
       "      <th></th>\n",
       "      <th>add_these_pw_job_title_9089</th>\n",
       "      <th>agent_city</th>\n",
       "      <th>agent_firm_name</th>\n",
       "      <th>agent_state</th>\n",
       "      <th>application_type</th>\n",
       "      <th>case_no</th>\n",
       "      <th>case_number</th>\n",
       "      <th>case_received_date</th>\n",
       "      <th>case_status</th>\n",
       "      <th>class_of_admission</th>\n",
       "      <th>...</th>\n",
       "      <th>ri_pvt_employment_firm_to</th>\n",
       "      <th>ri_us_workers_considered</th>\n",
       "      <th>schd_a_sheepherder</th>\n",
       "      <th>us_economic_sector</th>\n",
       "      <th>wage_offer_from_9089</th>\n",
       "      <th>wage_offer_to_9089</th>\n",
       "      <th>wage_offer_unit_of_pay_9089</th>\n",
       "      <th>wage_offered_from_9089</th>\n",
       "      <th>wage_offered_to_9089</th>\n",
       "      <th>wage_offered_unit_of_pay_9089</th>\n",
       "    </tr>\n",
       "  </thead>\n",
       "  <tbody>\n",
       "    <tr>\n",
       "      <th>0</th>\n",
       "      <td>NaN</td>\n",
       "      <td>NaN</td>\n",
       "      <td>NaN</td>\n",
       "      <td>NaN</td>\n",
       "      <td>PERM</td>\n",
       "      <td>A-07323-97014</td>\n",
       "      <td>NaN</td>\n",
       "      <td>NaN</td>\n",
       "      <td>Certified</td>\n",
       "      <td>J-1</td>\n",
       "      <td>...</td>\n",
       "      <td>NaN</td>\n",
       "      <td>NaN</td>\n",
       "      <td>NaN</td>\n",
       "      <td>IT</td>\n",
       "      <td>75629.0</td>\n",
       "      <td>NaN</td>\n",
       "      <td>yr</td>\n",
       "      <td>NaN</td>\n",
       "      <td>NaN</td>\n",
       "      <td>NaN</td>\n",
       "    </tr>\n",
       "    <tr>\n",
       "      <th>1</th>\n",
       "      <td>NaN</td>\n",
       "      <td>NaN</td>\n",
       "      <td>NaN</td>\n",
       "      <td>NaN</td>\n",
       "      <td>PERM</td>\n",
       "      <td>A-07332-99439</td>\n",
       "      <td>NaN</td>\n",
       "      <td>NaN</td>\n",
       "      <td>Denied</td>\n",
       "      <td>B-2</td>\n",
       "      <td>...</td>\n",
       "      <td>NaN</td>\n",
       "      <td>NaN</td>\n",
       "      <td>NaN</td>\n",
       "      <td>Other Economic Sector</td>\n",
       "      <td>37024.0</td>\n",
       "      <td>NaN</td>\n",
       "      <td>yr</td>\n",
       "      <td>NaN</td>\n",
       "      <td>NaN</td>\n",
       "      <td>NaN</td>\n",
       "    </tr>\n",
       "    <tr>\n",
       "      <th>2</th>\n",
       "      <td>NaN</td>\n",
       "      <td>NaN</td>\n",
       "      <td>NaN</td>\n",
       "      <td>NaN</td>\n",
       "      <td>PERM</td>\n",
       "      <td>A-07333-99643</td>\n",
       "      <td>NaN</td>\n",
       "      <td>NaN</td>\n",
       "      <td>Certified</td>\n",
       "      <td>H-1B</td>\n",
       "      <td>...</td>\n",
       "      <td>NaN</td>\n",
       "      <td>NaN</td>\n",
       "      <td>NaN</td>\n",
       "      <td>Aerospace</td>\n",
       "      <td>47923.0</td>\n",
       "      <td>NaN</td>\n",
       "      <td>yr</td>\n",
       "      <td>NaN</td>\n",
       "      <td>NaN</td>\n",
       "      <td>NaN</td>\n",
       "    </tr>\n",
       "    <tr>\n",
       "      <th>3</th>\n",
       "      <td>NaN</td>\n",
       "      <td>NaN</td>\n",
       "      <td>NaN</td>\n",
       "      <td>NaN</td>\n",
       "      <td>PERM</td>\n",
       "      <td>A-07339-01930</td>\n",
       "      <td>NaN</td>\n",
       "      <td>NaN</td>\n",
       "      <td>Certified</td>\n",
       "      <td>B-2</td>\n",
       "      <td>...</td>\n",
       "      <td>NaN</td>\n",
       "      <td>NaN</td>\n",
       "      <td>NaN</td>\n",
       "      <td>Other Economic Sector</td>\n",
       "      <td>10.97</td>\n",
       "      <td>NaN</td>\n",
       "      <td>hr</td>\n",
       "      <td>NaN</td>\n",
       "      <td>NaN</td>\n",
       "      <td>NaN</td>\n",
       "    </tr>\n",
       "    <tr>\n",
       "      <th>4</th>\n",
       "      <td>NaN</td>\n",
       "      <td>NaN</td>\n",
       "      <td>NaN</td>\n",
       "      <td>NaN</td>\n",
       "      <td>PERM</td>\n",
       "      <td>A-07345-03565</td>\n",
       "      <td>NaN</td>\n",
       "      <td>NaN</td>\n",
       "      <td>Certified</td>\n",
       "      <td>L-1</td>\n",
       "      <td>...</td>\n",
       "      <td>NaN</td>\n",
       "      <td>NaN</td>\n",
       "      <td>NaN</td>\n",
       "      <td>Advanced Mfg</td>\n",
       "      <td>100000.0</td>\n",
       "      <td>NaN</td>\n",
       "      <td>yr</td>\n",
       "      <td>NaN</td>\n",
       "      <td>NaN</td>\n",
       "      <td>NaN</td>\n",
       "    </tr>\n",
       "  </tbody>\n",
       "</table>\n",
       "<p>5 rows × 154 columns</p>\n",
       "</div>"
      ],
      "text/plain": [
       "  add_these_pw_job_title_9089 agent_city agent_firm_name agent_state  \\\n",
       "0                         NaN        NaN             NaN         NaN   \n",
       "1                         NaN        NaN             NaN         NaN   \n",
       "2                         NaN        NaN             NaN         NaN   \n",
       "3                         NaN        NaN             NaN         NaN   \n",
       "4                         NaN        NaN             NaN         NaN   \n",
       "\n",
       "  application_type        case_no case_number case_received_date case_status  \\\n",
       "0             PERM  A-07323-97014         NaN                NaN   Certified   \n",
       "1             PERM  A-07332-99439         NaN                NaN      Denied   \n",
       "2             PERM  A-07333-99643         NaN                NaN   Certified   \n",
       "3             PERM  A-07339-01930         NaN                NaN   Certified   \n",
       "4             PERM  A-07345-03565         NaN                NaN   Certified   \n",
       "\n",
       "  class_of_admission  ... ri_pvt_employment_firm_to ri_us_workers_considered  \\\n",
       "0                J-1  ...                       NaN                      NaN   \n",
       "1                B-2  ...                       NaN                      NaN   \n",
       "2               H-1B  ...                       NaN                      NaN   \n",
       "3                B-2  ...                       NaN                      NaN   \n",
       "4                L-1  ...                       NaN                      NaN   \n",
       "\n",
       "  schd_a_sheepherder     us_economic_sector wage_offer_from_9089  \\\n",
       "0                NaN                     IT              75629.0   \n",
       "1                NaN  Other Economic Sector              37024.0   \n",
       "2                NaN              Aerospace              47923.0   \n",
       "3                NaN  Other Economic Sector                10.97   \n",
       "4                NaN           Advanced Mfg             100000.0   \n",
       "\n",
       "  wage_offer_to_9089 wage_offer_unit_of_pay_9089 wage_offered_from_9089  \\\n",
       "0                NaN                          yr                    NaN   \n",
       "1                NaN                          yr                    NaN   \n",
       "2                NaN                          yr                    NaN   \n",
       "3                NaN                          hr                    NaN   \n",
       "4                NaN                          yr                    NaN   \n",
       "\n",
       "  wage_offered_to_9089  wage_offered_unit_of_pay_9089  \n",
       "0                  NaN                            NaN  \n",
       "1                  NaN                            NaN  \n",
       "2                  NaN                            NaN  \n",
       "3                  NaN                            NaN  \n",
       "4                  NaN                            NaN  \n",
       "\n",
       "[5 rows x 154 columns]"
      ]
     },
     "execution_count": 4,
     "metadata": {},
     "output_type": "execute_result"
    }
   ],
   "source": [
    "df_visas.head() # Reading the first records by using the head() method"
   ]
  },
  {
   "cell_type": "markdown",
   "id": "b8191dd1",
   "metadata": {},
   "source": [
    "### Exploratory Data Analysis"
   ]
  },
  {
   "cell_type": "markdown",
   "id": "8afd8bde",
   "metadata": {},
   "source": [
    "**Check dimensions of the data set , data types and statistical summary of the variables**"
   ]
  },
  {
   "cell_type": "code",
   "execution_count": 7,
   "id": "1a16d3ff",
   "metadata": {},
   "outputs": [
    {
     "data": {
      "text/plain": [
       "(374362, 154)"
      ]
     },
     "execution_count": 7,
     "metadata": {},
     "output_type": "execute_result"
    }
   ],
   "source": [
    "df_visas.shape # Returning a tuple representing the dimensionality of the DataFrame"
   ]
  },
  {
   "cell_type": "code",
   "execution_count": 8,
   "id": "ec5f0d03",
   "metadata": {},
   "outputs": [
    {
     "data": {
      "text/plain": [
       "57651748"
      ]
     },
     "execution_count": 8,
     "metadata": {},
     "output_type": "execute_result"
    }
   ],
   "source": [
    "df_visas.size # Returning an int representing the number of elements in this object"
   ]
  },
  {
   "cell_type": "code",
   "execution_count": 9,
   "id": "0ed0c0c8",
   "metadata": {},
   "outputs": [
    {
     "name": "stdout",
     "output_type": "stream",
     "text": [
      "<class 'pandas.core.frame.DataFrame'>\n",
      "RangeIndex: 374362 entries, 0 to 374361\n",
      "Columns: 154 entries, add_these_pw_job_title_9089 to wage_offered_unit_of_pay_9089\n",
      "dtypes: float64(10), object(144)\n",
      "memory usage: 439.8+ MB\n"
     ]
    }
   ],
   "source": [
    "df_visas.info() # Printing a summary of the dataframe, index dtype and columns, non-null values"
   ]
  },
  {
   "cell_type": "markdown",
   "id": "1d216bbe",
   "metadata": {},
   "source": [
    "Those output show us that we are working with a set of 374362 and 154 columns. Several of the column variables are encoded as object(144) int and float(10)."
   ]
  },
  {
   "cell_type": "code",
   "execution_count": 10,
   "id": "6e949829",
   "metadata": {},
   "outputs": [
    {
     "data": {
      "text/plain": [
       "array([dtype('O'), dtype('float64')], dtype=object)"
      ]
     },
     "execution_count": 10,
     "metadata": {},
     "output_type": "execute_result"
    }
   ],
   "source": [
    "df_visas.dtypes.unique()"
   ]
  },
  {
   "cell_type": "markdown",
   "id": "8e4a888a",
   "metadata": {},
   "source": [
    "After getting sense ot the data's structure, look at the statistical summary of the variables with describe(). The describe() function could help to identify outlier in the data set."
   ]
  },
  {
   "cell_type": "code",
   "execution_count": 11,
   "id": "36d26bac",
   "metadata": {},
   "outputs": [
    {
     "data": {
      "text/html": [
       "<div>\n",
       "<style scoped>\n",
       "    .dataframe tbody tr th:only-of-type {\n",
       "        vertical-align: middle;\n",
       "    }\n",
       "\n",
       "    .dataframe tbody tr th {\n",
       "        vertical-align: top;\n",
       "    }\n",
       "\n",
       "    .dataframe thead th {\n",
       "        text-align: right;\n",
       "    }\n",
       "</style>\n",
       "<table border=\"1\" class=\"dataframe\">\n",
       "  <thead>\n",
       "    <tr style=\"text-align: right;\">\n",
       "      <th></th>\n",
       "      <th>employer_num_employees</th>\n",
       "      <th>employer_yr_estab</th>\n",
       "      <th>foreign_worker_yr_rel_edu_completed</th>\n",
       "      <th>fw_info_yr_rel_edu_completed</th>\n",
       "      <th>job_info_alt_cmb_ed_oth_yrs</th>\n",
       "      <th>job_info_alt_occ_num_months</th>\n",
       "      <th>job_info_experience_num_months</th>\n",
       "      <th>job_info_training_num_months</th>\n",
       "      <th>wage_offered_from_9089</th>\n",
       "      <th>wage_offered_to_9089</th>\n",
       "    </tr>\n",
       "  </thead>\n",
       "  <tbody>\n",
       "    <tr>\n",
       "      <th>count</th>\n",
       "      <td>2.390130e+05</td>\n",
       "      <td>238958.000000</td>\n",
       "      <td>83364.000000</td>\n",
       "      <td>137198.000000</td>\n",
       "      <td>70220.000000</td>\n",
       "      <td>147200.000000</td>\n",
       "      <td>133188.000000</td>\n",
       "      <td>4779.000000</td>\n",
       "      <td>1.146470e+05</td>\n",
       "      <td>3.101500e+04</td>\n",
       "    </tr>\n",
       "    <tr>\n",
       "      <th>mean</th>\n",
       "      <td>2.309387e+04</td>\n",
       "      <td>1984.208267</td>\n",
       "      <td>2001.345761</td>\n",
       "      <td>2002.633603</td>\n",
       "      <td>4.593876</td>\n",
       "      <td>36.483118</td>\n",
       "      <td>33.103560</td>\n",
       "      <td>32.685081</td>\n",
       "      <td>9.588846e+04</td>\n",
       "      <td>1.232273e+05</td>\n",
       "    </tr>\n",
       "    <tr>\n",
       "      <th>std</th>\n",
       "      <td>5.453129e+05</td>\n",
       "      <td>38.470555</td>\n",
       "      <td>91.444715</td>\n",
       "      <td>89.674423</td>\n",
       "      <td>4.838582</td>\n",
       "      <td>23.391668</td>\n",
       "      <td>22.733393</td>\n",
       "      <td>20.593288</td>\n",
       "      <td>1.463822e+05</td>\n",
       "      <td>1.080289e+05</td>\n",
       "    </tr>\n",
       "    <tr>\n",
       "      <th>min</th>\n",
       "      <td>0.000000e+00</td>\n",
       "      <td>0.000000</td>\n",
       "      <td>0.000000</td>\n",
       "      <td>0.000000</td>\n",
       "      <td>0.000000</td>\n",
       "      <td>0.000000</td>\n",
       "      <td>0.000000</td>\n",
       "      <td>0.000000</td>\n",
       "      <td>6.700000e+00</td>\n",
       "      <td>0.000000e+00</td>\n",
       "    </tr>\n",
       "    <tr>\n",
       "      <th>25%</th>\n",
       "      <td>7.300000e+01</td>\n",
       "      <td>1980.000000</td>\n",
       "      <td>2003.000000</td>\n",
       "      <td>2004.000000</td>\n",
       "      <td>3.000000</td>\n",
       "      <td>24.000000</td>\n",
       "      <td>12.000000</td>\n",
       "      <td>12.000000</td>\n",
       "      <td>7.453400e+04</td>\n",
       "      <td>9.700100e+04</td>\n",
       "    </tr>\n",
       "    <tr>\n",
       "      <th>50%</th>\n",
       "      <td>1.200000e+03</td>\n",
       "      <td>1996.000000</td>\n",
       "      <td>2006.000000</td>\n",
       "      <td>2007.000000</td>\n",
       "      <td>5.000000</td>\n",
       "      <td>24.000000</td>\n",
       "      <td>24.000000</td>\n",
       "      <td>36.000000</td>\n",
       "      <td>9.064400e+04</td>\n",
       "      <td>1.206000e+05</td>\n",
       "    </tr>\n",
       "    <tr>\n",
       "      <th>75%</th>\n",
       "      <td>1.613400e+04</td>\n",
       "      <td>2004.000000</td>\n",
       "      <td>2010.000000</td>\n",
       "      <td>2011.000000</td>\n",
       "      <td>5.000000</td>\n",
       "      <td>60.000000</td>\n",
       "      <td>60.000000</td>\n",
       "      <td>36.000000</td>\n",
       "      <td>1.100000e+05</td>\n",
       "      <td>1.448419e+05</td>\n",
       "    </tr>\n",
       "    <tr>\n",
       "      <th>max</th>\n",
       "      <td>2.635506e+08</td>\n",
       "      <td>2016.000000</td>\n",
       "      <td>2103.000000</td>\n",
       "      <td>2207.000000</td>\n",
       "      <td>96.000000</td>\n",
       "      <td>240.000000</td>\n",
       "      <td>244.000000</td>\n",
       "      <td>240.000000</td>\n",
       "      <td>1.629060e+07</td>\n",
       "      <td>1.328500e+07</td>\n",
       "    </tr>\n",
       "  </tbody>\n",
       "</table>\n",
       "</div>"
      ],
      "text/plain": [
       "       employer_num_employees  employer_yr_estab  \\\n",
       "count            2.390130e+05      238958.000000   \n",
       "mean             2.309387e+04        1984.208267   \n",
       "std              5.453129e+05          38.470555   \n",
       "min              0.000000e+00           0.000000   \n",
       "25%              7.300000e+01        1980.000000   \n",
       "50%              1.200000e+03        1996.000000   \n",
       "75%              1.613400e+04        2004.000000   \n",
       "max              2.635506e+08        2016.000000   \n",
       "\n",
       "       foreign_worker_yr_rel_edu_completed  fw_info_yr_rel_edu_completed  \\\n",
       "count                         83364.000000                 137198.000000   \n",
       "mean                           2001.345761                   2002.633603   \n",
       "std                              91.444715                     89.674423   \n",
       "min                               0.000000                      0.000000   \n",
       "25%                            2003.000000                   2004.000000   \n",
       "50%                            2006.000000                   2007.000000   \n",
       "75%                            2010.000000                   2011.000000   \n",
       "max                            2103.000000                   2207.000000   \n",
       "\n",
       "       job_info_alt_cmb_ed_oth_yrs  job_info_alt_occ_num_months  \\\n",
       "count                 70220.000000                147200.000000   \n",
       "mean                      4.593876                    36.483118   \n",
       "std                       4.838582                    23.391668   \n",
       "min                       0.000000                     0.000000   \n",
       "25%                       3.000000                    24.000000   \n",
       "50%                       5.000000                    24.000000   \n",
       "75%                       5.000000                    60.000000   \n",
       "max                      96.000000                   240.000000   \n",
       "\n",
       "       job_info_experience_num_months  job_info_training_num_months  \\\n",
       "count                   133188.000000                   4779.000000   \n",
       "mean                        33.103560                     32.685081   \n",
       "std                         22.733393                     20.593288   \n",
       "min                          0.000000                      0.000000   \n",
       "25%                         12.000000                     12.000000   \n",
       "50%                         24.000000                     36.000000   \n",
       "75%                         60.000000                     36.000000   \n",
       "max                        244.000000                    240.000000   \n",
       "\n",
       "       wage_offered_from_9089  wage_offered_to_9089  \n",
       "count            1.146470e+05          3.101500e+04  \n",
       "mean             9.588846e+04          1.232273e+05  \n",
       "std              1.463822e+05          1.080289e+05  \n",
       "min              6.700000e+00          0.000000e+00  \n",
       "25%              7.453400e+04          9.700100e+04  \n",
       "50%              9.064400e+04          1.206000e+05  \n",
       "75%              1.100000e+05          1.448419e+05  \n",
       "max              1.629060e+07          1.328500e+07  "
      ]
     },
     "execution_count": 11,
     "metadata": {},
     "output_type": "execute_result"
    }
   ],
   "source": [
    "df_visas.describe() # looking at the statistical summary of the variables with describe()"
   ]
  },
  {
   "cell_type": "markdown",
   "id": "6d27c830",
   "metadata": {},
   "source": [
    "As we can see, describe() returned basic statistical details like percentile, mean, std, etc. of the data frame of numeric values only."
   ]
  },
  {
   "cell_type": "markdown",
   "id": "6eda83b0",
   "metadata": {},
   "source": [
    " **Clean and organize the data**"
   ]
  },
  {
   "cell_type": "code",
   "execution_count": 12,
   "id": "83847ea3",
   "metadata": {},
   "outputs": [
    {
     "data": {
      "text/plain": [
       "Index(['add_these_pw_job_title_9089', 'agent_city', 'agent_firm_name',\n",
       "       'agent_state', 'application_type', 'case_no', 'case_number',\n",
       "       'case_received_date', 'case_status', 'class_of_admission',\n",
       "       ...\n",
       "       'ri_pvt_employment_firm_to', 'ri_us_workers_considered',\n",
       "       'schd_a_sheepherder', 'us_economic_sector', 'wage_offer_from_9089',\n",
       "       'wage_offer_to_9089', 'wage_offer_unit_of_pay_9089',\n",
       "       'wage_offered_from_9089', 'wage_offered_to_9089',\n",
       "       'wage_offered_unit_of_pay_9089'],\n",
       "      dtype='object', length=154)"
      ]
     },
     "execution_count": 12,
     "metadata": {},
     "output_type": "execute_result"
    }
   ],
   "source": [
    "df_visas.columns # Showing all columns names in dataframe"
   ]
  },
  {
   "cell_type": "markdown",
   "id": "6add690c",
   "metadata": {},
   "source": [
    "It appears that the data in the column header is already clean, so we do not need to manipulate the strings by converting them to lowercase, replacing symbols \"-\" with \"_\", or removing spaces."
   ]
  },
  {
   "cell_type": "markdown",
   "id": "e0324424",
   "metadata": {},
   "source": [
    "**Drop values**"
   ]
  },
  {
   "cell_type": "code",
   "execution_count": 13,
   "id": "8f1fc5ce",
   "metadata": {},
   "outputs": [
    {
     "data": {
      "text/plain": [
       "0         Certified\n",
       "1            Denied\n",
       "2         Certified\n",
       "3         Certified\n",
       "4         Certified\n",
       "            ...    \n",
       "374357    Withdrawn\n",
       "374358    Withdrawn\n",
       "374359    Withdrawn\n",
       "374360    Withdrawn\n",
       "374361    Withdrawn\n",
       "Name: case_status, Length: 374362, dtype: object"
      ]
     },
     "execution_count": 13,
     "metadata": {},
     "output_type": "execute_result"
    }
   ],
   "source": [
    "df_visas['case_status']"
   ]
  },
  {
   "cell_type": "markdown",
   "id": "48a46dfd",
   "metadata": {},
   "source": [
    "Case status columns contain four values, as we can see. A note that the 'Certified-Expired' is also a visa 'certified' according to some research(reference). That being said, let us combine 'certified' with the certified_experied value, and drop the withdrawn value. Two values,' certified' and' denied', will be used as the case status.\n"
   ]
  },
  {
   "cell_type": "code",
   "execution_count": 14,
   "id": "d0441e82",
   "metadata": {},
   "outputs": [],
   "source": [
    "#Removing 'withdrawn' values\n",
    "df_visas=df_visas[df_visas.case_status !='Withdrawn']"
   ]
  },
  {
   "cell_type": "code",
   "execution_count": 15,
   "id": "3c00487d",
   "metadata": {},
   "outputs": [
    {
     "data": {
      "text/plain": [
       "Certified    330519\n",
       "Denied        25649\n",
       "Name: case_status, dtype: int64"
      ]
     },
     "execution_count": 15,
     "metadata": {},
     "output_type": "execute_result"
    }
   ],
   "source": [
    "#Combining certified-expired and certified values \n",
    "df_visas.loc[df_visas.case_status == 'Certified-Expired', 'case_status'] = 'Certified'\n",
    "df_visas.case_status.value_counts()"
   ]
  },
  {
   "cell_type": "markdown",
   "id": "c883517d",
   "metadata": {},
   "source": [
    "**Identify missing data**"
   ]
  },
  {
   "cell_type": "code",
   "execution_count": 16,
   "id": "f0724377",
   "metadata": {},
   "outputs": [
    {
     "data": {
      "text/plain": [
       "add_these_pw_job_title_9089      True\n",
       "agent_city                       True\n",
       "agent_firm_name                  True\n",
       "agent_state                      True\n",
       "application_type                 True\n",
       "                                 ... \n",
       "wage_offer_to_9089               True\n",
       "wage_offer_unit_of_pay_9089      True\n",
       "wage_offered_from_9089           True\n",
       "wage_offered_to_9089             True\n",
       "wage_offered_unit_of_pay_9089    True\n",
       "Length: 154, dtype: bool"
      ]
     },
     "execution_count": 16,
     "metadata": {},
     "output_type": "execute_result"
    }
   ],
   "source": [
    "df_visas.isnull().any() # Checking missing data"
   ]
  },
  {
   "cell_type": "code",
   "execution_count": 17,
   "id": "9b4e7aeb",
   "metadata": {},
   "outputs": [
    {
     "data": {
      "text/plain": [
       "add_these_pw_job_title_9089      317031\n",
       "agent_city                       153452\n",
       "agent_firm_name                  157646\n",
       "agent_state                      156544\n",
       "application_type                 229320\n",
       "                                  ...  \n",
       "wage_offer_to_9089               285397\n",
       "wage_offer_unit_of_pay_9089      108769\n",
       "wage_offered_from_9089           248582\n",
       "wage_offered_to_9089             326852\n",
       "wage_offered_unit_of_pay_9089    289470\n",
       "Length: 154, dtype: int64"
      ]
     },
     "execution_count": 17,
     "metadata": {},
     "output_type": "execute_result"
    }
   ],
   "source": [
    "df_visas.isnull().sum() # Detecting missing value using interger"
   ]
  },
  {
   "cell_type": "code",
   "execution_count": 18,
   "id": "023871f8",
   "metadata": {},
   "outputs": [
    {
     "data": {
      "text/plain": [
       "0"
      ]
     },
     "execution_count": 18,
     "metadata": {},
     "output_type": "execute_result"
    }
   ],
   "source": [
    "df_visas['case_status'].isnull().sum() # Checking missing value using interger for the target variable 'case_status'"
   ]
  },
  {
   "cell_type": "code",
   "execution_count": 19,
   "id": "a9275ee5",
   "metadata": {},
   "outputs": [
    {
     "data": {
      "text/plain": [
       "(356168, 154)"
      ]
     },
     "execution_count": 19,
     "metadata": {},
     "output_type": "execute_result"
    }
   ],
   "source": [
    "# Dropping all empty columns\n",
    "df_us_visas1 =df_visas.dropna(axis=0, how='all')\n",
    "\n",
    "df_us_visas1.shape"
   ]
  },
  {
   "cell_type": "code",
   "execution_count": 20,
   "id": "4f44d7f4",
   "metadata": {},
   "outputs": [
    {
     "data": {
      "text/plain": [
       "add_these_pw_job_title_9089      317031\n",
       "agent_city                       153452\n",
       "agent_firm_name                  157646\n",
       "agent_state                      156544\n",
       "application_type                 229320\n",
       "                                  ...  \n",
       "wage_offer_to_9089               285397\n",
       "wage_offer_unit_of_pay_9089      108769\n",
       "wage_offered_from_9089           248582\n",
       "wage_offered_to_9089             326852\n",
       "wage_offered_unit_of_pay_9089    289470\n",
       "Length: 154, dtype: int64"
      ]
     },
     "execution_count": 20,
     "metadata": {},
     "output_type": "execute_result"
    }
   ],
   "source": [
    "df_us_visas1.isnull().sum()"
   ]
  },
  {
   "cell_type": "markdown",
   "id": "bb6107a1",
   "metadata": {},
   "source": [
    "**Drop data are 35% missing value**"
   ]
  },
  {
   "cell_type": "code",
   "execution_count": 21,
   "id": "c9ceb633",
   "metadata": {},
   "outputs": [],
   "source": [
    "df_us_visas=df_visas.drop(df_visas.columns[df_visas.isnull().mean()>=0.35], axis=1)"
   ]
  },
  {
   "cell_type": "code",
   "execution_count": 22,
   "id": "31c9ceb3",
   "metadata": {},
   "outputs": [
    {
     "data": {
      "text/plain": [
       "(356168, 19)"
      ]
     },
     "execution_count": 22,
     "metadata": {},
     "output_type": "execute_result"
    }
   ],
   "source": [
    "df_us_visas.shape"
   ]
  },
  {
   "cell_type": "code",
   "execution_count": 23,
   "id": "2ef4b7de",
   "metadata": {
    "scrolled": true
   },
   "outputs": [
    {
     "data": {
      "text/plain": [
       "case_status                         0\n",
       "class_of_admission              21085\n",
       "country_of_citizenship          19272\n",
       "decision_date                       0\n",
       "employer_address_1                 37\n",
       "employer_city                      10\n",
       "employer_name                       8\n",
       "employer_postal_code               33\n",
       "employer_state                     37\n",
       "job_info_work_city                 95\n",
       "job_info_work_state                96\n",
       "pw_amount_9089                   2203\n",
       "pw_level_9089                   26585\n",
       "pw_soc_code                       390\n",
       "pw_soc_title                     2321\n",
       "pw_source_name_9089              2087\n",
       "pw_unit_of_pay_9089              1481\n",
       "wage_offer_from_9089           107705\n",
       "wage_offer_unit_of_pay_9089    108769\n",
       "dtype: int64"
      ]
     },
     "execution_count": 23,
     "metadata": {},
     "output_type": "execute_result"
    }
   ],
   "source": [
    "df_us_visas.isnull().sum()"
   ]
  },
  {
   "cell_type": "markdown",
   "id": "6f31064e",
   "metadata": {},
   "source": [
    "**Find duplicates**"
   ]
  },
  {
   "cell_type": "markdown",
   "id": "72e388e4",
   "metadata": {},
   "source": [
    "The duplicated() method provides a Series with True and False values indicating which rows in the DataFrame are duplicated and which are not.  If all the values in a row are the same, duplicated() by default interprets the row as a whole as a duplicate. It also believes the initial row to be unique, so it will always return False because a duplicate row won't appear until the subsequent occurrence."
   ]
  },
  {
   "cell_type": "code",
   "execution_count": 24,
   "id": "56b5739b",
   "metadata": {
    "scrolled": false
   },
   "outputs": [
    {
     "data": {
      "text/plain": [
       "0         False\n",
       "1         False\n",
       "2         False\n",
       "3         False\n",
       "4         False\n",
       "          ...  \n",
       "374349    False\n",
       "374350    False\n",
       "374351    False\n",
       "374352    False\n",
       "374353    False\n",
       "Length: 356168, dtype: bool"
      ]
     },
     "execution_count": 24,
     "metadata": {},
     "output_type": "execute_result"
    }
   ],
   "source": [
    "df_us_visas.duplicated() # Finding duplicate value in the data "
   ]
  },
  {
   "cell_type": "markdown",
   "id": "c72d65c4",
   "metadata": {},
   "source": [
    "As we can see, there are several outliers. The box in our box plot is represented by that thick line close to 0 to 100000 for the Boxplot 'charter_total'. Certain sites show outliers over the box and upper fence."
   ]
  },
  {
   "cell_type": "markdown",
   "id": "0ae0ca3b",
   "metadata": {},
   "source": [
    "**Add features year,month, and day in the data**"
   ]
  },
  {
   "cell_type": "code",
   "execution_count": 25,
   "id": "375af34e",
   "metadata": {},
   "outputs": [],
   "source": [
    "# Converting timestamp in to time object\n",
    "df_us_visas['decision_date'] = pd.to_datetime(df_us_visas['decision_date'])"
   ]
  },
  {
   "cell_type": "code",
   "execution_count": 26,
   "id": "1672c3c3",
   "metadata": {},
   "outputs": [
    {
     "data": {
      "text/plain": [
       "(356168, 22)"
      ]
     },
     "execution_count": 26,
     "metadata": {},
     "output_type": "execute_result"
    }
   ],
   "source": [
    "# Add year as a feature from timestamp\n",
    "df_us_visas['year'] =df_us_visas.decision_date.dt.year\n",
    "df_us_visas['month'] =df_us_visas.decision_date.dt.month\n",
    "df_us_visas['day'] =df_us_visas.decision_date.dt.day\n",
    "\n",
    "df_us_visas.shape"
   ]
  },
  {
   "cell_type": "markdown",
   "id": "05ea9ef9",
   "metadata": {},
   "source": [
    "### Data visualization"
   ]
  },
  {
   "cell_type": "markdown",
   "id": "fc9cbe6f",
   "metadata": {},
   "source": [
    "Grouping variables in Seaborn countplot with different attributes\n",
    "If we use only one data variable instead of two data variables then it means that the axis denotes each of these data variables as an axis."
   ]
  },
  {
   "cell_type": "code",
   "execution_count": 27,
   "id": "b1297470",
   "metadata": {},
   "outputs": [
    {
     "data": {
      "text/plain": [
       "[Text(0.5, 0, 'Visa application year'),\n",
       " Text(0, 0.5, 'Number of Visa applicatons')]"
      ]
     },
     "execution_count": 27,
     "metadata": {},
     "output_type": "execute_result"
    },
    {
     "data": {
      "image/png": "[encoded data removed]",
      "text/plain": [
       "<Figure size 640x480 with 1 Axes>"
      ]
     },
     "metadata": {},
     "output_type": "display_data"
    }
   ],
   "source": [
    "# Counting plot along y axis\n",
    "fig, ax = plt.subplots()\n",
    "sns.countplot(x=\"year\", hue = \"case_status\", palette = \"Set2\",data = df_us_visas)\n",
    "ax.set(xlabel='Visa application year', ylabel='Number of Visa applicatons') "
   ]
  },
  {
   "cell_type": "code",
   "execution_count": 28,
   "id": "a0da06c4",
   "metadata": {},
   "outputs": [
    {
     "data": {
      "text/plain": [
       "(array([0, 1, 2, 3, 4, 5, 6, 7, 8, 9]),\n",
       " [Text(0, 0, 'INDIA'),\n",
       "  Text(1, 0, 'CHINA'),\n",
       "  Text(2, 0, 'SOUTH KOREA'),\n",
       "  Text(3, 0, 'CANADA'),\n",
       "  Text(4, 0, 'MEXICO'),\n",
       "  Text(5, 0, 'PHILIPPINES'),\n",
       "  Text(6, 0, 'UNITED KINGDOM'),\n",
       "  Text(7, 0, 'TAIWAN'),\n",
       "  Text(8, 0, 'PAKISTAN'),\n",
       "  Text(9, 0, 'FRANCE')])"
      ]
     },
     "execution_count": 28,
     "metadata": {},
     "output_type": "execute_result"
    },
    {
     "data": {
      "image/png": "[encoded data removed]",
      "text/plain": [
       "<Figure size 640x480 with 1 Axes>"
      ]
     },
     "metadata": {},
     "output_type": "display_data"
    }
   ],
   "source": [
    "# Counting plot along y axis\n",
    "fig, ax = plt.subplots()\n",
    "sns.countplot(x=\"country_of_citizenship\", hue = \"case_status\", palette = \"Set1\",data = df_us_visas,\n",
    "              order=df_us_visas.country_of_citizenship.value_counts().iloc[:10].index,alpha = 0.5)\n",
    "ax.set(xlabel='Country of citizenship', ylabel='Number of Visa applicatons') \n",
    "plt.xticks(rotation=90) # setting the labels of x-axis\n"
   ]
  },
  {
   "cell_type": "code",
   "execution_count": 29,
   "id": "07e45787",
   "metadata": {},
   "outputs": [
    {
     "data": {
      "text/plain": [
       "(array([0, 1, 2, 3, 4, 5, 6, 7, 8, 9]),\n",
       " [Text(0, 0, 'Software Developers, Applications'),\n",
       "  Text(1, 0, 'Computer Systems Analysts'),\n",
       "  Text(2, 0, 'Software Developers, Systems Software'),\n",
       "  Text(3, 0, 'Electronics Engineers, Except Computer'),\n",
       "  Text(4, 0, 'Computer and Information Systems Managers'),\n",
       "  Text(5, 0, 'Computer Software Engineers, Applications'),\n",
       "  Text(6, 0, 'Accountants and Auditors'),\n",
       "  Text(7, 0, 'Network and Computer Systems Administrators*'),\n",
       "  Text(8, 0, 'Mechanical Engineers'),\n",
       "  Text(9, 0, 'Meat, Poultry, and Fish Cutters and Trimmers')])"
      ]
     },
     "execution_count": 29,
     "metadata": {},
     "output_type": "execute_result"
    },
    {
     "data": {
      "image/png": "[encoded data removed]",
      "text/plain": [
       "<Figure size 640x480 with 1 Axes>"
      ]
     },
     "metadata": {},
     "output_type": "display_data"
    }
   ],
   "source": [
    "# Counting plot along y axis\n",
    "fig, ax = plt.subplots()\n",
    "sns.countplot(x=\"pw_soc_title\", hue = \"case_status\", palette = \"Set1\",data = df_us_visas,\n",
    "              order=df_us_visas.pw_soc_title.value_counts().iloc[:10].index,alpha = 0.5)\n",
    "ax.set(xlabel='pw_soc_title', ylabel='Number of Visa applicatons') \n",
    "plt.xticks(rotation=90) # setting the labels of x-axis\n"
   ]
  },
  {
   "cell_type": "code",
   "execution_count": 30,
   "id": "dcaa2001",
   "metadata": {},
   "outputs": [
    {
     "data": {
      "text/plain": [
       "(array([0, 1, 2, 3, 4, 5, 6, 7, 8, 9]),\n",
       " [Text(0, 0, 'COGNIZANT TECHNOLOGY SOLUTIONS US CORPORATION'),\n",
       "  Text(1, 0, 'MICROSOFT CORPORATION'),\n",
       "  Text(2, 0, 'INTEL CORPORATION'),\n",
       "  Text(3, 0, 'GOOGLE INC.'),\n",
       "  Text(4, 0, 'AMAZON CORPORATE LLC'),\n",
       "  Text(5, 0, 'CISCO SYSTEMS, INC.'),\n",
       "  Text(6, 0, 'APPLE INC.'),\n",
       "  Text(7, 0, 'ORACLE AMERICA, INC.'),\n",
       "  Text(8, 0, 'INFOSYS LTD.'),\n",
       "  Text(9, 0, 'DELOITTE CONSULTING LLP')])"
      ]
     },
     "execution_count": 30,
     "metadata": {},
     "output_type": "execute_result"
    },
    {
     "data": {
      "image/png": "[encoded data removed]",
      "text/plain": [
       "<Figure size 640x480 with 1 Axes>"
      ]
     },
     "metadata": {},
     "output_type": "display_data"
    }
   ],
   "source": [
    "# Counting plot along y axis\n",
    "fig, ax = plt.subplots()\n",
    "#fig.set_size_inches(8, 6)\n",
    "sns.countplot(x=\"employer_name\", hue = \"case_status\", palette = \"Set1\",data = df_us_visas,\n",
    "              order=df_us_visas.employer_name.value_counts().iloc[:10].index,alpha = 0.5)\n",
    "ax.set(xlabel='Employer name', ylabel='Number of Visa applicatons') \n",
    "plt.xticks(rotation=90) # setting the labels of x-axis\n"
   ]
  },
  {
   "cell_type": "code",
   "execution_count": 31,
   "id": "eb2affff",
   "metadata": {},
   "outputs": [
    {
     "data": {
      "text/plain": [
       "(array([0, 1, 2, 3, 4, 5, 6, 7, 8, 9]),\n",
       " [Text(0, 0, 'H-1B'),\n",
       "  Text(1, 0, 'L-1'),\n",
       "  Text(2, 0, 'F-1'),\n",
       "  Text(3, 0, 'Not in USA'),\n",
       "  Text(4, 0, 'TN'),\n",
       "  Text(5, 0, 'E-2'),\n",
       "  Text(6, 0, 'B-2'),\n",
       "  Text(7, 0, 'Parolee'),\n",
       "  Text(8, 0, 'EWI'),\n",
       "  Text(9, 0, 'J-1')])"
      ]
     },
     "execution_count": 31,
     "metadata": {},
     "output_type": "execute_result"
    },
    {
     "data": {
      "image/png": "[encoded data removed]",
      "text/plain": [
       "<Figure size 640x480 with 1 Axes>"
      ]
     },
     "metadata": {},
     "output_type": "display_data"
    }
   ],
   "source": [
    "# Counting plot along y axis\n",
    "fig, ax = plt.subplots()\n",
    "sns.countplot(x=\"class_of_admission\", hue = \"case_status\", palette = \"Set1\",data = df_us_visas,\n",
    "              order=df_us_visas.class_of_admission.value_counts().iloc[:10].index,alpha = 0.5)\n",
    "ax.set(xlabel='job_info_work_state', ylabel='Number of Visa applicatons') \n",
    "plt.xticks(rotation=90) # setting the labels of x-axis\n"
   ]
  },
  {
   "cell_type": "code",
   "execution_count": 33,
   "id": "f042f174",
   "metadata": {},
   "outputs": [
    {
     "data": {
      "text/plain": [
       "(array([0, 1, 2, 3, 4, 5, 6, 7, 8, 9]),\n",
       " [Text(0, 0, 'NEW YORK'),\n",
       "  Text(1, 0, 'COLLEGE STATION'),\n",
       "  Text(2, 0, 'SANTA CLARA'),\n",
       "  Text(3, 0, 'SAN JOSE'),\n",
       "  Text(4, 0, 'REDMOND'),\n",
       "  Text(5, 0, 'MOUNTAIN VIEW'),\n",
       "  Text(6, 0, 'HOUSTON'),\n",
       "  Text(7, 0, 'SUNNYVALE'),\n",
       "  Text(8, 0, 'SAN FRANCISCO'),\n",
       "  Text(9, 0, 'PLANO')])"
      ]
     },
     "execution_count": 33,
     "metadata": {},
     "output_type": "execute_result"
    },
    {
     "data": {
      "image/png": "[encoded data removed]",
      "text/plain": [
       "<Figure size 640x480 with 1 Axes>"
      ]
     },
     "metadata": {},
     "output_type": "display_data"
    }
   ],
   "source": [
    "# Counting plot along y axis\n",
    "fig, ax = plt.subplots()\n",
    "sns.countplot(x=\"employer_city\", hue = \"case_status\", palette = \"Set1\",data = df_us_visas,\n",
    "              order=df_us_visas.employer_city.value_counts().iloc[:10].index,alpha = 0.5)\n",
    "ax.set(xlabel='Employer State', ylabel='Number of Visa applicatons') \n",
    "plt.xticks(rotation=90) # setting the labels of x-axis\n"
   ]
  },
  {
   "cell_type": "code",
   "execution_count": null,
   "id": "654d2d3e",
   "metadata": {},
   "outputs": [],
   "source": []
  },
  {
   "cell_type": "markdown",
   "id": "c8a137fa",
   "metadata": {},
   "source": [
    "### Data Preparation"
   ]
  },
  {
   "cell_type": "code",
   "execution_count": 34,
   "id": "24d8c105",
   "metadata": {},
   "outputs": [],
   "source": [
    "# Dropping unecessary variables\n",
    "df_us_visas_drop= df_us_visas.drop(['decision_date','employer_address_1'], axis=1)"
   ]
  },
  {
   "cell_type": "code",
   "execution_count": 35,
   "id": "bd5eda95",
   "metadata": {},
   "outputs": [
    {
     "name": "stdout",
     "output_type": "stream",
     "text": [
      "case_status : 2 labels\n",
      "class_of_admission : 58 labels\n",
      "country_of_citizenship : 202 labels\n",
      "employer_city : 8325 labels\n",
      "employer_name : 70387 labels\n",
      "employer_postal_code : 15229 labels\n",
      "employer_state : 114 labels\n",
      "job_info_work_city : 9298 labels\n",
      "job_info_work_state : 114 labels\n",
      "pw_amount_9089 : 34929 labels\n",
      "pw_level_9089 : 5 labels\n",
      "pw_soc_code : 1359 labels\n",
      "pw_soc_title : 899 labels\n",
      "pw_source_name_9089 : 7 labels\n",
      "pw_unit_of_pay_9089 : 11 labels\n",
      "wage_offer_from_9089 : 38116 labels\n",
      "wage_offer_unit_of_pay_9089 : 11 labels\n",
      "year : 6 labels\n",
      "month : 12 labels\n",
      "day : 31 labels\n"
     ]
    }
   ],
   "source": [
    "for col in df_us_visas_drop.columns[:]:\n",
    "    print(col,':',len(df_us_visas_drop[col].unique()),'labels')"
   ]
  },
  {
   "cell_type": "code",
   "execution_count": 36,
   "id": "7043f09d",
   "metadata": {
    "scrolled": true
   },
   "outputs": [
    {
     "data": {
      "text/html": [
       "<div>\n",
       "<style scoped>\n",
       "    .dataframe tbody tr th:only-of-type {\n",
       "        vertical-align: middle;\n",
       "    }\n",
       "\n",
       "    .dataframe tbody tr th {\n",
       "        vertical-align: top;\n",
       "    }\n",
       "\n",
       "    .dataframe thead th {\n",
       "        text-align: right;\n",
       "    }\n",
       "</style>\n",
       "<table border=\"1\" class=\"dataframe\">\n",
       "  <thead>\n",
       "    <tr style=\"text-align: right;\">\n",
       "      <th></th>\n",
       "      <th>case_status</th>\n",
       "      <th>class_of_admission</th>\n",
       "      <th>country_of_citizenship</th>\n",
       "      <th>employer_city</th>\n",
       "      <th>employer_name</th>\n",
       "      <th>employer_postal_code</th>\n",
       "      <th>employer_state</th>\n",
       "      <th>job_info_work_city</th>\n",
       "      <th>job_info_work_state</th>\n",
       "      <th>pw_amount_9089</th>\n",
       "      <th>pw_level_9089</th>\n",
       "      <th>pw_soc_code</th>\n",
       "      <th>pw_soc_title</th>\n",
       "      <th>pw_source_name_9089</th>\n",
       "      <th>pw_unit_of_pay_9089</th>\n",
       "      <th>wage_offer_from_9089</th>\n",
       "      <th>wage_offer_unit_of_pay_9089</th>\n",
       "      <th>year</th>\n",
       "      <th>month</th>\n",
       "      <th>day</th>\n",
       "    </tr>\n",
       "  </thead>\n",
       "  <tbody>\n",
       "    <tr>\n",
       "      <th>0</th>\n",
       "      <td>Certified</td>\n",
       "      <td>J-1</td>\n",
       "      <td>NaN</td>\n",
       "      <td>NEW YORK</td>\n",
       "      <td>NETSOFT USA INC.</td>\n",
       "      <td>10010.0</td>\n",
       "      <td>NY</td>\n",
       "      <td>New York</td>\n",
       "      <td>NY</td>\n",
       "      <td>75629.0</td>\n",
       "      <td>Level II</td>\n",
       "      <td>15-1031.00</td>\n",
       "      <td>Computer Software Engineers, Applications</td>\n",
       "      <td>OES</td>\n",
       "      <td>yr</td>\n",
       "      <td>75629.0</td>\n",
       "      <td>yr</td>\n",
       "      <td>2012</td>\n",
       "      <td>2</td>\n",
       "      <td>1</td>\n",
       "    </tr>\n",
       "    <tr>\n",
       "      <th>1</th>\n",
       "      <td>Denied</td>\n",
       "      <td>B-2</td>\n",
       "      <td>NaN</td>\n",
       "      <td>CARLSTADT</td>\n",
       "      <td>PINNACLE ENVIRONEMNTAL CORP</td>\n",
       "      <td>7072.0</td>\n",
       "      <td>NY</td>\n",
       "      <td>New York</td>\n",
       "      <td>NY</td>\n",
       "      <td>37024.0</td>\n",
       "      <td>Level I</td>\n",
       "      <td>47-4041.00</td>\n",
       "      <td>Hazardous Materials Removal Workers</td>\n",
       "      <td>OES</td>\n",
       "      <td>yr</td>\n",
       "      <td>37024.0</td>\n",
       "      <td>yr</td>\n",
       "      <td>2011</td>\n",
       "      <td>12</td>\n",
       "      <td>21</td>\n",
       "    </tr>\n",
       "    <tr>\n",
       "      <th>2</th>\n",
       "      <td>Certified</td>\n",
       "      <td>H-1B</td>\n",
       "      <td>NaN</td>\n",
       "      <td>GLEN ALLEN</td>\n",
       "      <td>SCHNABEL ENGINEERING, INC.</td>\n",
       "      <td>23059.0</td>\n",
       "      <td>VA</td>\n",
       "      <td>Lutherville</td>\n",
       "      <td>MD</td>\n",
       "      <td>47923.0</td>\n",
       "      <td>Level I</td>\n",
       "      <td>17-2051.00</td>\n",
       "      <td>Civil Engineers</td>\n",
       "      <td>OES</td>\n",
       "      <td>yr</td>\n",
       "      <td>47923.0</td>\n",
       "      <td>yr</td>\n",
       "      <td>2011</td>\n",
       "      <td>12</td>\n",
       "      <td>1</td>\n",
       "    </tr>\n",
       "    <tr>\n",
       "      <th>3</th>\n",
       "      <td>Certified</td>\n",
       "      <td>B-2</td>\n",
       "      <td>NaN</td>\n",
       "      <td>FLUSHING</td>\n",
       "      <td>EBENEZER MISSION CHURCH</td>\n",
       "      <td>11354.0</td>\n",
       "      <td>NY</td>\n",
       "      <td>Flushing</td>\n",
       "      <td>NY</td>\n",
       "      <td>10.97</td>\n",
       "      <td>Level II</td>\n",
       "      <td>43-4071.00</td>\n",
       "      <td>File Clerks</td>\n",
       "      <td>OES</td>\n",
       "      <td>hr</td>\n",
       "      <td>10.97</td>\n",
       "      <td>hr</td>\n",
       "      <td>2011</td>\n",
       "      <td>12</td>\n",
       "      <td>1</td>\n",
       "    </tr>\n",
       "    <tr>\n",
       "      <th>4</th>\n",
       "      <td>Certified</td>\n",
       "      <td>L-1</td>\n",
       "      <td>NaN</td>\n",
       "      <td>ALBANY</td>\n",
       "      <td>ALBANY INTERNATIONAL CORP.</td>\n",
       "      <td>12204.0</td>\n",
       "      <td>NY</td>\n",
       "      <td>Albany</td>\n",
       "      <td>NY</td>\n",
       "      <td>94890.0</td>\n",
       "      <td>Level IV</td>\n",
       "      <td>41-9031.00</td>\n",
       "      <td>Sales Engineers</td>\n",
       "      <td>OES</td>\n",
       "      <td>yr</td>\n",
       "      <td>100000.0</td>\n",
       "      <td>yr</td>\n",
       "      <td>2012</td>\n",
       "      <td>1</td>\n",
       "      <td>26</td>\n",
       "    </tr>\n",
       "  </tbody>\n",
       "</table>\n",
       "</div>"
      ],
      "text/plain": [
       "  case_status class_of_admission country_of_citizenship employer_city  \\\n",
       "0   Certified                J-1                    NaN      NEW YORK   \n",
       "1      Denied                B-2                    NaN     CARLSTADT   \n",
       "2   Certified               H-1B                    NaN    GLEN ALLEN   \n",
       "3   Certified                B-2                    NaN      FLUSHING   \n",
       "4   Certified                L-1                    NaN        ALBANY   \n",
       "\n",
       "                 employer_name employer_postal_code employer_state  \\\n",
       "0             NETSOFT USA INC.              10010.0             NY   \n",
       "1  PINNACLE ENVIRONEMNTAL CORP               7072.0             NY   \n",
       "2   SCHNABEL ENGINEERING, INC.              23059.0             VA   \n",
       "3      EBENEZER MISSION CHURCH              11354.0             NY   \n",
       "4   ALBANY INTERNATIONAL CORP.              12204.0             NY   \n",
       "\n",
       "  job_info_work_city job_info_work_state pw_amount_9089 pw_level_9089  \\\n",
       "0           New York                  NY        75629.0      Level II   \n",
       "1           New York                  NY        37024.0       Level I   \n",
       "2        Lutherville                  MD        47923.0       Level I   \n",
       "3           Flushing                  NY          10.97      Level II   \n",
       "4             Albany                  NY        94890.0      Level IV   \n",
       "\n",
       "  pw_soc_code                               pw_soc_title pw_source_name_9089  \\\n",
       "0  15-1031.00  Computer Software Engineers, Applications                 OES   \n",
       "1  47-4041.00        Hazardous Materials Removal Workers                 OES   \n",
       "2  17-2051.00                            Civil Engineers                 OES   \n",
       "3  43-4071.00                                File Clerks                 OES   \n",
       "4  41-9031.00                            Sales Engineers                 OES   \n",
       "\n",
       "  pw_unit_of_pay_9089 wage_offer_from_9089 wage_offer_unit_of_pay_9089  year  \\\n",
       "0                  yr              75629.0                          yr  2012   \n",
       "1                  yr              37024.0                          yr  2011   \n",
       "2                  yr              47923.0                          yr  2011   \n",
       "3                  hr                10.97                          hr  2011   \n",
       "4                  yr             100000.0                          yr  2012   \n",
       "\n",
       "   month  day  \n",
       "0      2    1  \n",
       "1     12   21  \n",
       "2     12    1  \n",
       "3     12    1  \n",
       "4      1   26  "
      ]
     },
     "execution_count": 36,
     "metadata": {},
     "output_type": "execute_result"
    }
   ],
   "source": [
    "df_us_visas_drop.head()"
   ]
  },
  {
   "cell_type": "code",
   "execution_count": 37,
   "id": "43cb42fb",
   "metadata": {
    "scrolled": false
   },
   "outputs": [
    {
     "data": {
      "text/html": [
       "<div>\n",
       "<style scoped>\n",
       "    .dataframe tbody tr th:only-of-type {\n",
       "        vertical-align: middle;\n",
       "    }\n",
       "\n",
       "    .dataframe tbody tr th {\n",
       "        vertical-align: top;\n",
       "    }\n",
       "\n",
       "    .dataframe thead th {\n",
       "        text-align: right;\n",
       "    }\n",
       "</style>\n",
       "<table border=\"1\" class=\"dataframe\">\n",
       "  <thead>\n",
       "    <tr style=\"text-align: right;\">\n",
       "      <th></th>\n",
       "      <th>class_of_admission</th>\n",
       "      <th>country_of_citizenship</th>\n",
       "      <th>employer_city</th>\n",
       "      <th>employer_name</th>\n",
       "      <th>employer_postal_code</th>\n",
       "      <th>employer_state</th>\n",
       "      <th>job_info_work_city</th>\n",
       "      <th>job_info_work_state</th>\n",
       "      <th>pw_amount_9089</th>\n",
       "      <th>pw_level_9089</th>\n",
       "      <th>pw_soc_code</th>\n",
       "      <th>pw_soc_title</th>\n",
       "      <th>pw_source_name_9089</th>\n",
       "      <th>pw_unit_of_pay_9089</th>\n",
       "      <th>wage_offer_from_9089</th>\n",
       "      <th>wage_offer_unit_of_pay_9089</th>\n",
       "      <th>year</th>\n",
       "      <th>month</th>\n",
       "      <th>day</th>\n",
       "      <th>case_status_Denied</th>\n",
       "    </tr>\n",
       "  </thead>\n",
       "  <tbody>\n",
       "    <tr>\n",
       "      <th>0</th>\n",
       "      <td>J-1</td>\n",
       "      <td>NaN</td>\n",
       "      <td>NEW YORK</td>\n",
       "      <td>NETSOFT USA INC.</td>\n",
       "      <td>10010.0</td>\n",
       "      <td>NY</td>\n",
       "      <td>New York</td>\n",
       "      <td>NY</td>\n",
       "      <td>75629.0</td>\n",
       "      <td>Level II</td>\n",
       "      <td>15-1031.00</td>\n",
       "      <td>Computer Software Engineers, Applications</td>\n",
       "      <td>OES</td>\n",
       "      <td>yr</td>\n",
       "      <td>75629.0</td>\n",
       "      <td>yr</td>\n",
       "      <td>2012</td>\n",
       "      <td>2</td>\n",
       "      <td>1</td>\n",
       "      <td>0</td>\n",
       "    </tr>\n",
       "    <tr>\n",
       "      <th>1</th>\n",
       "      <td>B-2</td>\n",
       "      <td>NaN</td>\n",
       "      <td>CARLSTADT</td>\n",
       "      <td>PINNACLE ENVIRONEMNTAL CORP</td>\n",
       "      <td>7072.0</td>\n",
       "      <td>NY</td>\n",
       "      <td>New York</td>\n",
       "      <td>NY</td>\n",
       "      <td>37024.0</td>\n",
       "      <td>Level I</td>\n",
       "      <td>47-4041.00</td>\n",
       "      <td>Hazardous Materials Removal Workers</td>\n",
       "      <td>OES</td>\n",
       "      <td>yr</td>\n",
       "      <td>37024.0</td>\n",
       "      <td>yr</td>\n",
       "      <td>2011</td>\n",
       "      <td>12</td>\n",
       "      <td>21</td>\n",
       "      <td>1</td>\n",
       "    </tr>\n",
       "    <tr>\n",
       "      <th>2</th>\n",
       "      <td>H-1B</td>\n",
       "      <td>NaN</td>\n",
       "      <td>GLEN ALLEN</td>\n",
       "      <td>SCHNABEL ENGINEERING, INC.</td>\n",
       "      <td>23059.0</td>\n",
       "      <td>VA</td>\n",
       "      <td>Lutherville</td>\n",
       "      <td>MD</td>\n",
       "      <td>47923.0</td>\n",
       "      <td>Level I</td>\n",
       "      <td>17-2051.00</td>\n",
       "      <td>Civil Engineers</td>\n",
       "      <td>OES</td>\n",
       "      <td>yr</td>\n",
       "      <td>47923.0</td>\n",
       "      <td>yr</td>\n",
       "      <td>2011</td>\n",
       "      <td>12</td>\n",
       "      <td>1</td>\n",
       "      <td>0</td>\n",
       "    </tr>\n",
       "    <tr>\n",
       "      <th>3</th>\n",
       "      <td>B-2</td>\n",
       "      <td>NaN</td>\n",
       "      <td>FLUSHING</td>\n",
       "      <td>EBENEZER MISSION CHURCH</td>\n",
       "      <td>11354.0</td>\n",
       "      <td>NY</td>\n",
       "      <td>Flushing</td>\n",
       "      <td>NY</td>\n",
       "      <td>10.97</td>\n",
       "      <td>Level II</td>\n",
       "      <td>43-4071.00</td>\n",
       "      <td>File Clerks</td>\n",
       "      <td>OES</td>\n",
       "      <td>hr</td>\n",
       "      <td>10.97</td>\n",
       "      <td>hr</td>\n",
       "      <td>2011</td>\n",
       "      <td>12</td>\n",
       "      <td>1</td>\n",
       "      <td>0</td>\n",
       "    </tr>\n",
       "    <tr>\n",
       "      <th>4</th>\n",
       "      <td>L-1</td>\n",
       "      <td>NaN</td>\n",
       "      <td>ALBANY</td>\n",
       "      <td>ALBANY INTERNATIONAL CORP.</td>\n",
       "      <td>12204.0</td>\n",
       "      <td>NY</td>\n",
       "      <td>Albany</td>\n",
       "      <td>NY</td>\n",
       "      <td>94890.0</td>\n",
       "      <td>Level IV</td>\n",
       "      <td>41-9031.00</td>\n",
       "      <td>Sales Engineers</td>\n",
       "      <td>OES</td>\n",
       "      <td>yr</td>\n",
       "      <td>100000.0</td>\n",
       "      <td>yr</td>\n",
       "      <td>2012</td>\n",
       "      <td>1</td>\n",
       "      <td>26</td>\n",
       "      <td>0</td>\n",
       "    </tr>\n",
       "  </tbody>\n",
       "</table>\n",
       "</div>"
      ],
      "text/plain": [
       "  class_of_admission country_of_citizenship employer_city  \\\n",
       "0                J-1                    NaN      NEW YORK   \n",
       "1                B-2                    NaN     CARLSTADT   \n",
       "2               H-1B                    NaN    GLEN ALLEN   \n",
       "3                B-2                    NaN      FLUSHING   \n",
       "4                L-1                    NaN        ALBANY   \n",
       "\n",
       "                 employer_name employer_postal_code employer_state  \\\n",
       "0             NETSOFT USA INC.              10010.0             NY   \n",
       "1  PINNACLE ENVIRONEMNTAL CORP               7072.0             NY   \n",
       "2   SCHNABEL ENGINEERING, INC.              23059.0             VA   \n",
       "3      EBENEZER MISSION CHURCH              11354.0             NY   \n",
       "4   ALBANY INTERNATIONAL CORP.              12204.0             NY   \n",
       "\n",
       "  job_info_work_city job_info_work_state pw_amount_9089 pw_level_9089  \\\n",
       "0           New York                  NY        75629.0      Level II   \n",
       "1           New York                  NY        37024.0       Level I   \n",
       "2        Lutherville                  MD        47923.0       Level I   \n",
       "3           Flushing                  NY          10.97      Level II   \n",
       "4             Albany                  NY        94890.0      Level IV   \n",
       "\n",
       "  pw_soc_code                               pw_soc_title pw_source_name_9089  \\\n",
       "0  15-1031.00  Computer Software Engineers, Applications                 OES   \n",
       "1  47-4041.00        Hazardous Materials Removal Workers                 OES   \n",
       "2  17-2051.00                            Civil Engineers                 OES   \n",
       "3  43-4071.00                                File Clerks                 OES   \n",
       "4  41-9031.00                            Sales Engineers                 OES   \n",
       "\n",
       "  pw_unit_of_pay_9089 wage_offer_from_9089 wage_offer_unit_of_pay_9089  year  \\\n",
       "0                  yr              75629.0                          yr  2012   \n",
       "1                  yr              37024.0                          yr  2011   \n",
       "2                  yr              47923.0                          yr  2011   \n",
       "3                  hr                10.97                          hr  2011   \n",
       "4                  yr             100000.0                          yr  2012   \n",
       "\n",
       "   month  day  case_status_Denied  \n",
       "0      2    1                   0  \n",
       "1     12   21                   1  \n",
       "2     12    1                   0  \n",
       "3     12    1                   0  \n",
       "4      1   26                   0  "
      ]
     },
     "execution_count": 37,
     "metadata": {},
     "output_type": "execute_result"
    }
   ],
   "source": [
    "# Converting categorical data into dummy or indicator variables\n",
    "df_us_visas_dummies =pd.get_dummies(df_us_visas_drop, columns=['case_status'],drop_first=True)\n",
    "df_us_visas_dummies.head()"
   ]
  },
  {
   "cell_type": "code",
   "execution_count": 38,
   "id": "b0987d87",
   "metadata": {},
   "outputs": [],
   "source": [
    "# Creating features and target\n",
    "X=df_us_visas_dummies.drop(['case_status_Denied'],axis=1)\n",
    "y=df_us_visas_dummies['case_status_Denied']"
   ]
  },
  {
   "cell_type": "code",
   "execution_count": 39,
   "id": "2db3dec5",
   "metadata": {},
   "outputs": [],
   "source": [
    "# Formating all fields as string\n",
    "X = X.astype(str)\n",
    "y=y.astype(str)"
   ]
  },
  {
   "cell_type": "code",
   "execution_count": 40,
   "id": "50b53474",
   "metadata": {},
   "outputs": [],
   "source": [
    "# Splitting the dataset into train and test sets\n",
    "X_train, X_test, y_train, y_test = train_test_split(X, y, test_size=0.33, random_state=1)"
   ]
  },
  {
   "cell_type": "code",
   "execution_count": 41,
   "id": "bf94bf41",
   "metadata": {},
   "outputs": [
    {
     "name": "stdout",
     "output_type": "stream",
     "text": [
      "Train (238632, 19) (238632,)\n",
      "Test (117536, 19) (117536,)\n"
     ]
    }
   ],
   "source": [
    "# Summarizing train and test\n",
    "print('Train', X_train.shape, y_train.shape)\n",
    "print('Test', X_test.shape, y_test.shape)"
   ]
  },
  {
   "cell_type": "markdown",
   "id": "5e389b18",
   "metadata": {},
   "source": [
    "We can see that we have 238632 examples for training and 117536 for testing."
   ]
  },
  {
   "cell_type": "markdown",
   "id": "04e948cb",
   "metadata": {},
   "source": [
    "To convert categorical variables to integer codes, we can use scikit-learn's OrdinalEncoder() class. This class is flexible and allows the specification of category order as arguments, but only if such an order is known. When encoding variables, it's important to fit the encoder on the training dataset first before applying it to the test and train datasets. This ensures that the encoding is consistent across all datasets."
   ]
  },
  {
   "cell_type": "code",
   "execution_count": 42,
   "id": "e444ddc3",
   "metadata": {},
   "outputs": [],
   "source": [
    "# Preparing input data\n",
    "def prepare_inputs(X_train, X_test):\n",
    " ordencod = OrdinalEncoder(handle_unknown='use_encoded_value', unknown_value=-1)\n",
    " ordencod.fit(X_train)\n",
    " X_train_enc =ordencod.transform(X_train)\n",
    " X_test_enc = ordencod.transform(X_test)\n",
    " return X_train_enc, X_test_enc\n"
   ]
  },
  {
   "cell_type": "code",
   "execution_count": 43,
   "id": "2648869d",
   "metadata": {},
   "outputs": [],
   "source": [
    "# Preparing target\n",
    "def prepare_targets(y_train, y_test):\n",
    " le = LabelEncoder()\n",
    " le.fit(y_train)\n",
    " y_train_enc = le.transform(y_train)\n",
    " y_test_enc = le.transform(y_test)\n",
    " return y_train_enc, y_test_enc"
   ]
  },
  {
   "cell_type": "code",
   "execution_count": 48,
   "id": "8b43d077",
   "metadata": {},
   "outputs": [],
   "source": [
    "# Preparing input data\n",
    "X_train_enc, X_test_enc = prepare_inputs(X_train, X_test)\n",
    "# prepare output data\n",
    "y_train_enc, y_test_enc = prepare_targets(y_train, y_test)"
   ]
  },
  {
   "cell_type": "markdown",
   "id": "b0803b2d",
   "metadata": {},
   "source": [
    "#### Chi-Squared Feature Selection"
   ]
  },
  {
   "cell_type": "markdown",
   "id": "7bec5ec2",
   "metadata": {},
   "source": [
    "#### Logistic Regression Model"
   ]
  },
  {
   "cell_type": "code",
   "execution_count": 49,
   "id": "a4c196ec",
   "metadata": {},
   "outputs": [
    {
     "data": {
      "text/plain": [
       "LogisticRegression()"
      ]
     },
     "execution_count": 49,
     "metadata": {},
     "output_type": "execute_result"
    }
   ],
   "source": [
    "# Fitting the model\n",
    "model = LogisticRegression(solver='lbfgs')\n",
    "model.fit(X_train_enc, y_train_enc)"
   ]
  },
  {
   "cell_type": "code",
   "execution_count": 50,
   "id": "382e1299",
   "metadata": {},
   "outputs": [],
   "source": [
    "# Featuring selection\n",
    "def select_features(X_train, y_train, X_test):\n",
    " fs = SelectKBest(score_func=chi2, k='all')\n",
    " fs.fit(X_train, y_train)\n",
    " X_train_fs = fs.transform(X_train)\n",
    " X_test_fs = fs.transform(X_test)\n",
    " return X_train_fs, X_test_fs, fs"
   ]
  },
  {
   "cell_type": "code",
   "execution_count": 51,
   "id": "d24f8575",
   "metadata": {},
   "outputs": [],
   "source": [
    "# Featuring selection\n",
    "X_train_fs, X_test_fs, fs = select_features(X_train_enc, y_train_enc, X_test_enc)"
   ]
  },
  {
   "cell_type": "code",
   "execution_count": 52,
   "id": "2d305375",
   "metadata": {},
   "outputs": [
    {
     "data": {
      "text/plain": [
       "<AxesSubplot:ylabel='Feature'>"
      ]
     },
     "execution_count": 52,
     "metadata": {},
     "output_type": "execute_result"
    },
    {
     "data": {
      "image/png": "[encoded data removed]",
      "text/plain": [
       "<Figure size 600x400 with 1 Axes>"
      ]
     },
     "metadata": {},
     "output_type": "display_data"
    }
   ],
   "source": [
    "# Plotting features selection\n",
    "coefficients = model.coef_\n",
    "avg_importance = np.mean(np.abs(coefficients), axis=0)\n",
    "feature_importance = pd.DataFrame({'Feature': X.columns, 'Importance': avg_importance})\n",
    "feature_importance = feature_importance.sort_values('Importance', ascending=True)\n",
    "feature_importance.plot(x='Feature', y='Importance', kind='barh', figsize=(6, 4))"
   ]
  },
  {
   "cell_type": "code",
   "execution_count": 57,
   "id": "952cbd75",
   "metadata": {
    "scrolled": true
   },
   "outputs": [],
   "source": [
    "# Evaluating the model\n",
    "y_test_logreg = model.predict(X_test_enc)"
   ]
  },
  {
   "cell_type": "code",
   "execution_count": 58,
   "id": "512df694",
   "metadata": {},
   "outputs": [
    {
     "name": "stdout",
     "output_type": "stream",
     "text": [
      "Accuracy: 92.77\n"
     ]
    }
   ],
   "source": [
    "# Evaluating predictions\n",
    "accuracy = accuracy_score(y_test_enc, y_test_logreg)\n",
    "print('Accuracy: %.2f' % (accuracy*100))"
   ]
  },
  {
   "cell_type": "code",
   "execution_count": 59,
   "id": "cf3d3147",
   "metadata": {},
   "outputs": [
    {
     "data": {
      "text/plain": [
       "array([[109030,     15],\n",
       "       [  8487,      4]], dtype=int64)"
      ]
     },
     "execution_count": 59,
     "metadata": {},
     "output_type": "execute_result"
    }
   ],
   "source": [
    "# Performing confusion matrix on the test \n",
    "cm = confusion_matrix(y_test_enc, y_test_logreg)\n",
    "cm # Displaying the result"
   ]
  },
  {
   "cell_type": "code",
   "execution_count": 60,
   "id": "aceafc59",
   "metadata": {
    "scrolled": true
   },
   "outputs": [
    {
     "name": "stdout",
     "output_type": "stream",
     "text": [
      "              precision    recall  f1-score   support\n",
      "\n",
      "           0       0.93      1.00      0.96    109045\n",
      "           1       0.21      0.00      0.00      8491\n",
      "\n",
      "    accuracy                           0.93    117536\n",
      "   macro avg       0.57      0.50      0.48    117536\n",
      "weighted avg       0.88      0.93      0.89    117536\n",
      "\n"
     ]
    }
   ],
   "source": [
    "print(classification_report(y_test_enc, y_test_logreg))"
   ]
  },
  {
   "cell_type": "markdown",
   "id": "7f4bd020",
   "metadata": {},
   "source": [
    "#### XGBoost Model"
   ]
  },
  {
   "cell_type": "code",
   "execution_count": 61,
   "id": "c8871b87",
   "metadata": {},
   "outputs": [],
   "source": [
    "# Preparing input data for XGBClassifier()\n",
    "def prepare_inputs_oneHotEnc(X_train, X_test):\n",
    " ohe = OneHotEncoder(handle_unknown='ignore')\n",
    " ohe.fit(X_train)\n",
    " X_train_enc = ohe.transform(X_train)\n",
    " X_test_enc = ohe.transform(X_test)\n",
    " return X_train_enc, X_test_enc"
   ]
  },
  {
   "cell_type": "code",
   "execution_count": 62,
   "id": "197d59e9",
   "metadata": {},
   "outputs": [],
   "source": [
    "# Preparing input data for using XGBoost model\n",
    "X_train_enc, X_test_enc = prepare_inputs_oneHotEnc(X_train, X_test)\n",
    "# prepare output data\n",
    "y_train_enc, y_test_enc = prepare_targets(y_train, y_test)"
   ]
  },
  {
   "cell_type": "code",
   "execution_count": 63,
   "id": "fc626ccd",
   "metadata": {
    "scrolled": true
   },
   "outputs": [
    {
     "data": {
      "text/plain": [
       "XGBClassifier(base_score=None, booster=None, callbacks=None,\n",
       "              colsample_bylevel=None, colsample_bynode=None,\n",
       "              colsample_bytree=None, early_stopping_rounds=None,\n",
       "              enable_categorical=False, eval_metric=None, feature_types=None,\n",
       "              gamma=None, gpu_id=None, grow_policy=None, importance_type=None,\n",
       "              interaction_constraints=None, learning_rate=None, max_bin=None,\n",
       "              max_cat_threshold=None, max_cat_to_onehot=None,\n",
       "              max_delta_step=None, max_depth=None, max_leaves=None,\n",
       "              min_child_weight=None, missing=nan, monotone_constraints=None,\n",
       "              n_estimators=100, n_jobs=None, num_parallel_tree=None,\n",
       "              predictor=None, random_state=None, ...)"
      ]
     },
     "execution_count": 63,
     "metadata": {},
     "output_type": "execute_result"
    }
   ],
   "source": [
    "# Fitting XGBoost to the training data\n",
    "my_model = xgb.XGBClassifier()\n",
    "my_model.fit(X_train_enc, y_train_enc)"
   ]
  },
  {
   "cell_type": "code",
   "execution_count": 64,
   "id": "4382d5bb",
   "metadata": {},
   "outputs": [
    {
     "name": "stdout",
     "output_type": "stream",
     "text": [
      "Accuracy: 94.29\n"
     ]
    }
   ],
   "source": [
    "# Predicting the Test set results\n",
    "y_test_xgb = my_model.predict(X_test_enc)\n",
    "# Evaluating predictions\n",
    "accuracy_test = accuracy_score(y_test_enc, y_test_xgb)\n",
    "print('Accuracy: %.2f' % (accuracy_test*100))    "
   ]
  },
  {
   "cell_type": "markdown",
   "id": "f50c3015",
   "metadata": {},
   "source": [
    "### Results"
   ]
  },
  {
   "cell_type": "markdown",
   "id": "0aac116c",
   "metadata": {},
   "source": [
    "I used well-researched methodologies like Logistic Regression and Extreme Gradient Boosting (XGBoost) to make predictions. Upon evaluating the performance of the Logistic Regression and XGBoost models, the results are as follows: The accuracy of the logistic regression model is 92%. It means that the model can predict the classification of data with a 92% accuracy rate, which is quite impressive. Only 8% of observations are misclassified, making the model reliable and useful in practical applications. XGBoost, the most powerful technique for building predictive models, was a solid option because it attained 94% accuracy, which was significantly higher than the logistic regression model. \n",
    "\n",
    "For the “certified” visas, the precision is 0.95, indicating that 95% of visas predicted as certified are correct, and for “denied”, the precision is 0.74, meaning that 74% of the visas predicted as denied are correct. The recall for the “certified” is 0.99, indicating that the model correctly identifies 99% of the actual “certified” visas. For the “denied”, the recall is 0.31, meaning that the model captures only 31% of the actual “denied” visas. For the F1-score, “certified” is 0.97 indicating that the model identifies 97% of the actual “certified” visas, and for “denied”, the F1-score is 0.44, meaning that the model captures 44% of the actual “denied” visas."
   ]
  },
  {
   "cell_type": "code",
   "execution_count": null,
   "id": "f0d2c799",
   "metadata": {},
   "outputs": [],
   "source": []
  }
 ],
 "metadata": {
  "kernelspec": {
   "display_name": "Python 3 (ipykernel)",
   "language": "python",
   "name": "python3"
  },
  "language_info": {
   "codemirror_mode": {
    "name": "ipython",
    "version": 3
   },
   "file_extension": ".py",
   "mimetype": "text/x-python",
   "name": "python",
   "nbconvert_exporter": "python",
   "pygments_lexer": "ipython3",
   "version": "3.9.13"
  }
 },
 "nbformat": 4,
 "nbformat_minor": 5
}
